{
  "cells": [
    {
      "cell_type": "markdown",
      "metadata": {},
      "source": []
    },
    {
      "cell_type": "code",
      "execution_count": 1,
      "metadata": {},
      "outputs": [
        {
          "data": {
            "text/plain": [
              "True"
            ]
          },
          "execution_count": 1,
          "metadata": {},
          "output_type": "execute_result"
        }
      ],
      "source": [
        "s = \"Good\"\n",
        "s[::-1][::-1] == s"
      ]
    },
    {
      "cell_type": "code",
      "execution_count": 3,
      "metadata": {},
      "outputs": [
        {
          "name": "stdout",
          "output_type": "stream",
          "text": [
            "[]\n",
            "[]\n",
            "['h', 'a', 'p', 'p', 'y']\n",
            "['h', 'a', 'p', 'p', 'y']\n",
            "['happy', 'clarusway', 'Eric']\n",
            "[1, 3, 5, 7, 9, 11, 13]\n",
            "['a', 1, 3.145, True, [1, 2, 3], 'Nar']\n",
            "[1, 2, 3, 4, 5, 6, 7, 8, 9]\n"
          ]
        }
      ],
      "source": [
        "L = []  #boş bir liste\n",
        "L0 = list() #boş bir liste\n",
        "L1 = list(\"happy\") #karakter listesi\n",
        "L2 = ['h', 'a', 'p', 'p', 'y'] #karakter listesi, L1 ile aynı\n",
        "L3 = [\"happy\", \"clarusway\", \"Eric\"]  #string listesi\n",
        "L4 = [1, 3, 5, 7, 9, 11, 13] #integer listesi\n",
        "L5 = ['a', 1, 3.145, True, [1,2,3], \"Nar\"]  #listeler farklı veri tiplerinden oluşabilir\n",
        "nums = range(1,10)\n",
        "L6 = list(nums)    #bir fonksiyon tarafından üretilen değerlerden oluşabilir\n",
        "print(L, L0, L1, L2, L3, L4, L5, L6, sep=\"\\n\")"
      ]
    },
    {
      "cell_type": "code",
      "execution_count": 4,
      "metadata": {},
      "outputs": [
        {
          "name": "stdout",
          "output_type": "stream",
          "text": [
            "['h', 'a', 'p', 'p', 'y']\n",
            "['h', 'a', 'p', 'p', 'y']\n"
          ]
        }
      ],
      "source": [
        "list_1 = ['h', 'a', 'p', 'p', 'y']\n",
        "word = 'happy'\n",
        "list_2 = list(word)\n",
        "print(list_1)\n",
        "print(list_2)"
      ]
    },
    {
      "cell_type": "code",
      "execution_count": 6,
      "metadata": {},
      "outputs": [
        {
          "name": "stdout",
          "output_type": "stream",
          "text": [
            "['USA', 'Canada', 'Germany', 'Turkey']\n",
            "Germany\n"
          ]
        }
      ],
      "source": [
        "country = [\"USA\", \"Canada\", \"Germany\", \"Turkey\"]\n",
        "print(country)\n",
        "print(country[2])"
      ]
    },
    {
      "cell_type": "code",
      "execution_count": 7,
      "metadata": {},
      "outputs": [
        {
          "name": "stdout",
          "output_type": "stream",
          "text": [
            "<class 'list'>\n",
            "<class 'list'>\n"
          ]
        }
      ],
      "source": [
        "string_1 = \"I quite smoking\"\n",
        "new_list1 = list(string_1)  #çok bir elemanlı bir liste\n",
        "new_list2 = [string_1]  #tek bir elemanlı bir liste\n",
        "print(type(new_list1))\n",
        "print(type(new_list2)) "
      ]
    },
    {
      "cell_type": "code",
      "execution_count": 9,
      "metadata": {},
      "outputs": [
        {
          "name": "stdout",
          "output_type": "stream",
          "text": [
            "15\n",
            "1\n",
            "15\n"
          ]
        }
      ],
      "source": [
        "string_1 = \"I quite smoking\"\n",
        "new_list1 = list(string_1)  #çok bir elemanlı bir liste\n",
        "new_list2 = [string_1]  #tek bir elemanlı bir liste\n",
        "print(len(new_list1)) #eleman sayısı: 1 den başlayarak sayıyor\n",
        "print(len(new_list2)) \n",
        "print(len(string_1))"
      ]
    },
    {
      "cell_type": "code",
      "execution_count": 12,
      "metadata": {},
      "outputs": [
        {
          "name": "stdout",
          "output_type": "stream",
          "text": [
            "['Joseph', 'Clarusway', 2020]\n",
            "[['Joseph', 'Clarusway', 2020]]\n",
            "Joseph\n",
            "['Joseph', 'Clarusway', 2020]\n"
          ]
        }
      ],
      "source": [
        "my_list = [\"Joseph\", \"Clarusway\", 2020]\n",
        "new_list1 = list(my_list)\n",
        "print(new_list1) \n",
        "new_list2 = [my_list]\n",
        "print(new_list2)\n",
        "print(new_list1[0])  #\"Joseph\"\n",
        "print(new_list2[0])  # [\"Joseph\", \"Clarusway\", 2020]"
      ]
    },
    {
      "cell_type": "code",
      "execution_count": 13,
      "metadata": {},
      "outputs": [
        {
          "name": "stdout",
          "output_type": "stream",
          "text": [
            "['2', '0', '2', '0', \"'\", 's', ' ', 'h', 'a', 'r', 'd']\n",
            "[\"2020's hard\"]\n"
          ]
        }
      ],
      "source": [
        "s = \"2020's hard\"\n",
        "list1 = list(s)\n",
        "list2 = [s]\n",
        "print(list1)\n",
        "print(list2)"
      ]
    },
    {
      "cell_type": "code",
      "execution_count": 14,
      "metadata": {},
      "outputs": [
        {
          "name": "stdout",
          "output_type": "stream",
          "text": [
            "['__add__', '__class__', '__contains__', '__delattr__', '__delitem__', '__dir__', '__doc__', '__eq__', '__format__', '__ge__', '__getattribute__', '__getitem__', '__gt__', '__hash__', '__iadd__', '__imul__', '__init__', '__init_subclass__', '__iter__', '__le__', '__len__', '__lt__', '__mul__', '__ne__', '__new__', '__reduce__', '__reduce_ex__', '__repr__', '__reversed__', '__rmul__', '__setattr__', '__setitem__', '__sizeof__', '__str__', '__subclasshook__', 'append', 'clear', 'copy', 'count', 'extend', 'index', 'insert', 'pop', 'remove', 'reverse', 'sort']\n"
          ]
        }
      ],
      "source": [
        "print(dir(list))"
      ]
    },
    {
      "cell_type": "code",
      "execution_count": 19,
      "metadata": {},
      "outputs": [
        {
          "name": "stdout",
          "output_type": "stream",
          "text": [
            "[1, 2, 3, 4, 5, 'a']\n"
          ]
        }
      ],
      "source": [
        "numbers = []\n",
        "numbers.append(1)\n",
        "numbers.append(2)\n",
        "numbers.append(3)\n",
        "numbers.append(4)\n",
        "numbers.append(5)\n",
        "numbers.append(\"a\")\n",
        "print(numbers)"
      ]
    },
    {
      "cell_type": "code",
      "execution_count": 20,
      "metadata": {},
      "outputs": [
        {
          "name": "stdout",
          "output_type": "stream",
          "text": [
            "[1, 2, 3, 4, 5]\n",
            "[1, 2, 3, 4, 5, 'a']\n"
          ]
        }
      ],
      "source": [
        "nums = list(range(1,6))\n",
        "print(nums)\n",
        "nums.append(\"a\")\n",
        "print(nums)"
      ]
    },
    {
      "cell_type": "code",
      "execution_count": 21,
      "metadata": {},
      "outputs": [
        {
          "name": "stdout",
          "output_type": "stream",
          "text": [
            "<class 'list'>\n"
          ]
        }
      ],
      "source": [
        "liste = [6666, 'Multiverse', [0]]\n",
        "print(type(liste))"
      ]
    },
    {
      "cell_type": "code",
      "execution_count": 22,
      "metadata": {},
      "outputs": [
        {
          "name": "stdout",
          "output_type": "stream",
          "text": [
            "<class 'list'>\n",
            "<class 'str'>\n",
            "<class 'int'>\n"
          ]
        }
      ],
      "source": [
        "liste = [6666, 'Multiverse', [0]]\n",
        "print(type(liste[2]))  #list\n",
        "print(type(liste[1]))  #str\n",
        "print(type(liste[0]))  #int"
      ]
    },
    {
      "cell_type": "code",
      "execution_count": 18,
      "metadata": {},
      "outputs": [
        {
          "name": "stdout",
          "output_type": "stream",
          "text": [
            "[0, 2, 4, 6, 8, 10, 12, 14, 16, 18, 20, 22, 24]\n"
          ]
        }
      ],
      "source": [
        "nums_odd = list(range(0,25,2))\n",
        "print(nums_odd)"
      ]
    },
    {
      "cell_type": "code",
      "execution_count": 23,
      "metadata": {},
      "outputs": [
        {
          "name": "stdout",
          "output_type": "stream",
          "text": [
            "[1, 2, 3, 4]\n"
          ]
        }
      ],
      "source": [
        "numbers = []\n",
        "numbers.append(1)\n",
        "numbers.append(2)\n",
        "numbers.append(3)\n",
        "numbers.append(4)\n",
        "print(numbers)"
      ]
    },
    {
      "cell_type": "code",
      "execution_count": 24,
      "metadata": {},
      "outputs": [
        {
          "ename": "TypeError",
          "evalue": "append() takes exactly one argument (4 given)",
          "output_type": "error",
          "traceback": [
            "\u001b[0;31m---------------------------------------------------------------------------\u001b[0m",
            "\u001b[0;31mTypeError\u001b[0m                                 Traceback (most recent call last)",
            "\u001b[1;32m/home/leo/Downloads/python.ipynb Cell 16'\u001b[0m in \u001b[0;36m<module>\u001b[0;34m\u001b[0m\n\u001b[1;32m      <a href='vscode-notebook-cell:/home/leo/Downloads/python.ipynb#ch0000030?line=0'>1</a>\u001b[0m numbers \u001b[39m=\u001b[39m []\n\u001b[0;32m----> <a href='vscode-notebook-cell:/home/leo/Downloads/python.ipynb#ch0000030?line=1'>2</a>\u001b[0m numbers\u001b[39m.\u001b[39;49mappend(\u001b[39m1\u001b[39;49m, \u001b[39m2\u001b[39;49m, \u001b[39m3\u001b[39;49m, \u001b[39m4\u001b[39;49m)\n",
            "\u001b[0;31mTypeError\u001b[0m: append() takes exactly one argument (4 given)"
          ]
        }
      ],
      "source": [
        "numbers = []\n",
        "numbers.append(1, 2, 3, 4)"
      ]
    },
    {
      "cell_type": "code",
      "execution_count": 27,
      "metadata": {},
      "outputs": [
        {
          "name": "stdout",
          "output_type": "stream",
          "text": [
            "[1, 2, 3, 4]\n",
            "[0, 1, 2, 3]\n"
          ]
        }
      ],
      "source": [
        "numbers = [1, 2, 3, 4]\n",
        "numbers2 = list(range(4)) # 0, 1, 2, 3\n",
        "print(numbers)\n",
        "print(numbers2)"
      ]
    },
    {
      "cell_type": "code",
      "execution_count": 28,
      "metadata": {},
      "outputs": [
        {
          "name": "stdout",
          "output_type": "stream",
          "text": [
            "[1, 2, 3, 4]\n"
          ]
        }
      ],
      "source": [
        "numbers = list(range(1,5)) # 1, 2, 3, 4\n",
        "print(numbers)"
      ]
    },
    {
      "cell_type": "code",
      "execution_count": 29,
      "metadata": {},
      "outputs": [
        {
          "name": "stdout",
          "output_type": "stream",
          "text": [
            "['Seuol', 'Berlin', 'Ankara', 'Ottowa', 'Istanbul']\n"
          ]
        }
      ],
      "source": [
        "sehir = [\"Seuol\", \"Berlin\", \"Ottowa\", \"Istanbul\"]\n",
        "sehir.insert(2, \"Ankara\")\n",
        "print(sehir)"
      ]
    },
    {
      "cell_type": "code",
      "execution_count": 30,
      "metadata": {},
      "outputs": [
        {
          "name": "stdout",
          "output_type": "stream",
          "text": [
            "[1, 2, 3, 4, 5]\n"
          ]
        }
      ],
      "source": [
        "# indis no:0  1  2  3  4\n",
        "numbers = [1, 2, 3, 4] \n",
        "numbers.insert(4,5)\n",
        "print(numbers)"
      ]
    },
    {
      "cell_type": "code",
      "execution_count": 31,
      "metadata": {},
      "outputs": [
        {
          "name": "stdout",
          "output_type": "stream",
          "text": [
            "[1, 2, 3, 5, 4]\n"
          ]
        }
      ],
      "source": [
        "# indis no:-4 -3 -2 -1\n",
        "numbers = [1, 2, 3, 4] \n",
        "numbers.insert(-1,5)\n",
        "print(numbers)"
      ]
    },
    {
      "cell_type": "code",
      "execution_count": 32,
      "metadata": {},
      "outputs": [
        {
          "name": "stdout",
          "output_type": "stream",
          "text": [
            "[1, 2, 3, 4, 5]\n"
          ]
        }
      ],
      "source": [
        "\n",
        "numbers = [1, 2, 3, 4] \n",
        "numbers.insert(len(numbers),5)\n",
        "print(numbers)"
      ]
    },
    {
      "cell_type": "code",
      "execution_count": 33,
      "metadata": {},
      "outputs": [
        {
          "name": "stdout",
          "output_type": "stream",
          "text": [
            "[1, 2, 4, 5, 7]\n"
          ]
        }
      ],
      "source": [
        "numbers = [4, 1, 2, 7, 5] \n",
        "numbers.sort()  #default: küçükten büyüğe sıralar\n",
        "print(numbers)"
      ]
    },
    {
      "cell_type": "code",
      "execution_count": 34,
      "metadata": {},
      "outputs": [
        {
          "name": "stdout",
          "output_type": "stream",
          "text": [
            "[7, 5, 4, 2, 1]\n"
          ]
        }
      ],
      "source": [
        "numbers = [4, 1, 2, 7, 5] \n",
        "numbers.sort(reverse=True)  #büyükten küçüğe sıralar\n",
        "print(numbers)"
      ]
    },
    {
      "cell_type": "code",
      "execution_count": 35,
      "metadata": {},
      "outputs": [
        {
          "name": "stdout",
          "output_type": "stream",
          "text": [
            "[7, 5, 4, 2, 1]\n"
          ]
        }
      ],
      "source": [
        "numbers = [4, 1, 2, 7, 5] \n",
        "numbers.sort()  #default: küçükten büyüğe sıralar\n",
        "numbers.reverse()\n",
        "print(numbers)"
      ]
    },
    {
      "cell_type": "code",
      "execution_count": 36,
      "metadata": {},
      "outputs": [
        {
          "ename": "TypeError",
          "evalue": "'<' not supported between instances of 'int' and 'str'",
          "output_type": "error",
          "traceback": [
            "\u001b[0;31m---------------------------------------------------------------------------\u001b[0m",
            "\u001b[0;31mTypeError\u001b[0m                                 Traceback (most recent call last)",
            "\u001b[1;32m/home/leo/Downloads/python.ipynb Cell 26'\u001b[0m in \u001b[0;36m<module>\u001b[0;34m\u001b[0m\n\u001b[1;32m      <a href='vscode-notebook-cell:/home/leo/Downloads/python.ipynb#ch0000040?line=0'>1</a>\u001b[0m numbers \u001b[39m=\u001b[39m [\u001b[39m'\u001b[39m\u001b[39m4\u001b[39m\u001b[39m'\u001b[39m, \u001b[39m1\u001b[39m, \u001b[39m2\u001b[39m, \u001b[39m7\u001b[39m, \u001b[39m5\u001b[39m] \n\u001b[0;32m----> <a href='vscode-notebook-cell:/home/leo/Downloads/python.ipynb#ch0000040?line=1'>2</a>\u001b[0m numbers\u001b[39m.\u001b[39;49msort()  \u001b[39m#farklı tipte verileri sıralamaz\u001b[39;00m\n\u001b[1;32m      <a href='vscode-notebook-cell:/home/leo/Downloads/python.ipynb#ch0000040?line=2'>3</a>\u001b[0m \u001b[39mprint\u001b[39m(numbers)\n",
            "\u001b[0;31mTypeError\u001b[0m: '<' not supported between instances of 'int' and 'str'"
          ]
        }
      ],
      "source": [
        "numbers = ['4', 1, 2, 7, 5] \n",
        "numbers.sort()  #farklı tipte verileri sıralamaz\n",
        "print(numbers)"
      ]
    },
    {
      "cell_type": "code",
      "execution_count": 37,
      "metadata": {},
      "outputs": [
        {
          "name": "stdout",
          "output_type": "stream",
          "text": [
            "['A', 'C', 'Z', 'a', 'b']\n"
          ]
        }
      ],
      "source": [
        "numbers = ['a', 'b', 'A', 'C', 'Z'] \n",
        "numbers.sort()  #ASCII Code tablosuna göre sıralıyor\n",
        "print(numbers)"
      ]
    },
    {
      "cell_type": "code",
      "execution_count": 39,
      "metadata": {},
      "outputs": [
        {
          "name": "stdout",
          "output_type": "stream",
          "text": [
            "['Meryem', 'ala', 'ali', 'hans', 'veli']\n"
          ]
        }
      ],
      "source": [
        "text = [\"ali\", \"veli\", \"ala\", \"hans\", \"Meryem\"]\n",
        "text.sort()\n",
        "print(text)"
      ]
    },
    {
      "cell_type": "code",
      "execution_count": 40,
      "metadata": {},
      "outputs": [
        {
          "name": "stdout",
          "output_type": "stream",
          "text": [
            "['Meryem', 'ala', 'ali', 'hans', 'veli', 'çelik']\n"
          ]
        }
      ],
      "source": [
        "text = [\"ali\", \"veli\", \"ala\", \"hans\", \"Meryem\", \"çelik\"]\n",
        "text.sort()\n",
        "print(text)"
      ]
    },
    {
      "cell_type": "code",
      "execution_count": 47,
      "metadata": {},
      "outputs": [
        {
          "name": "stdout",
          "output_type": "stream",
          "text": [
            "['False', 'True']\n",
            "['four', 'nine', 'one'] ['*-', '@', 'False']\n",
            "[False, True]\n",
            "['False', 'True']\n"
          ]
        }
      ],
      "source": [
        "L1 = ['one', 'four', 'nine']\n",
        "L2 = ['*-', '@', 'False']  #ASCII code table sırasına bakarak sıralar\n",
        "L3 = [True, False]  #False:0, True:1\n",
        "L4 = ['True', 'False']\n",
        "L1.sort()\n",
        "L2.sort()\n",
        "L3.sort()\n",
        "L4.sort()  \n",
        "x = L4\n",
        "print(x)  #None\n",
        "print(L1, L2)\n",
        "print(L3)\n",
        "print(L4)\n"
      ]
    },
    {
      "cell_type": "code",
      "execution_count": 49,
      "metadata": {},
      "outputs": [
        {
          "name": "stdout",
          "output_type": "stream",
          "text": [
            "[2, 3, 4, 6]\n"
          ]
        }
      ],
      "source": [
        "L = [4, 6, 2, 3]\n",
        "L.sort() #değişikliği L listesine yansıtıyor\n",
        "print(L)\n",
        "print(L.sort()) #sıralama yapmaz ?"
      ]
    },
    {
      "cell_type": "code",
      "execution_count": 52,
      "metadata": {},
      "outputs": [
        {
          "name": "stdout",
          "output_type": "stream",
          "text": [
            "[2, 3, 4, 6]\n"
          ]
        }
      ],
      "source": [
        "L = [4, 6, 2, 3]\n",
        "L2 = sorted(L)   #değişikliği L2 listesine yansıtıyor\n",
        "print(L2)"
      ]
    },
    {
      "cell_type": "code",
      "execution_count": 53,
      "metadata": {},
      "outputs": [
        {
          "name": "stdout",
          "output_type": "stream",
          "text": [
            "[6, 4, 3, 2]\n"
          ]
        }
      ],
      "source": [
        "L = [4, 6, 2, 3]\n",
        "L2 = sorted(L, reverse=True)   #büyükten küçüğe sıral\n",
        "print(L2)"
      ]
    },
    {
      "cell_type": "code",
      "execution_count": 54,
      "metadata": {},
      "outputs": [
        {
          "name": "stdout",
          "output_type": "stream",
          "text": [
            "[[1, 2, 3, 4], [5, 6, 7, 8], [9, 0, 1, 3]]\n"
          ]
        }
      ],
      "source": [
        "#listeden matris tanımlama\n",
        "matrix = [\n",
        "        [1,2,3,4],\n",
        "        [5,6,7,8],\n",
        "        [9,0,1,3],    \n",
        "]\n",
        "B = matrix\n",
        "print(B)"
      ]
    },
    {
      "cell_type": "code",
      "execution_count": 58,
      "metadata": {},
      "outputs": [
        {
          "name": "stdout",
          "output_type": "stream",
          "text": [
            "[1, 2, 3, 4]\n",
            "[5, 6, 7, 8]\n",
            "[9, 0, 1, 3]\n"
          ]
        }
      ],
      "source": [
        "#listeden matris tanımlama\n",
        "matrix = [\n",
        "        [1,2,3,4],\n",
        "        [5,6,7,8],\n",
        "        [9,0,1,3],    \n",
        "]\n",
        "B = matrix\n",
        "print(* B, sep=\"\\n\") #en dıştaki parantezi kaldırdık ve alt alta yazdırdık"
      ]
    },
    {
      "cell_type": "code",
      "execution_count": 62,
      "metadata": {},
      "outputs": [
        {
          "name": "stdout",
          "output_type": "stream",
          "text": [
            "[5, 6, 7, 8]\n",
            "[1, 2, 3, 4, 5, 6, 7, 8, 9, 0, 1, 3]\n"
          ]
        }
      ],
      "source": [
        "#listeden matris tanımlama\n",
        "matrix = [\n",
        "        [1,2,3,4],\n",
        "        [5,6,7,8],\n",
        "        [9,0,1,3],    \n",
        "]\n",
        "a, b, c = matrix #unpacking\n",
        "#print(a)\n",
        "#print(b)\n",
        "#print(c)\n",
        "print(a+b+c)"
      ]
    },
    {
      "cell_type": "code",
      "execution_count": 65,
      "metadata": {},
      "outputs": [
        {
          "name": "stdout",
          "output_type": "stream",
          "text": [
            "[1, 2, 3, 4, 5, 6, 7, 8, 9, 0, 1, 3]\n"
          ]
        }
      ],
      "source": [
        "#listeden matris tanımlama\n",
        "matrix = [\n",
        "        [1,2,3,4],\n",
        "        [5,6,7,8],\n",
        "        [9,0,1,3],    \n",
        "]\n",
        "a, b, c = matrix #unpacking\n",
        "#print(a)\n",
        "#print(b)\n",
        "#print(c)\n",
        "vector = a+b+c\n",
        "print(vector)"
      ]
    },
    {
      "cell_type": "code",
      "execution_count": 66,
      "metadata": {},
      "outputs": [
        {
          "name": "stdout",
          "output_type": "stream",
          "text": [
            "1\n",
            "string\n",
            "[2, 3, 4]\n"
          ]
        }
      ],
      "source": [
        "L = [1, [2,3,4], \"string\"]\n",
        "a, b, c = L\n",
        "print(a)\n",
        "print(c)\n",
        "print(b)"
      ]
    },
    {
      "cell_type": "code",
      "execution_count": 67,
      "metadata": {},
      "outputs": [
        {
          "name": "stdout",
          "output_type": "stream",
          "text": [
            "['ali', 'm', 'ayşe', 'hans', 'python', 'C', 'Java']\n"
          ]
        }
      ],
      "source": [
        "L1 = [\"ali\", \"m\", \"ayşe\", \"hans\"]\n",
        "L2 = [\"python\", \"C\", \"Java\"] \n",
        "L1.extend(L2)\n",
        "print(L1)"
      ]
    },
    {
      "cell_type": "code",
      "execution_count": 68,
      "metadata": {},
      "outputs": [
        {
          "name": "stdout",
          "output_type": "stream",
          "text": [
            "['ali', 'm', 'ayşe', 'hans', 'python', 'C', 'Java']\n"
          ]
        }
      ],
      "source": [
        "L1 = [\"ali\", \"m\", \"ayşe\", \"hans\"]\n",
        "L2 = [\"python\", \"C\", \"Java\"] \n",
        "L1 = L1 + L2  #L1.extend(L2)\n",
        "print(L1)"
      ]
    },
    {
      "cell_type": "code",
      "execution_count": 69,
      "metadata": {},
      "outputs": [
        {
          "name": "stdout",
          "output_type": "stream",
          "text": [
            "['ali', 'm', 'ayşe', 'hans', 'python', 'C', 'Java']\n"
          ]
        }
      ],
      "source": [
        "L1 = [\"ali\", \"m\", \"ayşe\", \"hans\"]\n",
        "L2 = [\"python\", \"C\", \"Java\"] \n",
        "L1 += L2  #L1 = L1 + L2\n",
        "print(L1)"
      ]
    },
    {
      "cell_type": "code",
      "execution_count": 55,
      "metadata": {},
      "outputs": [
        {
          "name": "stdout",
          "output_type": "stream",
          "text": [
            "[(1, 5, 9), (2, 6, 0), (3, 7, 1), (4, 8, 3)]\n"
          ]
        }
      ],
      "source": [
        "#listeden matris tanımlama\n",
        "matrix = [\n",
        "        [1,2,3,4],\n",
        "        [5,6,7,8],\n",
        "        [9,0,1,3],    \n",
        "]\n",
        "B = list(zip(* matrix))  #transpoze(satır-sutun değişikliği) aldı\n",
        "print(B)"
      ]
    },
    {
      "cell_type": "code",
      "execution_count": 70,
      "metadata": {},
      "outputs": [
        {
          "name": "stdout",
          "output_type": "stream",
          "text": [
            "['e', 'd', 'c', 'b', 'a']\n"
          ]
        }
      ],
      "source": [
        "dizi = ['a', 'b', 'c', 'd', 'e']\n",
        "b = dizi[::-1]\n",
        "print(b)"
      ]
    },
    {
      "cell_type": "code",
      "execution_count": 71,
      "metadata": {},
      "outputs": [
        {
          "name": "stdout",
          "output_type": "stream",
          "text": [
            "['e', 'd', 'c', 'b', 'a']\n"
          ]
        }
      ],
      "source": [
        "dizi = ['a', 'b', 'c', 'd', 'e']\n",
        "dizi.reverse()\n",
        "b = dizi\n",
        "print(b)"
      ]
    },
    {
      "cell_type": "code",
      "execution_count": 72,
      "metadata": {},
      "outputs": [
        {
          "name": "stdout",
          "output_type": "stream",
          "text": [
            "e d c b a\n"
          ]
        }
      ],
      "source": [
        "dizi = ['a', 'b', 'c', 'd', 'e']\n",
        "dizi.reverse()\n",
        "b = dizi\n",
        "print(*b)"
      ]
    },
    {
      "cell_type": "code",
      "execution_count": 73,
      "metadata": {},
      "outputs": [
        {
          "name": "stdout",
          "output_type": "stream",
          "text": [
            "['p', 'y', 't', 'h', 'o', 'n']\n"
          ]
        }
      ],
      "source": [
        "#stringi list'e dönüştürdü\n",
        "string = \"python\"\n",
        "L = list(string)\n",
        "print(L)"
      ]
    },
    {
      "cell_type": "code",
      "execution_count": 74,
      "metadata": {},
      "outputs": [
        {
          "name": "stdout",
          "output_type": "stream",
          "text": [
            "python\n"
          ]
        }
      ],
      "source": [
        "#Listeyi stringe dönüştürme\n",
        "L = ['p', 'y', 't', 'h', 'o', 'n']\n",
        "string = ''.join(L)\n",
        "print(string)"
      ]
    },
    {
      "cell_type": "code",
      "execution_count": 75,
      "metadata": {},
      "outputs": [
        {
          "name": "stdout",
          "output_type": "stream",
          "text": [
            "p*y*t*h*o*n\n"
          ]
        }
      ],
      "source": [
        "#Listeyi stringe dönüştürme\n",
        "L = ['p', 'y', 't', 'h', 'o', 'n']\n",
        "string = '*'.join(L)\n",
        "print(string)"
      ]
    },
    {
      "cell_type": "code",
      "execution_count": 76,
      "metadata": {},
      "outputs": [
        {
          "name": "stdout",
          "output_type": "stream",
          "text": [
            "['p', 'y', 't', 'h', 'n']\n"
          ]
        }
      ],
      "source": [
        "#Listeden eleman silme\n",
        "L = ['p', 'y', 't', 'h', 'o', 'n']\n",
        "L.remove('o')\n",
        "print(L)"
      ]
    },
    {
      "cell_type": "code",
      "execution_count": 77,
      "metadata": {},
      "outputs": [
        {
          "name": "stdout",
          "output_type": "stream",
          "text": [
            "['p', 'y', 't', 'h', 'n']\n"
          ]
        }
      ],
      "source": [
        "#Listeden eleman silme\n",
        "L = ['p', 'y', 't', 'h', 'o', 'n']\n",
        "L.pop(4)\n",
        "print(L)"
      ]
    },
    {
      "cell_type": "code",
      "execution_count": 78,
      "metadata": {},
      "outputs": [
        {
          "name": "stdout",
          "output_type": "stream",
          "text": [
            "['p', 'y', 't', 'h', 'n']\n"
          ]
        }
      ],
      "source": [
        "#Listeden eleman silme\n",
        "L = ['p', 'y', 't', 'h', 'o', 'n']\n",
        "del L[4]\n",
        "print(L)"
      ]
    },
    {
      "cell_type": "code",
      "execution_count": 79,
      "metadata": {},
      "outputs": [
        {
          "name": "stdout",
          "output_type": "stream",
          "text": [
            "[]\n"
          ]
        }
      ],
      "source": [
        "#Tüm elemanları sil\n",
        "L = ['p', 'y', 't', 'h', 'o', 'n']\n",
        "L.clear()\n",
        "print(L)"
      ]
    },
    {
      "cell_type": "code",
      "execution_count": 80,
      "metadata": {},
      "outputs": [
        {
          "name": "stdout",
          "output_type": "stream",
          "text": [
            "[]\n"
          ]
        }
      ],
      "source": [
        "#Tüm elemanları sil\n",
        "L = ['p', 'y', 't', 'h', 'o', 'n']\n",
        "del L[:]\n",
        "print(L)"
      ]
    },
    {
      "cell_type": "code",
      "execution_count": 84,
      "metadata": {},
      "outputs": [
        {
          "ename": "SyntaxError",
          "evalue": "invalid syntax (3686776270.py, line 3)",
          "output_type": "error",
          "traceback": [
            "\u001b[0;36m  Input \u001b[0;32mIn [84]\u001b[0;36m\u001b[0m\n\u001b[0;31m    L.pop([0:5])  #silmiyor...\u001b[0m\n\u001b[0m            ^\u001b[0m\n\u001b[0;31mSyntaxError\u001b[0m\u001b[0;31m:\u001b[0m invalid syntax\n"
          ]
        }
      ],
      "source": [
        "#Tüm elemanları sil\n",
        "L = ['p', 'y', 't', 'h', 'o', 'n']\n",
        "L.pop([0:5])  #silmiyor...\n",
        "print(L)"
      ]
    },
    {
      "cell_type": "code",
      "execution_count": 85,
      "metadata": {},
      "outputs": [
        {
          "name": "stdout",
          "output_type": "stream",
          "text": [
            "['p', 'y', 't', 'h', 'o']\n"
          ]
        }
      ],
      "source": [
        "#Tüm elemanları sil\n",
        "L = ['p', 'y', 't', 'h', 'o', 'n']\n",
        "L.pop()  #en son karakteri siler\n",
        "print(L)"
      ]
    },
    {
      "cell_type": "code",
      "execution_count": 86,
      "metadata": {},
      "outputs": [
        {
          "name": "stdout",
          "output_type": "stream",
          "text": [
            "['p', 'y', 'h', 'o']\n"
          ]
        }
      ],
      "source": [
        "#Tüm elemanları sil\n",
        "L = ['p', 'y', 't', 'h', 'o', 'n']\n",
        "L.pop(5)  #5.sil\n",
        "L.pop(2)  #2.sil\n",
        "print(L)"
      ]
    },
    {
      "cell_type": "code",
      "execution_count": 87,
      "metadata": {},
      "outputs": [
        {
          "ename": "TypeError",
          "evalue": "pop expected at most 1 argument, got 2",
          "output_type": "error",
          "traceback": [
            "\u001b[0;31m---------------------------------------------------------------------------\u001b[0m",
            "\u001b[0;31mTypeError\u001b[0m                                 Traceback (most recent call last)",
            "\u001b[1;32m/home/leo/Downloads/python.ipynb Cell 57'\u001b[0m in \u001b[0;36m<module>\u001b[0;34m\u001b[0m\n\u001b[1;32m      <a href='vscode-notebook-cell:/home/leo/Downloads/python.ipynb#ch0000070?line=0'>1</a>\u001b[0m \u001b[39m#Tüm elemanları sil\u001b[39;00m\n\u001b[1;32m      <a href='vscode-notebook-cell:/home/leo/Downloads/python.ipynb#ch0000070?line=1'>2</a>\u001b[0m L \u001b[39m=\u001b[39m [\u001b[39m'\u001b[39m\u001b[39mp\u001b[39m\u001b[39m'\u001b[39m, \u001b[39m'\u001b[39m\u001b[39my\u001b[39m\u001b[39m'\u001b[39m, \u001b[39m'\u001b[39m\u001b[39mt\u001b[39m\u001b[39m'\u001b[39m, \u001b[39m'\u001b[39m\u001b[39mh\u001b[39m\u001b[39m'\u001b[39m, \u001b[39m'\u001b[39m\u001b[39mo\u001b[39m\u001b[39m'\u001b[39m, \u001b[39m'\u001b[39m\u001b[39mn\u001b[39m\u001b[39m'\u001b[39m]\n\u001b[0;32m----> <a href='vscode-notebook-cell:/home/leo/Downloads/python.ipynb#ch0000070?line=2'>3</a>\u001b[0m L\u001b[39m.\u001b[39;49mpop(\u001b[39m5\u001b[39;49m,\u001b[39m2\u001b[39;49m)\n\u001b[1;32m      <a href='vscode-notebook-cell:/home/leo/Downloads/python.ipynb#ch0000070?line=3'>4</a>\u001b[0m \u001b[39mprint\u001b[39m(L)\n",
            "\u001b[0;31mTypeError\u001b[0m: pop expected at most 1 argument, got 2"
          ]
        }
      ],
      "source": [
        "#Tüm elemanları sil\n",
        "L = ['p', 'y', 't', 'h', 'o', 'n']\n",
        "L.pop(5,2)  #tek indis değer kabul ediyor\n",
        "print(L)"
      ]
    },
    {
      "cell_type": "code",
      "execution_count": 88,
      "metadata": {},
      "outputs": [
        {
          "ename": "TypeError",
          "evalue": "remove() takes exactly one argument (2 given)",
          "output_type": "error",
          "traceback": [
            "\u001b[0;31m---------------------------------------------------------------------------\u001b[0m",
            "\u001b[0;31mTypeError\u001b[0m                                 Traceback (most recent call last)",
            "\u001b[1;32m/home/leo/Downloads/python.ipynb Cell 58'\u001b[0m in \u001b[0;36m<module>\u001b[0;34m\u001b[0m\n\u001b[1;32m      <a href='vscode-notebook-cell:/home/leo/Downloads/python.ipynb#ch0000071?line=0'>1</a>\u001b[0m \u001b[39m#Tüm elemanları sil\u001b[39;00m\n\u001b[1;32m      <a href='vscode-notebook-cell:/home/leo/Downloads/python.ipynb#ch0000071?line=1'>2</a>\u001b[0m L \u001b[39m=\u001b[39m [\u001b[39m'\u001b[39m\u001b[39mp\u001b[39m\u001b[39m'\u001b[39m, \u001b[39m'\u001b[39m\u001b[39my\u001b[39m\u001b[39m'\u001b[39m, \u001b[39m'\u001b[39m\u001b[39mt\u001b[39m\u001b[39m'\u001b[39m, \u001b[39m'\u001b[39m\u001b[39mh\u001b[39m\u001b[39m'\u001b[39m, \u001b[39m'\u001b[39m\u001b[39mo\u001b[39m\u001b[39m'\u001b[39m, \u001b[39m'\u001b[39m\u001b[39mn\u001b[39m\u001b[39m'\u001b[39m]\n\u001b[0;32m----> <a href='vscode-notebook-cell:/home/leo/Downloads/python.ipynb#ch0000071?line=2'>3</a>\u001b[0m L\u001b[39m.\u001b[39;49mremove(\u001b[39m'\u001b[39;49m\u001b[39mo\u001b[39;49m\u001b[39m'\u001b[39;49m, \u001b[39m'\u001b[39;49m\u001b[39my\u001b[39;49m\u001b[39m'\u001b[39;49m)\n\u001b[1;32m      <a href='vscode-notebook-cell:/home/leo/Downloads/python.ipynb#ch0000071?line=3'>4</a>\u001b[0m \u001b[39mprint\u001b[39m(L)\n",
            "\u001b[0;31mTypeError\u001b[0m: remove() takes exactly one argument (2 given)"
          ]
        }
      ],
      "source": [
        "#Tüm elemanları sil\n",
        "L = ['p', 'y', 't', 'h', 'o', 'n']\n",
        "L.remove('o', 'y') #tek item istiyor\n",
        "print(L)"
      ]
    },
    {
      "cell_type": "code",
      "execution_count": 89,
      "metadata": {},
      "outputs": [
        {
          "name": "stdout",
          "output_type": "stream",
          "text": [
            "['p', 't', 'h', 'o', 'n']\n"
          ]
        }
      ],
      "source": [
        "#Tüm elemanları sil\n",
        "L = ['p', 'oy', 't', 'h', 'o', 'n']\n",
        "L.remove('oy') #tek item istiyor\n",
        "print(L)"
      ]
    }
  ],
  "metadata": {
    "colab": {
      "collapsed_sections": [],
      "name": "Untitled6.ipynb",
      "provenance": []
    },
    "kernelspec": {
      "display_name": "Python 3",
      "name": "python3"
    },
    "language_info": {
      "codemirror_mode": {
        "name": "ipython",
        "version": 3
      },
      "file_extension": ".py",
      "mimetype": "text/x-python",
      "name": "python",
      "nbconvert_exporter": "python",
      "pygments_lexer": "ipython3",
      "version": "3.8.10"
    }
  },
  "nbformat": 4,
  "nbformat_minor": 0
}
