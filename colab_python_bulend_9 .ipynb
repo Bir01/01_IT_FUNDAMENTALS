{
  "cells": [
    {
      "cell_type": "code",
      "execution_count": null,
      "metadata": {
        "id": "OhCOnFDNitzY"
      },
      "outputs": [],
      "source": [
        "# ***** 03 MART 2022: Clarusway Python BASIC ***** #\n",
        "### Dicts & Sets"
      ]
    },
    {
      "cell_type": "code",
      "execution_count": 7,
      "metadata": {
        "id": "Vs5nlZmHkrhi"
      },
      "outputs": [
        {
          "ename": "SyntaxError",
          "evalue": "invalid syntax. Perhaps you forgot a comma? (4019878204.py, line 7)",
          "output_type": "error",
          "traceback": [
            "\u001b[1;36m  Input \u001b[1;32mIn [7]\u001b[1;36m\u001b[0m\n\u001b[1;33m    e = dict({'three': 3, 'one': 1, 'two': 2}\u001b[0m\n\u001b[1;37m             ^\u001b[0m\n\u001b[1;31mSyntaxError\u001b[0m\u001b[1;31m:\u001b[0m invalid syntax. Perhaps you forgot a comma?\n"
          ]
        }
      ],
      "source": [
        "##1. Sözlük(dict) tanımlama şekilleri:\n",
        "\n",
        "a = dict(one=1, two=2, three=3)\n",
        "b = {'one': 1, 'two': 2, 'three': 3}\n",
        "c = dict(zip(['one', 'two', 'three'], [1, 2, 3]))\n",
        "d = dict([('two', 2), ('one', 1), ('three', 3)])\n",
        "e = dict({'three': 3, 'one': 1, 'two': 2}\n",
        "f = dict({'one': 1, 'three': 3}, two=2)\n",
        "\n",
        "\n",
        "#Acaba hepsi aynı mı?"
      ]
    },
    {
      "cell_type": "code",
      "execution_count": null,
      "metadata": {
        "colab": {
          "base_uri": "https://localhost:8080/"
        },
        "id": "Of7utmS3mGNj",
        "outputId": "9fb1d6aa-a2ef-4881-a098-bef1802cc9c3"
      },
      "outputs": [
        {
          "name": "stdout",
          "output_type": "stream",
          "text": [
            "{'one': 1, 'two': 2, 'three': 3, 'four': 4, 'five': 5}\n"
          ]
        }
      ],
      "source": [
        "##2a. İki Farklı Listeyi Sözlük Yapısına Dönüştürme: zip()\n",
        "ad = ['one','two','three','four','five']\n",
        "no = [1, 2, 3, 4, 5 ]\n",
        "d = dict(zip(ad,no))\n",
        "print(d)\n"
      ]
    },
    {
      "cell_type": "code",
      "execution_count": null,
      "metadata": {
        "colab": {
          "base_uri": "https://localhost:8080/"
        },
        "id": "FPPjrSZs3fQy",
        "outputId": "460c835d-ecc8-4ad2-ecdf-77ab9adafa6c"
      },
      "outputs": [
        {
          "name": "stdout",
          "output_type": "stream",
          "text": [
            "{1: 'one', 2: 'two', 3: 'three', 4: 'four', 5: 'five'}\n"
          ]
        }
      ],
      "source": [
        "ad = ['one','two','three','four','five']\n",
        "no = [1, 2, 3, 4, 5 ]\n",
        "d = dict(zip(no, ad))\n",
        "print(d)"
      ]
    },
    {
      "cell_type": "code",
      "execution_count": null,
      "metadata": {
        "colab": {
          "base_uri": "https://localhost:8080/"
        },
        "id": "FzQQdaTLsPVK",
        "outputId": "f0dbc686-ced3-4103-de7f-9c4b4c845471"
      },
      "outputs": [
        {
          "name": "stdout",
          "output_type": "stream",
          "text": [
            "[1, 2, 3, 4, 5]\n"
          ]
        }
      ],
      "source": [
        "##2b. Bir sözlüğü listeye dönüştürme\n",
        "d = {1: 'one', 2: 'two', 3: 'three', 4: 'four', 5: 'five'}\n",
        "liste = list(d)\n",
        "print(liste)"
      ]
    },
    {
      "cell_type": "code",
      "execution_count": null,
      "metadata": {
        "colab": {
          "base_uri": "https://localhost:8080/"
        },
        "id": "JysUI1K_7QNE",
        "outputId": "e4238541-6f7a-457e-99e6-09d016cd03a1"
      },
      "outputs": [
        {
          "name": "stdout",
          "output_type": "stream",
          "text": [
            "[(1, 'one'), (2, 'two'), (3, 'three'), (4, 'four'), (5, 'five')]\n"
          ]
        }
      ],
      "source": [
        "##2b. Bir sözlüğü listeye dönüştürme\n",
        "d = {1: 'one', 2: 'two', 3: 'three', 4: 'four', 5: 'five'}\n",
        "liste = list(d.items())\n",
        "print(liste)"
      ]
    },
    {
      "cell_type": "code",
      "execution_count": null,
      "metadata": {
        "colab": {
          "base_uri": "https://localhost:8080/"
        },
        "id": "0Nq7_rXDmvMw",
        "outputId": "a4eeae19-92c7-4f34-fa20-a45708ad7d3e"
      },
      "outputs": [
        {
          "name": "stdout",
          "output_type": "stream",
          "text": [
            "{'name1': 'Joseph', 'name2': 'Bella', 'name3': 'Aisha', 'name4': 'Hakan', 'name5': 'Ala'}\n"
          ]
        }
      ],
      "source": [
        "##4. Sözlük yapısını güncelleme, kayıt ekleme\n",
        "family = {'name1': 'Joseph',\n",
        "         'name2': 'Bella',\n",
        "         'name3': 'Aisha',\n",
        "         'name4': 'Tom'\n",
        "        }\n",
        "family.update({'name4':'Hakan', 'name5':'Ala'})\n",
        "print(family)"
      ]
    },
    {
      "cell_type": "code",
      "execution_count": 11,
      "metadata": {
        "colab": {
          "base_uri": "https://localhost:8080/"
        },
        "id": "IarsXVZKkFiP",
        "outputId": "76333c9a-8d27-4393-88b4-a7e7923b946e"
      },
      "outputs": [
        {
          "name": "stdout",
          "output_type": "stream",
          "text": [
            "{'foo': 100, 'bar': 200, 'baz': 300, 'kar': 400}\n",
            "{}\n",
            "{'foo': 100, 'bar': 200, 'baz': 300, 'kar': 400}\n"
          ]
        }
      ],
      "source": [
        "##3. d1 sözlüğünün kopyasını oluşturma seçenekleri: copy()\n",
        "d1 = {'foo': 100, 'bar': 200, 'baz': 300, 'kar':400}\n",
        "\n",
        "d2 = d1.copy()\n",
        "\n",
        "d3 = {}\n",
        "d3.update(d1)\n",
        "\n",
        "d4 = dict(d1)\n",
        "\n",
        "d5 = dict(d1.items())\n",
        "\n",
        "d6 = d1  ##?\n",
        "d1 == d2 == d3 == d4 == d5 == d6\n",
        "print(d6)\n",
        "d1.clear()\n",
        "print(d6)\n",
        "print(d5)"
      ]
    },
    {
      "cell_type": "code",
      "execution_count": 12,
      "metadata": {
        "colab": {
          "base_uri": "https://localhost:8080/"
        },
        "id": "AmL_R2USlXzl",
        "outputId": "325dc2a8-31af-4eca-db62-7503eaa446ac"
      },
      "outputs": [
        {
          "name": "stdout",
          "output_type": "stream",
          "text": [
            "{'name3': 'Aisha', 'name4': 'Tom'}\n"
          ]
        }
      ],
      "source": [
        "##7. Belli bir kaydı silme: del alternatifleri: pop(), popitem()\n",
        "family = {'name1': 'Joseph', \n",
        "          'name2': 'Bella',\n",
        "          'name3': 'Aisha',\n",
        "          'name4': 'Tom'\n",
        "         }\n",
        "del family['name1']\n",
        "del family['name2']\n",
        "print(family)"
      ]
    },
    {
      "cell_type": "code",
      "execution_count": 13,
      "metadata": {
        "colab": {
          "base_uri": "https://localhost:8080/"
        },
        "id": "L1CpMaIxBbuO",
        "outputId": "bf1bf4d1-7a04-4769-996e-33f452b2f75b"
      },
      "outputs": [
        {
          "name": "stdout",
          "output_type": "stream",
          "text": [
            "{'name2': 'Bella', 'name3': 'Aisha', 'name4': 'Tom'}\n"
          ]
        }
      ],
      "source": [
        "family = {'name1': 'Joseph', \n",
        "          'name2': 'Bella',\n",
        "          'name3': 'Aisha',\n",
        "          'name4': 'Tom'\n",
        "         }\n",
        "family.pop('name1')\n",
        "print(family)"
      ]
    },
    {
      "cell_type": "code",
      "execution_count": 14,
      "metadata": {
        "colab": {
          "base_uri": "https://localhost:8080/",
          "height": 218
        },
        "id": "vQxg88S6BmD4",
        "outputId": "ae936bc6-fec4-43e4-dd51-6e995dc86f48"
      },
      "outputs": [
        {
          "ename": "KeyError",
          "evalue": "ignored",
          "output_type": "error",
          "traceback": [
            "\u001b[0;31m---------------------------------------------------------------------------\u001b[0m",
            "\u001b[0;31mKeyError\u001b[0m                                  Traceback (most recent call last)",
            "\u001b[0;32m<ipython-input-14-ab6433b48fc2>\u001b[0m in \u001b[0;36m<module>\u001b[0;34m()\u001b[0m\n\u001b[1;32m      4\u001b[0m           \u001b[0;34m'name4'\u001b[0m\u001b[0;34m:\u001b[0m \u001b[0;34m'Tom'\u001b[0m\u001b[0;34m\u001b[0m\u001b[0;34m\u001b[0m\u001b[0m\n\u001b[1;32m      5\u001b[0m          }\n\u001b[0;32m----> 6\u001b[0;31m \u001b[0;32mdel\u001b[0m \u001b[0mfamily\u001b[0m\u001b[0;34m[\u001b[0m\u001b[0;34m'name5'\u001b[0m\u001b[0;34m]\u001b[0m  \u001b[0;31m##sözlükte olmayan bir elemanı silme\u001b[0m\u001b[0;34m\u001b[0m\u001b[0;34m\u001b[0m\u001b[0m\n\u001b[0m\u001b[1;32m      7\u001b[0m \u001b[0mprint\u001b[0m\u001b[0;34m(\u001b[0m\u001b[0mfamily\u001b[0m\u001b[0;34m)\u001b[0m\u001b[0;34m\u001b[0m\u001b[0;34m\u001b[0m\u001b[0m\n",
            "\u001b[0;31mKeyError\u001b[0m: 'name5'"
          ]
        }
      ],
      "source": [
        "family = {'name1': 'Joseph', \n",
        "          'name2': 'Bella',\n",
        "          'name3': 'Aisha',\n",
        "          'name4': 'Tom'\n",
        "         }\n",
        "del family['name5']  ##sözlükte olmayan bir elemanı silme\n",
        "print(family)"
      ]
    },
    {
      "cell_type": "code",
      "execution_count": 16,
      "metadata": {
        "colab": {
          "base_uri": "https://localhost:8080/"
        },
        "id": "OZc0wXFpB57G",
        "outputId": "7ee24897-9f8b-40e0-c74d-ba7dc9124ffc"
      },
      "outputs": [
        {
          "name": "stdout",
          "output_type": "stream",
          "text": [
            "{'name1': 'Joseph', 'name2': 'Bella', 'name3': 'Aisha', 'name4': 'Tom'}\n"
          ]
        }
      ],
      "source": [
        "family = {'name1': 'Joseph', \n",
        "          'name2': 'Bella',\n",
        "          'name3': 'Aisha',\n",
        "          'name4': 'Tom'\n",
        "         }\n",
        "family.pop('name5', \"sözlükte yoktur\")\n",
        "print(family)"
      ]
    },
    {
      "cell_type": "code",
      "execution_count": 18,
      "metadata": {
        "colab": {
          "base_uri": "https://localhost:8080/"
        },
        "id": "qXkKWxfzCKOr",
        "outputId": "da6836d1-79cd-4981-f1eb-99959de4f731"
      },
      "outputs": [
        {
          "name": "stdout",
          "output_type": "stream",
          "text": [
            "sözlükte yoktur\n"
          ]
        }
      ],
      "source": [
        "family = {'name1': 'Joseph', \n",
        "          'name2': 'Bella',\n",
        "          'name3': 'Aisha',\n",
        "          'name4': 'Tom'\n",
        "         }\n",
        "print(family.pop('name5', \"sözlükte yoktur\"))\n",
        "#print(family)"
      ]
    },
    {
      "cell_type": "code",
      "execution_count": 20,
      "metadata": {
        "colab": {
          "base_uri": "https://localhost:8080/"
        },
        "id": "i0Y_0ufZCVWI",
        "outputId": "d62c4068-e508-4841-f880-8cdf507ef943"
      },
      "outputs": [
        {
          "name": "stdout",
          "output_type": "stream",
          "text": [
            "silinen..: ('name4', 'Tom')\n",
            "{'name1': 'Joseph', 'name2': 'Bella', 'name3': 'Aisha'}\n"
          ]
        }
      ],
      "source": [
        "family = {'name1': 'Joseph', \n",
        "          'name2': 'Bella',\n",
        "          'name3': 'Aisha',\n",
        "          'name4': 'Tom'\n",
        "         }\n",
        "print(\"silinen..:\",family.popitem())  ## en son ekleneni siliyor\n",
        "print(family)"
      ]
    },
    {
      "cell_type": "code",
      "execution_count": 28,
      "metadata": {
        "colab": {
          "base_uri": "https://localhost:8080/"
        },
        "id": "8qZ7I7YTmV_V",
        "outputId": "35b3341a-54c9-420d-f111-4b64153a9133"
      },
      "outputs": [
        {
          "name": "stdout",
          "output_type": "stream",
          "text": [
            "False\n",
            "True\n",
            "True\n",
            "True\n",
            "True\n",
            "False\n",
            "dict_items([('name1', 'Joseph'), ('name2', 'Bella'), ('name3', 'Aisha'), ('name4', 'Tom')])\n",
            "False\n"
          ]
        }
      ],
      "source": [
        "##5. Sözlüklerde arama: in, not in, get(), setdefault(),...\n",
        "family = {'name1': 'Joseph',\n",
        "         'name2': 'Bella',\n",
        "         'name3': 'Aisha',\n",
        "         'name4': 'Tom'\n",
        "        }\n",
        "##Aisha var mı? name4 var mı?\n",
        "print('Aisha' in family)\n",
        "print('Aisha' in family.values()) ## değeri işaret ediyor\n",
        "print('Aisha' in family['name3']) ## değeri işaret ediyor\n",
        "\n",
        "print('name4' in family )\n",
        "print('name4' in family.keys() )\n",
        "print('name4' in family.items() )\n",
        "print(family.items())\n",
        "print('Aisha' in family.items())"
      ]
    },
    {
      "cell_type": "code",
      "execution_count": null,
      "metadata": {
        "id": "RHiOIwG9lNXU"
      },
      "outputs": [],
      "source": [
        "##6. Tüm sözlüğü silme: clear()\n",
        "family = {'name1': 'Joseph', \n",
        "          'name2': 'Bella',\n",
        "          'name3': 'Aisha',\n",
        "          'name4': 'Tom'\n",
        "         }"
      ]
    },
    {
      "cell_type": "code",
      "execution_count": null,
      "metadata": {
        "id": "Q-tfpnxtlfv5"
      },
      "outputs": [],
      "source": [
        "##8. Çoklu silme: liste dönüştürme, döngü kullanma, itertools fonks.,..."
      ]
    },
    {
      "cell_type": "code",
      "execution_count": 29,
      "metadata": {
        "colab": {
          "base_uri": "https://localhost:8080/",
          "height": 218
        },
        "id": "9BcXdNdr9F6X",
        "outputId": "bae5debe-5c52-4615-8c20-cb7d31aad5a0"
      },
      "outputs": [
        {
          "name": "stdout",
          "output_type": "stream",
          "text": [
            "silmek istediğiniz değeri giriniz..:400\n"
          ]
        },
        {
          "ename": "KeyError",
          "evalue": "ignored",
          "output_type": "error",
          "traceback": [
            "\u001b[0;31m---------------------------------------------------------------------------\u001b[0m",
            "\u001b[0;31mKeyError\u001b[0m                                  Traceback (most recent call last)",
            "\u001b[0;32m<ipython-input-29-f267a6407628>\u001b[0m in \u001b[0;36m<module>\u001b[0;34m()\u001b[0m\n\u001b[1;32m      4\u001b[0m \u001b[0;34m\u001b[0m\u001b[0m\n\u001b[1;32m      5\u001b[0m \u001b[0msil_value\u001b[0m \u001b[0;34m=\u001b[0m \u001b[0mint\u001b[0m\u001b[0;34m(\u001b[0m\u001b[0minput\u001b[0m\u001b[0;34m(\u001b[0m\u001b[0;34m\"silmek istediğiniz değeri giriniz..:\"\u001b[0m\u001b[0;34m)\u001b[0m\u001b[0;34m)\u001b[0m\u001b[0;34m\u001b[0m\u001b[0;34m\u001b[0m\u001b[0m\n\u001b[0;32m----> 6\u001b[0;31m \u001b[0md\u001b[0m\u001b[0;34m.\u001b[0m\u001b[0mpop\u001b[0m\u001b[0;34m(\u001b[0m\u001b[0msil_value\u001b[0m\u001b[0;34m)\u001b[0m\u001b[0;34m\u001b[0m\u001b[0;34m\u001b[0m\u001b[0m\n\u001b[0m",
            "\u001b[0;31mKeyError\u001b[0m: 400"
          ]
        }
      ],
      "source": [
        "#9. Sözlük yapısında değeri(value) dışarıdan girilen bir item'ı nasıl silebiliriz?\n",
        "\n",
        "d = {'foo': 100, 'bar': 200, 'baz': 300, 'kar':400}\n",
        "\n",
        "sil_value = int(input(\"silmek istediğiniz değeri giriniz..:\"))\n",
        "d.pop(sil_value)\n"
      ]
    },
    {
      "cell_type": "code",
      "execution_count": 30,
      "metadata": {
        "colab": {
          "base_uri": "https://localhost:8080/"
        },
        "id": "rtAvbSMVIOkS",
        "outputId": "d736883c-35bc-44b0-c309-99e8413d48f2"
      },
      "outputs": [
        {
          "name": "stdout",
          "output_type": "stream",
          "text": [
            "silmek istediğiniz değeri giriniz..:300\n",
            "{'foo': 100, 'bar': 200, 'kar': 400}\n"
          ]
        }
      ],
      "source": [
        "#9. Sözlük yapısında değeri(value) dışarıdan girilen bir item'ı nasıl silebiliriz?\n",
        "\n",
        "d = {'foo': 100, 'bar': 200, 'baz': 300, 'kar':400}\n",
        "\n",
        "sil_value = int(input(\"silmek istediğiniz değeri giriniz..:\"))\n",
        "key_list = list(d.keys())\n",
        "value_list = list(d.values())\n",
        "indis = value_list.index(sil_value)\n",
        "d.pop(key_list[indis])\n",
        "print(d)"
      ]
    },
    {
      "cell_type": "code",
      "execution_count": 31,
      "metadata": {
        "colab": {
          "base_uri": "https://localhost:8080/",
          "height": 35
        },
        "id": "_eytZ76UrnSS",
        "outputId": "896afc74-f08a-4a30-e279-fdf49679eed0"
      },
      "outputs": [
        {
          "data": {
            "application/vnd.google.colaboratory.intrinsic+json": {
              "type": "string"
            },
            "text/plain": [
              "'spinach'"
            ]
          },
          "execution_count": 31,
          "metadata": {},
          "output_type": "execute_result"
        }
      ],
      "source": [
        "#İç içe liste\n",
        "\"\"\"\n",
        "\n",
        "A new programmer needs to access and print the string value of \"spinach\" of the nested list below. \n",
        "He is confused. Let's help him write the code.\n",
        "\"\"\"\n",
        "fruits_vegetables = [\"fruit\", \"vegetable\", [\"apple\", \"banana\", [\"mango\", \"avocado\"]], [\"spinach\", \"broccoli\"]]\n",
        "fruits_vegetables[3][0]"
      ]
    },
    {
      "cell_type": "code",
      "execution_count": 2,
      "metadata": {
        "colab": {
          "base_uri": "https://localhost:8080/"
        },
        "id": "QuiOGi1yrq3S",
        "outputId": "4f13ba84-da3a-4cb6-b461-1c032f724aa3"
      },
      "outputs": [
        {
          "name": "stdout",
          "output_type": "stream",
          "text": [
            "Mayıs\n"
          ]
        }
      ],
      "source": [
        "#nested dict\n",
        "alm_turk = {\n",
        "    \"farben\":\n",
        "        {\"schwarz\":\"siyah\", \"weiß\":\"beyaz\", \"gelb\":\"sarı\", \"rot\":\"kırmızı\", \"blau\":\"mavi\", \"grün\":\"yeşil\", \"orange\":\"turuncu\",\n",
        "         \"rosa\":\"pembe\", \"grau\":\"gri\", \"braun\":\"kahverengi\", \"bordeaux\":\"bordo\", \"lila\":\"mor\", \"türkis\":\"turkuaz\"\n",
        "               },\n",
        "    \"tage\":\n",
        "        {\"montag\":\"Pazartesi\", \"dienstag\":\"Salı\", \"mittwoch\":\"Çarşamba\", \"donerstag\":\"Perşembe\", \"freitag\":\"Cuma\", \"samstag\":\"Cumartesi\", \"sonntag\":\"Pazar\"\n",
        "               },\n",
        "    \"monate\":\n",
        "    {\"januar\":\"Ocak\", \"februar\":\"Şubat\", \"märz\":\"Mart\", \"april\":\"Nisan\", \"mai\":\"Mayıs\", \"juni\":\"Haziran\", \"juli\":\"Temmuz\", \"august\":\"Ağustos\",\n",
        "     \"september\":\"Eylül\", \"oktober\":\"Ekim\", \"november\":\"Kasım\", \"dezember\":\"Aralık\"},\n",
        "}\n",
        "key = input(\"Almanca bir renk, gün veya ay adi yaziniz: \")\n",
        "#alm_turk[\"monate\"][key]\n",
        "f = alm_turk['farben'].get(key,0)\n",
        "t = alm_turk['tage'].get(key,0)\n",
        "m = alm_turk['monate'].get(key,0)\n",
        "if f != 0:\n",
        "  print(f)\n",
        "elif t !=0:\n",
        "  print(t)\n",
        "elif m !=0:\n",
        "  print(m)\n",
        "else:\n",
        "  print(\"sözlükte yoktur\")"
      ]
    },
    {
      "cell_type": "code",
      "execution_count": null,
      "metadata": {},
      "outputs": [],
      "source": []
    },
    {
      "cell_type": "code",
      "execution_count": 36,
      "metadata": {
        "colab": {
          "base_uri": "https://localhost:8080/"
        },
        "id": "QJ8DZxJ3OdoC",
        "outputId": "dfc998cd-f1df-4637-83e6-baeaf0ed72d6"
      },
      "outputs": [
        {
          "name": "stdout",
          "output_type": "stream",
          "text": [
            "set()\n"
          ]
        }
      ],
      "source": [
        "bos_kume = set()\n",
        "print(bos_kume)"
      ]
    },
    {
      "cell_type": "code",
      "execution_count": 37,
      "metadata": {
        "colab": {
          "base_uri": "https://localhost:8080/"
        },
        "id": "vdFX9ldcOjrG",
        "outputId": "455ef283-060b-4b48-8ac6-7a54db03e5b1"
      },
      "outputs": [
        {
          "name": "stdout",
          "output_type": "stream",
          "text": [
            "<class 'dict'>\n"
          ]
        }
      ],
      "source": [
        "bos_kume = {}  ## sözlük\n",
        "print(type(bos_kume))"
      ]
    },
    {
      "cell_type": "code",
      "execution_count": 39,
      "metadata": {
        "colab": {
          "base_uri": "https://localhost:8080/"
        },
        "id": "eiXXbRV0O66O",
        "outputId": "64a492ab-8b92-44da-b6d0-eb5821e6a17a"
      },
      "outputs": [
        {
          "name": "stdout",
          "output_type": "stream",
          "text": [
            "{'yellow', 'red', 'blue'}\n",
            "{'yellow', 'red', 'blue'}\n",
            "<class 'tuple'>\n"
          ]
        }
      ],
      "source": [
        "set_1 = {'red', 'blue', 'yellow', 'red'}\n",
        "colors = 'red', 'blue', 'yellow', 'red'\n",
        "set_2 = set(colors)\n",
        "print(set_1)\n",
        "print(set_2)\n",
        "print(type(colors))\n"
      ]
    },
    {
      "cell_type": "code",
      "execution_count": 50,
      "metadata": {
        "colab": {
          "base_uri": "https://localhost:8080/"
        },
        "id": "z3RnMFtPQn4c",
        "outputId": "5d324b65-308b-4195-9fab-29560f634be4"
      },
      "outputs": [
        {
          "name": "stdout",
          "output_type": "stream",
          "text": [
            "{'d', 'i', 'e', 'p', 'l', 'a', 'h'}\n",
            "{'d', 'i', 'o', 'p', 'n', 'l', 'h'}\n",
            "{'a', 'e'}\n",
            "{'d', 'i', 'e', 'o', 'p', 'n', 'l', 'a', 'h'}\n",
            "{'d', 'i', 'p', 'l', 'h'}\n",
            "{'d', 'i', 'p', 'l', 'h'}\n"
          ]
        }
      ],
      "source": [
        "a = set('philadelphia')\n",
        "b = set('dolphin')\n",
        "print(a)\n",
        "print(b)\n",
        "#print(a-b) a fark b yi verir\n",
        "print(a.difference(b)) \n",
        "# print(a|b) birleşimi\n",
        "print(a.union(b))\n",
        "#print(a+b) hata aldık\n",
        "#print(a&b) #kesişimi\n",
        "print(a.intersection(b))\n"
      ]
    },
    {
      "cell_type": "code",
      "execution_count": 52,
      "metadata": {
        "colab": {
          "base_uri": "https://localhost:8080/"
        },
        "id": "tUn3guX8TQq3",
        "outputId": "3d28a62e-3346-4aab-91e8-7365836e7e0c"
      },
      "outputs": [
        {
          "name": "stdout",
          "output_type": "stream",
          "text": [
            "{'0', '2', '9', '/', '1'}\n",
            "{'09/01/2021'} \n",
            " <class 'set'>\n"
          ]
        }
      ],
      "source": [
        "a = set('09/01/2021')\n",
        "b = {'09/01/2021'}\n",
        "print(a)\n",
        "print(b, '\\n', type(b))"
      ]
    },
    {
      "cell_type": "code",
      "execution_count": 54,
      "metadata": {
        "colab": {
          "base_uri": "https://localhost:8080/"
        },
        "id": "avowkrnMTc1b",
        "outputId": "a15868c4-1cb8-45c7-ccb8-a1356d0f4610"
      },
      "outputs": [
        {
          "name": "stdout",
          "output_type": "stream",
          "text": [
            "<class 'dict'>\n"
          ]
        }
      ],
      "source": [
        "b = {'t':'09/01/2021'}\n",
        "print(type(b))"
      ]
    },
    {
      "cell_type": "code",
      "execution_count": 56,
      "metadata": {
        "colab": {
          "base_uri": "https://localhost:8080/"
        },
        "id": "LenA6zEKTs4o",
        "outputId": "d148aadd-9ff9-43fb-eed9-5f87c2fb4f51"
      },
      "outputs": [
        {
          "name": "stdout",
          "output_type": "stream",
          "text": [
            "{'05/02/2022', '09/01/2021'}\n"
          ]
        }
      ],
      "source": [
        "b = {'09/01/2021', '05/02/2022', '09/01/2021'}\n",
        "print(b)"
      ]
    },
    {
      "cell_type": "code",
      "execution_count": 57,
      "metadata": {
        "colab": {
          "base_uri": "https://localhost:8080/"
        },
        "id": "Or-As7oRUI_H",
        "outputId": "c7b8a56b-e8bf-498b-c0d9-5595085b77c9"
      },
      "outputs": [
        {
          "name": "stdout",
          "output_type": "stream",
          "text": [
            "{1, 2, 3, 4, 5}\n"
          ]
        }
      ],
      "source": [
        "given_list = [1, 2, 3, 3, 3, 3, 4, 4, 5, 5]\n",
        "uniq_list = set(given_list)\n",
        "print(uniq_list)"
      ]
    },
    {
      "cell_type": "code",
      "execution_count": 59,
      "metadata": {
        "colab": {
          "base_uri": "https://localhost:8080/",
          "height": 200
        },
        "id": "EQ54o2fQUUhl",
        "outputId": "9fd840f5-ac07-425b-c8a7-7890d6b555e6"
      },
      "outputs": [
        {
          "ename": "TypeError",
          "evalue": "ignored",
          "output_type": "error",
          "traceback": [
            "\u001b[0;31m---------------------------------------------------------------------------\u001b[0m",
            "\u001b[0;31mTypeError\u001b[0m                                 Traceback (most recent call last)",
            "\u001b[0;32m<ipython-input-59-b8453b8e5e93>\u001b[0m in \u001b[0;36m<module>\u001b[0;34m()\u001b[0m\n\u001b[1;32m      1\u001b[0m \u001b[0mgiven_list\u001b[0m \u001b[0;34m=\u001b[0m \u001b[0;34m[\u001b[0m\u001b[0;36m1\u001b[0m\u001b[0;34m,\u001b[0m \u001b[0;36m2\u001b[0m\u001b[0;34m,\u001b[0m \u001b[0;36m3\u001b[0m\u001b[0;34m,\u001b[0m \u001b[0;36m3\u001b[0m\u001b[0;34m,\u001b[0m \u001b[0;36m3\u001b[0m\u001b[0;34m,\u001b[0m \u001b[0;36m3\u001b[0m\u001b[0;34m,\u001b[0m \u001b[0;36m4\u001b[0m\u001b[0;34m,\u001b[0m \u001b[0;36m4\u001b[0m\u001b[0;34m,\u001b[0m \u001b[0;36m5\u001b[0m\u001b[0;34m,\u001b[0m \u001b[0;36m5\u001b[0m\u001b[0;34m]\u001b[0m\u001b[0;34m\u001b[0m\u001b[0;34m\u001b[0m\u001b[0m\n\u001b[0;32m----> 2\u001b[0;31m \u001b[0muniq_list\u001b[0m \u001b[0;34m=\u001b[0m \u001b[0;34m{\u001b[0m \u001b[0;34m[\u001b[0m\u001b[0;36m1\u001b[0m\u001b[0;34m,\u001b[0m \u001b[0;36m2\u001b[0m\u001b[0;34m,\u001b[0m \u001b[0;36m3\u001b[0m\u001b[0;34m,\u001b[0m \u001b[0;36m3\u001b[0m\u001b[0;34m,\u001b[0m \u001b[0;36m3\u001b[0m\u001b[0;34m,\u001b[0m \u001b[0;36m3\u001b[0m\u001b[0;34m,\u001b[0m \u001b[0;36m4\u001b[0m\u001b[0;34m,\u001b[0m \u001b[0;36m4\u001b[0m\u001b[0;34m,\u001b[0m \u001b[0;36m5\u001b[0m\u001b[0;34m,\u001b[0m \u001b[0;36m5\u001b[0m\u001b[0;34m]\u001b[0m \u001b[0;34m:\u001b[0m \u001b[0;34m\"value\"\u001b[0m \u001b[0;34m}\u001b[0m\u001b[0;34m\u001b[0m\u001b[0;34m\u001b[0m\u001b[0m\n\u001b[0m\u001b[1;32m      3\u001b[0m \u001b[0mprint\u001b[0m\u001b[0;34m(\u001b[0m\u001b[0muniq_list\u001b[0m\u001b[0;34m)\u001b[0m\u001b[0;34m\u001b[0m\u001b[0;34m\u001b[0m\u001b[0m\n",
            "\u001b[0;31mTypeError\u001b[0m: unhashable type: 'list'"
          ]
        }
      ],
      "source": [
        "given_list = [1, 2, 3, 3, 3, 3, 4, 4, 5, 5]\n",
        "uniq_list = { [1, 2, 3, 3, 3, 3, 4, 4, 5, 5] : \"value\" } #mutable değerler key olamaz\n",
        "print(uniq_list)"
      ]
    },
    {
      "cell_type": "code",
      "execution_count": 60,
      "metadata": {
        "colab": {
          "base_uri": "https://localhost:8080/"
        },
        "id": "Y5Euh5c2UrOt",
        "outputId": "d14bde0f-8d54-44ca-acd6-6184e826fdbf"
      },
      "outputs": [
        {
          "name": "stdout",
          "output_type": "stream",
          "text": [
            "{(1, 2, 3, 3, 3, 3, 4, 4, 5, 5): 'value'}\n"
          ]
        }
      ],
      "source": [
        "given_list = [1, 2, 3, 3, 3, 3, 4, 4, 5, 5]\n",
        "uniq_list = { (1, 2, 3, 3, 3, 3, 4, 4, 5, 5) : \"value\" } #immutable değerler key olur\n",
        "print(uniq_list)"
      ]
    },
    {
      "cell_type": "code",
      "execution_count": 61,
      "metadata": {
        "colab": {
          "base_uri": "https://localhost:8080/"
        },
        "id": "7OjwuZVpUy4Z",
        "outputId": "1657b973-a814-4a3b-8d22-c881d4c8e5c2"
      },
      "outputs": [
        {
          "name": "stdout",
          "output_type": "stream",
          "text": [
            "{(1, 2, 3, 3, 3, 3, 4, 4, 5, 5)}\n"
          ]
        }
      ],
      "source": [
        "given_list = [1, 2, 3, 3, 3, 3, 4, 4, 5, 5]\n",
        "uniq_list = { (1, 2, 3, 3, 3, 3, 4, 4, 5, 5) } #kümenin bir elemanı\n",
        "print(uniq_list)"
      ]
    },
    {
      "cell_type": "code",
      "execution_count": 62,
      "metadata": {
        "colab": {
          "base_uri": "https://localhost:8080/"
        },
        "id": "Bksq7HhEVYDK",
        "outputId": "b5966538-c49a-40d3-d459-7e1cdb02ac88"
      },
      "outputs": [
        {
          "name": "stdout",
          "output_type": "stream",
          "text": [
            "{'g', 's', 'i', 'o', 't', 'n', 'a', 'h', 'W'}\n",
            "{'g', 'i', 'e', 'o', 't', 'n', 'l', 'W'}\n"
          ]
        }
      ],
      "source": [
        "usa_capt = set('Washington')\n",
        "nz_capt = set('Wellington')\n",
        "\n",
        "print(usa_capt)\n",
        "print(nz_capt)"
      ]
    },
    {
      "cell_type": "code",
      "execution_count": 66,
      "metadata": {
        "colab": {
          "base_uri": "https://localhost:8080/",
          "height": 183
        },
        "id": "9UuuKz0uVu_0",
        "outputId": "8b8fc508-0d6d-437e-8e02-10f4657db70a"
      },
      "outputs": [
        {
          "ename": "TypeError",
          "evalue": "ignored",
          "output_type": "error",
          "traceback": [
            "\u001b[0;31m---------------------------------------------------------------------------\u001b[0m",
            "\u001b[0;31mTypeError\u001b[0m                                 Traceback (most recent call last)",
            "\u001b[0;32m<ipython-input-66-859a285756fe>\u001b[0m in \u001b[0;36m<module>\u001b[0;34m()\u001b[0m\n\u001b[0;32m----> 1\u001b[0;31m \u001b[0musa_capt\u001b[0m \u001b[0;34m=\u001b[0m \u001b[0mset\u001b[0m\u001b[0;34m(\u001b[0m\u001b[0;34m'Washington'\u001b[0m\u001b[0;34m,\u001b[0m \u001b[0;34m'Wellington'\u001b[0m\u001b[0;34m)\u001b[0m\u001b[0;34m\u001b[0m\u001b[0;34m\u001b[0m\u001b[0m\n\u001b[0m\u001b[1;32m      2\u001b[0m \u001b[0mprint\u001b[0m\u001b[0;34m(\u001b[0m\u001b[0musa_capt\u001b[0m\u001b[0;34m)\u001b[0m\u001b[0;34m\u001b[0m\u001b[0;34m\u001b[0m\u001b[0m\n",
            "\u001b[0;31mTypeError\u001b[0m: set expected at most 1 arguments, got 2"
          ]
        }
      ],
      "source": [
        "usa_capt = set('Washington', 'Wellington')\n",
        "print(usa_capt)"
      ]
    },
    {
      "cell_type": "code",
      "execution_count": 65,
      "metadata": {
        "colab": {
          "base_uri": "https://localhost:8080/"
        },
        "id": "2mkEudrUVfIk",
        "outputId": "1cb4fb68-557a-4e65-f42a-d486de539932"
      },
      "outputs": [
        {
          "name": "stdout",
          "output_type": "stream",
          "text": [
            "{'Wellington', 'Washington'}\n"
          ]
        }
      ],
      "source": [
        "usa_capt = set(('Washington', 'Wellington'))\n",
        "print(usa_capt)"
      ]
    },
    {
      "cell_type": "code",
      "execution_count": null,
      "metadata": {
        "id": "JA-xO_YpY0Bm"
      },
      "outputs": [],
      "source": []
    },
    {
      "cell_type": "code",
      "execution_count": 67,
      "metadata": {
        "colab": {
          "base_uri": "https://localhost:8080/"
        },
        "id": "KAukJo1nY0Qn",
        "outputId": "6d62aec5-07b3-4d67-db63-f9e199c806a6"
      },
      "outputs": [
        {
          "name": "stdout",
          "output_type": "stream",
          "text": [
            "{'g', 's', 'i', 'o', 't', 'n', 'a', 'h', 'W'}\n",
            "{'g', 's', 'i', 'o', 'z', 't', 'n', 'a', 'h', 'W'}\n"
          ]
        }
      ],
      "source": [
        "usa_capt = set('Washington')\n",
        "print(usa_capt)\n",
        "usa_capt.add('z')\n",
        "print(usa_capt)"
      ]
    },
    {
      "cell_type": "code",
      "execution_count": 68,
      "metadata": {
        "colab": {
          "base_uri": "https://localhost:8080/",
          "height": 235
        },
        "id": "APtBcmMrZA9z",
        "outputId": "59c11e32-359d-4f49-a764-33df3dad937f"
      },
      "outputs": [
        {
          "name": "stdout",
          "output_type": "stream",
          "text": [
            "frozenset({'g', 's', 'i', 'o', 't', 'n', 'a', 'h', 'W'})\n"
          ]
        },
        {
          "ename": "AttributeError",
          "evalue": "ignored",
          "output_type": "error",
          "traceback": [
            "\u001b[0;31m---------------------------------------------------------------------------\u001b[0m",
            "\u001b[0;31mAttributeError\u001b[0m                            Traceback (most recent call last)",
            "\u001b[0;32m<ipython-input-68-9e416fb52e55>\u001b[0m in \u001b[0;36m<module>\u001b[0;34m()\u001b[0m\n\u001b[1;32m      2\u001b[0m \u001b[0mdondur_capt\u001b[0m \u001b[0;34m=\u001b[0m \u001b[0mfrozenset\u001b[0m\u001b[0;34m(\u001b[0m\u001b[0musa_capt\u001b[0m\u001b[0;34m)\u001b[0m \u001b[0;31m#elemanları değiştirlemeyen bir küme\u001b[0m\u001b[0;34m\u001b[0m\u001b[0;34m\u001b[0m\u001b[0m\n\u001b[1;32m      3\u001b[0m \u001b[0mprint\u001b[0m\u001b[0;34m(\u001b[0m\u001b[0mdondur_capt\u001b[0m\u001b[0;34m)\u001b[0m\u001b[0;34m\u001b[0m\u001b[0;34m\u001b[0m\u001b[0m\n\u001b[0;32m----> 4\u001b[0;31m \u001b[0mdondur_capt\u001b[0m\u001b[0;34m.\u001b[0m\u001b[0madd\u001b[0m\u001b[0;34m(\u001b[0m\u001b[0;34m'z'\u001b[0m\u001b[0;34m)\u001b[0m\u001b[0;34m\u001b[0m\u001b[0;34m\u001b[0m\u001b[0m\n\u001b[0m\u001b[1;32m      5\u001b[0m \u001b[0mprint\u001b[0m\u001b[0;34m(\u001b[0m\u001b[0mdondur_capt\u001b[0m\u001b[0;34m)\u001b[0m\u001b[0;34m\u001b[0m\u001b[0;34m\u001b[0m\u001b[0m\n",
            "\u001b[0;31mAttributeError\u001b[0m: 'frozenset' object has no attribute 'add'"
          ]
        }
      ],
      "source": [
        "usa_capt = set('Washington')\n",
        "dondur_capt = frozenset(usa_capt) #elemanları değiştirlemeyen bir küme\n",
        "print(dondur_capt)\n",
        "dondur_capt.add('z')\n",
        "print(dondur_capt)"
      ]
    },
    {
      "cell_type": "code",
      "execution_count": 69,
      "metadata": {
        "colab": {
          "base_uri": "https://localhost:8080/"
        },
        "id": "nMxfoDatZdTM",
        "outputId": "2c5833e4-f375-4d89-d3e0-6fb3ec7ba1aa"
      },
      "outputs": [
        {
          "name": "stdout",
          "output_type": "stream",
          "text": [
            "['__and__', '__class__', '__contains__', '__delattr__', '__dir__', '__doc__', '__eq__', '__format__', '__ge__', '__getattribute__', '__gt__', '__hash__', '__iand__', '__init__', '__init_subclass__', '__ior__', '__isub__', '__iter__', '__ixor__', '__le__', '__len__', '__lt__', '__ne__', '__new__', '__or__', '__rand__', '__reduce__', '__reduce_ex__', '__repr__', '__ror__', '__rsub__', '__rxor__', '__setattr__', '__sizeof__', '__str__', '__sub__', '__subclasshook__', '__xor__', 'add', 'clear', 'copy', 'difference', 'difference_update', 'discard', 'intersection', 'intersection_update', 'isdisjoint', 'issubset', 'issuperset', 'pop', 'remove', 'symmetric_difference', 'symmetric_difference_update', 'union', 'update']\n"
          ]
        }
      ],
      "source": [
        "print(dir(set))"
      ]
    },
    {
      "cell_type": "code",
      "execution_count": 70,
      "metadata": {
        "colab": {
          "base_uri": "https://localhost:8080/"
        },
        "id": "TcVknMKIedUb",
        "outputId": "5e13d7a2-fe1d-4288-c649-eb0c936720cf"
      },
      "outputs": [
        {
          "data": {
            "text/plain": [
              "['__and__',\n",
              " '__class__',\n",
              " '__contains__',\n",
              " '__delattr__',\n",
              " '__dir__',\n",
              " '__doc__',\n",
              " '__eq__',\n",
              " '__format__',\n",
              " '__ge__',\n",
              " '__getattribute__',\n",
              " '__gt__',\n",
              " '__hash__',\n",
              " '__iand__',\n",
              " '__init__',\n",
              " '__init_subclass__',\n",
              " '__ior__',\n",
              " '__isub__',\n",
              " '__iter__',\n",
              " '__ixor__',\n",
              " '__le__',\n",
              " '__len__',\n",
              " '__lt__',\n",
              " '__ne__',\n",
              " '__new__',\n",
              " '__or__',\n",
              " '__rand__',\n",
              " '__reduce__',\n",
              " '__reduce_ex__',\n",
              " '__repr__',\n",
              " '__ror__',\n",
              " '__rsub__',\n",
              " '__rxor__',\n",
              " '__setattr__',\n",
              " '__sizeof__',\n",
              " '__str__',\n",
              " '__sub__',\n",
              " '__subclasshook__',\n",
              " '__xor__',\n",
              " 'add',\n",
              " 'clear',\n",
              " 'copy',\n",
              " 'difference',\n",
              " 'difference_update',\n",
              " 'discard',\n",
              " 'intersection',\n",
              " 'intersection_update',\n",
              " 'isdisjoint',\n",
              " 'issubset',\n",
              " 'issuperset',\n",
              " 'pop',\n",
              " 'remove',\n",
              " 'symmetric_difference',\n",
              " 'symmetric_difference_update',\n",
              " 'union',\n",
              " 'update']"
            ]
          },
          "execution_count": 70,
          "metadata": {},
          "output_type": "execute_result"
        }
      ],
      "source": [
        "dir(set)"
      ]
    },
    {
      "cell_type": "code",
      "execution_count": 78,
      "metadata": {
        "colab": {
          "base_uri": "https://localhost:8080/",
          "height": 322
        },
        "id": "6MHVHtR5e3Z9",
        "outputId": "971f0e57-3d97-4085-9fa5-3e0d6b46a700"
      },
      "outputs": [
        {
          "name": "stdout",
          "output_type": "stream",
          "text": [
            "{'d', 'i', 'e', 'p', 'l', 'a', 'h'}\n",
            "{'d', 'i', 'o', 'p', 'n', 'l', 'h'}\n",
            "{'d', 'i', 'e', 'p', 'l', 'a'}\n",
            "d\n",
            "{'i', 'e', 'p', 'l', 'a'}\n",
            "{'i', 'e', 'p', 'l'}\n"
          ]
        },
        {
          "ename": "KeyError",
          "evalue": "ignored",
          "output_type": "error",
          "traceback": [
            "\u001b[0;31m---------------------------------------------------------------------------\u001b[0m",
            "\u001b[0;31mKeyError\u001b[0m                                  Traceback (most recent call last)",
            "\u001b[0;32m<ipython-input-78-64f082a0b190>\u001b[0m in \u001b[0;36m<module>\u001b[0;34m()\u001b[0m\n\u001b[1;32m     10\u001b[0m \u001b[0mprint\u001b[0m\u001b[0;34m(\u001b[0m\u001b[0ma\u001b[0m\u001b[0;34m)\u001b[0m\u001b[0;34m\u001b[0m\u001b[0;34m\u001b[0m\u001b[0m\n\u001b[1;32m     11\u001b[0m \u001b[0ma\u001b[0m\u001b[0;34m.\u001b[0m\u001b[0mdiscard\u001b[0m\u001b[0;34m(\u001b[0m\u001b[0;34m'a'\u001b[0m\u001b[0;34m)\u001b[0m \u001b[0;31m## öncesinde silindiği için yok\u001b[0m\u001b[0;34m\u001b[0m\u001b[0;34m\u001b[0m\u001b[0m\n\u001b[0;32m---> 12\u001b[0;31m \u001b[0ma\u001b[0m\u001b[0;34m.\u001b[0m\u001b[0mremove\u001b[0m\u001b[0;34m(\u001b[0m\u001b[0;34m'a'\u001b[0m\u001b[0;34m)\u001b[0m \u001b[0;31m## öncesinde silindiği için yok\u001b[0m\u001b[0;34m\u001b[0m\u001b[0;34m\u001b[0m\u001b[0m\n\u001b[0m\u001b[1;32m     13\u001b[0m \u001b[0mprint\u001b[0m\u001b[0;34m(\u001b[0m\u001b[0ma\u001b[0m\u001b[0;34m)\u001b[0m\u001b[0;34m\u001b[0m\u001b[0;34m\u001b[0m\u001b[0m\n",
            "\u001b[0;31mKeyError\u001b[0m: 'a'"
          ]
        }
      ],
      "source": [
        "a = set('philadelphia')\n",
        "b = set('dolphin')\n",
        "print(a)\n",
        "print(b)\n",
        "a.remove('h')\n",
        "print(a)\n",
        "print(a.pop()) ## arguman istemiyor\n",
        "print(a)\n",
        "a.discard('a')\n",
        "print(a)\n",
        "a.discard('a') ## öncesinde silindiği için yok ama hata vermiyor\n",
        "a.remove('a') ## öncesinde silindiği için yok hata verdi\n",
        "print(a)"
      ]
    },
    {
      "cell_type": "code",
      "execution_count": 80,
      "metadata": {
        "colab": {
          "base_uri": "https://localhost:8080/"
        },
        "id": "8PsVTrLcgJCF",
        "outputId": "0c7e842d-75e3-4d1b-bda7-60a320bd038e"
      },
      "outputs": [
        {
          "name": "stdout",
          "output_type": "stream",
          "text": [
            "{'d', 'i', 'e', 'l', 'a', 'h', 'p'}\n",
            "{'d', 'i', 'e', 'p', 'l', 'a', 'h'}\n"
          ]
        }
      ],
      "source": [
        "a = set('philadelphia')\n",
        "b = a.copy()\n",
        "print(b)\n",
        "print(a)"
      ]
    },
    {
      "cell_type": "code",
      "execution_count": 85,
      "metadata": {
        "colab": {
          "base_uri": "https://localhost:8080/"
        },
        "id": "dtzgxQeLgYpT",
        "outputId": "be6c1e6c-db84-4267-8e62-7d0368e4d67a"
      },
      "outputs": [
        {
          "name": "stdout",
          "output_type": "stream",
          "text": [
            "True\n",
            "True\n",
            "False\n"
          ]
        }
      ],
      "source": [
        "a = set('philadelphia')\n",
        "b = {'p', 'i', 'l'}\n",
        "## b kümesi a nın bir alt kümesi mi?\n",
        "#b in a : False\n",
        "print(b.issubset(a))  ## b altküme a\n",
        "\n",
        "## a kümesi b yi kapsar mı?\n",
        "print(a.issuperset(b))  ## a kapsar b\n",
        "\n",
        "## b kümesi a yı kapsar mı?\n",
        "print(b.issuperset(a))"
      ]
    },
    {
      "cell_type": "code",
      "execution_count": 86,
      "metadata": {
        "colab": {
          "base_uri": "https://localhost:8080/"
        },
        "id": "QSWTUsoWiP00",
        "outputId": "0941e38d-c863-47c8-d891-78d065c738d0"
      },
      "outputs": [
        {
          "name": "stdout",
          "output_type": "stream",
          "text": [
            "set()\n"
          ]
        }
      ],
      "source": [
        "b = {'p', 'i', 'l'}\n",
        "b.clear()\n",
        "print(b)"
      ]
    }
  ],
  "metadata": {
    "colab": {
      "collapsed_sections": [],
      "name": "colab_python_bulend9.ipynb",
      "provenance": []
    },
    "kernelspec": {
      "display_name": "Python 3",
      "name": "python3"
    },
    "language_info": {
      "codemirror_mode": {
        "name": "ipython",
        "version": 3
      },
      "file_extension": ".py",
      "mimetype": "text/x-python",
      "name": "python",
      "nbconvert_exporter": "python",
      "pygments_lexer": "ipython3",
      "version": "3.10.2"
    }
  },
  "nbformat": 4,
  "nbformat_minor": 0
}
