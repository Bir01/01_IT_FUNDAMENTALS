{
 "cells": [
  {
   "cell_type": "markdown",
   "metadata": {},
   "source": [
    "<p align=\"center\">\n",
    "<img src=\"https://docs.google.com/uc?id=14xeXxFrVRjvOoUYWn_GuyE-v84wVzrqr\" class=\"img-fluid\" alt=\"CLRWY\" width=\"600\" height=\"120\" >\n",
    "</p>"
   ]
  },
  {
   "cell_type": "markdown",
   "metadata": {},
   "source": [
    "<h1><p style=\"text-align: center; color:blue\">Python In-Class Session 14, <br>22 March 2022</p><h1>"
   ]
  },
  {
   "cell_type": "markdown",
   "metadata": {},
   "source": [
    "# User Defined Functions (Kullanıcı Tanımlı Fonksiyonlar)"
   ]
  },
  {
   "cell_type": "code",
   "execution_count": 32,
   "metadata": {},
   "outputs": [
    {
     "data": {
      "text/plain": [
       "['ArithmeticError',\n",
       " 'AssertionError',\n",
       " 'AttributeError',\n",
       " 'BaseException',\n",
       " 'BlockingIOError',\n",
       " 'BrokenPipeError',\n",
       " 'BufferError',\n",
       " 'BytesWarning',\n",
       " 'ChildProcessError',\n",
       " 'ConnectionAbortedError',\n",
       " 'ConnectionError',\n",
       " 'ConnectionRefusedError',\n",
       " 'ConnectionResetError',\n",
       " 'DeprecationWarning',\n",
       " 'EOFError',\n",
       " 'Ellipsis',\n",
       " 'EnvironmentError',\n",
       " 'Exception',\n",
       " 'False',\n",
       " 'FileExistsError',\n",
       " 'FileNotFoundError',\n",
       " 'FloatingPointError',\n",
       " 'FutureWarning',\n",
       " 'GeneratorExit',\n",
       " 'IOError',\n",
       " 'ImportError',\n",
       " 'ImportWarning',\n",
       " 'IndentationError',\n",
       " 'IndexError',\n",
       " 'InterruptedError',\n",
       " 'IsADirectoryError',\n",
       " 'KeyError',\n",
       " 'KeyboardInterrupt',\n",
       " 'LookupError',\n",
       " 'MemoryError',\n",
       " 'ModuleNotFoundError',\n",
       " 'NameError',\n",
       " 'None',\n",
       " 'NotADirectoryError',\n",
       " 'NotImplemented',\n",
       " 'NotImplementedError',\n",
       " 'OSError',\n",
       " 'OverflowError',\n",
       " 'PendingDeprecationWarning',\n",
       " 'PermissionError',\n",
       " 'ProcessLookupError',\n",
       " 'RecursionError',\n",
       " 'ReferenceError',\n",
       " 'ResourceWarning',\n",
       " 'RuntimeError',\n",
       " 'RuntimeWarning',\n",
       " 'StopAsyncIteration',\n",
       " 'StopIteration',\n",
       " 'SyntaxError',\n",
       " 'SyntaxWarning',\n",
       " 'SystemError',\n",
       " 'SystemExit',\n",
       " 'TabError',\n",
       " 'TimeoutError',\n",
       " 'True',\n",
       " 'TypeError',\n",
       " 'UnboundLocalError',\n",
       " 'UnicodeDecodeError',\n",
       " 'UnicodeEncodeError',\n",
       " 'UnicodeError',\n",
       " 'UnicodeTranslateError',\n",
       " 'UnicodeWarning',\n",
       " 'UserWarning',\n",
       " 'ValueError',\n",
       " 'Warning',\n",
       " 'ZeroDivisionError',\n",
       " '__IPYTHON__',\n",
       " '__build_class__',\n",
       " '__debug__',\n",
       " '__doc__',\n",
       " '__import__',\n",
       " '__loader__',\n",
       " '__name__',\n",
       " '__package__',\n",
       " '__spec__',\n",
       " 'abs',\n",
       " 'all',\n",
       " 'any',\n",
       " 'ascii',\n",
       " 'bin',\n",
       " 'bool',\n",
       " 'breakpoint',\n",
       " 'bytearray',\n",
       " 'bytes',\n",
       " 'callable',\n",
       " 'chr',\n",
       " 'classmethod',\n",
       " 'compile',\n",
       " 'complex',\n",
       " 'copyright',\n",
       " 'credits',\n",
       " 'delattr',\n",
       " 'dict',\n",
       " 'dir',\n",
       " 'display',\n",
       " 'divmod',\n",
       " 'enumerate',\n",
       " 'eval',\n",
       " 'exec',\n",
       " 'execfile',\n",
       " 'filter',\n",
       " 'float',\n",
       " 'format',\n",
       " 'frozenset',\n",
       " 'get_ipython',\n",
       " 'getattr',\n",
       " 'globals',\n",
       " 'hasattr',\n",
       " 'hash',\n",
       " 'help',\n",
       " 'hex',\n",
       " 'id',\n",
       " 'input',\n",
       " 'int',\n",
       " 'isinstance',\n",
       " 'issubclass',\n",
       " 'iter',\n",
       " 'len',\n",
       " 'license',\n",
       " 'list',\n",
       " 'locals',\n",
       " 'map',\n",
       " 'max',\n",
       " 'memoryview',\n",
       " 'min',\n",
       " 'next',\n",
       " 'object',\n",
       " 'oct',\n",
       " 'open',\n",
       " 'ord',\n",
       " 'pow',\n",
       " 'print',\n",
       " 'property',\n",
       " 'range',\n",
       " 'repr',\n",
       " 'reversed',\n",
       " 'round',\n",
       " 'runfile',\n",
       " 'set',\n",
       " 'setattr',\n",
       " 'slice',\n",
       " 'sorted',\n",
       " 'staticmethod',\n",
       " 'str',\n",
       " 'sum',\n",
       " 'super',\n",
       " 'tuple',\n",
       " 'type',\n",
       " 'vars',\n",
       " 'zip']"
      ]
     },
     "execution_count": 32,
     "metadata": {},
     "output_type": "execute_result"
    }
   ],
   "source": [
    "dir(__builtins__)"
   ]
  },
  {
   "cell_type": "markdown",
   "metadata": {},
   "source": [
    "Thonny: editör basit, güzel bir python editörü"
   ]
  },
  {
   "cell_type": "code",
   "execution_count": 33,
   "metadata": {},
   "outputs": [
    {
     "name": "stdout",
     "output_type": "stream",
     "text": [
      "['abs', 'all', 'any', 'ascii', 'bin', 'bool', 'breakpoint', 'bytearray', 'bytes', 'callable', 'chr', 'classmethod', 'compile', 'complex', 'copyright', 'credits', 'delattr', 'dict', 'dir', 'display', 'divmod', 'enumerate', 'eval', 'exec', 'execfile', 'filter', 'float', 'format', 'frozenset', 'get_ipython', 'getattr', 'globals', 'hasattr', 'hash', 'help', 'hex', 'id', 'input', 'int', 'isinstance', 'issubclass', 'iter', 'len', 'license', 'list', 'locals', 'map', 'max', 'memoryview', 'min', 'next', 'object', 'oct', 'open', 'ord', 'pow', 'print', 'property', 'range', 'repr', 'reversed', 'round', 'runfile', 'set', 'setattr', 'slice', 'sorted', 'staticmethod', 'str', 'sum', 'super', 'tuple', 'type', 'vars', 'zip']\n"
     ]
    }
   ],
   "source": [
    "bif = []\n",
    "for i in dir(__builtins__):\n",
    "    if i.startswith(i.lower().strip('__')):\n",
    "        bif.append(i)\n",
    "\n",
    "print(bif)"
   ]
  },
  {
   "cell_type": "code",
   "execution_count": 34,
   "metadata": {},
   "outputs": [
    {
     "name": "stdout",
     "output_type": "stream",
     "text": [
      "['abs', 'all', 'any', 'ascii', 'bin', 'bool', 'breakpoint', 'bytearray', 'bytes', 'callable', 'chr', 'classmethod', 'compile', 'complex', 'copyright', 'credits', 'delattr', 'dict', 'dir', 'display', 'divmod', 'enumerate', 'eval', 'exec', 'execfile', 'filter', 'float', 'format', 'frozenset', 'get_ipython', 'getattr', 'globals', 'hasattr', 'hash', 'help', 'hex', 'id', 'input', 'int', 'isinstance', 'issubclass', 'iter', 'len', 'license', 'list', 'locals', 'map', 'max', 'memoryview', 'min', 'next', 'object', 'oct', 'open', 'ord', 'pow', 'print', 'property', 'range', 'repr', 'reversed', 'round', 'runfile', 'set', 'setattr', 'slice', 'sorted', 'staticmethod', 'str', 'sum', 'super', 'tuple', 'type', 'vars', 'zip']\n"
     ]
    }
   ],
   "source": [
    "## Bu listeden en alttaki küçük harfle başlayan grubu nasıl çekeriz\n",
    "bif = [i for i in dir(__builtins__) if i.startswith(i.lower().strip('__'))]\n",
    "print(bif)"
   ]
  },
  {
   "cell_type": "code",
   "execution_count": 35,
   "metadata": {},
   "outputs": [
    {
     "name": "stdout",
     "output_type": "stream",
     "text": [
      "Don't hesitate to reinvent yourself!\n",
      "Don't hesitate to reinvent yourself!\n",
      "<class 'NoneType'>\n"
     ]
    }
   ],
   "source": [
    "## User defined functions: \n",
    "# a.Geriye değer döndürmeyen(NoneType), parametresiz fonksiyonlar:\n",
    "def motto():\n",
    "    print(\"Don't hesitate to reinvent yourself!\")\n",
    "\n",
    "## Fonksiyonu çağıralım\n",
    "motto()\n",
    "print(type(motto()))"
   ]
  },
  {
   "cell_type": "code",
   "execution_count": 36,
   "metadata": {},
   "outputs": [
    {
     "name": "stdout",
     "output_type": "stream",
     "text": [
      "[+]-Toplama\n",
      "[-]-Çıkarma\n",
      "[*]-Çarpma\n",
      "[/]-Bölme\n",
      "\n",
      "[+]-Toplama\n",
      "[-]-Çıkarma\n",
      "[*]-Çarpma\n",
      "[/]-Bölme\n",
      "<class 'NoneType'>\n"
     ]
    }
   ],
   "source": [
    "## User defined functions: \n",
    "# a.Geriye değer döndürmeyen(NoneType), parametresiz fonksiyonlar:\n",
    "def menu():\n",
    "    print(\"[+]-Toplama\")\n",
    "    print(\"[-]-Çıkarma\")\n",
    "    print(\"[*]-Çarpma\")\n",
    "    print(\"[/]-Bölme\")\n",
    "\n",
    "## Ana program\n",
    "menu()  ## menu() isimli fonksiyon çağrıldı\n",
    "print()\n",
    "print(type(menu()))"
   ]
  },
  {
   "cell_type": "code",
   "execution_count": 37,
   "metadata": {},
   "outputs": [],
   "source": [
    "##menu() fonksiyonunun tipi ? NoneType"
   ]
  },
  {
   "cell_type": "code",
   "execution_count": 38,
   "metadata": {},
   "outputs": [
    {
     "name": "stdout",
     "output_type": "stream",
     "text": [
      "Ahmet\n"
     ]
    },
    {
     "data": {
      "text/plain": [
       "NoneType"
      ]
     },
     "execution_count": 38,
     "metadata": {},
     "output_type": "execute_result"
    }
   ],
   "source": [
    "type(print(\"Ahmet\"))"
   ]
  },
  {
   "cell_type": "code",
   "execution_count": 39,
   "metadata": {},
   "outputs": [
    {
     "data": {
      "text/plain": [
       "NoneType"
      ]
     },
     "execution_count": 39,
     "metadata": {},
     "output_type": "execute_result"
    }
   ],
   "source": [
    "##içeriği belli olmayan fonksiyon\n",
    "def turkoVac():\n",
    "    pass\n",
    "\n",
    "type(turkoVac())"
   ]
  },
  {
   "cell_type": "code",
   "execution_count": 65,
   "metadata": {},
   "outputs": [
    {
     "name": "stdout",
     "output_type": "stream",
     "text": [
      "Lecture.: Bulend Hoca\n",
      "Clarusway Lecture\n",
      "----------------------\n",
      "Lecture.: Andy Instructor\n",
      "Clarusway Lecture\n"
     ]
    }
   ],
   "source": [
    "# b.Geriye değer döndürmeyen(NoneType), parametreli fonksiyonlar:\n",
    "def kartvizit(ad=\"Andy Instructor\"):  ##parametrelere değer atanabilir, tanımlanırken\n",
    "    print(\"Lecture.:\", ad)\n",
    "    print(\"Clarusway Lecture\")\n",
    "\n",
    "##Ana program \n",
    "kartvizit(\"Bulend Hoca\")\n",
    "print(\"----------------------\")\n",
    "kartvizit()"
   ]
  },
  {
   "cell_type": "code",
   "execution_count": null,
   "metadata": {},
   "outputs": [
    {
     "name": "stdout",
     "output_type": "stream",
     "text": [
      "13\n",
      "25\n"
     ]
    }
   ],
   "source": [
    "def first_function(arg1,arg2): ##arg1, arg2 : parametreler\n",
    "    print(arg1**2 + arg2**2)\n",
    "\n",
    "##Fonksiyonu çağıralım\n",
    "first_function(2,3)\n",
    "first_function(4,3)\n"
   ]
  },
  {
   "cell_type": "code",
   "execution_count": null,
   "metadata": {},
   "outputs": [
    {
     "name": "stdout",
     "output_type": "stream",
     "text": [
      "13\n"
     ]
    }
   ],
   "source": [
    "def first_function(arg1,arg2): ##arg1, arg2 : parametreler\n",
    "    print(arg1**2 + arg2**2)\n",
    "\n",
    "##Fonksiyonu çağıralım\n",
    "a=2\n",
    "b=3\n",
    "first_function(a,b)  ##a:arg1, b:arg2"
   ]
  },
  {
   "cell_type": "code",
   "execution_count": null,
   "metadata": {},
   "outputs": [
    {
     "name": "stdout",
     "output_type": "stream",
     "text": [
      "15\n",
      "-3.0\n",
      "amazing amazing amazing \n"
     ]
    }
   ],
   "source": [
    "def multiply(a,b):\n",
    "    print(a*b)\n",
    "    \n",
    "##fonks. çağıralım\n",
    "multiply(3,5)\n",
    "multiply(-2,1.5)\n",
    "multiply(\"amazing \", 3)"
   ]
  },
  {
   "cell_type": "code",
   "execution_count": null,
   "metadata": {},
   "outputs": [
    {
     "name": "stdout",
     "output_type": "stream",
     "text": [
      "3 * 5 = 15\n",
      "a+b: 8\n",
      "a-b: -2\n",
      "-2 * 1.5 = -3.0\n",
      "a+b: -0.5\n",
      "a-b: -3.5\n"
     ]
    }
   ],
   "source": [
    "def multiply(a,b):\n",
    "    print(f\"{a} * {b} = {a*b}\")\n",
    "    print(\"a+b:\",a+b)\n",
    "    print(\"a-b:\",a-b)\n",
    "    \n",
    "##fonks. çağıralım\n",
    "multiply(3,5)\n",
    "multiply(-2,1.5)\n",
    "#multiply(\"amazing \", 3)"
   ]
  },
  {
   "cell_type": "code",
   "execution_count": null,
   "metadata": {},
   "outputs": [
    {
     "name": "stdout",
     "output_type": "stream",
     "text": [
      "8\n",
      "7\n"
     ]
    },
    {
     "data": {
      "text/plain": [
       "NoneType"
      ]
     },
     "execution_count": 28,
     "metadata": {},
     "output_type": "execute_result"
    }
   ],
   "source": [
    "def add(a,b):\n",
    "    print(a+b)\n",
    "\n",
    "add(3,5)\n",
    "##tipi:\n",
    "type(add(3,4))"
   ]
  },
  {
   "cell_type": "code",
   "execution_count": null,
   "metadata": {},
   "outputs": [
    {
     "name": "stdout",
     "output_type": "stream",
     "text": [
      "110\n",
      "66\n"
     ]
    }
   ],
   "source": [
    "def calculator(a,b,op):\n",
    "    if op==\"+\":\n",
    "        print(a+b)\n",
    "    elif op==\"-\":\n",
    "        print(a-b)\n",
    "    elif op==\"*\":\n",
    "        print(a*b)\n",
    "    elif op==\"/\":\n",
    "        print(a/b)\n",
    "    else:\n",
    "        print(\"Lütfen,geçerli bir argüman giriniz..\")\n",
    "##fonk. çağıralım\n",
    "calculator(88,22,\"+\")\n",
    "calculator(88,22,\"-\")"
   ]
  },
  {
   "cell_type": "code",
   "execution_count": null,
   "metadata": {},
   "outputs": [
    {
     "name": "stdout",
     "output_type": "stream",
     "text": [
      "1\n",
      "2\n",
      "Fizz\n",
      "4\n",
      "Buzz\n",
      "Fizz\n",
      "7\n",
      "8\n",
      "Fizz\n",
      "Buzz\n",
      "11\n",
      "Fizz\n",
      "13\n",
      "14\n",
      "FizzBuzz\n",
      "16\n",
      "17\n",
      "Fizz\n",
      "19\n",
      "Buzz\n",
      "Fizz\n",
      "22\n",
      "23\n",
      "Fizz\n",
      "Buzz\n",
      "26\n",
      "Fizz\n",
      "28\n",
      "29\n",
      "FizzBuzz\n",
      "31\n",
      "32\n",
      "Fizz\n",
      "34\n",
      "Buzz\n",
      "Fizz\n",
      "37\n",
      "38\n",
      "Fizz\n",
      "Buzz\n",
      "41\n",
      "Fizz\n",
      "43\n",
      "44\n",
      "FizzBuzz\n",
      "46\n",
      "47\n",
      "Fizz\n",
      "49\n",
      "Buzz\n",
      "Fizz\n",
      "52\n",
      "53\n",
      "Fizz\n",
      "Buzz\n",
      "56\n",
      "Fizz\n",
      "58\n",
      "59\n",
      "FizzBuzz\n",
      "61\n",
      "62\n",
      "Fizz\n",
      "64\n",
      "Buzz\n",
      "Fizz\n",
      "67\n",
      "68\n",
      "Fizz\n",
      "Buzz\n",
      "71\n",
      "Fizz\n",
      "73\n",
      "74\n",
      "FizzBuzz\n",
      "76\n",
      "77\n",
      "Fizz\n",
      "79\n",
      "Buzz\n",
      "Fizz\n",
      "82\n",
      "83\n",
      "Fizz\n",
      "Buzz\n",
      "86\n",
      "Fizz\n",
      "88\n",
      "89\n",
      "FizzBuzz\n",
      "91\n",
      "92\n",
      "Fizz\n",
      "94\n",
      "Buzz\n",
      "Fizz\n",
      "97\n",
      "98\n",
      "Fizz\n",
      "Buzz\n"
     ]
    }
   ],
   "source": [
    "def fizz_buzz():\n",
    "    for a in range(1,101):\n",
    "        if a%15==0:\n",
    "            print(\"FizzBuzz\")\n",
    "        elif a%5==0:\n",
    "            print(\"Buzz\")\n",
    "        elif a%3==0:\n",
    "            print(\"Fizz\")\n",
    "        else:\n",
    "            print(a)\n",
    "\n",
    "#fonk. çağıralım\n",
    "fizz_buzz()  ##parametresiz, NoneType tipli fonks.\n",
    "            \n",
    "        "
   ]
  },
  {
   "cell_type": "code",
   "execution_count": null,
   "metadata": {},
   "outputs": [
    {
     "name": "stdout",
     "output_type": "stream",
     "text": [
      "1\n",
      "2\n",
      "Fizz\n",
      "4\n",
      "Buzz\n",
      "Fizz\n",
      "7\n",
      "8\n",
      "Fizz\n",
      "Buzz\n",
      "11\n",
      "Fizz\n",
      "13\n",
      "14\n",
      "FizzBuzz\n",
      "16\n",
      "17\n",
      "Fizz\n",
      "19\n",
      "Buzz\n",
      "Fizz\n",
      "22\n",
      "23\n",
      "Fizz\n",
      "Buzz\n",
      "26\n",
      "Fizz\n",
      "28\n",
      "29\n",
      "FizzBuzz\n",
      "31\n",
      "32\n",
      "Fizz\n",
      "34\n",
      "Buzz\n",
      "Fizz\n",
      "37\n",
      "38\n",
      "Fizz\n",
      "Buzz\n",
      "41\n",
      "Fizz\n",
      "43\n",
      "44\n",
      "FizzBuzz\n",
      "46\n",
      "47\n",
      "Fizz\n",
      "49\n",
      "Buzz\n",
      "Fizz\n",
      "52\n",
      "53\n",
      "Fizz\n",
      "Buzz\n",
      "56\n",
      "Fizz\n",
      "58\n",
      "59\n",
      "FizzBuzz\n",
      "61\n",
      "62\n",
      "Fizz\n",
      "64\n",
      "Buzz\n",
      "Fizz\n",
      "67\n",
      "68\n",
      "Fizz\n",
      "Buzz\n",
      "71\n",
      "Fizz\n",
      "73\n",
      "74\n",
      "FizzBuzz\n",
      "76\n",
      "77\n",
      "Fizz\n",
      "79\n",
      "Buzz\n",
      "Fizz\n",
      "82\n",
      "83\n",
      "Fizz\n",
      "Buzz\n",
      "86\n",
      "Fizz\n",
      "88\n",
      "89\n",
      "FizzBuzz\n",
      "91\n",
      "92\n",
      "Fizz\n",
      "94\n",
      "Buzz\n",
      "Fizz\n",
      "97\n",
      "98\n",
      "Fizz\n",
      "Buzz\n"
     ]
    }
   ],
   "source": [
    "def fizz_buzz(a):\n",
    "    if a%15==0:\n",
    "        print(\"FizzBuzz\")\n",
    "    elif a%5==0:\n",
    "        print(\"Buzz\")\n",
    "    elif a%3==0:\n",
    "        print(\"Fizz\")\n",
    "    else:\n",
    "        print(a)\n",
    "\n",
    "#fonk. çağıralım\n",
    "for a in range(1,101):\n",
    "    fizz_buzz(a)  ##parametreli, NoneType tipli fonks.\n",
    "            "
   ]
  },
  {
   "cell_type": "code",
   "execution_count": 47,
   "metadata": {},
   "outputs": [
    {
     "name": "stdout",
     "output_type": "stream",
     "text": [
      "15\n",
      "15\n",
      "<class 'NoneType'>\n",
      "15\n",
      "None\n"
     ]
    }
   ],
   "source": [
    "def multiply_1(a,b):\n",
    "    print(a*b)\n",
    "    \n",
    "##fonks. çağıralım\n",
    "multiply_1(3,5)\n",
    "print(type(multiply_1(3,5)))\n",
    "sonuc = multiply_1(3,5)\n",
    "print(sonuc) ## None"
   ]
  },
  {
   "cell_type": "code",
   "execution_count": 46,
   "metadata": {},
   "outputs": [
    {
     "name": "stdout",
     "output_type": "stream",
     "text": [
      "15\n",
      "<class 'int'>\n",
      "15\n"
     ]
    }
   ],
   "source": [
    "# c.Geriye değer döndüren(return ...), parametreli fonksiyonlar:\n",
    "def multiply_2(a,b):\n",
    "    return (a*b)\n",
    "    \n",
    "##fonks. çağıralım\n",
    "print(multiply_2(3,5))\n",
    "print(type(multiply_2(3,5)))\n",
    "sonuc = multiply_2(3,5)\n",
    "print(sonuc)"
   ]
  },
  {
   "cell_type": "code",
   "execution_count": 48,
   "metadata": {},
   "outputs": [
    {
     "name": "stdout",
     "output_type": "stream",
     "text": [
      "110\n",
      "66\n"
     ]
    }
   ],
   "source": [
    "def calculator(a,b,op):\n",
    "    if op==\"+\":\n",
    "        return (a+b)\n",
    "    elif op==\"-\":\n",
    "        return (a-b)\n",
    "    elif op==\"*\":\n",
    "        return (a*b)\n",
    "    elif op==\"/\":\n",
    "        return (a/b)\n",
    "    else:\n",
    "        print(\"Lütfen,geçerli bir argüman giriniz..\")\n",
    "##fonk. çağıralım\n",
    "print(calculator(88,22,\"+\"))\n",
    "print(calculator(88,22,\"-\"))"
   ]
  },
  {
   "cell_type": "code",
   "execution_count": 50,
   "metadata": {},
   "outputs": [
    {
     "name": "stdout",
     "output_type": "stream",
     "text": [
      "110\n",
      "Lütfen,geçerli bir argüman giriniz..\n"
     ]
    }
   ],
   "source": [
    "def calculator(a,b,op):\n",
    "    if op==\"+\":\n",
    "        return (a+b)\n",
    "    elif op==\"-\":\n",
    "        return (a-b)\n",
    "    elif op==\"*\":\n",
    "        return (a*b)\n",
    "    elif op==\"/\":\n",
    "        return (a/b)\n",
    "    else:\n",
    "        return (\"Lütfen,geçerli bir argüman giriniz..\")\n",
    "\n",
    "##fonk. çağıralım\n",
    "print(calculator(88,22,\"+\"))\n",
    "print(calculator(88,22,\"??\"))"
   ]
  },
  {
   "cell_type": "code",
   "execution_count": 57,
   "metadata": {},
   "outputs": [
    {
     "name": "stdout",
     "output_type": "stream",
     "text": [
      "7\n",
      "7\n",
      "\n",
      "    Bu fonskiyon mutlak değer alır.\n",
      "    \n",
      "<function my_abs at 0x7f89495b7820>\n"
     ]
    }
   ],
   "source": [
    "##abs() fonks. tasarlamak\n",
    "def my_abs(n):\n",
    "    \"\"\"\n",
    "    Bu fonksiyon mutlak değer alır.\n",
    "    \"\"\"\n",
    "    if n<0:\n",
    "        return -n ## -n : negatif yapma operatörü -(-n) = +n, -(-7)=+7\n",
    "    #\"4-5\" çıkarma operatörü\n",
    "    else:\n",
    "        return n  \n",
    "##fonksiyonu çağıralım\n",
    "print(my_abs(7))\n",
    "print(my_abs(-7))\n",
    "print(my_abs.__doc__)\n"
   ]
  },
  {
   "cell_type": "code",
   "execution_count": 53,
   "metadata": {},
   "outputs": [
    {
     "name": "stdout",
     "output_type": "stream",
     "text": [
      "7\n"
     ]
    }
   ],
   "source": [
    "print(abs(-7))\n",
    "print()"
   ]
  },
  {
   "cell_type": "code",
   "execution_count": 58,
   "metadata": {},
   "outputs": [
    {
     "name": "stdout",
     "output_type": "stream",
     "text": [
      "None\n"
     ]
    }
   ],
   "source": [
    "##abs() fonks. tasarlamak\n",
    "def my_abs(n):\n",
    "    if n<0:\n",
    "        return -n ## -n : negatif yapma operatörü -(-n) = +n, -(-7)=+7\n",
    "    else:\n",
    "        return n  \n",
    "##fonksiyonu çağıralım\n",
    "\n",
    "print(my_abs.__doc__)"
   ]
  },
  {
   "cell_type": "code",
   "execution_count": 59,
   "metadata": {},
   "outputs": [
    {
     "name": "stdout",
     "output_type": "stream",
     "text": [
      "Return the absolute value of the argument.\n"
     ]
    }
   ],
   "source": [
    "print(abs.__doc__)"
   ]
  },
  {
   "cell_type": "code",
   "execution_count": 62,
   "metadata": {},
   "outputs": [
    {
     "name": "stdout",
     "output_type": "stream",
     "text": [
      "245\n"
     ]
    }
   ],
   "source": [
    "def my_max(L):\n",
    "    \"\"\"\n",
    "    Bu fonksiyon listedeki en büyük elemanı verir.\n",
    "    \"\"\"\n",
    "    enb = L[0]\n",
    "    for i in L:\n",
    "        if i>enb:\n",
    "            enb=i\n",
    "    return enb\n",
    "##Ana program\n",
    "L = [23,4,6,9,45,245,5,77,63]\n",
    "\n",
    "print(my_max(L))\n"
   ]
  },
  {
   "cell_type": "code",
   "execution_count": null,
   "metadata": {},
   "outputs": [],
   "source": [
    "## argüman ile parametre arasındaki fark nedir?\n",
    "def add(a,b): ##a,b argümanları parametre diyoruz.\n",
    "    return a+b\n",
    "\n",
    "##fonks. çağrılırken \n",
    "add(3,6) ##3, 6 birer argümandır.\n",
    "x,y=4,5\n",
    "add(x,y)  ##x, y argüman"
   ]
  },
  {
   "cell_type": "code",
   "execution_count": null,
   "metadata": {},
   "outputs": [],
   "source": [
    "## argüman ile parametre arasındaki fark nedir?\n",
    "def add(a,b): ##a,b argümanları parametre diyoruz.\n",
    "    return a+b\n",
    "\n",
    "##fonks. çağrılırken \n",
    "x,y = 4,5\n",
    "add(y,x)  ##x, y argüman"
   ]
  },
  {
   "cell_type": "code",
   "execution_count": 66,
   "metadata": {},
   "outputs": [
    {
     "name": "stdout",
     "output_type": "stream",
     "text": [
      "Your first name is : Guido\n",
      "Your last name is : van Rossum\n",
      "\n",
      "Your first name is : Marry\n",
      "Your last name is : Bold\n"
     ]
    }
   ],
   "source": [
    "def who(first, last):  ##first, last birer parametre\n",
    "    print(\"Your first name is :\", first)\n",
    "    print(\"Your last name is :\", last)\n",
    "\n",
    "##fonk. çağıralım\n",
    "who(\"Guido\", \"van Rossum\")\n",
    "print()\n",
    "who(\"Marry\", \"Bold\")\n",
    "    "
   ]
  },
  {
   "cell_type": "code",
   "execution_count": 67,
   "metadata": {},
   "outputs": [
    {
     "ename": "TypeError",
     "evalue": "who() missing 1 required positional argument: 'last'",
     "output_type": "error",
     "traceback": [
      "\u001b[0;31m---------------------------------------------------------------------------\u001b[0m",
      "\u001b[0;31mTypeError\u001b[0m                                 Traceback (most recent call last)",
      "\u001b[1;32m/home/leo/Documents/14_PythonBasics_03212022.ipynb Cell 34'\u001b[0m in \u001b[0;36m<module>\u001b[0;34m\u001b[0m\n\u001b[1;32m      <a href='vscode-notebook-cell:/home/leo/Documents/14_PythonBasics_03212022.ipynb#ch0000035?line=2'>3</a>\u001b[0m     \u001b[39mprint\u001b[39m(\u001b[39m\"\u001b[39m\u001b[39mYour last name is :\u001b[39m\u001b[39m\"\u001b[39m, last)\n\u001b[1;32m      <a href='vscode-notebook-cell:/home/leo/Documents/14_PythonBasics_03212022.ipynb#ch0000035?line=4'>5</a>\u001b[0m \u001b[39m##fonk. çağıralım\u001b[39;00m\n\u001b[0;32m----> <a href='vscode-notebook-cell:/home/leo/Documents/14_PythonBasics_03212022.ipynb#ch0000035?line=5'>6</a>\u001b[0m who(\u001b[39m\"\u001b[39;49m\u001b[39mGuido\u001b[39;49m\u001b[39m\"\u001b[39;49m)\n",
      "\u001b[0;31mTypeError\u001b[0m: who() missing 1 required positional argument: 'last'"
     ]
    }
   ],
   "source": [
    "def who(first, last):  ##first, last birer parametre\n",
    "    print(\"Your first name is :\", first)\n",
    "    print(\"Your last name is :\", last)\n",
    "\n",
    "##fonk. çağıralım\n",
    "who(\"Guido\")\n"
   ]
  },
  {
   "cell_type": "code",
   "execution_count": 68,
   "metadata": {},
   "outputs": [
    {
     "name": "stdout",
     "output_type": "stream",
     "text": [
      "i love you\n"
     ]
    }
   ],
   "source": [
    "def texter(s1,s2,s3):  ##positional args.\n",
    "    print(s2,s3,s1)\n",
    "\n",
    "##ana program\n",
    "a = 'i'\n",
    "b = 'love'\n",
    "c = 'you'\n",
    "texter(c,a,b)"
   ]
  },
  {
   "cell_type": "code",
   "execution_count": 71,
   "metadata": {},
   "outputs": [
    {
     "name": "stdout",
     "output_type": "stream",
     "text": [
      "i love you\n"
     ]
    }
   ],
   "source": [
    "def texter(a,b,c):  ##positional args. c, a oldu, a b oldu, b c oldu...\n",
    "    print(b, c, a)\n",
    "\n",
    "##ana program\n",
    "a = 'i'\n",
    "b = 'love'\n",
    "c = 'you'\n",
    "texter(c,a,b)"
   ]
  },
  {
   "cell_type": "code",
   "execution_count": 72,
   "metadata": {},
   "outputs": [
    {
     "name": "stdout",
     "output_type": "stream",
     "text": [
      "Your first name is : Guido\n",
      "Your last name is : van Rossum\n"
     ]
    }
   ],
   "source": [
    "def who(first, last):  ##first, last birer parametre\n",
    "    print(\"Your first name is :\", first)\n",
    "    print(\"Your last name is :\", last)\n",
    "\n",
    "##fonk. çağıralım\n",
    "who(first=\"Guido\", last = \"van Rossum\")\n"
   ]
  },
  {
   "cell_type": "code",
   "execution_count": 73,
   "metadata": {},
   "outputs": [
    {
     "name": "stdout",
     "output_type": "stream",
     "text": [
      "Your first name is : Guido\n",
      "Your last name is : van Rossum\n"
     ]
    }
   ],
   "source": [
    "def who(last, first):  ##first, last birer parametre\n",
    "    print(\"Your first name is :\", first)\n",
    "    print(\"Your last name is :\", last)\n",
    "\n",
    "##fonk. çağıralım\n",
    "who(first=\"Guido\", last = \"van Rossum\")"
   ]
  },
  {
   "cell_type": "code",
   "execution_count": 74,
   "metadata": {},
   "outputs": [
    {
     "name": "stdout",
     "output_type": "stream",
     "text": [
      "i love you\n"
     ]
    }
   ],
   "source": [
    "def texter(c,a,b):  ##keyword args.\n",
    "    print(a, b, c)\n",
    "\n",
    "##ana program\n",
    "texter(c=\"you\",a=\"i\",b=\"love\")"
   ]
  },
  {
   "cell_type": "code",
   "execution_count": 75,
   "metadata": {},
   "outputs": [
    {
     "name": "stdout",
     "output_type": "stream",
     "text": [
      "i love you\n"
     ]
    }
   ],
   "source": [
    "def texter(c,a,b):  ##keyword args.\n",
    "    print(c, a, b)\n",
    "\n",
    "##ana program\n",
    "texter(c=\"i\",a=\"love\",b=\"you\")"
   ]
  },
  {
   "cell_type": "code",
   "execution_count": 77,
   "metadata": {},
   "outputs": [
    {
     "name": "stdout",
     "output_type": "stream",
     "text": [
      "i love you\n"
     ]
    }
   ],
   "source": [
    "def texter(c=\"i\",a=\"you\",b=\"love\"):  ##keyword args.\n",
    "    print(c, b, a)\n",
    "\n",
    "##ana program\n",
    "texter()"
   ]
  },
  {
   "cell_type": "code",
   "execution_count": 78,
   "metadata": {},
   "outputs": [
    {
     "name": "stdout",
     "output_type": "stream",
     "text": [
      "i love you\n"
     ]
    }
   ],
   "source": [
    "def texter(c, a=\"you\",b=\"love\"):  ##c, positional args, diğerleri keyword args.\n",
    "    print(c, b, a)\n",
    "\n",
    "##ana program\n",
    "texter(\"i\")"
   ]
  },
  {
   "cell_type": "markdown",
   "metadata": {},
   "source": [
    "Positional argümanlar önce yazılmalıdır...."
   ]
  },
  {
   "cell_type": "code",
   "execution_count": 79,
   "metadata": {},
   "outputs": [
    {
     "ename": "SyntaxError",
     "evalue": "non-default argument follows default argument (373221801.py, line 1)",
     "output_type": "error",
     "traceback": [
      "\u001b[0;36m  Input \u001b[0;32mIn [79]\u001b[0;36m\u001b[0m\n\u001b[0;31m    def texter(a=\"you\",b=\"love\", c):  ##c, positional args, diğerleri keyword args.\u001b[0m\n\u001b[0m               ^\u001b[0m\n\u001b[0;31mSyntaxError\u001b[0m\u001b[0;31m:\u001b[0m non-default argument follows default argument\n"
     ]
    }
   ],
   "source": [
    "def texter(a=\"you\",b=\"love\", c):  ##c, positional args, diğerleri keyword args.\n",
    "    print(c, b, a)\n",
    "\n",
    "##ana program\n",
    "texter(\"i\")"
   ]
  },
  {
   "cell_type": "code",
   "execution_count": 80,
   "metadata": {},
   "outputs": [
    {
     "ename": "SyntaxError",
     "evalue": "non-default argument follows default argument (2465579322.py, line 1)",
     "output_type": "error",
     "traceback": [
      "\u001b[0;36m  Input \u001b[0;32mIn [80]\u001b[0;36m\u001b[0m\n\u001b[0;31m    def texter(a=\"you\",b=\"love\", c):  ##c, positional args, diğerleri keyword args.\u001b[0m\n\u001b[0m               ^\u001b[0m\n\u001b[0;31mSyntaxError\u001b[0m\u001b[0;31m:\u001b[0m non-default argument follows default argument\n"
     ]
    }
   ],
   "source": [
    "def texter(a=\"you\",b=\"love\", c):  ##c, positional args, diğerleri keyword args.\n",
    "    print(c, b, a)\n",
    "\n",
    "##ana program\n",
    "texter(\"i\", \"you\", \"love\")"
   ]
  },
  {
   "cell_type": "code",
   "execution_count": 81,
   "metadata": {},
   "outputs": [
    {
     "name": "stdout",
     "output_type": "stream",
     "text": [
      "i love you\n"
     ]
    }
   ],
   "source": [
    "def texter(c, a=\"you\",b=\"love\"):  ##c, positional args, diğerleri keyword args.\n",
    "    print(c, b, a)\n",
    "\n",
    "##ana program\n",
    "texter(\"i\", \"you\", \"love\")"
   ]
  },
  {
   "cell_type": "code",
   "execution_count": 82,
   "metadata": {},
   "outputs": [
    {
     "name": "stdout",
     "output_type": "stream",
     "text": [
      "i you love\n"
     ]
    }
   ],
   "source": [
    "def texter(c, a=\"you\",b=\"love\"):  ##c, positional args, diğerleri keyword args.\n",
    "    print(c, b, a)\n",
    "\n",
    "##ana program\n",
    "texter(\"i\", \"love\", \"you\")"
   ]
  },
  {
   "cell_type": "code",
   "execution_count": 83,
   "metadata": {},
   "outputs": [
    {
     "name": "stdout",
     "output_type": "stream",
     "text": [
      "i love you\n"
     ]
    }
   ],
   "source": [
    "def texter(c, a=\"you\",b=\"love\"):  ##c, positional args, diğerleri keyword args.\n",
    "    print(c, b, a)\n",
    "\n",
    "##ana program\n",
    "texter(\"i\", b=\"love\", a=\"you\")"
   ]
  },
  {
   "cell_type": "code",
   "execution_count": 88,
   "metadata": {},
   "outputs": [
    {
     "name": "stdout",
     "output_type": "stream",
     "text": [
      "{'you': 'i', 'love': 'love', 'i': 'you'}\n"
     ]
    }
   ],
   "source": [
    "## joker karakterler: *: positional için birden fazla argüman yerine geçer\n",
    "## ** : keyword argümanlar için birden fazla argüman yerine geçer"
   ]
  }
 ],
 "metadata": {
  "interpreter": {
   "hash": "35c4bcfff6bb594ff47b51ce5b21bcb1093d06fa0c5debe7002e3be5d50f4cc1"
  },
  "kernelspec": {
   "display_name": "Python 3.10.2 64-bit",
   "language": "python",
   "name": "python3"
  },
  "language_info": {
   "codemirror_mode": {
    "name": "ipython",
    "version": 3
   },
   "file_extension": ".py",
   "mimetype": "text/x-python",
   "name": "python",
   "nbconvert_exporter": "python",
   "pygments_lexer": "ipython3",
   "version": "3.8.10"
  },
  "orig_nbformat": 4
 },
 "nbformat": 4,
 "nbformat_minor": 2
}
