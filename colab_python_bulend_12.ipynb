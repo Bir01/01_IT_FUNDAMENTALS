{
 "cells": [
  {
   "cell_type": "markdown",
   "id": "5d46c2e1",
   "metadata": {},
   "source": [
    "15 Mart 2022 Python Basic Ders Çalışmaları"
   ]
  },
  {
   "cell_type": "code",
   "execution_count": 36,
   "id": "2b8c1c75-626f-4e7e-9463-510afedfb726",
   "metadata": {},
   "outputs": [
    {
     "name": "stdout",
     "output_type": "stream",
     "text": [
      "Asal\n"
     ]
    }
   ],
   "source": [
    "#Asal mı?\n",
    "n = int(input(\"Sayı..:\"))\n",
    "flag = True ## Bayrak değişkeni amacı: girilen sayının asal old. kabul ediliyor\n",
    "for x in range(2,n):\n",
    "    if n%x==0:\n",
    "        flag = False  ##Asal değil\n",
    "\n",
    "if flag==False or n==1:\n",
    "    print(\"Asal Değil\")\n",
    "else:\n",
    "    print(\"Asal\")"
   ]
  },
  {
   "cell_type": "code",
   "execution_count": 3,
   "id": "41238b05-d529-4ec0-9231-1020631e118d",
   "metadata": {},
   "outputs": [
    {
     "name": "stdout",
     "output_type": "stream",
     "text": [
      "[1, 2, 3, 4, 5, 6, 7, 8, 9, 10]\n"
     ]
    }
   ],
   "source": [
    "#range örneği:1-10 arası\n",
    "liste = range(1,11)  ## 11 dahil değil\n",
    "print(list(liste))\n"
   ]
  },
  {
   "cell_type": "code",
   "execution_count": 4,
   "id": "1f145494",
   "metadata": {},
   "outputs": [
    {
     "name": "stdout",
     "output_type": "stream",
     "text": [
      "[1, 3, 5, 7, 9, 11, 13, 15, 17, 19, 21, 23]\n"
     ]
    }
   ],
   "source": [
    "##1 den 23'e kadar tek sayıları üret\n",
    "print(list(range(1,24,2)))"
   ]
  },
  {
   "cell_type": "code",
   "execution_count": 6,
   "id": "3e140b53",
   "metadata": {},
   "outputs": [
    {
     "name": "stdout",
     "output_type": "stream",
     "text": [
      "1 2 3 4 5 6 7 8 9 10 11 12 13 14 15 16 17 18 19 20 21 22 23 "
     ]
    }
   ],
   "source": [
    "for i in range(1,24):\n",
    "    print(i, end=\" \")"
   ]
  },
  {
   "cell_type": "code",
   "execution_count": 7,
   "id": "29e4e4b5",
   "metadata": {},
   "outputs": [
    {
     "name": "stdout",
     "output_type": "stream",
     "text": [
      "{0, 1, 2, 3, 4, 5, 6, 7, 8, 9}\n"
     ]
    }
   ],
   "source": [
    "print(set(range(0,10)))"
   ]
  },
  {
   "cell_type": "code",
   "execution_count": 8,
   "id": "14a72efd",
   "metadata": {},
   "outputs": [
    {
     "name": "stdout",
     "output_type": "stream",
     "text": [
      "(0, 1, 2, 3, 4, 5, 6, 7, 8, 9, 10)\n"
     ]
    }
   ],
   "source": [
    "t = tuple(range(11))\n",
    "print(t)"
   ]
  },
  {
   "cell_type": "code",
   "execution_count": 9,
   "id": "630df108",
   "metadata": {},
   "outputs": [
    {
     "name": "stdout",
     "output_type": "stream",
     "text": [
      "range(0, 5)\n"
     ]
    }
   ],
   "source": [
    "print(range(5))"
   ]
  },
  {
   "cell_type": "code",
   "execution_count": 10,
   "id": "18f1bf06",
   "metadata": {},
   "outputs": [
    {
     "name": "stdout",
     "output_type": "stream",
     "text": [
      "0 1 2 3 4\n"
     ]
    }
   ],
   "source": [
    "print(*range(5))"
   ]
  },
  {
   "cell_type": "code",
   "execution_count": 11,
   "id": "3b665a22",
   "metadata": {},
   "outputs": [
    {
     "ename": "SyntaxError",
     "evalue": "can't use starred expression here (1169753415.py, line 2)",
     "output_type": "error",
     "traceback": [
      "\u001b[0;36m  Input \u001b[0;32mIn [11]\u001b[0;36m\u001b[0m\n\u001b[0;31m    d = *range(5)\u001b[0m\n\u001b[0m        ^\u001b[0m\n\u001b[0;31mSyntaxError\u001b[0m\u001b[0;31m:\u001b[0m can't use starred expression here\n"
     ]
    }
   ],
   "source": [
    "## *range(5) ifadesi değişkene atanabilir mi?\n",
    "d = *range(5)\n",
    "print(d)"
   ]
  },
  {
   "cell_type": "code",
   "execution_count": 12,
   "id": "a7ee06b4",
   "metadata": {},
   "outputs": [
    {
     "name": "stdout",
     "output_type": "stream",
     "text": [
      "s e p e r a t e\n"
     ]
    }
   ],
   "source": [
    "print(*('seperate'))  ##stringler iterable dır."
   ]
  },
  {
   "cell_type": "code",
   "execution_count": 13,
   "id": "71ec0d35",
   "metadata": {},
   "outputs": [
    {
     "name": "stdout",
     "output_type": "stream",
     "text": [
      "10 8 6 4 2\n"
     ]
    }
   ],
   "source": [
    "print(*range(10,0,-2)) ##10 dan başlar 2 şer azaltır"
   ]
  },
  {
   "cell_type": "code",
   "execution_count": 14,
   "id": "5901d55f",
   "metadata": {},
   "outputs": [
    {
     "name": "stdout",
     "output_type": "stream",
     "text": [
      "<zip object at 0x7f2c66c90240>\n"
     ]
    }
   ],
   "source": [
    "text = [\"one\", \"two\", \"three\", \"four\", \"five\"]\n",
    "numbers = [1, 2, 3, 4, 5]\n",
    "print(zip(text,numbers))"
   ]
  },
  {
   "cell_type": "code",
   "execution_count": 15,
   "id": "7b1f2ec4",
   "metadata": {},
   "outputs": [
    {
     "name": "stdout",
     "output_type": "stream",
     "text": [
      "[('one', 1), ('two', 2), ('three', 3), ('four', 4), ('five', 5)]\n"
     ]
    }
   ],
   "source": [
    "text = [\"one\", \"two\", \"three\", \"four\", \"five\"]\n",
    "numbers = [1, 2, 3, 4, 5]\n",
    "print(list(zip(text,numbers)))"
   ]
  },
  {
   "cell_type": "code",
   "execution_count": 16,
   "id": "f740679b",
   "metadata": {},
   "outputs": [
    {
     "name": "stdout",
     "output_type": "stream",
     "text": [
      "{'one': 1, 'two': 2, 'three': 3, 'four': 4, 'five': 5}\n"
     ]
    }
   ],
   "source": [
    "text = [\"one\", \"two\", \"three\", \"four\", \"five\"]\n",
    "numbers = [1, 2, 3, 4, 5]\n",
    "print(dict(zip(text,numbers)))"
   ]
  },
  {
   "cell_type": "code",
   "execution_count": 17,
   "id": "2f0112c1",
   "metadata": {},
   "outputs": [
    {
     "name": "stdout",
     "output_type": "stream",
     "text": [
      "one : 1\n",
      "two : 2\n",
      "three : 3\n",
      "four : 4\n",
      "five : 5\n"
     ]
    }
   ],
   "source": [
    "text = [\"one\", \"two\", \"three\", \"four\", \"five\"]\n",
    "numbers = [1, 2, 3, 4, 5]\n",
    "for i,j in zip(text,numbers):\n",
    "    print(i, \":\", j)"
   ]
  },
  {
   "cell_type": "code",
   "execution_count": 19,
   "id": "fbed4d33",
   "metadata": {},
   "outputs": [
    {
     "name": "stdout",
     "output_type": "stream",
     "text": [
      "[0, 2, 4, 6, 8, 10]\n",
      "[1, 3, 5, 7, 9]\n"
     ]
    }
   ],
   "source": [
    "evens = []\n",
    "odds = []\n",
    "for i in range(11): ## 0 dan 10 kadar sayıları alıyor\n",
    "    if i%2==0: ##çift sayı\n",
    "        evens.append(i)\n",
    "    else:\n",
    "        odds.append(i)\n",
    "\n",
    "print(evens)\n",
    "print(odds)"
   ]
  },
  {
   "cell_type": "code",
   "execution_count": 37,
   "id": "fb838e2e",
   "metadata": {},
   "outputs": [
    {
     "name": "stdout",
     "output_type": "stream",
     "text": [
      "[0, 2, 4, 6, 8, 10]\n",
      "[1, 3, 5, 7, 9]\n",
      "Tek sayıların adedi..: 5\n",
      "Çift sayıların adedi..: 6\n"
     ]
    }
   ],
   "source": [
    "evens = []\n",
    "odds = []\n",
    "for i in range(11): ## 0 dan 10 kadar sayıları alıyor\n",
    "    if i%2==0: ##çift sayı\n",
    "        evens.append(i)\n",
    "    else:\n",
    "        odds.append(i)\n",
    "\n",
    "print(evens)\n",
    "print(odds)\n",
    "print(\"Tek sayıların adedi..:\", len(odds))\n",
    "print(\"Çift sayıların adedi..:\", len(evens))"
   ]
  },
  {
   "cell_type": "code",
   "execution_count": null,
   "id": "436a273b",
   "metadata": {},
   "outputs": [],
   "source": [
    "evens = []\n",
    "odds = []\n",
    "for i in range(11): ## 0 dan 10 kadar sayıları alıyor\n",
    "    if i%2==0: ##çift sayı\n",
    "        evens.append(i)\n",
    "    else:\n",
    "        odds.append(i)\n",
    "\n",
    "print(evens)\n",
    "print(odds)"
   ]
  },
  {
   "cell_type": "code",
   "execution_count": 40,
   "id": "b86ab4fd",
   "metadata": {},
   "outputs": [
    {
     "name": "stdout",
     "output_type": "stream",
     "text": [
      "[3, 5, 7, 9]\n"
     ]
    }
   ],
   "source": [
    "numbers = (3, 5, 7, 2, 12, 9, 4)\n",
    "evens=[]\n",
    "odds=[]\n",
    "for i in numbers:\n",
    "    if i%2:  ## i%2==True\n",
    "        evens.append(i)\n",
    "print(evens) "
   ]
  },
  {
   "cell_type": "code",
   "execution_count": 42,
   "id": "d4a01ddc",
   "metadata": {},
   "outputs": [
    {
     "name": "stdout",
     "output_type": "stream",
     "text": [
      "[2, 12, 4]\n"
     ]
    }
   ],
   "source": [
    "numbers = (3, 5, 7, 2, 12, 9, 4)\n",
    "evens=[]\n",
    "odds=[]\n",
    "for i in numbers:\n",
    "    if not i%2:  ## not( i%2==True) --> not (i nin 2 ye bölümünden kalan sıfır değilse) ==> if i%2==0\n",
    "       evens.append(i)\n",
    "print(evens) "
   ]
  },
  {
   "cell_type": "code",
   "execution_count": null,
   "id": "f774e33b",
   "metadata": {},
   "outputs": [],
   "source": [
    "\"\"\"\n",
    "i%2     # Eşdeğeri i%2==True mu\n",
    "i%2==0  # Eşdeğeri i%2==False mı\n",
    "\"\"\"\n",
    "# if li sorgular da True yazmaya gerek yok"
   ]
  },
  {
   "cell_type": "code",
   "execution_count": 45,
   "id": "eb6d891d",
   "metadata": {},
   "outputs": [
    {
     "name": "stdout",
     "output_type": "stream",
     "text": [
      "1 \n",
      "2 2 \n",
      "3 3 3 \n",
      "4 4 4 4 \n",
      "5 5 5 5 5 \n",
      "6 6 6 6 6 6 \n",
      "7 7 7 7 7 7 7 \n",
      "8 8 8 8 8 8 8 8 \n",
      "9 9 9 9 9 9 9 9 9 \n"
     ]
    }
   ],
   "source": [
    "for i in range(1,10):  ##satır değerleri: dıştaki döngü\n",
    "    for j in range(1,i+1):  ##sütun değerleri içteki döngü\n",
    "        print(i, end=\" \")\n",
    "    print()"
   ]
  },
  {
   "cell_type": "code",
   "execution_count": 46,
   "id": "ba75f37a",
   "metadata": {},
   "outputs": [
    {
     "name": "stdout",
     "output_type": "stream",
     "text": [
      "* \n",
      "* * \n",
      "* * * \n",
      "* * * * \n",
      "* * * * * \n",
      "* * * * * * \n",
      "* * * * * * * \n",
      "* * * * * * * * \n",
      "* * * * * * * * * \n"
     ]
    }
   ],
   "source": [
    "for i in range(1,10):  ##satır değerleri: dıştaki döngü\n",
    "    for j in range(1,i+1):  ##sütun değerleri içteki döngü\n",
    "        print(\"*\", end=\" \")\n",
    "    print()"
   ]
  },
  {
   "cell_type": "code",
   "execution_count": 48,
   "id": "ec7df4ab",
   "metadata": {},
   "outputs": [
    {
     "name": "stdout",
     "output_type": "stream",
     "text": [
      "* * * * * \n"
     ]
    }
   ],
   "source": [
    "print(\"* \" * 5)"
   ]
  },
  {
   "cell_type": "code",
   "execution_count": 49,
   "id": "2ce01760",
   "metadata": {},
   "outputs": [
    {
     "name": "stdout",
     "output_type": "stream",
     "text": [
      "1\n",
      "22\n",
      "333\n",
      "4444\n",
      "55555\n",
      "666666\n",
      "7777777\n",
      "88888888\n",
      "999999999\n"
     ]
    }
   ],
   "source": [
    "for i in range(1,10):\n",
    "    print(str(i)*i)"
   ]
  },
  {
   "cell_type": "code",
   "execution_count": 50,
   "id": "f04acd0e",
   "metadata": {},
   "outputs": [
    {
     "name": "stdout",
     "output_type": "stream",
     "text": [
      "* \n",
      "* * \n",
      "* * * \n",
      "* * * * \n",
      "* * * * * \n",
      "* * * * * * \n",
      "* * * * * * * \n",
      "* * * * * * * * \n",
      "* * * * * * * * * \n"
     ]
    }
   ],
   "source": [
    "for i in range(1,10):\n",
    "    print(\"* \" * i)"
   ]
  },
  {
   "cell_type": "code",
   "execution_count": 51,
   "id": "6bc0a95b",
   "metadata": {},
   "outputs": [
    {
     "name": "stdout",
     "output_type": "stream",
     "text": [
      "Toplam=  2775\n"
     ]
    }
   ],
   "source": [
    "##1 den n e kadarki (n dahil değil) sayıların toplamı\n",
    "n = 75\n",
    "toplam = 0\n",
    "for i in range(1,n):\n",
    "    toplam = toplam + i  #yığmalı toplama\n",
    "\n",
    "print(\"Toplam= \", toplam)"
   ]
  },
  {
   "cell_type": "code",
   "execution_count": 52,
   "id": "df52e08d",
   "metadata": {},
   "outputs": [
    {
     "name": "stdout",
     "output_type": "stream",
     "text": [
      "Toplam=  2775.0\n"
     ]
    }
   ],
   "source": [
    "##1 den n e kadarki (n dahil değil) sayıların toplamı\n",
    "n = 75-1\n",
    "toplam = n*(n+1)/2\n",
    "\n",
    "print(\"Toplam= \", toplam)"
   ]
  },
  {
   "cell_type": "code",
   "execution_count": 55,
   "id": "ee5e31f4",
   "metadata": {},
   "outputs": [
    {
     "name": "stdout",
     "output_type": "stream",
     "text": [
      "Toplam=  2775\n"
     ]
    }
   ],
   "source": [
    "## pythonic yöntem-3\n",
    "liste = list(range(1,75)) \n",
    "print(\"Toplam= \", sum(liste))"
   ]
  },
  {
   "cell_type": "code",
   "execution_count": 57,
   "id": "1dcbe728",
   "metadata": {},
   "outputs": [
    {
     "name": "stdout",
     "output_type": "stream",
     "text": [
      "Toplam=  2775\n"
     ]
    }
   ],
   "source": [
    "##1 den n e kadarki (n dahil değil) sayıların toplamı\n",
    "n = 75\n",
    "toplam = 0\n",
    "i=1\n",
    "while i<n:\n",
    "    toplam = toplam + i  #yığmalı toplama\n",
    "    i+=1\n",
    "print(\"Toplam= \", toplam)"
   ]
  },
  {
   "cell_type": "code",
   "execution_count": 59,
   "id": "8cf0f236",
   "metadata": {},
   "outputs": [
    {
     "name": "stdout",
     "output_type": "stream",
     "text": [
      "I am happy\n",
      "I am confident\n",
      "You are happy\n",
      "You are confident\n"
     ]
    }
   ],
   "source": [
    "who = [\"I am \", \"You are \"]\n",
    "mood = [\"happy\", \"confident\"]\n",
    "for i in who:\n",
    "    for ii in mood:\n",
    "        print(i+ii)"
   ]
  },
  {
   "cell_type": "code",
   "execution_count": 62,
   "id": "300c847d",
   "metadata": {},
   "outputs": [
    {
     "name": "stdout",
     "output_type": "stream",
     "text": [
      "Susan is happy\n",
      "Susan is sad\n",
      "Tom is happy\n",
      "Tom is sad\n",
      "Edward is happy\n",
      "Edward is sad\n"
     ]
    }
   ],
   "source": [
    "who = [\"Susan \", \"Tom \", \"Edward \"]\n",
    "mood = [\"happy\", \"sad\"]\n",
    "for i in who:\n",
    "    for ii in mood:\n",
    "        print(i+ 'is '+ ii)"
   ]
  },
  {
   "cell_type": "code",
   "execution_count": 63,
   "id": "6171cd8b",
   "metadata": {},
   "outputs": [
    {
     "name": "stdout",
     "output_type": "stream",
     "text": [
      "[0, 1, 4, 9, 16, 25, 36, 49, 64, 81]\n"
     ]
    }
   ],
   "source": [
    "## Liste üreteçleri for döngüleri\n",
    "liste = []\n",
    "for i in range(10):\n",
    "    liste.append(i*i)\n",
    "\n",
    "print(liste)"
   ]
  },
  {
   "cell_type": "code",
   "execution_count": 64,
   "id": "8d188ada",
   "metadata": {},
   "outputs": [
    {
     "name": "stdout",
     "output_type": "stream",
     "text": [
      "[0, 1, 4, 9, 16, 25, 36, 49, 64, 81]\n"
     ]
    }
   ],
   "source": [
    "## Liste üreteçleri for döngüleri\n",
    "liste = [i*i for i in range(10)]\n",
    "print(liste)"
   ]
  },
  {
   "cell_type": "code",
   "execution_count": 65,
   "id": "2717bf9f",
   "metadata": {},
   "outputs": [
    {
     "name": "stdout",
     "output_type": "stream",
     "text": [
      "[1, 3, 5, 7, 9]\n"
     ]
    }
   ],
   "source": [
    "odds=[]\n",
    "for i in range(10):\n",
    "    if i%2:\n",
    "        odds.append(i)\n",
    "\n",
    "print(odds)"
   ]
  },
  {
   "cell_type": "code",
   "execution_count": 66,
   "id": "dd338352",
   "metadata": {},
   "outputs": [
    {
     "name": "stdout",
     "output_type": "stream",
     "text": [
      "[1, 3, 5, 7, 9]\n"
     ]
    }
   ],
   "source": [
    "odds = [i for i in range(10) if i%2]\n",
    "print(odds)"
   ]
  },
  {
   "cell_type": "code",
   "execution_count": 68,
   "id": "b25d7e1f",
   "metadata": {},
   "outputs": [
    {
     "name": "stdout",
     "output_type": "stream",
     "text": [
      "['Ala', 'Ahmed', 'Aisha']\n"
     ]
    }
   ],
   "source": [
    "names = [\"Ala\", \"Bulend\", \"Ahmed\", \"Aisha\", \"Tom\"]\n",
    "names_a = []\n",
    "for word in names:\n",
    "    if \"a\" in word.lower():\n",
    "        names_a.append(word)\n",
    "\n",
    "print(names_a)"
   ]
  },
  {
   "cell_type": "code",
   "execution_count": 69,
   "id": "f6c167ce",
   "metadata": {},
   "outputs": [
    {
     "name": "stdout",
     "output_type": "stream",
     "text": [
      "['Ala', 'Ahmed', 'Aisha']\n"
     ]
    }
   ],
   "source": [
    "names = [\"Ala\", \"Bulend\", \"Ahmed\", \"Aisha\", \"Tom\"]\n",
    "names_a = [word for word in names if \"a\" in word.lower()]\n",
    "\n",
    "print(names_a)"
   ]
  },
  {
   "cell_type": "code",
   "execution_count": 70,
   "id": "13612faa",
   "metadata": {},
   "outputs": [
    {
     "name": "stdout",
     "output_type": "stream",
     "text": [
      "['Ala', 'Ahmed', 'Aisha']\n"
     ]
    }
   ],
   "source": [
    "names = [\"Ala\", \"Bulend\", \"Ahmed\", \"Aisha\", \"Tom\"]\n",
    "print([word for word in names if \"a\" in word.lower()])"
   ]
  },
  {
   "cell_type": "code",
   "execution_count": 71,
   "id": "75e69a1a",
   "metadata": {},
   "outputs": [
    {
     "name": "stdout",
     "output_type": "stream",
     "text": [
      "[0, 1, 2, 9, 4, 25, 6, 49, 8, 81]\n"
     ]
    }
   ],
   "source": [
    "evens_or_sqr = []\n",
    "for i in range(10):\n",
    "    if i%2==0:\n",
    "        evens_or_sqr.append(i)\n",
    "    else:\n",
    "        evens_or_sqr.append(i**2)\n",
    "\n",
    "print(evens_or_sqr)"
   ]
  },
  {
   "cell_type": "code",
   "execution_count": 72,
   "id": "7914c8b6",
   "metadata": {},
   "outputs": [
    {
     "name": "stdout",
     "output_type": "stream",
     "text": [
      "[0, 1, 2, 9, 4, 25, 6, 49, 8, 81]\n"
     ]
    }
   ],
   "source": [
    "evens_or_sqr = [i if i%2==0 else i**2 for i in range(10)]\n",
    "print(evens_or_sqr)"
   ]
  },
  {
   "cell_type": "code",
   "execution_count": 73,
   "id": "e0ae6649",
   "metadata": {},
   "outputs": [
    {
     "name": "stdout",
     "output_type": "stream",
     "text": [
      "[0, 1, 4, 9, 16, 25, 36, 49, 64, 81]\n"
     ]
    }
   ],
   "source": [
    "print([i**2 for i in range(10)])  ## 0-9 arası sayıların karesi listelendi"
   ]
  },
  {
   "cell_type": "code",
   "execution_count": 74,
   "id": "f089819f",
   "metadata": {},
   "outputs": [
    {
     "name": "stdout",
     "output_type": "stream",
     "text": [
      "2775\n"
     ]
    }
   ],
   "source": [
    "print(sum(i for i in range(75)))"
   ]
  },
  {
   "cell_type": "code",
   "execution_count": 75,
   "id": "36278956",
   "metadata": {},
   "outputs": [
    {
     "name": "stdout",
     "output_type": "stream",
     "text": [
      "{'s', 'r', ' ', 'p', 't', 'M', 'l', 'k', 'f'}\n"
     ]
    }
   ],
   "source": [
    "cumle = \"Mistakes are for peoples\"\n",
    "print(set(i for i in cumle if not i in \"aeiou\"))"
   ]
  },
  {
   "cell_type": "code",
   "execution_count": 76,
   "id": "bc9a924c",
   "metadata": {},
   "outputs": [
    {
     "name": "stdout",
     "output_type": "stream",
     "text": [
      "s r   p t M l k f\n"
     ]
    }
   ],
   "source": [
    "cumle = \"Mistakes are for peoples\"\n",
    "print(*set(i for i in cumle if not i in \"aeiou\"))"
   ]
  },
  {
   "cell_type": "code",
   "execution_count": null,
   "id": "9bd2c7fc",
   "metadata": {},
   "outputs": [
    {
     "name": "stdout",
     "output_type": "stream",
     "text": [
      "[1, 2, 3]\n"
     ]
    }
   ],
   "source": [
    "## \":=\" walrus operatörü 3.8 ve üstü istiyor. \"=\" atama operatörü ile aynı işleve sahip\n",
    "## (a:=5) parantez içi değer atamasında kullanılıyor\n",
    "b = 0\n",
    "d = []\n",
    "while(b:=b+1)<4:\n",
    "    d.append(b)\n",
    "\n",
    "print(d)"
   ]
  },
  {
   "cell_type": "code",
   "execution_count": 4,
   "id": "c6c27960",
   "metadata": {},
   "outputs": [
    {
     "name": "stdout",
     "output_type": "stream",
     "text": [
      "1 .gün..:  Pazartesi\n",
      "2 .gün..:  Salı\n",
      "3 .gün..:  Çarşamba\n",
      "4 .gün..:  Perşembe\n",
      "5 .gün..:  Cuma\n",
      "6 .gün..:  Cumartesi\n",
      "7 .gün..:  Pazar\n"
     ]
    }
   ],
   "source": [
    "##enumerate() metodu kullanımı: Haftanın günlerini rakam-harf eşdeğeri ile alalım\n",
    "gun = [\"Pazartesi\", \"Salı\", \"Çarşamba\", \"Perşembe\", \"Cuma\", \"Cumartesi\", \"Pazar\"]\n",
    "for i, g in enumerate(gun, start=1):\n",
    "    print(i, \".gün..: \", g)"
   ]
  },
  {
   "cell_type": "code",
   "execution_count": 6,
   "id": "5a7768d6",
   "metadata": {},
   "outputs": [
    {
     "name": "stdout",
     "output_type": "stream",
     "text": [
      "5.187377517639621\n"
     ]
    }
   ],
   "source": [
    "n = 100\n",
    "s = 0\n",
    "for i in range(1,n+1):\n",
    "    s = s+1/i\n",
    "print(s)"
   ]
  },
  {
   "cell_type": "code",
   "execution_count": 28,
   "id": "1884eda7",
   "metadata": {},
   "outputs": [
    {
     "name": "stdout",
     "output_type": "stream",
     "text": [
      "sol\n"
     ]
    }
   ],
   "source": [
    "## Küme yöntemi ile 10 parmak programı:1\n",
    "sol_el = {'q','a','z','w','s','x','e','d','c','r','f','v','t','g','b'}\n",
    "sag_el ={'y','h','n','u','j','m','k','i','l','p','o','ü','ç','ö','ş','ğ'}\n",
    "test_kelimesi = input(\"Test edilecek kelime..: \").lower()\n",
    "set_t = set(test_kelimesi)\n",
    "el = sol_el.union(sag_el)\n",
    "if set_t.issubset(sol_el):\n",
    "    print(\"sol\")\n",
    "elif set_t.issubset(sag_el):\n",
    "    print(\"sag\")\n",
    "else:\n",
    "    print(\"True\")"
   ]
  },
  {
   "cell_type": "code",
   "execution_count": 3,
   "id": "b4647fc8",
   "metadata": {},
   "outputs": [
    {
     "name": "stdout",
     "output_type": "stream",
     "text": [
      "True\n"
     ]
    }
   ],
   "source": [
    "## Küme yöntemi ile 10 parmak programı:2\n",
    "sol_el = {'q','a','z','w','s','x','e','d','c','r','f','v','t','g','b'}\n",
    "sag_el ={'y','h','n','u','j','m','k','i','l','p','o','ü','ç','ö','ş','ğ'}\n",
    "test_kelimesi = input(\"Test edilecek kelime..: \").lower()\n",
    "set_t = set(test_kelimesi)\n",
    "el = sol_el.union(sag_el)\n",
    "if set_t.issubset(sol_el) or set_t.issubset(sag_el):\n",
    "    print(\"False\")\n",
    "else:\n",
    "    print(\"True\")"
   ]
  }
 ],
 "metadata": {
  "kernelspec": {
   "display_name": "Python 3 (ipykernel)",
   "language": "python",
   "name": "python3"
  },
  "language_info": {
   "codemirror_mode": {
    "name": "ipython",
    "version": 3
   },
   "file_extension": ".py",
   "mimetype": "text/x-python",
   "name": "python",
   "nbconvert_exporter": "python",
   "pygments_lexer": "ipython3",
   "version": "3.8.10"
  }
 },
 "nbformat": 4,
 "nbformat_minor": 5
}
