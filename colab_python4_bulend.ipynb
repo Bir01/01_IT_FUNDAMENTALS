{
  "cells": [
    {
      "cell_type": "markdown",
      "metadata": {
        "id": "4yZ-oEcd2pba"
      },
      "source": [
        "<p align=\"center\">\n",
        "<img src=\"https://docs.google.com/uc?id=14xeXxFrVRjvOoUYWn_GuyE-v84wVzrqr\" class=\"img-fluid\" alt=\"CLRWY\" width=\"600\" height=\"120\" >\n",
        "</p>"
      ]
    },
    {
      "cell_type": "code",
      "execution_count": null,
      "metadata": {},
      "outputs": [],
      "source": [
        "import sys\n",
        "surum = sys.version\n",
        "print(surum)"
      ]
    },
    {
      "cell_type": "markdown",
      "metadata": {
        "id": "RsGbX1Zz21Fp"
      },
      "source": [
        "<h1><p style=\"text-align: center; color:blue\">Python In-Class Session 4, <br>15 February 2022</p><h1>"
      ]
    },
    {
      "cell_type": "code",
      "execution_count": 2,
      "metadata": {
        "colab": {
          "base_uri": "https://localhost:8080/"
        },
        "id": "AmEqivVXK_FJ",
        "outputId": "c02a5685-1b0c-4c08-beff-df31a42bfd4d"
      },
      "outputs": [
        {
          "name": "stdout",
          "output_type": "stream",
          "text": [
            "Sayı-1 ..: 3\n",
            "Sayı-2 ..: 5\n",
            "***\tHesap Makinem\t*** \n",
            " ---------------------------\n",
            "Sayılar\t..: 3 ve 5\n",
            "Toplamı\t..: 8\n",
            "Farkı\t..: -2\n",
            "Çarpımı\t..: 15\n",
            "Bölümü\t..: 0.6\n",
            "Mod(3%5)..: 3\n",
            "1.sayının karesi\t..: 9\n",
            "1.sayının karekökü\t..: 1.7320508075688772\n"
          ]
        }
      ],
      "source": [
        "num1 = int(input(\"Sayı-1 ..: \"))\n",
        "num2 = int(input(\"Sayı-2 ..: \"))\n",
        "\n",
        "msj_baslik = \"***\\tHesap Makinem\\t***\"\n",
        "msj_tire = \"---------------------------\"\n",
        "print (msj_baslik, \"\\n\", msj_tire)\n",
        "print (\"Sayılar\\t..:\", num1, \"ve\", num2)\n",
        "print(\"Toplamı\\t..:\", num1 + num2)\n",
        "print(\"Farkı\\t..:\", num1 - num2)\n",
        "print(\"Çarpımı\\t..:\", num1 * num2)\n",
        "print(\"Bölümü\\t..:\", num1 / num2)\n",
        "print(\"Mod(\",num1,\"%\", num2,\")..: \", num1%num2, sep=\"\")\n",
        "print(\"1.sayının karesi\\t..:\", pow(num1,2))\n",
        "print(\"1.sayının karekökü\\t..:\", pow(num1,0.5))"
      ]
    },
    {
      "cell_type": "code",
      "execution_count": 15,
      "metadata": {
        "colab": {
          "base_uri": "https://localhost:8080/"
        },
        "id": "Z0ZWRScLvifT",
        "outputId": "36463723-83f5-46dd-df17-8fa21c4ab3b7"
      },
      "outputs": [
        {
          "name": "stdout",
          "output_type": "stream",
          "text": [
            "write me\n"
          ]
        }
      ],
      "source": [
        "print(not 0 and \"write me\")"
      ]
    },
    {
      "cell_type": "code",
      "execution_count": 25,
      "metadata": {
        "colab": {
          "base_uri": "https://localhost:8080/"
        },
        "id": "heXb5j1W1xN5",
        "outputId": "d825480d-4690-4968-ba67-5243c7a1c6c1"
      },
      "outputs": [
        {
          "name": "stdout",
          "output_type": "stream",
          "text": [
            "Tarih..: 1453\n",
            "Tarih..: 1453\n",
            "Tarih..: 1453\n",
            "Tarih..: 1453\n",
            "Tarih..: 1453\n"
          ]
        }
      ],
      "source": [
        "# Bir A değişkeninin içeriğini 5 farklı yol ile ekrana yazdırabiliriz.\n",
        "A = 1453\n",
        "print(\"Tarih..:\", A)\n",
        "print(\"Tarih..: \" + str(A))\n",
        "print(\"Tarih..: {}\".format(A))\n",
        "print(f\"Tarih..: {A}\")\n",
        "print(\"Tarih..: %d\" %A)"
      ]
    },
    {
      "cell_type": "code",
      "execution_count": 17,
      "metadata": {
        "colab": {
          "base_uri": "https://localhost:8080/"
        },
        "id": "C3QhNA1-0Qnz",
        "outputId": "f86f3f2a-4405-472f-8da7-8bfd13e67ff8"
      },
      "outputs": [
        {
          "name": "stdout",
          "output_type": "stream",
          "text": [
            "upperupperupper\n",
            "upperupperupper\n",
            "upperupperupper\n"
          ]
        }
      ],
      "source": [
        "str_one = 'upper'\n",
        "str_two = 3 * 'upper'\n",
        "str_comb = str_one * 3\n",
        "print(str_two)\n",
        "print(str_comb)\n",
        "print(str_one*3)\n"
      ]
    },
    {
      "cell_type": "code",
      "execution_count": 18,
      "metadata": {
        "colab": {
          "base_uri": "https://localhost:8080/"
        },
        "id": "zB7oFLPh0XwS",
        "outputId": "7abe0cae-240e-4e39-ccda-5144eb2aae34"
      },
      "outputs": [
        {
          "name": "stdout",
          "output_type": "stream",
          "text": [
            "upperupperupper\n",
            "upperupperupper\n",
            "u p p e r\n"
          ]
        }
      ],
      "source": [
        "str_one = 'upper'\n",
        "str_two = 3 * 'upper'\n",
        "str_comb = str_one * 3\n",
        "print(str_two)\n",
        "print(str_comb)\n",
        "print(* str_one)"
      ]
    },
    {
      "cell_type": "code",
      "execution_count": 20,
      "metadata": {
        "colab": {
          "base_uri": "https://localhost:8080/"
        },
        "id": "KGgXTKVZ0rnK",
        "outputId": "2f08c2bf-a424-4dd8-c06c-40a4f4e60eb8"
      },
      "outputs": [
        {
          "name": "stdout",
          "output_type": "stream",
          "text": [
            "hoenix\n",
            "Phoeni\n",
            "Ponx\n",
            "nix\n",
            "xineohP\n"
          ]
        }
      ],
      "source": [
        "city = \"Phoenix\"\n",
        "\n",
        "print(city[1:])\n",
        "print(city[:6])\n",
        "print(city[::2])\n",
        "# print(city[1::0]) #adım miktarı(step) 0 olamaz!\n",
        "print(city[-3:])\n",
        "print(city[::-1])"
      ]
    },
    {
      "cell_type": "code",
      "execution_count": null,
      "metadata": {
        "colab": {
          "base_uri": "https://localhost:8080/"
        },
        "id": "VoP1MaLGjMYX",
        "outputId": "ca01d6de-a519-4a27-fa2d-1aa000e4d1cd"
      },
      "outputs": [
        {
          "name": "stdout",
          "output_type": "stream",
          "text": [
            "P\n",
            "x\n",
            "xienohP\n",
            "Phoneix\n"
          ]
        }
      ],
      "source": [
        "city = \"Phoneix\"\n",
        "print(city[0])  # return first data/element\n",
        "print(city[-1])  # return last data/element\n",
        "print(city[::-1])  # reverses the string\n",
        "print(city[:])  # string"
      ]
    },
    {
      "cell_type": "code",
      "execution_count": null,
      "metadata": {
        "colab": {
          "base_uri": "https://localhost:8080/"
        },
        "id": "wfCU65priaNQ",
        "outputId": "15304047-e847-4da3-f321-c26b25c6f68a"
      },
      "outputs": [
        {
          "name": "stdout",
          "output_type": "stream",
          "text": [
            "ippopotamus\n",
            "Hippop\n",
            "Hpooau\n",
            "ipp\n",
            "mus\n",
            "sumatopoppiH\n"
          ]
        }
      ],
      "source": [
        "\n",
        "animal = \"Hippopotamus\"\n",
        "\n",
        "print(animal[1:])\n",
        "print(animal[:6])\n",
        "print(animal[::2])\n",
        "print(animal[1:7:2])\n",
        "print(animal[-3:])\n",
        "print(animal[::-1])"
      ]
    },
    {
      "cell_type": "code",
      "execution_count": null,
      "metadata": {
        "colab": {
          "base_uri": "https://localhost:8080/"
        },
        "id": "fzsjYmD2YdYJ",
        "outputId": "d7dd0f67-2f96-490f-e256-3989fa0b4df7"
      },
      "outputs": [
        {
          "name": "stdout",
          "output_type": "stream",
          "text": [
            "The amount of Orange we bought is 4 pounds\n"
          ]
        }
      ],
      "source": [
        "fruit = \"Orange\"\n",
        "vegetable = 'Tomato'\n",
        "amount = 4\n",
        "\n",
        "print(\"The amount of {} we bought is {} pounds\".format(fruit, amount, vegetable))"
      ]
    },
    {
      "cell_type": "code",
      "execution_count": 22,
      "metadata": {
        "colab": {
          "base_uri": "https://localhost:8080/",
          "height": 200
        },
        "id": "BKIv7rLk1Oo6",
        "outputId": "34fb4e47-7b11-4969-9801-33ec1cca8210"
      },
      "outputs": [
        {
          "ename": "IndexError",
          "evalue": "ignored",
          "output_type": "error",
          "traceback": [
            "\u001b[0;31m---------------------------------------------------------------------------\u001b[0m",
            "\u001b[0;31mIndexError\u001b[0m                                Traceback (most recent call last)",
            "\u001b[0;32m<ipython-input-22-b58724952cab>\u001b[0m in \u001b[0;36m<module>\u001b[0;34m()\u001b[0m\n\u001b[1;32m      4\u001b[0m \u001b[0mamount\u001b[0m \u001b[0;34m=\u001b[0m \u001b[0;36m4\u001b[0m\u001b[0;34m\u001b[0m\u001b[0;34m\u001b[0m\u001b[0m\n\u001b[1;32m      5\u001b[0m \u001b[0;34m\u001b[0m\u001b[0m\n\u001b[0;32m----> 6\u001b[0;31m \u001b[0mprint\u001b[0m\u001b[0;34m(\u001b[0m\u001b[0;34m\"The amount of {} we bought is {} pounds\"\u001b[0m\u001b[0;34m.\u001b[0m\u001b[0mformat\u001b[0m\u001b[0;34m(\u001b[0m\u001b[0mfruit\u001b[0m\u001b[0;34m)\u001b[0m\u001b[0;34m)\u001b[0m\u001b[0;34m\u001b[0m\u001b[0;34m\u001b[0m\u001b[0m\n\u001b[0m",
            "\u001b[0;31mIndexError\u001b[0m: tuple index out of range"
          ]
        }
      ],
      "source": [
        "\n",
        "fruit = \"Orange\"\n",
        "vegetable = 'Tomato'\n",
        "amount = 4\n",
        "\n",
        "print(\"The amount of {} we bought is {} pounds\".format(fruit))"
      ]
    },
    {
      "cell_type": "code",
      "execution_count": null,
      "metadata": {
        "colab": {
          "base_uri": "https://localhost:8080/"
        },
        "id": "ptEMiM2sYdW8",
        "outputId": "0f3007ea-e565-4465-be8d-2a0f5468a314"
      },
      "outputs": [
        {
          "data": {
            "text/plain": [
              "('Orange', 'Tomato', 4, 6, 'ali')"
            ]
          },
          "execution_count": 15,
          "metadata": {},
          "output_type": "execute_result"
        }
      ],
      "source": [
        "fruit_vegetable_amount = \"Orange\", 'Tomato', 4, 6, \"ali\"\n",
        "fruit_vegetable_amount"
      ]
    },
    {
      "cell_type": "code",
      "execution_count": null,
      "metadata": {
        "colab": {
          "base_uri": "https://localhost:8080/"
        },
        "id": "RTzeWJfaZbnf",
        "outputId": "9eed813c-7504-4332-81f4-07ddc68be831"
      },
      "outputs": [
        {
          "data": {
            "text/plain": [
              "('Orange', 'Tomato', (4, 'ali'))"
            ]
          },
          "execution_count": 18,
          "metadata": {},
          "output_type": "execute_result"
        }
      ],
      "source": [
        "fruit, vegetable, amount = \"Orange\", 'Tomato', (4, \"ali\")\n",
        "fruit, vegetable, amount"
      ]
    },
    {
      "cell_type": "code",
      "execution_count": null,
      "metadata": {
        "colab": {
          "base_uri": "https://localhost:8080/"
        },
        "id": "Kv6HGFXIaE4J",
        "outputId": "28bf7c5d-9d5a-4f21-9497-2e5512e1f62d"
      },
      "outputs": [
        {
          "name": "stdout",
          "output_type": "stream",
          "text": [
            "California is the most crowded state of the USA\n"
          ]
        }
      ],
      "source": [
        "print('{state} is the most {adjective} state of the {country}'.format(state=\"California\", country='USA', adjective='crowded'))\n"
      ]
    },
    {
      "cell_type": "code",
      "execution_count": null,
      "metadata": {
        "colab": {
          "base_uri": "https://localhost:8080/"
        },
        "id": "LmGWKSndaIcr",
        "outputId": "4b19fcde-4e85-4079-9c66-7179a3c61d62"
      },
      "outputs": [
        {
          "name": "stdout",
          "output_type": "stream",
          "text": [
            "California is the most crowded state of the USA\n"
          ]
        }
      ],
      "source": [
        "print('{0} is the most {2} state of the {1}'.format(\"California\", 'USA', 'crowded'))\n"
      ]
    },
    {
      "cell_type": "code",
      "execution_count": null,
      "metadata": {
        "colab": {
          "base_uri": "https://localhost:8080/"
        },
        "id": "Lpd69PwbbO4O",
        "outputId": "fea1e87b-12ff-46ec-dd60-107847cb4e72"
      },
      "outputs": [
        {
          "name": "stdout",
          "output_type": "stream",
          "text": [
            "I will have started a new job in 6 months\n"
          ]
        }
      ],
      "source": [
        "\n",
        "print(\"{6} {5} {0} {1} {3} {4} {2}\".format(\"a new\", \"job\", \"months\", \"in\", 6, \"have started\", \"I will\"))"
      ]
    },
    {
      "cell_type": "code",
      "execution_count": null,
      "metadata": {
        "colab": {
          "base_uri": "https://localhost:8080/"
        },
        "id": "e6ILoIsWcWAt",
        "outputId": "778fe546-15cf-4e23-bc14-6da069b54da0"
      },
      "outputs": [
        {
          "name": "stdout",
          "output_type": "stream",
          "text": [
            "circumstances in all generosity wins\n"
          ]
        }
      ],
      "source": [
        "phrase = '{} {} {} {}'.format('circumstances', 'in all', 'generosity', 'wins')\n",
        "print(phrase)\n"
      ]
    },
    {
      "cell_type": "code",
      "execution_count": 3,
      "metadata": {
        "colab": {
          "base_uri": "https://localhost:8080/"
        },
        "id": "fY-cZ3o5ygXc",
        "outputId": "35691751-2df9-495a-b529-41afc3cb1cd8"
      },
      "outputs": [
        {
          "name": "stdout",
          "output_type": "stream",
          "text": [
            "8\n"
          ]
        }
      ],
      "source": [
        "sample = f\"{2 ** 3}\"\n",
        "\n",
        "print(sample)"
      ]
    },
    {
      "cell_type": "code",
      "execution_count": 4,
      "metadata": {
        "colab": {
          "base_uri": "https://localhost:8080/"
        },
        "id": "SjPIG0EVwEcG",
        "outputId": "fa9d3ac2-cd7c-4fce-e558-6c65661569f0"
      },
      "outputs": [
        {
          "name": "stdout",
          "output_type": "stream",
          "text": [
            "2 ** 3 = 8\n"
          ]
        }
      ],
      "source": [
        "sample = f\"2 ** 3 = {2 ** 3}\"\n",
        "\n",
        "print(sample)"
      ]
    },
    {
      "cell_type": "code",
      "execution_count": null,
      "metadata": {
        "colab": {
          "base_uri": "https://localhost:8080/"
        },
        "id": "XC7mNG-DdHak",
        "outputId": "dcd88980-135b-4136-f300-898818ceb5c9"
      },
      "outputs": [
        {
          "name": "stdout",
          "output_type": "stream",
          "text": [
            "circumstances in all generosity wins\n"
          ]
        }
      ],
      "source": [
        "condition = 'circumstances'\n",
        "morality = 'generosity'\n",
        "\n",
        "phrase = '{} {} {} {}'.format(condition, 'in all', morality, 'wins')\n",
        "print(phrase)\n"
      ]
    },
    {
      "cell_type": "code",
      "execution_count": 14,
      "metadata": {
        "colab": {
          "base_uri": "https://localhost:8080/"
        },
        "id": "yZcf6bgrzszD",
        "outputId": "5f8e1e20-1f9c-4e41-9544-5b9cedbc37bd"
      },
      "outputs": [
        {
          "name": "stdout",
          "output_type": "stream",
          "text": [
            "generosity circumstances in all wins\n"
          ]
        }
      ],
      "source": [
        "phrase = '{2} {0} {1} {3}'.format('circumstances', 'in all', 'generosity', 'wins')\n",
        "print(phrase)"
      ]
    },
    {
      "cell_type": "code",
      "execution_count": null,
      "metadata": {
        "colab": {
          "base_uri": "https://localhost:8080/"
        },
        "id": "VV2Ds_uneWQg",
        "outputId": "29d94a2a-e0ab-4ac7-e7f0-33bc5f83d77f"
      },
      "outputs": [
        {
          "name": "stdout",
          "output_type": "stream",
          "text": [
            "Hi Joseph.You are one of the teachersin the Data Science section...\n"
          ]
        }
      ],
      "source": [
        "\n",
        "name = 'Joseph'\n",
        "job = \"teachers\"\n",
        "domain = 'Data Science'\n",
        "\n",
        "message = (\n",
        "    f\"Hi {name}.\"\n",
        "    f'You are one of the {job}'\n",
        "    f'in the {domain} section...'\n",
        ")\n",
        "\n",
        "print(message)"
      ]
    },
    {
      "cell_type": "code",
      "execution_count": null,
      "metadata": {
        "colab": {
          "base_uri": "https://localhost:8080/"
        },
        "id": "dPlHJ0zgeYcf",
        "outputId": "f9cbaab7-9509-4c70-eeef-7c61a207c6ab"
      },
      "outputs": [
        {
          "name": "stdout",
          "output_type": "stream",
          "text": [
            "Hi Joseph.You are one of the teachersin the Data Science section...\n"
          ]
        }
      ],
      "source": [
        "\n",
        "name = 'Joseph'\n",
        "job = \"teachers\"\n",
        "domain = 'Data Science'\n",
        "\n",
        "message = f\"Hi {name}.\"\\\n",
        "    f'You are one of the {job}'\\\n",
        "    f'in the {domain} section...'\n",
        "\n",
        "print(message)"
      ]
    },
    {
      "cell_type": "code",
      "execution_count": null,
      "metadata": {
        "colab": {
          "base_uri": "https://localhost:8080/"
        },
        "id": "13rWLa99e1SM",
        "outputId": "b48e0496-1fd8-4836-c294-91c1dc02cfc1"
      },
      "outputs": [
        {
          "name": "stdout",
          "output_type": "stream",
          "text": [
            "Susan is a young lady and she is a student at the CLRWY IT university.\n"
          ]
        }
      ],
      "source": [
        "name = \"Susan\"\n",
        "age = \"young\"\n",
        "gender = \"lady\"\n",
        "school = \"CLRWY IT university\"\n",
        "\n",
        "output = (\n",
        "\tf\"{name} is a {age} \"\n",
        "\tf\"{gender} and she is a student \"\n",
        "\tf\"at the {school}.\"\n",
        ")\n",
        "print(output)\n"
      ]
    },
    {
      "cell_type": "code",
      "execution_count": null,
      "metadata": {
        "colab": {
          "base_uri": "https://localhost:8080/"
        },
        "id": "5x0rlEXXfgjG",
        "outputId": "bd5b77f0-6957-40cc-8e23-05bd4848479c"
      },
      "outputs": [
        {
          "name": "stdout",
          "output_type": "stream",
          "text": [
            "clausway\n"
          ]
        }
      ],
      "source": [
        "word = 'clarusway'\n",
        "n = 3\n",
        "front = word[:n]\n",
        "back = word[n+1:]\n",
        "print(front + back)"
      ]
    },
    {
      "cell_type": "code",
      "execution_count": null,
      "metadata": {
        "colab": {
          "base_uri": "https://localhost:8080/"
        },
        "id": "ZMqmk9EHg0Ev",
        "outputId": "cf0ca103-dbc2-4295-c10b-04fb9df9688e"
      },
      "outputs": [
        {
          "name": "stdout",
          "output_type": "stream",
          "text": [
            "Hello! I am a new programmer and I love Clarusway."
          ]
        }
      ],
      "source": [
        "# Hello! I am a new programmer and I love Clarusway.\n",
        "text = \"{}! I am a {} programmer and I {} Clarusway\".format(\"Hello\", \"new\", \"love\")\n",
        "print(text, end=\".\")"
      ]
    },
    {
      "cell_type": "markdown",
      "metadata": {
        "id": "1D1GL3k5uf5h"
      },
      "source": [
        "**Stringin herhangi bir karakterini değiştirme **"
      ]
    },
    {
      "cell_type": "code",
      "execution_count": null,
      "metadata": {
        "colab": {
          "base_uri": "https://localhost:8080/"
        },
        "id": "NfA9nwO5jyTj",
        "outputId": "3b2ca75d-0a99-4871-fc49-1e8b6901bfb0"
      },
      "outputs": [
        {
          "name": "stdout",
          "output_type": "stream",
          "text": [
            "Phyneix\n"
          ]
        }
      ],
      "source": [
        "\"\"\"\n",
        "Question: Bir stringin (karakter dizisinin) herhangi bir elemanı, city[2]= 'y' şeklinde doğrudan değiştirilebilir mi?\n",
        "\"\"\"\n",
        "city = \"Phoneix\"\n",
        "city = city[:2] + \"y\" + city[3:]\n",
        "print(city)"
      ]
    },
    {
      "cell_type": "code",
      "execution_count": 1,
      "metadata": {
        "colab": {
          "base_uri": "https://localhost:8080/"
        },
        "id": "u8ylXRWgt5cS",
        "outputId": "87c3ecdb-b131-436b-9db1-a523e3614f2c"
      },
      "outputs": [
        {
          "name": "stdout",
          "output_type": "stream",
          "text": [
            "Phyenix\n"
          ]
        }
      ],
      "source": [
        "# method-2\n",
        "city = \"Phoenix\"\n",
        "city = city.replace(\"o\", \"y\")\n",
        "print(city)"
      ]
    },
    {
      "cell_type": "code",
      "execution_count": null,
      "metadata": {
        "colab": {
          "base_uri": "https://localhost:8080/"
        },
        "id": "bYLqr8b_mULw",
        "outputId": "be198aee-63f4-4089-987a-c68cd0583440"
      },
      "outputs": [
        {
          "name": "stdout",
          "output_type": "stream",
          "text": [
            "P h y n e i x\n"
          ]
        }
      ],
      "source": [
        "# method-3\n",
        "city = \"Phoneix\"\n",
        "city2 = list(city)\n",
        "city2[2] = \"y\"\n",
        "print(*city2)"
      ]
    },
    {
      "cell_type": "code",
      "execution_count": 6,
      "metadata": {
        "colab": {
          "base_uri": "https://localhost:8080/"
        },
        "id": "dnZtEuipv2uH",
        "outputId": "c10a6b9b-8d82-4705-e91a-4ac7f16f550f"
      },
      "outputs": [
        {
          "name": "stdout",
          "output_type": "stream",
          "text": [
            "My name is Mariam\n"
          ]
        }
      ],
      "source": [
        "_name = \"MARIAM\"\n",
        "output = f\"My name is {_name.capitalize()}\"\n",
        "\n",
        "print(output)\n"
      ]
    },
    {
      "cell_type": "code",
      "execution_count": 8,
      "metadata": {
        "colab": {
          "base_uri": "https://localhost:8080/"
        },
        "id": "lkZeW_qowtE3",
        "outputId": "3b220174-29a1-433d-c896-9cf99c4c2891"
      },
      "outputs": [
        {
          "name": "stdout",
          "output_type": "stream",
          "text": [
            "Python language\n",
            "Python Language\n"
          ]
        }
      ],
      "source": [
        "_name = \"PYTHON LANGUAGE\"\n",
        "print(_name.capitalize())\n",
        "print(_name.title())"
      ]
    },
    {
      "cell_type": "code",
      "execution_count": 13,
      "metadata": {
        "colab": {
          "base_uri": "https://localhost:8080/"
        },
        "id": "UmhRBYCDzPb7",
        "outputId": "9ec20f93-84fa-4041-cd65-059b5829ea08"
      },
      "outputs": [
        {
          "name": "stdout",
          "output_type": "stream",
          "text": [
            "Python Language\n"
          ]
        }
      ],
      "source": [
        "_name = \"pYTHON lANGUAGE\"\n",
        "print(_name.swapcase())"
      ]
    },
    {
      "cell_type": "code",
      "execution_count": 9,
      "metadata": {
        "colab": {
          "base_uri": "https://localhost:8080/"
        },
        "id": "I1sZc1RlxO5S",
        "outputId": "5de88614-7696-4d64-922c-8020b4b1174a"
      },
      "outputs": [
        {
          "name": "stdout",
          "output_type": "stream",
          "text": [
            "15\n",
            "2\n"
          ]
        }
      ],
      "source": [
        "_name = \"PYTHON LANGUAGE\"\n",
        "print(len(_name)) # karakter uzunluğu\n",
        "print(_name.count('A')) # string içerisinde geçen 'A' karakteri sayısı"
      ]
    },
    {
      "cell_type": "code",
      "execution_count": 11,
      "metadata": {
        "colab": {
          "base_uri": "https://localhost:8080/"
        },
        "id": "IYecbUSQxxi2",
        "outputId": "d4aa9cb3-986f-4102-c7a4-ab68cde86289"
      },
      "outputs": [
        {
          "name": "stdout",
          "output_type": "stream",
          "text": [
            "8\n",
            "8\n"
          ]
        }
      ],
      "source": [
        "_name = \"PYTHON LANGUAGE\"\n",
        "print(_name.find('A')) # 'A' karakterinin pozisyonu/indisi\n",
        "print(_name.index('A')) # 'A' karakterinin pozisyonu/indisi"
      ]
    },
    {
      "cell_type": "code",
      "execution_count": 12,
      "metadata": {
        "colab": {
          "base_uri": "https://localhost:8080/"
        },
        "id": "IBcvMqP9yLOO",
        "outputId": "f87dc6ca-9b22-4ad3-cd1d-3a6b6cb5230a"
      },
      "outputs": [
        {
          "name": "stdout",
          "output_type": "stream",
          "text": [
            "Harf Sayısı..: 39\n",
            "Kelime Sayısı..: 7\n"
          ]
        }
      ],
      "source": [
        "# Bir metindeki kelime ve harf sayısını bulalım\n",
        "words = \"Bir metindeki kelime ve harf sayısını bulalım.\"\n",
        "bosluk_sayisi = words.count(' ')  # space karakterlerini say\n",
        "nokta_sayisi = words.count('.')\n",
        "harf_sayisi = len(words) - bosluk_sayisi -nokta_sayisi\n",
        "print(\"Harf Sayısı..:\", harf_sayisi)\n",
        "print(\"Kelime Sayısı..:\", bosluk_sayisi+1)"
      ]
    }
  ],
  "metadata": {
    "colab": {
      "collapsed_sections": [],
      "name": "colab_python4_bulend.ipynb",
      "provenance": []
    },
    "kernelspec": {
      "display_name": "Python 3",
      "name": "python3"
    },
    "language_info": {
      "name": "python"
    }
  },
  "nbformat": 4,
  "nbformat_minor": 0
}
