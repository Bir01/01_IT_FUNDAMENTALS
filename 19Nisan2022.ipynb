{
  "cells": [
    {
      "cell_type": "markdown",
      "metadata": {},
      "source": [
        "## Session 22: CSV Files && SQLite\n",
        "# 19.04.2022"
      ]
    },
    {
      "cell_type": "markdown",
      "metadata": {},
      "source": [
        "Gerçek dünyada verilerin kod içerisinde oluşturulmasıyla seyrek karşılaşılmaktadır. Analiz edilecek edilecek veriler ya dosyalardan okunmakta ya da başka bir ortamdan (örneğin bir dosya, veritabanı, web ortamı gibi) alınmaktadır. Tabii en yaygın karşılaşılan durum verilerin bir text dosyadan alınmasıdır. Text dosyalarda veriler ya tablosal biçimde yani satır satır ya da düz biçimde bulunmaktadır. Tablosal biçimde veriler dosyalarda genellikle aralarına ',' karakteri ya da TAB karakter getirilerek satır satır bulundurulmaktadır. Bilindiği gibi aralarına ',' karakteri getirilerek tablosal biçimde oluşturulmuş olan dosyalara CSV dosyaları denilmektedir."
      ]
    },
    {
      "cell_type": "code",
      "execution_count": 3,
      "metadata": {},
      "outputs": [
        {
          "name": "stdout",
          "output_type": "stream",
          "text": [
            "no,fruit,amount\n",
            "1,Banana,4 lb\n",
            "2,Orange,5 lb\n",
            "3,Apple,2 lb\n",
            "4,Strawberry,6 lb\n",
            "5,Cherry,3 lb\n"
          ]
        }
      ],
      "source": [
        "with open(\"/home/bc/pythonProjeleri/fruits.csv\", \"r\", encoding=\"utf-8\") as f:\n",
        "    print(f.read())"
      ]
    },
    {
      "cell_type": "code",
      "execution_count": 18,
      "metadata": {},
      "outputs": [
        {
          "name": "stdout",
          "output_type": "stream",
          "text": [
            "['no', 'fruit', 'amount']\n",
            "['1', 'Banana', '4 lb']\n",
            "['2', 'Orange', '5 lb']\n",
            "['3', 'Apple', '2 lb']\n",
            "['4', 'Strawberry', '6 lb']\n",
            "['5', 'Cherry', '3 lb']\n"
          ]
        }
      ],
      "source": [
        "import csv\n",
        "with open(\"/home/bc/pythonProjeleri/fruits.csv\", \"r\", newline='') as f:\n",
        "    oku = csv.reader(f)\n",
        "    for line in oku:\n",
        "        print(line)\n",
        "    "
      ]
    },
    {
      "cell_type": "code",
      "execution_count": 21,
      "metadata": {},
      "outputs": [
        {
          "name": "stdout",
          "output_type": "stream",
          "text": [
            "<_csv.reader object at 0x7f650c083580>\n"
          ]
        }
      ],
      "source": [
        "import csv\n",
        "with open(\"/home/bc/pythonProjeleri/fruits.csv\", \"r\", newline='') as f:\n",
        "    print(csv.reader(f))"
      ]
    },
    {
      "cell_type": "code",
      "execution_count": 25,
      "metadata": {},
      "outputs": [
        {
          "name": "stdout",
          "output_type": "stream",
          "text": [
            "['no', 'fruit', 'amount']\n",
            "['1', 'Banana', '4 lb']\n"
          ]
        }
      ],
      "source": [
        "import csv\n",
        "with open(\"/home/bc/pythonProjeleri/fruits.csv\", \"r\", newline='') as f:\n",
        "    iter(csv.reader(f))\n",
        "    print(next(csv.reader(f)))\n",
        "    print(next(csv.reader(f)))  ##..."
      ]
    },
    {
      "cell_type": "code",
      "execution_count": 20,
      "metadata": {},
      "outputs": [
        {
          "name": "stdout",
          "output_type": "stream",
          "text": [
            "['no,fruit,amount']\n",
            "['1,Banana,4 lb']\n",
            "['2,Orange,5 lb']\n",
            "['3,Apple,2 lb']\n",
            "['4,Strawberry,6 lb']\n",
            "['5,Cherry,3 lb']\n"
          ]
        }
      ],
      "source": [
        "import csv\n",
        "with open(\"/home/bc/pythonProjeleri/fruits.csv\", \"r\", newline='') as f:\n",
        "    oku = csv.reader(f, delimiter=':')  #yoksa\n",
        "    for line in oku:\n",
        "        print(line)"
      ]
    },
    {
      "cell_type": "code",
      "execution_count": 19,
      "metadata": {},
      "outputs": [
        {
          "name": "stdout",
          "output_type": "stream",
          "text": [
            "no,fruit,amount\n",
            "1,Banana,4 lb\n",
            "2,Orange,5 lb\n",
            "3,Apple,2 lb\n",
            "4,Strawberry,6 lb\n",
            "5,Cherry,3 lb\n"
          ]
        }
      ],
      "source": [
        "import csv\n",
        "with open(\"/home/bc/pythonProjeleri/fruits.csv\", \"r\", newline='') as f:\n",
        "    oku = csv.reader(f, delimiter=',')\n",
        "    for line in oku:\n",
        "        print(','.join(line))"
      ]
    },
    {
      "cell_type": "code",
      "execution_count": 8,
      "metadata": {},
      "outputs": [
        {
          "name": "stdout",
          "output_type": "stream",
          "text": [
            "num, first_name, last_name, ages\n",
            "1, ali, koç, 37\n",
            "2, vefa, dede, 45\n",
            "3, salih, aksu, 56\n",
            "4, ayşe, kar, 34\n",
            "5, ahmet, duru, 78\n"
          ]
        }
      ],
      "source": [
        "with open(\"/home/bc/pythonProjeleri/personel.csv\") as f:\n",
        "    print(f.read())"
      ]
    },
    {
      "cell_type": "code",
      "execution_count": 27,
      "metadata": {},
      "outputs": [
        {
          "name": "stdout",
          "output_type": "stream",
          "text": [
            "['num', ' first_name', ' last_name', ' ages']\n",
            "['1: ali: koç: 37']\n",
            "['2: vefa: dede: 45']\n",
            "['3: salih: aksu: 56']\n"
          ]
        }
      ],
      "source": [
        "import csv\n",
        "with open(\"/home/bc/pythonProjeleri/personel.csv\") as f:\n",
        "    oku = csv.reader(f, delimiter=',')\n",
        "    for line in oku:\n",
        "        print(line)"
      ]
    },
    {
      "cell_type": "code",
      "execution_count": 28,
      "metadata": {},
      "outputs": [
        {
          "name": "stdout",
          "output_type": "stream",
          "text": [
            "['num, first_name, last_name, ages']\n",
            "['1', ' ali', ' koç', ' 37']\n",
            "['2', ' vefa', ' dede', ' 45']\n",
            "['3', ' salih', ' aksu', ' 56']\n"
          ]
        }
      ],
      "source": [
        "import csv\n",
        "with open(\"/home/bc/pythonProjeleri/personel2.csv\") as f:\n",
        "    oku = csv.reader(f, delimiter=':')\n",
        "    for line in oku:\n",
        "        print(line)"
      ]
    },
    {
      "cell_type": "code",
      "execution_count": 17,
      "metadata": {},
      "outputs": [],
      "source": [
        "with open(\"/home/bc/pythonProjeleri/personel.csv\", \"a\") as f:\n",
        "    f.write('\\n6, alim, koç, 37')\n",
        "    f.write('\\n7, veli, ak, 37')"
      ]
    },
    {
      "cell_type": "code",
      "execution_count": null,
      "metadata": {},
      "outputs": [],
      "source": [
        "\"C:\\\\home\\\\bcd\\\\...\\fruits.csv\" ## windows kullanıcıları için \\\\ bunun çıktısı: \\"
      ]
    },
    {
      "cell_type": "code",
      "execution_count": 31,
      "metadata": {},
      "outputs": [],
      "source": [
        "import csv\n",
        "yenikayit =[['4', ' volkan', ' ok', ' 37'],\n",
        "            ['5', ' vali', ' caach', ' 73']]\n",
        "\n",
        "with open(\"/home/bc/pythonProjeleri/personel2.csv\", 'a', newline='') as f:\n",
        "    yaz = csv.writer(f)  ##yaz ismli nesne oluştur\n",
        "    yaz.writerows(yenikayit)"
      ]
    },
    {
      "cell_type": "code",
      "execution_count": 33,
      "metadata": {},
      "outputs": [
        {
          "name": "stdout",
          "output_type": "stream",
          "text": [
            "   num  first_name  last_name   ages\n",
            "0    1         ali        koç     37\n",
            "1    2        vefa       dede     45\n",
            "2    3       salih       aksu     56\n",
            "3    4      volkan         ok     37\n",
            "4    5        vali      caach     73\n"
          ]
        }
      ],
      "source": [
        "import pandas as pd\n",
        "df = pd.read_csv(\"/home/bc/pythonProjeleri/personel2.csv\")\n",
        "print(df)"
      ]
    },
    {
      "cell_type": "code",
      "execution_count": 40,
      "metadata": {},
      "outputs": [
        {
          "name": "stdout",
          "output_type": "stream",
          "text": [
            "0      artvin\n",
            "1      samsun\n",
            "2    istanbul\n",
            "3      ankara\n",
            "Name: il, dtype: object\n",
            "         il  plaka\n",
            "0    artvin      8\n",
            "1    samsun     55\n",
            "2  istanbul     34\n",
            "3    ankara      6\n"
          ]
        }
      ],
      "source": [
        "##csv dosyasına veri yazmak with pandas\n",
        "import pandas as pd\n",
        "veri = {'il': ['artvin', 'samsun', 'istanbul', 'ankara'],\n",
        "        'plaka': [8, 55, 34, 6]}\n",
        "##dataframe : tablo halinde veri çerçevesi\n",
        "df = pd.DataFrame(veri) ##pandas okuyacağı formata dönüştürdü...\n",
        "df.to_csv(\"iller.csv\") \n",
        "print(df['il'])\n",
        "print(df)"
      ]
    },
    {
      "cell_type": "code",
      "execution_count": 47,
      "metadata": {},
      "outputs": [
        {
          "name": "stdout",
          "output_type": "stream",
          "text": [
            "       il  plaka\n",
            "0  ankara     16\n",
            "1   izmir     35\n"
          ]
        }
      ],
      "source": [
        "##csv dosyasına veri yazmak with pandas\n",
        "import pandas as pd\n",
        "veri = {'il': ['ankara', 'izmir'],\n",
        "        'plaka': [16, 35 ]}\n",
        "##dataframe : tablo halinde veri çerçevesi\n",
        "df = pd.DataFrame(veri) ##pandas okuyacağı formata dönüştürdü...\n",
        "df.to_csv(\"iller.csv\", mode=\"a\") \n",
        "print(df)"
      ]
    },
    {
      "cell_type": "markdown",
      "metadata": {},
      "source": [
        "PYTHON -sqlite veri tipleri:\n",
        "int     --> INTEGER\n",
        "float   --> REAL\n",
        "str     --> TEXT\n",
        "None    --> NULL\n",
        "bytes   --> BLOB\n"
      ]
    },
    {
      "cell_type": "code",
      "execution_count": null,
      "metadata": {},
      "outputs": [],
      "source": [
        "#sqlite bir VTYS(DBMS): sqlite3\n",
        "import sqlite3  #1. paketi import edelim\n",
        "conn = sqlite3.connect('personel.db') #2. vt ile bağlantı kurar yoksa oluşturur\n",
        "cur = conn.cursor()                   #3. imleç/kürsor nesnesi oluştur\n",
        "##4. varsa sorgular çalışıtırılır\n",
        "sql = cur.execute(\"SELECT * FROM personel\")\n",
        "##5. vt güncellenir\n",
        "conn.commit()\n",
        "##6. vt kapatılır\n",
        "conn.close()"
      ]
    },
    {
      "cell_type": "code",
      "execution_count": 48,
      "metadata": {},
      "outputs": [],
      "source": [
        "#sqlite bir VTYS(DBMS): sqlite3\n",
        "import sqlite3  #1. paketi import edelim\n",
        "conn = sqlite3.connect('personel.db') #2. vt ile bağlantı\n",
        "cur = conn.cursor()                   #3. imleç/kürsor nesnesi oluştur\n",
        "##4. varsa sorgular çalışıtırılır\n",
        "#tablo oluşttu\n",
        "cur.execute(\"\"\"CREATE TABLE musteri\n",
        "               (no INTEGER PRIMARY KEY, name TEXT, adres TEXT)\"\"\")\n",
        "#kayıtlar\n",
        "records = [(1,'Ali Koç', 'Toronto'),\n",
        "           (2, 'Veli Dede', 'İstanbul')]\n",
        "## müşteri tablosunda \n",
        "cur.executemany('INSERT INTO musteri VALUES (?,?,?)', records)\n",
        "\n",
        "##5. vt güncellenir\n",
        "conn.commit()\n",
        "##6. vt kapatılır\n",
        "conn.close()"
      ]
    },
    {
      "cell_type": "code",
      "execution_count": 49,
      "metadata": {},
      "outputs": [
        {
          "name": "stdout",
          "output_type": "stream",
          "text": [
            "(1, 'Ali Koç', 'Toronto')\n",
            "(2, 'Veli Dede', 'İstanbul')\n"
          ]
        }
      ],
      "source": [
        "#sqlite bir VTYS(DBMS): sqlite3\n",
        "import sqlite3  #1. paketi import edelim\n",
        "conn = sqlite3.connect('personel.db') #2. vt ile bağlantı\n",
        "cur = conn.cursor()                   #3. imleç/kürsor nesnesi oluştur\n",
        "sql = cur.execute(\"SELECT * FROM musteri\")\n",
        "for line in sql:\n",
        "    print(line)\n",
        "##5. vt güncellenir\n",
        "conn.commit()\n",
        "##6. vt kapatılır\n",
        "conn.close()"
      ]
    },
    {
      "cell_type": "code",
      "execution_count": 51,
      "metadata": {},
      "outputs": [],
      "source": [
        "#sqlite bir VTYS(DBMS): sqlite3\n",
        "import sqlite3  #1. paketi import edelim\n",
        "conn = sqlite3.connect('personel.db') #2. vt ile bağlantı\n",
        "cur = conn.cursor()                   #3. imleç/kürsor nesnesi oluştur\n",
        "records = [(3,'Ayşe Eda', 'Tarsus'),\n",
        "           (4, 'Seda Sayan', 'Tokat')]\n",
        "cur.executemany('INSERT INTO musteri VALUES (?,?,?)', records)\n",
        "##5. vt güncellenir\n",
        "conn.commit()\n",
        "##6. vt kapatılır\n",
        "conn.close()"
      ]
    },
    {
      "cell_type": "code",
      "execution_count": 54,
      "metadata": {},
      "outputs": [],
      "source": [
        "#sqlite bir VTYS(DBMS): sqlite3\n",
        "import sqlite3  #1. paketi import edelim\n",
        "conn = sqlite3.connect('personel.db') #2. vt ile bağlantı\n",
        "cur = conn.cursor()                   #3. imleç/kürsor nesnesi oluştur\n",
        "\n",
        "cur.execute('INSERT INTO musteri VALUES ' \n",
        "            \"(5, 'Volkan', 'Hoca')\")\n",
        "##5. vt güncellenir\n",
        "conn.commit()\n",
        "##6. vt kapatılır\n",
        "conn.close()"
      ]
    },
    {
      "cell_type": "code",
      "execution_count": 56,
      "metadata": {},
      "outputs": [
        {
          "name": "stdout",
          "output_type": "stream",
          "text": [
            "(1, 'Ali Koç', 'Toronto')\n",
            "(3, 'Ayşe Eda', 'Tarsus')\n",
            "(4, 'Seda Sayan', 'Tokat')\n",
            "(2, 'Veli Dede', 'İstanbul')\n",
            "(5, 'Volkan', 'Hoca')\n"
          ]
        }
      ],
      "source": [
        "#sqlite bir VTYS(DBMS): ada göre sırala\n",
        "import sqlite3  #1. paketi import edelim\n",
        "conn = sqlite3.connect('personel.db') #2. vt ile bağlantı\n",
        "cur = conn.cursor()                   #3. imleç/kürsor nesnesi oluştur\n",
        "\n",
        "for sorgu in cur.execute('select * from musteri order by name'):\n",
        "    print(sorgu)\n",
        "##5. vt güncellenir\n",
        "conn.commit()\n",
        "##6. vt kapatılır\n",
        "conn.close()"
      ]
    },
    {
      "cell_type": "code",
      "execution_count": 57,
      "metadata": {},
      "outputs": [
        {
          "name": "stdout",
          "output_type": "stream",
          "text": [
            "(1, 'Ali Koç', 'Toronto')\n",
            "(3, 'Ayşe Eda', 'Tarsus')\n",
            "(4, 'Seda Sayan', 'Tokat')\n"
          ]
        }
      ],
      "source": [
        "#sqlite bir VTYS(DBMS): adresi T ile başlayanları listele\n",
        "import sqlite3  #1. paketi import edelim\n",
        "conn = sqlite3.connect('personel.db') #2. vt ile bağlantı\n",
        "cur = conn.cursor()                   #3. imleç/kürsor nesnesi oluştur\n",
        "\n",
        "for sorgu in cur.execute('select * from musteri where adres like \"T%\"'):\n",
        "    print(sorgu)\n",
        "##5. vt güncellenir\n",
        "conn.commit()\n",
        "##6. vt kapatılır\n",
        "conn.close()"
      ]
    },
    {
      "cell_type": "code",
      "execution_count": 60,
      "metadata": {},
      "outputs": [
        {
          "name": "stdout",
          "output_type": "stream",
          "text": [
            "(1, 'Ali Koç', 'Toronto')\n",
            "(3, 'Ayşe Eda', 'Tarsus')\n",
            "(4, 'Seda Sayan', 'Tokat')\n",
            "(2, 'Veli Dede', 'İstanbul')\n",
            "(5, 'Volkan', 'Hocalı')\n"
          ]
        }
      ],
      "source": [
        "#sqlite bir VTYS(DBMS): adresi hoca olanı 'hocalı'\n",
        "import sqlite3  #1. paketi import edelim\n",
        "conn = sqlite3.connect('personel.db') #2. vt ile bağlantı\n",
        "cur = conn.cursor()                   #3. imleç/kürsor nesnesi oluştur\n",
        "\n",
        "sql = cur.execute('UPDATE musteri SET adres=\"Hocalı\" WHERE adres=\"Hoca\"')\n",
        "##5. vt güncellenir\n",
        "conn.commit()\n",
        "for sorgu in cur.execute('select * from musteri order by name'):\n",
        "    print(sorgu)\n",
        "##6. vt kapatılır\n",
        "conn.close()"
      ]
    },
    {
      "cell_type": "code",
      "execution_count": 61,
      "metadata": {},
      "outputs": [
        {
          "name": "stdout",
          "output_type": "stream",
          "text": [
            "(1, 'Ali Koç', 'Toronto')\n",
            "(3, 'Ayşe Eda', 'Tarsus')\n",
            "(4, 'Seda Sayan', 'Tokat')\n",
            "(2, 'Veli Dede', 'İstanbul')\n"
          ]
        }
      ],
      "source": [
        "## veri tabanından kayıt silme\n",
        "#sqlite bir VTYS(DBMS): adresi hoca olanı 'hocalı'\n",
        "import sqlite3  #1. paketi import edelim\n",
        "conn = sqlite3.connect('personel.db') #2. vt ile bağlantı\n",
        "cur = conn.cursor()                   #3. imleç/kürsor nesnesi oluştur\n",
        "\n",
        "sql = cur.execute('DELETE FROM musteri WHERE no=5')\n",
        "##5. vt güncellenir\n",
        "conn.commit()\n",
        "for sorgu in cur.execute('select * from musteri order by name'):\n",
        "    print(sorgu)\n",
        "##6. vt kapatılır\n",
        "conn.close()"
      ]
    },
    {
      "cell_type": "code",
      "execution_count": 64,
      "metadata": {},
      "outputs": [],
      "source": [
        "#sqlite bir VTYS(DBMS): sqlite3\n",
        "import sqlite3  #1. paketi import edelim\n",
        "conn = sqlite3.connect('personel.db') #2. vt ile bağlantı\n",
        "cur = conn.cursor()                   #3. imleç/kürsor nesnesi oluştur\n",
        "##4. varsa sorgular çalışıtırılır\n",
        "#tablo oluşttu\n",
        "#cur.execute(\"\"\"CREATE TABLE satışlar\n",
        "#               (num INTEGER PRIMARY KEY, marka TEXT, miktar REAL)\"\"\")\n",
        "#kayıtlar\n",
        "records = [(1,'ZARA', 56000),\n",
        "           (2, 'LCW', 4440)]\n",
        "## müşteri tablosunda \n",
        "cur.executemany('INSERT INTO satışlar VALUES (?,?,?)', records)\n",
        "\n",
        "##5. vt güncellenir\n",
        "conn.commit()\n",
        "##6. vt kapatılır\n",
        "conn.close()"
      ]
    },
    {
      "cell_type": "markdown",
      "metadata": {
        "id": "vAYIiWkplvHX"
      },
      "source": []
    },
    {
      "cell_type": "code",
      "execution_count": 68,
      "metadata": {},
      "outputs": [
        {
          "name": "stdout",
          "output_type": "stream",
          "text": [
            "No                  Adı Soyadı\n",
            "\n"
          ]
        }
      ],
      "source": [
        "print(f\"{'No':<20}{'Adı Soyadı'}\\n\")"
      ]
    },
    {
      "cell_type": "code",
      "execution_count": 66,
      "metadata": {},
      "outputs": [
        {
          "name": "stdout",
          "output_type": "stream",
          "text": [
            "    No    Adı Soyadı\n",
            "\n"
          ]
        }
      ],
      "source": [
        "print(f\"{'No':^10}{'Adı Soyadı'}\\n\")"
      ]
    },
    {
      "cell_type": "code",
      "execution_count": 69,
      "metadata": {},
      "outputs": [
        {
          "name": "stdout",
          "output_type": "stream",
          "text": [
            "                  NoAdı Soyadı\n",
            "\n"
          ]
        }
      ],
      "source": [
        "print(f\"{'No':>20}{'Adı Soyadı'}\\n\")"
      ]
    }
  ],
  "metadata": {
    "colab": {
      "name": "19Nisan2022.ipynb",
      "provenance": []
    },
    "kernelspec": {
      "display_name": "Python 3",
      "name": "python3"
    },
    "language_info": {
      "codemirror_mode": {
        "name": "ipython",
        "version": 3
      },
      "file_extension": ".py",
      "mimetype": "text/x-python",
      "name": "python",
      "nbconvert_exporter": "python",
      "pygments_lexer": "ipython3",
      "version": "3.9.7"
    }
  },
  "nbformat": 4,
  "nbformat_minor": 0
}
