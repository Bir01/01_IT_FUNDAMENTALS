{
  "cells": [
    {
      "cell_type": "markdown",
      "metadata": {},
      "source": [
        "## 31 Mart 2022 Python Plus: Args, Global and Local Variables, Lambda Functions"
      ]
    },
    {
      "cell_type": "code",
      "execution_count": 1,
      "metadata": {
        "colab": {
          "base_uri": "https://localhost:8080/"
        },
        "id": "iLJLovMH9z--",
        "outputId": "1d96e47f-fe25-4c7c-ca41-55ab8f7cb1cd"
      },
      "outputs": [
        {
          "name": "stdout",
          "output_type": "stream",
          "text": [
            "<zip object at 0x7fd2c01cdb80>\n"
          ]
        }
      ],
      "source": [
        "#TASK: (ali,ayse), (veli,vera), (tom, tijen), (hans,marry)\n",
        "\n",
        "def evlilik(bay, bayan): ##parametre\n",
        "    print(zip(bay,bayan))\n",
        "    \n",
        "##ana program\n",
        "adaylar = {\"bay\": [\"ali\", \"veli\",\"tom\", \"hans\"],  \n",
        "           \"bayan\":[\"ayse\", \"vera\", \"tijen\", \"marry\"]\n",
        "          }\n",
        "\n",
        "evlilik(**adaylar)  ##fonksiyon çağırma"
      ]
    },
    {
      "cell_type": "code",
      "execution_count": 3,
      "metadata": {},
      "outputs": [
        {
          "name": "stdout",
          "output_type": "stream",
          "text": [
            "('ali', 'ayse') ('veli', 'vera') ('tom', 'tijen') ('hans', 'marry')\n"
          ]
        }
      ],
      "source": [
        "#TASK: (ali,ayse), (veli,vera), (tom, tijen), (hans,marry)\n",
        "\n",
        "def evlilik(bay, bayan): ##parametre\n",
        "    print(*(zip(bay,bayan)))\n",
        "    \n",
        "##ana program\n",
        "adaylar = {\"bay\": [\"ali\", \"veli\",\"tom\", \"hans\"],  \n",
        "           \"bayan\":[\"ayse\", \"vera\", \"tijen\", \"marry\"]\n",
        "          }\n",
        "\n",
        "evlilik(**adaylar)  ##fonksiyon çağırma"
      ]
    },
    {
      "cell_type": "code",
      "execution_count": 7,
      "metadata": {},
      "outputs": [
        {
          "name": "stdout",
          "output_type": "stream",
          "text": [
            "('ali', 'ayse')\n",
            "('veli', 'vera')\n",
            "('tom', 'tijen')\n"
          ]
        }
      ],
      "source": [
        "#TASK: (ali,ayse), (veli,vera), (tom, tijen), (hans,marry)\n",
        "\n",
        "def evlilik(bay, bayan): ##parametre\n",
        "    liste = iter(zip(bay,bayan))\n",
        "    print(next(liste))\n",
        "    print(next(liste))\n",
        "    print(next(liste))\n",
        "    \n",
        "##ana program\n",
        "adaylar = {\"bay\": [\"ali\", \"veli\",\"tom\", \"hans\"],  \n",
        "           \"bayan\":[\"ayse\", \"vera\", \"tijen\", \"marry\"]\n",
        "          }\n",
        "\n",
        "evlilik(**adaylar)  ##fonksiyon çağırma"
      ]
    },
    {
      "cell_type": "code",
      "execution_count": 10,
      "metadata": {},
      "outputs": [
        {
          "name": "stdout",
          "output_type": "stream",
          "text": [
            "1\n"
          ]
        },
        {
          "ename": "TypeError",
          "evalue": "pos_only_arg() got some positional-only arguments passed as keyword arguments: 'arg'",
          "output_type": "error",
          "traceback": [
            "\u001b[0;31m---------------------------------------------------------------------------\u001b[0m",
            "\u001b[0;31mTypeError\u001b[0m                                 Traceback (most recent call last)",
            "\u001b[1;32m/home/bbc/Downloads/colab_python_bulend_16.ipynb Cell 5'\u001b[0m in \u001b[0;36m<cell line: 15>\u001b[0;34m()\u001b[0m\n\u001b[1;32m     <a href='vscode-notebook-cell:/home/bbc/Downloads/colab_python_bulend_16.ipynb#ch0000004?line=12'>13</a>\u001b[0m \u001b[39m##ana program\u001b[39;00m\n\u001b[1;32m     <a href='vscode-notebook-cell:/home/bbc/Downloads/colab_python_bulend_16.ipynb#ch0000004?line=13'>14</a>\u001b[0m standard_arg(arg\u001b[39m=\u001b[39m\u001b[39m1\u001b[39m)\n\u001b[0;32m---> <a href='vscode-notebook-cell:/home/bbc/Downloads/colab_python_bulend_16.ipynb#ch0000004?line=14'>15</a>\u001b[0m pos_only_arg(arg\u001b[39m=\u001b[39;49m\u001b[39m1\u001b[39;49m)\n",
            "\u001b[0;31mTypeError\u001b[0m: pos_only_arg() got some positional-only arguments passed as keyword arguments: 'arg'"
          ]
        }
      ],
      "source": [
        "def standard_arg(arg):\n",
        "    print(arg)\n",
        "\n",
        "def pos_only_arg(arg, /):\n",
        "    print(arg)\n",
        "\n",
        "def kwd_only_arg(*, arg):\n",
        "    print(arg)\n",
        "\n",
        "def combined_example(pos_only, /, standard, *, kwd_only):\n",
        "    print(pos_only, standard, kwd_only)\n",
        "\n",
        "##ana program\n",
        "standard_arg(arg=1)\n",
        "pos_only_arg(arg=1)"
      ]
    },
    {
      "cell_type": "code",
      "execution_count": 17,
      "metadata": {},
      "outputs": [
        {
          "ename": "UnboundLocalError",
          "evalue": "local variable 'x' referenced before assignment",
          "output_type": "error",
          "traceback": [
            "\u001b[0;31m---------------------------------------------------------------------------\u001b[0m",
            "\u001b[0;31mUnboundLocalError\u001b[0m                         Traceback (most recent call last)",
            "\u001b[1;32m/home/bbc/Downloads/colab_python_bulend_16.ipynb Cell 6'\u001b[0m in \u001b[0;36m<cell line: 8>\u001b[0;34m()\u001b[0m\n\u001b[1;32m      <a href='vscode-notebook-cell:/home/bbc/Downloads/colab_python_bulend_16.ipynb#ch0000005?line=4'>5</a>\u001b[0m     \u001b[39mprint\u001b[39m(x)\n\u001b[1;32m      <a href='vscode-notebook-cell:/home/bbc/Downloads/colab_python_bulend_16.ipynb#ch0000005?line=6'>7</a>\u001b[0m \u001b[39m##ana program\u001b[39;00m\n\u001b[0;32m----> <a href='vscode-notebook-cell:/home/bbc/Downloads/colab_python_bulend_16.ipynb#ch0000005?line=7'>8</a>\u001b[0m foo()\n",
            "\u001b[1;32m/home/bbc/Downloads/colab_python_bulend_16.ipynb Cell 6'\u001b[0m in \u001b[0;36mfoo\u001b[0;34m()\u001b[0m\n\u001b[1;32m      <a href='vscode-notebook-cell:/home/bbc/Downloads/colab_python_bulend_16.ipynb#ch0000005?line=2'>3</a>\u001b[0m \u001b[39mdef\u001b[39;00m \u001b[39mfoo\u001b[39m():\n\u001b[0;32m----> <a href='vscode-notebook-cell:/home/bbc/Downloads/colab_python_bulend_16.ipynb#ch0000005?line=3'>4</a>\u001b[0m     x \u001b[39m=\u001b[39m x\u001b[39m*\u001b[39m\u001b[39m2\u001b[39m \n\u001b[1;32m      <a href='vscode-notebook-cell:/home/bbc/Downloads/colab_python_bulend_16.ipynb#ch0000005?line=4'>5</a>\u001b[0m     \u001b[39mprint\u001b[39m(x)\n",
            "\u001b[0;31mUnboundLocalError\u001b[0m: local variable 'x' referenced before assignment"
          ]
        }
      ],
      "source": [
        "x = 5  ##global\n",
        "\n",
        "def foo():\n",
        "    x = x*2 \n",
        "    print(x)\n",
        "\n",
        "##ana program\n",
        "foo() ## foo çağrıldı"
      ]
    },
    {
      "cell_type": "code",
      "execution_count": 14,
      "metadata": {},
      "outputs": [
        {
          "name": "stdout",
          "output_type": "stream",
          "text": [
            "10\n"
          ]
        }
      ],
      "source": [
        "x = 5  ##global\n",
        "\n",
        "def foo():\n",
        "    x = 5\n",
        "    x = x*2\n",
        "    print(x)\n",
        "\n",
        "##ana program\n",
        "foo() ## foo çağrıldı"
      ]
    },
    {
      "cell_type": "code",
      "execution_count": 15,
      "metadata": {},
      "outputs": [
        {
          "name": "stdout",
          "output_type": "stream",
          "text": [
            "10\n"
          ]
        }
      ],
      "source": [
        "x = 5  ##global\n",
        "\n",
        "def foo():\n",
        "    global x\n",
        "    x = x*2\n",
        "    print(x)\n",
        "\n",
        "##ana program\n",
        "foo() ## foo çağrıldı"
      ]
    },
    {
      "cell_type": "code",
      "execution_count": 18,
      "metadata": {},
      "outputs": [
        {
          "name": "stdout",
          "output_type": "stream",
          "text": [
            "5\n"
          ]
        }
      ],
      "source": [
        "x = 5  ##global, programın her yerinde çalışır.\n",
        "\n",
        "def foo():\n",
        "    print(x)\n",
        "\n",
        "##ana program\n",
        "foo() ## foo çağrıldı"
      ]
    },
    {
      "cell_type": "code",
      "execution_count": 19,
      "metadata": {},
      "outputs": [
        {
          "ename": "NameError",
          "evalue": "name 'y' is not defined",
          "output_type": "error",
          "traceback": [
            "\u001b[0;31m---------------------------------------------------------------------------\u001b[0m",
            "\u001b[0;31mNameError\u001b[0m                                 Traceback (most recent call last)",
            "\u001b[1;32m/home/bbc/Downloads/colab_python_bulend_16.ipynb Cell 10'\u001b[0m in \u001b[0;36m<cell line: 6>\u001b[0;34m()\u001b[0m\n\u001b[1;32m      <a href='vscode-notebook-cell:/home/bbc/Downloads/colab_python_bulend_16.ipynb#ch0000009?line=1'>2</a>\u001b[0m     y \u001b[39m=\u001b[39m\u001b[39m\"\u001b[39m\u001b[39mlocal\u001b[39m\u001b[39m\"\u001b[39m\n\u001b[1;32m      <a href='vscode-notebook-cell:/home/bbc/Downloads/colab_python_bulend_16.ipynb#ch0000009?line=3'>4</a>\u001b[0m foo()\n\u001b[0;32m----> <a href='vscode-notebook-cell:/home/bbc/Downloads/colab_python_bulend_16.ipynb#ch0000009?line=5'>6</a>\u001b[0m \u001b[39mprint\u001b[39m(y)\n",
            "\u001b[0;31mNameError\u001b[0m: name 'y' is not defined"
          ]
        }
      ],
      "source": [
        "def foo():\n",
        "    y =\"local\"\n",
        "\n",
        "foo()\n",
        "\n",
        "print(y)"
      ]
    },
    {
      "cell_type": "code",
      "execution_count": 20,
      "metadata": {},
      "outputs": [
        {
          "name": "stdout",
          "output_type": "stream",
          "text": [
            "local\n",
            "global\n"
          ]
        }
      ],
      "source": [
        "var = \"global\"\n",
        "def func_outer():\n",
        "    var =\"enclosing outer local\"\n",
        "    def func_inner():\n",
        "        var=\"enclosing inner local\"\n",
        "        def func_local():\n",
        "            var=\"local\"\n",
        "            print(var)\n",
        "        func_local()\n",
        "    func_inner()\n",
        "\n",
        "#ana program\n",
        "func_outer()\n",
        "print(var)"
      ]
    },
    {
      "cell_type": "code",
      "execution_count": 22,
      "metadata": {},
      "outputs": [
        {
          "name": "stdout",
          "output_type": "stream",
          "text": [
            "1\n",
            "\n",
            "1\n",
            "2\n"
          ]
        }
      ],
      "source": [
        "count = 1\n",
        "def print_global():\n",
        "    print(count)\n",
        "\n",
        "print_global()\n",
        "\n",
        "def print_local():\n",
        "    global count  ##localdeki değeri globale taşıdık/yansıttık...\n",
        "    print(count)\n",
        "    count+=1 \n",
        "\n",
        "print()\n",
        "print_local()\n",
        "print(count)\n"
      ]
    },
    {
      "cell_type": "code",
      "execution_count": 25,
      "metadata": {},
      "outputs": [
        {
          "name": "stdout",
          "output_type": "stream",
          "text": [
            "1\n",
            "\n",
            "2\n",
            "\n",
            "3\n"
          ]
        }
      ],
      "source": [
        "count = 1\n",
        "\n",
        "def print_local():\n",
        "    global count  ##localdeki değeri globale taşıdık/yansıttık...\n",
        "    print(count)\n",
        "    count += 1 \n",
        "\n",
        "print_local()\n",
        "print()\n",
        "print_local()\n",
        "print()\n",
        "print_local()"
      ]
    },
    {
      "cell_type": "code",
      "execution_count": 27,
      "metadata": {},
      "outputs": [
        {
          "name": "stdout",
          "output_type": "stream",
          "text": [
            "1\n",
            "1\n",
            "1\n"
          ]
        }
      ],
      "source": [
        "count = 1\n",
        "\n",
        "def print_local():\n",
        "    count = 1  ##localdeki değeri globale taşıdık/yansıttık...\n",
        "    print(count)\n",
        "    count+=1 \n",
        "\n",
        "print_local()\n",
        "print_local()\n",
        "print_local()"
      ]
    },
    {
      "cell_type": "code",
      "execution_count": 30,
      "metadata": {},
      "outputs": [
        {
          "name": "stdout",
          "output_type": "stream",
          "text": [
            "inner: inner variable\n",
            "outer: outer variable\n"
          ]
        }
      ],
      "source": [
        "def enclosing_func1():\n",
        "    x = \"outer variable\"\n",
        "    \n",
        "    def enclosing_func2():\n",
        "        x = \"inner variable\"\n",
        "        print(\"inner:\", x)\n",
        "    \n",
        "    enclosing_func2()\n",
        "    print(\"outer:\", x)\n",
        "\n",
        "enclosing_func1()"
      ]
    },
    {
      "cell_type": "code",
      "execution_count": 31,
      "metadata": {},
      "outputs": [
        {
          "name": "stdout",
          "output_type": "stream",
          "text": [
            "inner: inner variable\n",
            "outer: inner variable\n"
          ]
        }
      ],
      "source": [
        "def enclosing_func1():\n",
        "    x = \"outer variable\"\n",
        "    \n",
        "    def enclosing_func2():\n",
        "        nonlocal x\n",
        "        x = \"inner variable\"\n",
        "        print(\"inner:\", x)\n",
        "    \n",
        "    enclosing_func2()\n",
        "    print(\"outer:\", x)\n",
        "\n",
        "enclosing_func1()"
      ]
    },
    {
      "cell_type": "code",
      "execution_count": null,
      "metadata": {},
      "outputs": [],
      "source": [
        "def enclosing_func1():\n",
        "    x = \"outer variable\"\n",
        "    \n",
        "    def enclosing_func2():\n",
        "        x = \"inner variable\"\n",
        "        print(\"inner:\", x)\n",
        "    \n",
        "    enclosing_func2()\n",
        "    print(\"outer:\", x)\n",
        "\n",
        "## ana program\n",
        "enclosing_func2()  ##en içteki fonks. doğrudan erişemiyoruz..."
      ]
    },
    {
      "cell_type": "code",
      "execution_count": 34,
      "metadata": {},
      "outputs": [
        {
          "name": "stdout",
          "output_type": "stream",
          "text": [
            "one\n"
          ]
        }
      ],
      "source": [
        "var = 1\n",
        "def assigner(a):\n",
        "    global var\n",
        "    var = a\n",
        "\n",
        "\n",
        "assigner(\"one\")\n",
        "print(var)"
      ]
    },
    {
      "cell_type": "code",
      "execution_count": 35,
      "metadata": {},
      "outputs": [
        {
          "ename": "SyntaxError",
          "evalue": "no binding for nonlocal 'var' found (3325717967.py, line 3)",
          "output_type": "error",
          "traceback": [
            "\u001b[0;36m  Input \u001b[0;32mIn [35]\u001b[0;36m\u001b[0m\n\u001b[0;31m    nonlocal var\u001b[0m\n\u001b[0m    ^\u001b[0m\n\u001b[0;31mSyntaxError\u001b[0m\u001b[0;31m:\u001b[0m no binding for nonlocal 'var' found\n"
          ]
        }
      ],
      "source": [
        "var = 1\n",
        "def assigner(a):\n",
        "    nonlocal var  ## içiçe fonksiyon olması lazım\n",
        "    var = a\n",
        "\n",
        "\n",
        "assigner(\"one\")\n",
        "print(var)"
      ]
    },
    {
      "cell_type": "code",
      "execution_count": 38,
      "metadata": {},
      "outputs": [
        {
          "data": {
            "text/plain": [
              "4"
            ]
          },
          "execution_count": 38,
          "metadata": {},
          "output_type": "execute_result"
        }
      ],
      "source": [
        "def a(x):\n",
        "    return x**2\n",
        "\n",
        "a(2)"
      ]
    },
    {
      "cell_type": "code",
      "execution_count": 37,
      "metadata": {},
      "outputs": [
        {
          "data": {
            "text/plain": [
              "<function __main__.<lambda>(a)>"
            ]
          },
          "execution_count": 37,
          "metadata": {},
          "output_type": "execute_result"
        }
      ],
      "source": [
        "lambda a: a**2"
      ]
    },
    {
      "cell_type": "code",
      "execution_count": 39,
      "metadata": {},
      "outputs": [
        {
          "data": {
            "text/plain": [
              "4"
            ]
          },
          "execution_count": 39,
          "metadata": {},
          "output_type": "execute_result"
        }
      ],
      "source": [
        "sonuc = (lambda a: a**2) (2)\n",
        "sonuc"
      ]
    },
    {
      "cell_type": "code",
      "execution_count": null,
      "metadata": {},
      "outputs": [],
      "source": [
        "# sonuc =  (lambda degisken: ifadeler) (parametreler)"
      ]
    },
    {
      "cell_type": "code",
      "execution_count": 40,
      "metadata": {},
      "outputs": [
        {
          "name": "stdout",
          "output_type": "stream",
          "text": [
            "4\n"
          ]
        }
      ],
      "source": [
        "print((lambda a: a**2) (2))"
      ]
    },
    {
      "cell_type": "code",
      "execution_count": 41,
      "metadata": {},
      "outputs": [
        {
          "data": {
            "text/plain": [
              "<function __main__.<lambda>(x, y)>"
            ]
          },
          "execution_count": 41,
          "metadata": {},
          "output_type": "execute_result"
        }
      ],
      "source": [
        "lambda x,y:(x+y)/2"
      ]
    },
    {
      "cell_type": "code",
      "execution_count": 44,
      "metadata": {},
      "outputs": [
        {
          "name": "stdout",
          "output_type": "stream",
          "text": [
            "3.0\n"
          ]
        }
      ],
      "source": [
        "print( (lambda x,y:(x+y)/2) (2,4) )"
      ]
    },
    {
      "cell_type": "code",
      "execution_count": 45,
      "metadata": {},
      "outputs": [
        {
          "name": "stdout",
          "output_type": "stream",
          "text": [
            "3.0\n"
          ]
        }
      ],
      "source": [
        " sonuc = (lambda x,y:(x+y)/2) (2,4)\n",
        " print(sonuc) "
      ]
    },
    {
      "cell_type": "code",
      "execution_count": 47,
      "metadata": {},
      "outputs": [
        {
          "name": "stdout",
          "output_type": "stream",
          "text": [
            "odd\n"
          ]
        }
      ],
      "source": [
        "sonuc = (lambda x : \"odd\" if x%2!=0 else \"even\") (5)\n",
        "print(sonuc)"
      ]
    },
    {
      "cell_type": "code",
      "execution_count": 48,
      "metadata": {},
      "outputs": [
        {
          "data": {
            "text/plain": [
              "'odd'"
            ]
          },
          "execution_count": 48,
          "metadata": {},
          "output_type": "execute_result"
        }
      ],
      "source": [
        "(lambda x : \"odd\" if x%2!=0 else \"even\") (5)"
      ]
    },
    {
      "cell_type": "code",
      "execution_count": 49,
      "metadata": {},
      "outputs": [
        {
          "data": {
            "text/plain": [
              "[6, 5, 4, 3, 2, 1]"
            ]
          },
          "execution_count": 49,
          "metadata": {},
          "output_type": "execute_result"
        }
      ],
      "source": [
        "def reverser(liste):\n",
        "    return liste[::-1]\n",
        "\n",
        "liste = [1,2,3,4,5,6]\n",
        "reverser(liste)"
      ]
    },
    {
      "cell_type": "code",
      "execution_count": 50,
      "metadata": {},
      "outputs": [
        {
          "name": "stdout",
          "output_type": "stream",
          "text": [
            "[6, 5, 4, 3, 2, 1]\n"
          ]
        }
      ],
      "source": [
        "liste = [1,2,3,4,5,6]\n",
        "reverser =  (lambda liste: liste[::-1]) (liste)\n",
        "print(reverser)"
      ]
    },
    {
      "cell_type": "code",
      "execution_count": 51,
      "metadata": {},
      "outputs": [
        {
          "name": "stdout",
          "output_type": "stream",
          "text": [
            "1 : odd\n",
            "2 : even\n",
            "3 : odd\n",
            "4 : even\n",
            "5 : odd\n",
            "6 : even\n"
          ]
        }
      ],
      "source": [
        "liste = [1,2,3,4,5,6]\n",
        "for i in liste:\n",
        "   print(i,\":\", (lambda x : \"odd\" if x%2!=0 else \"even\") (i) )"
      ]
    },
    {
      "cell_type": "code",
      "execution_count": 52,
      "metadata": {},
      "outputs": [
        {
          "name": "stdout",
          "output_type": "stream",
          "text": [
            "['odd', 'even', 'odd', 'even', 'odd', 'even']\n"
          ]
        }
      ],
      "source": [
        "liste = [1,2,3,4,5,6]\n",
        "print(list(map(lambda x : \"odd\" if x%2!=0 else \"even\", liste)))"
      ]
    },
    {
      "cell_type": "code",
      "execution_count": 53,
      "metadata": {},
      "outputs": [
        {
          "data": {
            "text/plain": [
              "map"
            ]
          },
          "execution_count": 53,
          "metadata": {},
          "output_type": "execute_result"
        }
      ],
      "source": [
        "iterable = [1,2,3,4,5,6]\n",
        "result = map(lambda x : x**2, iterable)\n",
        "type(result)"
      ]
    },
    {
      "cell_type": "code",
      "execution_count": 54,
      "metadata": {},
      "outputs": [
        {
          "name": "stdout",
          "output_type": "stream",
          "text": [
            "<map object at 0x7fd2a37d1880>\n"
          ]
        }
      ],
      "source": [
        "iterable = [1,2,3,4,5,6]\n",
        "result = map(lambda x : x**2, iterable)\n",
        "print(result)"
      ]
    },
    {
      "cell_type": "code",
      "execution_count": 55,
      "metadata": {},
      "outputs": [
        {
          "name": "stdout",
          "output_type": "stream",
          "text": [
            "[1, 4, 9, 16, 25, 36]\n"
          ]
        }
      ],
      "source": [
        "iterable = [1,2,3,4,5,6]\n",
        "result = map(lambda x : x**2, iterable)\n",
        "print(list(result))"
      ]
    },
    {
      "cell_type": "code",
      "execution_count": 57,
      "metadata": {},
      "outputs": [
        {
          "name": "stdout",
          "output_type": "stream",
          "text": [
            "[1, 4, 9, 16, 25, 36]\n"
          ]
        }
      ],
      "source": [
        "iterable = [1,2,3,4,5,6]\n",
        "print(list(map(lambda x : x**2, iterable)))\n"
      ]
    },
    {
      "cell_type": "code",
      "execution_count": 58,
      "metadata": {},
      "outputs": [
        {
          "name": "stdout",
          "output_type": "stream",
          "text": [
            "['one', 'two', 'ten', 'six']\n"
          ]
        }
      ],
      "source": [
        "l1 = ['o', 't', 't', 's']\n",
        "l2 = ['n', 'w', 'e', 'i']\n",
        "l3 = ['e', 'o', 'n', 'x']\n",
        "\n",
        "numbers = map(lambda x,y,z: x+y+z, l1,l2,l3)\n",
        "print(list(numbers))"
      ]
    },
    {
      "cell_type": "code",
      "execution_count": 59,
      "metadata": {},
      "outputs": [
        {
          "name": "stdout",
          "output_type": "stream",
          "text": [
            "[6.0, 6.0, 6.0, 6.0]\n"
          ]
        }
      ],
      "source": [
        "nums1 = [9,6,7,4]\n",
        "nums2 = [3,6,5,8]\n",
        "numbers = map(lambda x,y: (x+y)/2, nums1,nums2)\n",
        "print(list(numbers))"
      ]
    },
    {
      "cell_type": "code",
      "execution_count": 62,
      "metadata": {},
      "outputs": [
        {
          "name": "stdout",
          "output_type": "stream",
          "text": [
            "[2, 4, 6, 8]\n"
          ]
        }
      ],
      "source": [
        "iterable = [1,2,3,4,5,6,7,8,9]\n",
        "result = filter(lambda x : x%2==0, iterable)\n",
        "print(list(result))"
      ]
    },
    {
      "cell_type": "code",
      "execution_count": 63,
      "metadata": {},
      "outputs": [
        {
          "data": {
            "text/plain": [
              "['swim', 'me', 'kiwi']"
            ]
          },
          "execution_count": 63,
          "metadata": {},
          "output_type": "execute_result"
        }
      ],
      "source": [
        "words = [\"apple\", \"swim\", \"clock\", \"me\", \"kiwi\", \"banana\"]\n",
        "list(filter(lambda x: len(x)<5, words))\n"
      ]
    },
    {
      "cell_type": "code",
      "execution_count": 76,
      "metadata": {},
      "outputs": [
        {
          "name": "stdout",
          "output_type": "stream",
          "text": [
            "['swim', 'me', 'kiwi']\n"
          ]
        }
      ],
      "source": [
        "words = [\"apple\", \"swim\", \"clock\", \"me\", \"kiwi\", \"banana\"]\n",
        "def x(liste):\n",
        "    return len(liste)<5 ##True / False\n",
        "\n",
        "##ana program\n",
        "print(list(filter(x, words)))\n"
      ]
    },
    {
      "cell_type": "code",
      "execution_count": 77,
      "metadata": {},
      "outputs": [
        {
          "name": "stdout",
          "output_type": "stream",
          "text": [
            "swim\n",
            "me\n",
            "kiwi\n"
          ]
        }
      ],
      "source": [
        "words = [\"apple\", \"swim\", \"clock\", \"me\", \"kiwi\", \"banana\"]\n",
        "for i in filter(lambda x: len(x)<5, words):\n",
        "    print (i)"
      ]
    },
    {
      "cell_type": "code",
      "execution_count": 79,
      "metadata": {},
      "outputs": [
        {
          "name": "stdout",
          "output_type": "stream",
          "text": [
            "['a', 'e', 'i']\n",
            "['b', 'c', 'd', 'f', 'g', 'h', 'j']\n"
          ]
        }
      ],
      "source": [
        "liste = ['a', 'b', 'c', 'd', 'e', 'f', 'g', 'h', 'i', 'j']\n",
        "vowels = ['a', 'e', 'i', 'o', 'u']\n",
        "sesliharfler = list(filter(lambda x: x in vowels, liste))\n",
        "\n",
        "sessizharfler = list(filter(lambda x: x not in vowels, liste))\n",
        "\n",
        "print(sesliharfler)\n",
        "print(sessizharfler)\n"
      ]
    }
  ],
  "metadata": {
    "colab": {
      "name": "colab_python_bulend_16.ipynb",
      "provenance": []
    },
    "kernelspec": {
      "display_name": "Python 3",
      "name": "python3"
    },
    "language_info": {
      "codemirror_mode": {
        "name": "ipython",
        "version": 3
      },
      "file_extension": ".py",
      "mimetype": "text/x-python",
      "name": "python",
      "nbconvert_exporter": "python",
      "pygments_lexer": "ipython3",
      "version": "3.8.10"
    }
  },
  "nbformat": 4,
  "nbformat_minor": 0
}
