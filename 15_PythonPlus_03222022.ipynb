{
 "cells": [
  {
   "cell_type": "markdown",
   "metadata": {},
   "source": [
    "<p align=\"center\">\n",
    "<img src=\"https://docs.google.com/uc?id=14xeXxFrVRjvOoUYWn_GuyE-v84wVzrqr\" class=\"img-fluid\" alt=\"CLRWY\" width=\"600\" height=\"120\" >\n",
    "</p>"
   ]
  },
  {
   "cell_type": "markdown",
   "metadata": {},
   "source": [
    "<h1><p style=\"text-align: center; color:blue\">Python In-Class Session 15, <br>24 March 2022</p><h1>"
   ]
  },
  {
   "cell_type": "markdown",
   "metadata": {},
   "source": [
    "# Functions"
   ]
  },
  {
   "cell_type": "code",
   "execution_count": 16,
   "metadata": {},
   "outputs": [
    {
     "ename": "SyntaxError",
     "evalue": "invalid syntax (2895140233.py, line 1)",
     "output_type": "error",
     "traceback": [
      "\u001b[0;36m  Input \u001b[0;32mIn [16]\u001b[0;36m\u001b[0m\n\u001b[0;31m    def myFunction()\u001b[0m\n\u001b[0m                    ^\u001b[0m\n\u001b[0;31mSyntaxError\u001b[0m\u001b[0;31m:\u001b[0m invalid syntax\n"
     ]
    }
   ],
   "source": [
    "def myFunction()\n",
    "    print(6+int(\"6\"))\n",
    "\n",
    "myFunction()"
   ]
  },
  {
   "cell_type": "code",
   "execution_count": null,
   "metadata": {},
   "outputs": [],
   "source": [
    "def myFunction(a,b):\n",
    "    print(int(a)+int(b))\n",
    "\n",
    "myFunction(\"5\",\"6\")"
   ]
  },
  {
   "cell_type": "code",
   "execution_count": null,
   "metadata": {},
   "outputs": [],
   "source": [
    "def myFunction(int(a),int(b)):\n",
    "    print(a+b)\n",
    "\n",
    "myFunction(\"5\",\"6\")"
   ]
  },
  {
   "cell_type": "code",
   "execution_count": null,
   "metadata": {},
   "outputs": [],
   "source": [
    "abs.__doc__"
   ]
  },
  {
   "cell_type": "code",
   "execution_count": null,
   "metadata": {},
   "outputs": [],
   "source": [
    "help(abs)"
   ]
  },
  {
   "cell_type": "code",
   "execution_count": null,
   "metadata": {},
   "outputs": [],
   "source": [
    "print(round(3.665, 2)) # 3.67\n",
    "print(round(3.675, 2)) # 3.68  ##math module ceil, floor"
   ]
  },
  {
   "cell_type": "code",
   "execution_count": null,
   "metadata": {},
   "outputs": [],
   "source": [
    "##geriye değer döndürmeyen fonksiyonlar: tipi: NoneType\n",
    "def menu():\n",
    "    print(\"Toplama\")\n",
    "    print(\"Çıkarma\")\n",
    "\n",
    "menu()"
   ]
  },
  {
   "cell_type": "code",
   "execution_count": null,
   "metadata": {},
   "outputs": [],
   "source": [
    "def togg():\n",
    "    pass  ##içeriği boş, geriye değer döndürmüyor\n",
    "\n",
    "print(togg())\n",
    "type(togg())"
   ]
  },
  {
   "cell_type": "code",
   "execution_count": null,
   "metadata": {},
   "outputs": [],
   "source": [
    "def togg():\n",
    "    return  ##içeriği boş, geriye değer döndürmüyor\n",
    "\n",
    "print(togg())\n",
    "type(togg())"
   ]
  },
  {
   "cell_type": "code",
   "execution_count": null,
   "metadata": {},
   "outputs": [],
   "source": [
    "##geriye değer döndüren fonksiyonlar: tipi return yanına yazılan değere göre değişir.\n",
    "def us():\n",
    "    return 2**3\n",
    "\n",
    "print(us())\n",
    "type(us())"
   ]
  },
  {
   "cell_type": "code",
   "execution_count": null,
   "metadata": {},
   "outputs": [],
   "source": [
    "##geriye değer döndüren fonksiyonlar: tipi return yanına yazılan değere göre değişir.\n",
    "def us():\n",
    "    return 2.3**3\n",
    "\n",
    "print(us())\n",
    "type(us())"
   ]
  },
  {
   "cell_type": "code",
   "execution_count": null,
   "metadata": {},
   "outputs": [],
   "source": [
    "##geriye değer döndüren fonksiyonlar: tipi return yanına yazılan değere göre değişir.\n",
    "def us(a):\n",
    "    return \"çift\" if a%2==0 else \"tek\" \n",
    "\n",
    "print(us(3))\n",
    "type(us(3))"
   ]
  },
  {
   "cell_type": "markdown",
   "metadata": {},
   "source": [
    "## recursive functions"
   ]
  },
  {
   "cell_type": "markdown",
   "metadata": {},
   "source": [
    "Eğer fonksiyon kendi kendi çağırıyorsa veya\n",
    "kendine atıfta bulunuyorsa bu fonksiyon recursive(özyinelemeli) fonksiyondur.\n"
   ]
  },
  {
   "cell_type": "code",
   "execution_count": null,
   "metadata": {},
   "outputs": [],
   "source": [
    "##döngüsel yaklaşım ile faktoriyel fonksiyonu tasarlayalım\n",
    "## 5 = 5*4*3*2*1\n",
    "def fakt(n):\n",
    "    f=1\n",
    "    for i in range(n,0,-1): ##i: 5, 4, 3, 2, 1\n",
    "       f = f * i  ##sonuç f değişkeninde tutuldu. (yığmalı çarpma)\n",
    "    \n",
    "    return f\n",
    "\n",
    "##ana program\n",
    "print(fakt(5))"
   ]
  },
  {
   "cell_type": "code",
   "execution_count": null,
   "metadata": {},
   "outputs": [],
   "source": [
    "## recursive yaklaşım\n",
    "## 5! = 5*4! = 5*4*3! = 5*4*3*2! = 5*4*3*2*1! = 5*4*3*2*1 = 120\n",
    "## n! = n*(n-1)! = n*(n-1)*(n-2)! = ....\n",
    "def fakt(n):\n",
    "    if n<=1:\n",
    "        return 1\n",
    "    else:\n",
    "        return n*fakt(n-1)\n",
    "\n",
    "##ana program\n",
    "print(fakt(5))"
   ]
  },
  {
   "cell_type": "code",
   "execution_count": null,
   "metadata": {},
   "outputs": [
    {
     "name": "stdout",
     "output_type": "stream",
     "text": [
      "0 1 1 2 3 5 8 13 21 34 55 89 144 233 377 610 987 \n"
     ]
    }
   ],
   "source": [
    "# Python 3: Fibonacci series : döngüsel yaklaşım ile çözümü\n",
    "def fib(n):\n",
    "    a, b = 0, 1\n",
    "    while a < n:\n",
    "        print(a, end=' ')\n",
    "        a, b = b, a+b ##yer değiştirme a=b, b = a+b\n",
    "    print()\n",
    "##Ana program\n",
    "fib(1000)"
   ]
  },
  {
   "cell_type": "code",
   "execution_count": null,
   "metadata": {},
   "outputs": [],
   "source": [
    "##fibonaCCİ serisinin recursive çözümü\n",
    "def fib(n):\n",
    "    if n in {0,1}:\n",
    "        return n\n",
    "    else:\n",
    "        return fib(n-1) + fib(n-2)\n",
    "\n",
    "##Ana program\n",
    "for i in range(5): ##ilk 15 elemanı ver\n",
    "    print(fib(i), end = \" \")\n",
    "\n",
    "### n = "
   ]
  },
  {
   "cell_type": "code",
   "execution_count": null,
   "metadata": {},
   "outputs": [
    {
     "name": "stdout",
     "output_type": "stream",
     "text": [
      "16\n"
     ]
    }
   ],
   "source": [
    "## 2^n alma fonksiyonu\n",
    "## 2^5 = 2* 2^4\n",
    "## 2^4 = 2* 2^3\n",
    "## 2^3 = 2* 2^2\n",
    "## 2^2 = 2* 2^1\n",
    "## 2^1 = 2* 2^0\n",
    "## 2^0 = 1\n",
    "\n",
    "def iki_us(n):\n",
    "    if n==0:\n",
    "        return 1\n",
    "    else:\n",
    "        return 2*iki_us(n-1)\n",
    "\n",
    "##ana program\n",
    "n = 4\n",
    "print(iki_us(n))"
   ]
  },
  {
   "cell_type": "code",
   "execution_count": null,
   "metadata": {},
   "outputs": [
    {
     "name": "stdout",
     "output_type": "stream",
     "text": [
      "16\n"
     ]
    }
   ],
   "source": [
    "def iki_us(n):\n",
    "    if n>0:\n",
    "        return 2*iki_us(n-1)\n",
    "    else:\n",
    "        return 1\n",
    "\n",
    "##ana program\n",
    "n = 4\n",
    "print(iki_us(n))"
   ]
  },
  {
   "cell_type": "code",
   "execution_count": null,
   "metadata": {},
   "outputs": [
    {
     "name": "stdout",
     "output_type": "stream",
     "text": [
      "I love you ❤\n"
     ]
    }
   ],
   "source": [
    "##keywords arguments örneğimiz\n",
    "def texter(text1,text2,text3,text4):\n",
    "    return f\"{text2} {text3} {text1} {text4}\"\n",
    "\n",
    "print(texter(\"you\",\"I\",\"love\",\"❤\")) "
   ]
  },
  {
   "cell_type": "code",
   "execution_count": null,
   "metadata": {},
   "outputs": [
    {
     "name": "stdout",
     "output_type": "stream",
     "text": [
      "I love you\n"
     ]
    }
   ],
   "source": [
    "##keywords arguments örneğimiz\n",
    "def texter(text1,text2,text3):\n",
    "    return f\"{text2} {text3} {text1}\"\n",
    "\n",
    "print(texter(text1=\"you\",text2=\"I\",text3=\"love\")) "
   ]
  },
  {
   "cell_type": "code",
   "execution_count": null,
   "metadata": {},
   "outputs": [
    {
     "name": "stdout",
     "output_type": "stream",
     "text": [
      "-- This parrot wouldn't voom if you put 1000 volts through it.\n",
      "-- Lovely plumage, the Norwegian Blue\n",
      "-- It's a stiff !\n"
     ]
    }
   ],
   "source": [
    "def parrot(voltage, state='a stiff', action='voom', type='Norwegian Blue'):\n",
    "    print(\"-- This parrot wouldn't\", action, end=' ')\n",
    "    print(\"if you put\", voltage, \"volts through it.\")\n",
    "    print(\"-- Lovely plumage, the\", type)\n",
    "    print(\"-- It's\", state, \"!\")\n",
    "\n",
    "parrot(1000)"
   ]
  },
  {
   "cell_type": "code",
   "execution_count": null,
   "metadata": {},
   "outputs": [
    {
     "ename": "SyntaxError",
     "evalue": "invalid syntax (1966136401.py, line 1)",
     "output_type": "error",
     "traceback": [
      "\u001b[0;36m  Input \u001b[0;32mIn [13]\u001b[0;36m\u001b[0m\n\u001b[0;31m    def parrot(voltage, state='a stiff', action='voom', is?='Norwegian Blue'):\u001b[0m\n\u001b[0m                                                        ^\u001b[0m\n\u001b[0;31mSyntaxError\u001b[0m\u001b[0;31m:\u001b[0m invalid syntax\n"
     ]
    }
   ],
   "source": [
    "def parrot(voltage, state='a stiff', action='voom', is?='Norwegian Blue'):\n",
    "    print(\"-- This parrot wouldn't\", action, end=' ')\n",
    "    print(\"if you put\", voltage, \"volts through it.\")\n",
    "    print(\"-- Lovely plumage, the\", is?)\n",
    "    print(\"-- It's\", state, \"!\")\n",
    "\n",
    "parrot(1000)"
   ]
  },
  {
   "cell_type": "code",
   "execution_count": null,
   "metadata": {},
   "outputs": [],
   "source": [
    "import keyword\n",
    "keyword.kwlist"
   ]
  },
  {
   "cell_type": "code",
   "execution_count": 17,
   "metadata": {},
   "outputs": [
    {
     "name": "stdout",
     "output_type": "stream",
     "text": [
      "-- This parrot wouldn't voom if you put 500 volts through it.\n",
      "-- Lovely plumage, the Norwegian Blue\n",
      "-- It's a stiff !\n"
     ]
    }
   ],
   "source": [
    "def parrot(voltage, state='a stiff', action='voom', type='Norwegian Blue'):\n",
    "    print(\"-- This parrot wouldn't\", action, end=' ')\n",
    "    print(\"if you put\", voltage, \"volts through it.\")\n",
    "    print(\"-- Lovely plumage, the\", type)\n",
    "    print(\"-- It's\", state, \"!\")\n",
    "\n",
    "parrot(voltage = 500) ##voltage is a kwargs"
   ]
  },
  {
   "cell_type": "code",
   "execution_count": 19,
   "metadata": {},
   "outputs": [
    {
     "name": "stdout",
     "output_type": "stream",
     "text": [
      "-- This parrot wouldn't VOOOM! if you put 500 volts through it.\n",
      "-- Lovely plumage, the Norwegian Blue\n",
      "-- It's a stiff !\n"
     ]
    }
   ],
   "source": [
    "def parrot(voltage, state='a stiff', action='voom', type='Norwegian Blue'):\n",
    "    print(\"-- This parrot wouldn't\", action, end=' ')\n",
    "    print(\"if you put\", voltage, \"volts through it.\")\n",
    "    print(\"-- Lovely plumage, the\", type)\n",
    "    print(\"-- It's\", state, \"!\")\n",
    "\n",
    "parrot(500, action =\"VOOOM!\") ##voltage is a kwargs"
   ]
  },
  {
   "cell_type": "code",
   "execution_count": 20,
   "metadata": {},
   "outputs": [
    {
     "ename": "SyntaxError",
     "evalue": "positional argument follows keyword argument (1225176278.py, line 7)",
     "output_type": "error",
     "traceback": [
      "\u001b[0;36m  Input \u001b[0;32mIn [20]\u001b[0;36m\u001b[0m\n\u001b[0;31m    parrot(action =\"VOOOM!\", 500) ##voltage is a kwargs\u001b[0m\n\u001b[0m                             ^\u001b[0m\n\u001b[0;31mSyntaxError\u001b[0m\u001b[0;31m:\u001b[0m positional argument follows keyword argument\n"
     ]
    }
   ],
   "source": [
    "def parrot(voltage, state='a stiff', action='voom', type='Norwegian Blue'):\n",
    "    print(\"-- This parrot wouldn't\", action, end=' ')\n",
    "    print(\"if you put\", voltage, \"volts through it.\")\n",
    "    print(\"-- Lovely plumage, the\", type)\n",
    "    print(\"-- It's\", state, \"!\")\n",
    "\n",
    "parrot(action =\"VOOOM!\", 500) ##voltage is a positional args"
   ]
  },
  {
   "cell_type": "code",
   "execution_count": 21,
   "metadata": {},
   "outputs": [
    {
     "name": "stdout",
     "output_type": "stream",
     "text": [
      "-- This parrot wouldn't VOOOM! if you put 500 volts through it.\n",
      "-- Lovely plumage, the Norwegian Blue\n",
      "-- It's a stiff !\n"
     ]
    }
   ],
   "source": [
    "def parrot(voltage, state='a stiff', action='voom', type='Norwegian Blue'):\n",
    "    print(\"-- This parrot wouldn't\", action, end=' ')\n",
    "    print(\"if you put\", voltage, \"volts through it.\")\n",
    "    print(\"-- Lovely plumage, the\", type)\n",
    "    print(\"-- It's\", state, \"!\")\n",
    "\n",
    "parrot(action =\"VOOOM!\", voltage= 500) ##voltage is a kwargs"
   ]
  },
  {
   "cell_type": "code",
   "execution_count": 22,
   "metadata": {},
   "outputs": [
    {
     "ename": "SyntaxError",
     "evalue": "non-default argument follows default argument (352139725.py, line 1)",
     "output_type": "error",
     "traceback": [
      "\u001b[0;36m  Input \u001b[0;32mIn [22]\u001b[0;36m\u001b[0m\n\u001b[0;31m    def parrot(state='a stiff', action='voom', type='Norwegian Blue', voltage):\u001b[0m\n\u001b[0m               ^\u001b[0m\n\u001b[0;31mSyntaxError\u001b[0m\u001b[0;31m:\u001b[0m non-default argument follows default argument\n"
     ]
    }
   ],
   "source": [
    "def parrot(state='a stiff', action='voom', type='Norwegian Blue', voltage):\n",
    "    print(\"-- This parrot wouldn't\", action, end=' ')\n",
    "    print(\"if you put\", voltage, \"volts through it.\")\n",
    "    print(\"-- Lovely plumage, the\", type)\n",
    "    print(\"-- It's\", state, \"!\")\n",
    "\n",
    "parrot(voltage=500, action =\"VOOOM!\") ##voltage is a kwargs"
   ]
  },
  {
   "cell_type": "code",
   "execution_count": 23,
   "metadata": {},
   "outputs": [
    {
     "name": "stdout",
     "output_type": "stream",
     "text": [
      "-- This parrot wouldn't jump if you put a million volts through it.\n",
      "-- Lovely plumage, the Norwegian Blue\n",
      "-- It's bereft of life !\n"
     ]
    }
   ],
   "source": [
    "def parrot(voltage, state='a stiff', action='voom', type='Norwegian Blue'):\n",
    "    print(\"-- This parrot wouldn't\", action, end=' ')\n",
    "    print(\"if you put\", voltage, \"volts through it.\")\n",
    "    print(\"-- Lovely plumage, the\", type)\n",
    "    print(\"-- It's\", state, \"!\")\n",
    "\n",
    "parrot(\"a million\", \"bereft of life\", \"jump\") ##positional args."
   ]
  },
  {
   "cell_type": "code",
   "execution_count": 24,
   "metadata": {},
   "outputs": [
    {
     "name": "stdout",
     "output_type": "stream",
     "text": [
      "-- This parrot wouldn't voom if you put a thousand volts through it.\n",
      "-- Lovely plumage, the Norwegian Blue\n",
      "-- It's bereft of life !\n"
     ]
    }
   ],
   "source": [
    "def parrot(voltage, state='a stiff', action='voom', type='Norwegian Blue'):\n",
    "    print(\"-- This parrot wouldn't\", action, end=' ')\n",
    "    print(\"if you put\", voltage, \"volts through it.\")\n",
    "    print(\"-- Lovely plumage, the\", type)\n",
    "    print(\"-- It's\", state, \"!\")\n",
    "\n",
    "parrot(\"a thousand\", state =\"bereft of life\") ##args, kwargs."
   ]
  },
  {
   "cell_type": "code",
   "execution_count": 25,
   "metadata": {},
   "outputs": [
    {
     "ename": "SyntaxError",
     "evalue": "positional argument follows keyword argument (3643339910.py, line 7)",
     "output_type": "error",
     "traceback": [
      "\u001b[0;36m  Input \u001b[0;32mIn [25]\u001b[0;36m\u001b[0m\n\u001b[0;31m    parrot(state =\"bereft of life\", \"a thousand\") ##args, kwargs.\u001b[0m\n\u001b[0m                                    ^\u001b[0m\n\u001b[0;31mSyntaxError\u001b[0m\u001b[0;31m:\u001b[0m positional argument follows keyword argument\n"
     ]
    }
   ],
   "source": [
    "def parrot(voltage, state='a stiff', action='voom', type='Norwegian Blue'):\n",
    "    print(\"-- This parrot wouldn't\", action, end=' ')\n",
    "    print(\"if you put\", voltage, \"volts through it.\")\n",
    "    print(\"-- Lovely plumage, the\", type)\n",
    "    print(\"-- It's\", state, \"!\")\n",
    "\n",
    "parrot(state =\"bereft of life\", \"a thousand\") ##args, kwargs."
   ]
  },
  {
   "cell_type": "markdown",
   "metadata": {},
   "source": [
    "# çağırırken de tanımlarken de positional argümanlar önce yazılır...."
   ]
  },
  {
   "cell_type": "code",
   "execution_count": 26,
   "metadata": {},
   "outputs": [
    {
     "ename": "SyntaxError",
     "evalue": "positional argument follows keyword argument (2301515497.py, line 7)",
     "output_type": "error",
     "traceback": [
      "\u001b[0;36m  Input \u001b[0;32mIn [26]\u001b[0;36m\u001b[0m\n\u001b[0;31m    parrot(voltage =\"bereft of life\", \"a thousand\") ##args, kwargs.\u001b[0m\n\u001b[0m                                      ^\u001b[0m\n\u001b[0;31mSyntaxError\u001b[0m\u001b[0;31m:\u001b[0m positional argument follows keyword argument\n"
     ]
    }
   ],
   "source": [
    "def parrot(voltage, state='a stiff', action='voom', type='Norwegian Blue'):\n",
    "    print(\"-- This parrot wouldn't\", action, end=' ')\n",
    "    print(\"if you put\", voltage, \"volts through it.\")\n",
    "    print(\"-- Lovely plumage, the\", type)\n",
    "    print(\"-- It's\", state, \"!\")\n",
    "\n",
    "parrot(voltage =\"bereft of life\", \"a thousand\") ##takip önemli......"
   ]
  },
  {
   "cell_type": "code",
   "execution_count": 27,
   "metadata": {},
   "outputs": [
    {
     "ename": "TypeError",
     "evalue": "function() got multiple values for argument 'a'",
     "output_type": "error",
     "traceback": [
      "\u001b[0;31m---------------------------------------------------------------------------\u001b[0m",
      "\u001b[0;31mTypeError\u001b[0m                                 Traceback (most recent call last)",
      "\u001b[1;32m/home/leo/Downloads/15_PythonBasics_03222022.ipynb Cell 39'\u001b[0m in \u001b[0;36m<module>\u001b[0;34m\u001b[0m\n\u001b[1;32m      <a href='vscode-notebook-cell:/home/leo/Downloads/15_PythonBasics_03222022.ipynb#ch0000039?line=1'>2</a>\u001b[0m     \u001b[39mpass\u001b[39;00m\n\u001b[1;32m      <a href='vscode-notebook-cell:/home/leo/Downloads/15_PythonBasics_03222022.ipynb#ch0000039?line=3'>4</a>\u001b[0m \u001b[39m#ana program\u001b[39;00m\n\u001b[0;32m----> <a href='vscode-notebook-cell:/home/leo/Downloads/15_PythonBasics_03222022.ipynb#ch0000039?line=4'>5</a>\u001b[0m function(\u001b[39m0\u001b[39;49m, a\u001b[39m=\u001b[39;49m\u001b[39m0\u001b[39;49m)\n",
      "\u001b[0;31mTypeError\u001b[0m: function() got multiple values for argument 'a'"
     ]
    }
   ],
   "source": [
    "def function(a):\n",
    "    pass\n",
    "\n",
    "#ana program\n",
    "function(0, a=0)"
   ]
  },
  {
   "cell_type": "code",
   "execution_count": 28,
   "metadata": {},
   "outputs": [
    {
     "name": "stdout",
     "output_type": "stream",
     "text": [
      "I want to get banana and orange\n"
     ]
    }
   ],
   "source": [
    "def fruiter(fruit1, fruit2):\n",
    "    print(\"I want to get\", fruit1, 'and', fruit2)\n",
    "\n",
    "fruiter(\"banana\", \"orange\")"
   ]
  },
  {
   "cell_type": "code",
   "execution_count": 29,
   "metadata": {},
   "outputs": [
    {
     "ename": "NameError",
     "evalue": "name 'fruit1' is not defined",
     "output_type": "error",
     "traceback": [
      "\u001b[0;31m---------------------------------------------------------------------------\u001b[0m",
      "\u001b[0;31mNameError\u001b[0m                                 Traceback (most recent call last)",
      "\u001b[1;32m/home/leo/Downloads/15_PythonBasics_03222022.ipynb Cell 41'\u001b[0m in \u001b[0;36m<module>\u001b[0;34m\u001b[0m\n\u001b[1;32m      <a href='vscode-notebook-cell:/home/leo/Downloads/15_PythonBasics_03222022.ipynb#ch0000041?line=0'>1</a>\u001b[0m \u001b[39mdef\u001b[39;00m \u001b[39mfruiter\u001b[39m(\u001b[39m*\u001b[39margs):\n\u001b[1;32m      <a href='vscode-notebook-cell:/home/leo/Downloads/15_PythonBasics_03222022.ipynb#ch0000041?line=1'>2</a>\u001b[0m     \u001b[39mprint\u001b[39m(\u001b[39m\"\u001b[39m\u001b[39mI want to get\u001b[39m\u001b[39m\"\u001b[39m, fruit1, \u001b[39m'\u001b[39m\u001b[39mand\u001b[39m\u001b[39m'\u001b[39m, fruit2)\n\u001b[0;32m----> <a href='vscode-notebook-cell:/home/leo/Downloads/15_PythonBasics_03222022.ipynb#ch0000041?line=3'>4</a>\u001b[0m fruiter(\u001b[39m\"\u001b[39;49m\u001b[39mbanana\u001b[39;49m\u001b[39m\"\u001b[39;49m, \u001b[39m\"\u001b[39;49m\u001b[39morange\u001b[39;49m\u001b[39m\"\u001b[39;49m)\n",
      "\u001b[1;32m/home/leo/Downloads/15_PythonBasics_03222022.ipynb Cell 41'\u001b[0m in \u001b[0;36mfruiter\u001b[0;34m(*args)\u001b[0m\n\u001b[1;32m      <a href='vscode-notebook-cell:/home/leo/Downloads/15_PythonBasics_03222022.ipynb#ch0000041?line=0'>1</a>\u001b[0m \u001b[39mdef\u001b[39;00m \u001b[39mfruiter\u001b[39m(\u001b[39m*\u001b[39margs):\n\u001b[0;32m----> <a href='vscode-notebook-cell:/home/leo/Downloads/15_PythonBasics_03222022.ipynb#ch0000041?line=1'>2</a>\u001b[0m     \u001b[39mprint\u001b[39m(\u001b[39m\"\u001b[39m\u001b[39mI want to get\u001b[39m\u001b[39m\"\u001b[39m, fruit1, \u001b[39m'\u001b[39m\u001b[39mand\u001b[39m\u001b[39m'\u001b[39m, fruit2)\n",
      "\u001b[0;31mNameError\u001b[0m: name 'fruit1' is not defined"
     ]
    }
   ],
   "source": [
    "def fruiter(*args):\n",
    "    print(\"I want to get\", fruit1, 'and', fruit2)\n",
    "\n",
    "##ana program\n",
    "fruiter(\"banana\", \"orange\")"
   ]
  },
  {
   "cell_type": "code",
   "execution_count": 30,
   "metadata": {},
   "outputs": [
    {
     "name": "stdout",
     "output_type": "stream",
     "text": [
      "I want to get ('banana', 'orange') and ('banana', 'orange')\n"
     ]
    }
   ],
   "source": [
    "def fruiter(*args):\n",
    "    print(\"I want to get\", args, 'and',args)\n",
    "\n",
    "##ana program\n",
    "fruiter(\"banana\", \"orange\")"
   ]
  },
  {
   "cell_type": "code",
   "execution_count": 31,
   "metadata": {},
   "outputs": [
    {
     "name": "stdout",
     "output_type": "stream",
     "text": [
      "I want to get banana and orange\n"
     ]
    }
   ],
   "source": [
    "def fruiter(*args):\n",
    "    print(\"I want to get\", args[0], 'and',args[1])\n",
    "\n",
    "##ana program\n",
    "fruiter(\"banana\", \"orange\")"
   ]
  },
  {
   "cell_type": "code",
   "execution_count": 36,
   "metadata": {},
   "outputs": [
    {
     "name": "stdout",
     "output_type": "stream",
     "text": [
      "I want to get banana and orange and "
     ]
    }
   ],
   "source": [
    "def fruiter(*args):\n",
    "    print(\"I want to get\", end=\" \")\n",
    "    for i in args:\n",
    "        print(i, \"and\", end=\" \")\n",
    "        \n",
    "\n",
    "##ana program\n",
    "fruiter(\"banana\", \"orange\")"
   ]
  },
  {
   "cell_type": "code",
   "execution_count": 42,
   "metadata": {},
   "outputs": [
    {
     "name": "stdout",
     "output_type": "stream",
     "text": [
      "I want to get banana and orange\n"
     ]
    }
   ],
   "source": [
    "def fruiter(*args):\n",
    "    t = \"I want to get \"\n",
    "    for i in args:\n",
    "        t = t + i + \" and \"\n",
    "    print(t.strip(\"and \")) ##son 'and' silindi\n",
    "    \n",
    "##ana program\n",
    "fruiter(\"banana\", \"orange\")"
   ]
  },
  {
   "cell_type": "code",
   "execution_count": 43,
   "metadata": {},
   "outputs": [
    {
     "name": "stdout",
     "output_type": "stream",
     "text": [
      "Even list : [2, 4, 6, 8, 10]\n",
      "Odd list : [1, 3, 5, 7, 9]\n"
     ]
    }
   ],
   "source": [
    "def slicer(*args):\n",
    "    evens = []\n",
    "    odds = []\n",
    "    for i in args:\n",
    "        if i%2==0:\n",
    "            evens.append(i)\n",
    "        else:\n",
    "            odds.append(i)\n",
    "    \n",
    "    print(\"Even list :\", evens)\n",
    "    print(\"Odd list :\",odds)\n",
    "\n",
    "##ana program\n",
    "slicer(1,2,3,4,5,6,7,8,9,10)"
   ]
  },
  {
   "cell_type": "markdown",
   "metadata": {},
   "source": []
  },
  {
   "cell_type": "code",
   "execution_count": 45,
   "metadata": {},
   "outputs": [
    {
     "name": "stdout",
     "output_type": "stream",
     "text": [
      "even list: [2, 4, 6, 8] \n",
      "odd list:  [1, 3, 5, 7, 9]\n"
     ]
    }
   ],
   "source": [
    "##Ahmet beyin çözümü:\n",
    "def slicer (*args):\n",
    "    even_list = [i for i in args if i%2==0]\n",
    "    odd_list=[i for i in args if i%2!=0]\n",
    "    print (\"even list:\", even_list, \"\\nodd list: \", odd_list)\n",
    "\n",
    "slicer(1,2,3,4,5,6,7,8,9)"
   ]
  },
  {
   "cell_type": "code",
   "execution_count": 46,
   "metadata": {},
   "outputs": [
    {
     "name": "stdout",
     "output_type": "stream",
     "text": [
      "Aslan are etobur\n",
      "Arı are otobur\n",
      "ayı are herikisi\n"
     ]
    }
   ],
   "source": [
    "def animals(**kwargs):\n",
    "    for key, value in kwargs.items():\n",
    "        print(value, \"are\", key)\n",
    "        \n",
    "\n",
    "##fonksiyon çağrılıyor\n",
    "animals(etobur=\"Aslan\", otobur=\"Arı\", herikisi=\"ayı\" )"
   ]
  },
  {
   "cell_type": "code",
   "execution_count": 47,
   "metadata": {},
   "outputs": [
    {
     "name": "stdout",
     "output_type": "stream",
     "text": [
      "['Beath', 'Oscar', 'Dustin', 'Frank']\n",
      "[26, 42, 18, 33]\n"
     ]
    }
   ],
   "source": [
    "def organizer(**people):\n",
    "    names=[]\n",
    "    ages=[]\n",
    "    for key, value in people.items():\n",
    "        names.append(key)\n",
    "        ages.append(value)\n",
    "\n",
    "    print(names, ages, sep=\"\\n\")\n",
    "\n",
    "\n",
    "organizer(Beath=26, Oscar=42, Dustin=18, Frank=33)"
   ]
  },
  {
   "cell_type": "code",
   "execution_count": 48,
   "metadata": {},
   "outputs": [
    {
     "name": "stdout",
     "output_type": "stream",
     "text": [
      "Here are the names of brothers\n",
      "tom\n",
      "susan\n",
      "tim\n"
     ]
    }
   ],
   "source": [
    "def brothers(bro1,bro2,bro3):\n",
    "    print(\"Here are the names of brothers\")\n",
    "    print(bro1,bro2,bro3, sep=\"\\n\")\n",
    "\n",
    "##ana program\n",
    "liste = ['tom', 'susan', 'tim']\n",
    "brothers(*liste)"
   ]
  }
 ],
 "metadata": {
  "interpreter": {
   "hash": "35c4bcfff6bb594ff47b51ce5b21bcb1093d06fa0c5debe7002e3be5d50f4cc1"
  },
  "kernelspec": {
   "display_name": "Python 3.10.2 64-bit",
   "language": "python",
   "name": "python3"
  },
  "language_info": {
   "codemirror_mode": {
    "name": "ipython",
    "version": 3
   },
   "file_extension": ".py",
   "mimetype": "text/x-python",
   "name": "python",
   "nbconvert_exporter": "python",
   "pygments_lexer": "ipython3",
   "version": "3.8.10"
  },
  "orig_nbformat": 4
 },
 "nbformat": 4,
 "nbformat_minor": 2
}
