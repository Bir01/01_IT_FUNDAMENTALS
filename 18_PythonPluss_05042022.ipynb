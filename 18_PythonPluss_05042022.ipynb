{
 "cells": [
  {
   "cell_type": "markdown",
   "metadata": {},
   "source": [
    "<p align=\"center\">\n",
    "<img src=\"https://docs.google.com/uc?id=14xeXxFrVRjvOoUYWn_GuyE-v84wVzrqr\" class=\"img-fluid\" alt=\"CLRWY\" width=\"600\" height=\"120\" >\n",
    "</p>"
   ]
  },
  {
   "cell_type": "markdown",
   "metadata": {},
   "source": [
    "<h1><p style=\"text-align: center; color:yellow\">Python In-Class Session 18, <br>05 April 2022</p><h1>"
   ]
  },
  {
   "cell_type": "markdown",
   "metadata": {},
   "source": [
    "# Module and Packages"
   ]
  },
  {
   "cell_type": "code",
   "execution_count": 1,
   "metadata": {},
   "outputs": [
    {
     "name": "stdout",
     "output_type": "stream",
     "text": [
      "['c']\n"
     ]
    }
   ],
   "source": [
    "green_letters = [\"\",\"\",\"c\",\"\",\"\",0]\n",
    "my_green = filter(None, green_letters)\n",
    "print(list(my_green))"
   ]
  },
  {
   "cell_type": "code",
   "execution_count": 2,
   "metadata": {},
   "outputs": [
    {
     "name": "stdout",
     "output_type": "stream",
     "text": [
      "('i', 'love', 'you')\n",
      "('you', 'ate', 'much')\n",
      "('he', 'works', 'hard')\n"
     ]
    }
   ],
   "source": [
    "words1 = [\"you\", \"much\", \"hard\"]\n",
    "words2 = [\"i\", \"you\", \"he\"]\n",
    "words3 = [\"love\", \"ate\", \"works\"]\n",
    "for i in zip(words2,words3,words1):\n",
    "    print(i)"
   ]
  },
  {
   "cell_type": "code",
   "execution_count": 4,
   "metadata": {},
   "outputs": [
    {
     "name": "stdout",
     "output_type": "stream",
     "text": [
      "i love you\n",
      "you ate much\n",
      "he works hard\n"
     ]
    }
   ],
   "source": [
    "words1 = [\"you\", \"much\", \"hard\"]\n",
    "words2 = [\"i\", \"you\", \"he\"]\n",
    "words3 = [\"love\", \"ate\", \"works\"]\n",
    "for i in zip(words2,words3,words1):\n",
    "    print(*i)"
   ]
  },
  {
   "cell_type": "code",
   "execution_count": 5,
   "metadata": {},
   "outputs": [
    {
     "data": {
      "text/plain": [
       "3.141592653589793"
      ]
     },
     "execution_count": 5,
     "metadata": {},
     "output_type": "execute_result"
    }
   ],
   "source": [
    "#math modülü\n",
    "import math\n",
    "math.pi"
   ]
  },
  {
   "cell_type": "code",
   "execution_count": 7,
   "metadata": {},
   "outputs": [
    {
     "data": {
      "text/plain": [
       "3.141592653589793"
      ]
     },
     "execution_count": 7,
     "metadata": {},
     "output_type": "execute_result"
    }
   ],
   "source": [
    "#tek bir modülü içe aktarmak için\n",
    "import math #(modül adı)\n",
    "#birden fazla modülü içe aktarmak için \n",
    "import math, random, cmath, os\n",
    "#veya\n",
    "import math\n",
    "import random\n",
    "math.pi\n",
    "##...\n",
    "\n",
    "#bir modül içerisindeki fonksiyonu doğrudan içe aktarmak için\n",
    "## from modül_adi import fonksiyon_adı\n",
    "from math import pi, pow, sqrt\n",
    "pi\n",
    "pow(2,3)\n",
    "## from modül_adi import * (tüm fonksiyonları içe aktarır)\n",
    "from math import *\n",
    "pow(2,3)\n",
    "##modül ismi çok uzun ise kısaltma amaçlı takma ad (alias) kullanılabilir\n",
    "import math as m\n",
    "m.pi\n",
    "import pandas as pd\n",
    "## Eğer bir paket içerisindeki belli bir modülü almak için ise\n",
    "##import paket_adi.modül_adi"
   ]
  },
  {
   "cell_type": "code",
   "execution_count": null,
   "metadata": {},
   "outputs": [],
   "source": [
    "import math\n",
    "dir(math)"
   ]
  },
  {
   "cell_type": "code",
   "execution_count": 10,
   "metadata": {},
   "outputs": [
    {
     "data": {
      "text/plain": [
       "120"
      ]
     },
     "execution_count": 10,
     "metadata": {},
     "output_type": "execute_result"
    }
   ],
   "source": [
    "import math \n",
    "math.factorial(5)"
   ]
  },
  {
   "cell_type": "code",
   "execution_count": null,
   "metadata": {},
   "outputs": [],
   "source": [
    "##Rasgele sayılar\n",
    "import random\n",
    "help(random)"
   ]
  },
  {
   "cell_type": "code",
   "execution_count": 18,
   "metadata": {},
   "outputs": [
    {
     "name": "stdout",
     "output_type": "stream",
     "text": [
      "Sayısal Loto\n",
      "[30, 20, 40, 22, 44, 22]\n"
     ]
    }
   ],
   "source": [
    "##sayısal loto: 1-49 arası 6 adet sayı üretelim...\n",
    "from random import randint\n",
    "print (\"Sayısal Loto\") \n",
    "loto = []\n",
    "for i in range(6):\n",
    "    sayi = randint(1,49)\n",
    "    loto.append(sayi)\n",
    "\n",
    "print(loto)\n"
   ]
  },
  {
   "cell_type": "code",
   "execution_count": 24,
   "metadata": {},
   "outputs": [
    {
     "name": "stdout",
     "output_type": "stream",
     "text": [
      "Sayısal Loto\n",
      "[7, 9, 23, 25, 46, 33]\n"
     ]
    }
   ],
   "source": [
    "from random import randint\n",
    "print (\"Sayısal Loto\") \n",
    "loto = []\n",
    "for i in range(6):\n",
    "    sayi = randint(1,49)\n",
    "    while sayi in loto:\n",
    "        sayi = randint(1,49)\n",
    "    \n",
    "    loto.append(sayi)\n",
    "    \n",
    "print(loto)"
   ]
  },
  {
   "cell_type": "code",
   "execution_count": 33,
   "metadata": {},
   "outputs": [
    {
     "name": "stdout",
     "output_type": "stream",
     "text": [
      "Sayısal Loto\n",
      "[5, 42, 35, 29, 15, 11]\n"
     ]
    }
   ],
   "source": [
    "from random import randint\n",
    "print (\"Sayısal Loto\") \n",
    "loto = []\n",
    "for i in range(6):\n",
    "    sayi = randint(1,49)\n",
    "    if sayi in loto:\n",
    "        sayi = randint(1,49)\n",
    "    \n",
    "    loto.append(sayi)\n",
    "    \n",
    "print(loto)"
   ]
  },
  {
   "cell_type": "code",
   "execution_count": 34,
   "metadata": {},
   "outputs": [
    {
     "name": "stdout",
     "output_type": "stream",
     "text": [
      "Help on method randint in module random:\n",
      "\n",
      "randint(a, b) method of random.Random instance\n",
      "    Return random integer in range [a, b], including both end points.\n",
      "\n"
     ]
    }
   ],
   "source": [
    "help(randint)"
   ]
  },
  {
   "cell_type": "code",
   "execution_count": 35,
   "metadata": {},
   "outputs": [
    {
     "name": "stdout",
     "output_type": "stream",
     "text": [
      "3.141592653589793 \n",
      " 120 \n",
      " 2.0\n"
     ]
    }
   ],
   "source": [
    "import math\n",
    "print(math.pi,\"\\n\",math.factorial(5), \"\\n\", math.log10(100))"
   ]
  },
  {
   "cell_type": "code",
   "execution_count": 36,
   "metadata": {},
   "outputs": [
    {
     "name": "stdout",
     "output_type": "stream",
     "text": [
      "3.141592653589793 \n",
      " 120 \n",
      " 2.0\n"
     ]
    }
   ],
   "source": [
    "from math import pi, factorial, log10\n",
    "print(pi,\"\\n\", factorial(5), \"\\n\", log10(100))"
   ]
  },
  {
   "cell_type": "code",
   "execution_count": 37,
   "metadata": {},
   "outputs": [
    {
     "name": "stdout",
     "output_type": "stream",
     "text": [
      "!\"#$%&'()*+,-./:;<=>?@[\\]^_`{|}~\n",
      "0123456789\n"
     ]
    }
   ],
   "source": [
    "import string as st\n",
    "print(st.punctuation)\n",
    "print(st.digits)"
   ]
  },
  {
   "cell_type": "code",
   "execution_count": 57,
   "metadata": {},
   "outputs": [
    {
     "name": "stdout",
     "output_type": "stream",
     "text": [
      "-^=VRKp`d%\n"
     ]
    }
   ],
   "source": [
    "##password generator\n",
    "import string as st\n",
    "import random\n",
    "liste = st.printable\n",
    "\n",
    "yeni_liste = liste[:-6]\n",
    "#print(yeni_liste)\n",
    "password = \"\".join(random.sample(yeni_liste,10))\n",
    "print(password)"
   ]
  },
  {
   "cell_type": "code",
   "execution_count": 69,
   "metadata": {},
   "outputs": [
    {
     "name": "stdout",
     "output_type": "stream",
     "text": [
      "H5i~\\%'{\n"
     ]
    }
   ],
   "source": [
    "#password generator:\n",
    "#en az 1 büyük harf, 1 küçük harf, 1 rakam, 1 özel kararter içeren password\n",
    "import string as st\n",
    "import random\n",
    "kHarf = st.ascii_lowercase\n",
    "bHarf = st.ascii_uppercase\n",
    "rakam = st.digits\n",
    "ozelKarakter = st.punctuation\n",
    "pswrd = []\n",
    "pswrd.extend(kHarf)\n",
    "pswrd.extend(bHarf)\n",
    "pswrd.extend(rakam)\n",
    "pswrd.extend(ozelKarakter)\n",
    "\n",
    "password = \"\".join(random.sample(pswrd,8))\n",
    "print(password)\n"
   ]
  },
  {
   "cell_type": "code",
   "execution_count": 79,
   "metadata": {},
   "outputs": [
    {
     "name": "stdout",
     "output_type": "stream",
     "text": [
      "tfKB59.&\n"
     ]
    }
   ],
   "source": [
    "#password generator:\n",
    "#en az 1 büyük harf, 1 küçük harf, 1 rakam, 1 özel kararter içeren password\n",
    "import string as st\n",
    "import random\n",
    "kHarf = st.ascii_lowercase\n",
    "bHarf = st.ascii_uppercase\n",
    "rakam = st.digits\n",
    "ozelKarakter = st.punctuation\n",
    "pswrd = []\n",
    "pswrd.extend(random.sample(kHarf,2))\n",
    "pswrd.extend(random.sample(bHarf,2))\n",
    "pswrd.extend(random.sample(rakam,2))\n",
    "pswrd.extend(random.sample(ozelKarakter,2))\n",
    "\n",
    "print(\"\".join(pswrd))"
   ]
  },
  {
   "cell_type": "code",
   "execution_count": 84,
   "metadata": {},
   "outputs": [
    {
     "name": "stdout",
     "output_type": "stream",
     "text": [
      "hJ8!yp'1\n"
     ]
    }
   ],
   "source": [
    "#password generator:\n",
    "#en az 1 büyük harf, 1 küçük harf, 1 rakam, 1 özel kararter içeren password\n",
    "import string as st\n",
    "import random\n",
    "kHarf = st.ascii_lowercase\n",
    "bHarf = st.ascii_uppercase\n",
    "rakam = st.digits\n",
    "ozelKarakter = st.punctuation\n",
    "pswrd = []\n",
    "pswrd.extend(random.sample(kHarf,1))\n",
    "pswrd.extend(random.sample(bHarf,1))\n",
    "pswrd.extend(random.sample(rakam,1))\n",
    "pswrd.extend(random.sample(ozelKarakter,1))\n",
    "liste = st.printable\n",
    "y_liste = liste[:-6]\n",
    "pswrd.extend(random.sample(y_liste,4))\n",
    "print(\"\".join(pswrd))"
   ]
  },
  {
   "cell_type": "code",
   "execution_count": 97,
   "metadata": {},
   "outputs": [
    {
     "name": "stdout",
     "output_type": "stream",
     "text": [
      "RoC0_`{4\n"
     ]
    }
   ],
   "source": [
    "#password generator:\n",
    "#en az 1 büyük harf, 1 küçük harf, 1 rakam, 1 özel kararter içeren password\n",
    "import string as st\n",
    "import random\n",
    "kHarf = st.ascii_lowercase\n",
    "bHarf = st.ascii_uppercase\n",
    "rakam = st.digits\n",
    "ozelKarakter = st.punctuation\n",
    "pswrd = []\n",
    "pswrd.extend(random.sample(kHarf,1))\n",
    "pswrd.extend(random.sample(bHarf,1))\n",
    "pswrd.extend(random.sample(rakam,1))\n",
    "pswrd.extend(random.sample(ozelKarakter,1))\n",
    "liste = st.printable\n",
    "y_liste = liste[:-6]\n",
    "pswrd.extend(random.sample(y_liste,4))\n",
    "random.shuffle(pswrd)\n",
    "print(\"\".join(pswrd))"
   ]
  },
  {
   "cell_type": "code",
   "execution_count": 99,
   "metadata": {},
   "outputs": [
    {
     "data": {
      "text/plain": [
       "['MAXYEAR',\n",
       " 'MINYEAR',\n",
       " '__builtins__',\n",
       " '__cached__',\n",
       " '__doc__',\n",
       " '__file__',\n",
       " '__loader__',\n",
       " '__name__',\n",
       " '__package__',\n",
       " '__spec__',\n",
       " 'date',\n",
       " 'datetime',\n",
       " 'datetime_CAPI',\n",
       " 'sys',\n",
       " 'time',\n",
       " 'timedelta',\n",
       " 'timezone',\n",
       " 'tzinfo']"
      ]
     },
     "execution_count": 99,
     "metadata": {},
     "output_type": "execute_result"
    }
   ],
   "source": [
    "dir(datetime)"
   ]
  },
  {
   "cell_type": "code",
   "execution_count": 100,
   "metadata": {},
   "outputs": [
    {
     "name": "stdout",
     "output_type": "stream",
     "text": [
      "2022-04-05 12:18:16.413475\n",
      "2022-04-05\n"
     ]
    }
   ],
   "source": [
    "import datetime\n",
    "print(datetime.datetime.today())\n",
    "print(datetime.date.today())"
   ]
  },
  {
   "cell_type": "code",
   "execution_count": 102,
   "metadata": {},
   "outputs": [
    {
     "name": "stdout",
     "output_type": "stream",
     "text": [
      "2022-04-05\n"
     ]
    }
   ],
   "source": [
    "from datetime import datetime\n",
    "from datetime import date\n",
    "print(date.today())"
   ]
  },
  {
   "cell_type": "code",
   "execution_count": 104,
   "metadata": {},
   "outputs": [
    {
     "name": "stdout",
     "output_type": "stream",
     "text": [
      "2022-04-05\n"
     ]
    }
   ],
   "source": [
    "from datetime import date as dt \n",
    "print(dt.today())"
   ]
  },
  {
   "cell_type": "code",
   "execution_count": 105,
   "metadata": {},
   "outputs": [
    {
     "name": "stdout",
     "output_type": "stream",
     "text": [
      "2022-04-05\n",
      "2022-04-05 12:22:44.961583\n"
     ]
    }
   ],
   "source": [
    "from datetime import date, datetime\n",
    "print(date.today())\n",
    "print(datetime.now())"
   ]
  },
  {
   "cell_type": "code",
   "execution_count": 108,
   "metadata": {},
   "outputs": [
    {
     "name": "stdout",
     "output_type": "stream",
     "text": [
      "2022-04-05\n"
     ]
    }
   ],
   "source": [
    "from datetime import *\n",
    "print(date.today())"
   ]
  },
  {
   "cell_type": "code",
   "execution_count": 106,
   "metadata": {},
   "outputs": [
    {
     "data": {
      "text/plain": [
       "3.141592653589793"
      ]
     },
     "execution_count": 106,
     "metadata": {},
     "output_type": "execute_result"
    }
   ],
   "source": [
    "from math import pi\n",
    "pi"
   ]
  },
  {
   "cell_type": "code",
   "execution_count": 114,
   "metadata": {},
   "outputs": [
    {
     "name": "stdout",
     "output_type": "stream",
     "text": [
      "2022-04-05\n",
      "2022-04-30\n",
      "25 days, 0:00:00\n"
     ]
    }
   ],
   "source": [
    "from datetime import date, datetime\n",
    "#datetime.now()/date.today(): O anki tarih-saat\n",
    "#doğum günüme kaç gün var:)\n",
    "bugun = date.today()\n",
    "print(bugun)\n",
    "d_gunum = date(bugun.year, 4, 30)\n",
    "print(d_gunum)\n",
    "\n",
    "print(abs(d_gunum-bugun))"
   ]
  },
  {
   "cell_type": "code",
   "execution_count": 117,
   "metadata": {},
   "outputs": [
    {
     "name": "stdout",
     "output_type": "stream",
     "text": [
      "2022-04-05\n",
      "2022-03-30\n",
      "359 days, 0:00:00\n"
     ]
    }
   ],
   "source": [
    "from datetime import date, datetime\n",
    "#datetime.now()/date.today(): O anki tarih-saat\n",
    "#doğum günüme kaç gün var:)\n",
    "bugun = date.today()\n",
    "print(bugun)\n",
    "d_gunum = date(bugun.year, 3, 30)\n",
    "print(d_gunum)\n",
    "if d_gunum<bugun:\n",
    "    d_gunum = date(bugun.year+1, 3, 30)\n",
    "\n",
    "print(abs(d_gunum-bugun))"
   ]
  },
  {
   "cell_type": "code",
   "execution_count": 119,
   "metadata": {},
   "outputs": [
    {
     "name": "stdout",
     "output_type": "stream",
     "text": [
      "2022-04-05\n",
      "2022-03-30\n",
      "Doğum günüme 359  gün kaldı.\n"
     ]
    }
   ],
   "source": [
    "from datetime import date, datetime\n",
    "#datetime.now()/date.today(): O anki tarih-saat\n",
    "#doğum günüme kaç gün var:)\n",
    "bugun = date.today()\n",
    "print(bugun)\n",
    "d_gunum = date(bugun.year, 3, 30)\n",
    "print(d_gunum)\n",
    "if d_gunum<bugun:\n",
    "    d_gunum = d_gunum.replace(year=bugun.year+1)\n",
    "\n",
    "print(\"Doğum günüme\",abs(d_gunum-bugun).days, \" gün kaldı.\")"
   ]
  },
  {
   "cell_type": "code",
   "execution_count": null,
   "metadata": {},
   "outputs": [],
   "source": [
    "import calendar\n",
    "calendar.prcal(2022)"
   ]
  },
  {
   "cell_type": "code",
   "execution_count": 125,
   "metadata": {},
   "outputs": [
    {
     "name": "stdout",
     "output_type": "stream",
     "text": [
      "     April 2022\n",
      "Mo Tu We Th Fr Sa Su\n",
      "             1  2  3\n",
      " 4  5  6  7  8  9 10\n",
      "11 12 13 14 15 16 17\n",
      "18 19 20 21 22 23 24\n",
      "25 26 27 28 29 30\n"
     ]
    }
   ],
   "source": [
    "import calendar\n",
    "calendar.prmonth(2022,4)"
   ]
  },
  {
   "cell_type": "code",
   "execution_count": 126,
   "metadata": {},
   "outputs": [
    {
     "name": "stdout",
     "output_type": "stream",
     "text": [
      "     Nisan 2022\n",
      "Pz Sa Çr Pr Cu Ct Pa\n",
      "             1  2  3\n",
      " 4  5  6  7  8  9 10\n",
      "11 12 13 14 15 16 17\n",
      "18 19 20 21 22 23 24\n",
      "25 26 27 28 29 30\n"
     ]
    }
   ],
   "source": [
    "import calendar\n",
    "import locale\n",
    "locale.setlocale(locale.LC_ALL,'') ##yerel tarih-saat değerlerini\n",
    "calendar.prmonth(2022,4)"
   ]
  },
  {
   "cell_type": "code",
   "execution_count": 128,
   "metadata": {},
   "outputs": [
    {
     "name": "stdout",
     "output_type": "stream",
     "text": [
      "Stockholm\n"
     ]
    }
   ],
   "source": [
    "from random import choice\n",
    "city = ['Stockholm', 'Istanbul', 'Seul', 'Cape Town']\n",
    "print(choice(city))"
   ]
  },
  {
   "cell_type": "code",
   "execution_count": 132,
   "metadata": {},
   "outputs": [
    {
     "name": "stdout",
     "output_type": "stream",
     "text": [
      "21961\n"
     ]
    }
   ],
   "source": [
    "import datetime\n",
    "birth = datetime.date(572, 4, 22)\n",
    "death = datetime.date(632, 6, 8)\n",
    "life = death-birth\n",
    "print(life.days)"
   ]
  },
  {
   "cell_type": "code",
   "execution_count": 135,
   "metadata": {},
   "outputs": [
    {
     "name": "stdout",
     "output_type": "stream",
     "text": [
      "21961\n"
     ]
    }
   ],
   "source": [
    "import datetime\n",
    "birth = datetime.date(572, 4, 22)\n",
    "death = datetime.date(632, 6, 8)\n",
    "life = date.toordinal(death)-date.toordinal(birth)\n",
    "print(life)"
   ]
  },
  {
   "cell_type": "code",
   "execution_count": null,
   "metadata": {},
   "outputs": [],
   "source": [
    "if __name__ == \"__main__\":\n",
    "    print(\"merhaba\")\n",
    "##anlamı: Eğer bu modül, ana program ise aşağıdaki yazdığım kod satırlarını \n",
    "## çalıştır değilse çalıştırma"
   ]
  }
 ],
 "metadata": {
  "interpreter": {
   "hash": "35c4bcfff6bb594ff47b51ce5b21bcb1093d06fa0c5debe7002e3be5d50f4cc1"
  },
  "kernelspec": {
   "display_name": "Python 3.10.2 64-bit",
   "language": "python",
   "name": "python3"
  },
  "language_info": {
   "codemirror_mode": {
    "name": "ipython",
    "version": 3
   },
   "file_extension": ".py",
   "mimetype": "text/x-python",
   "name": "python",
   "nbconvert_exporter": "python",
   "pygments_lexer": "ipython3",
   "version": "3.8.10"
  },
  "orig_nbformat": 4
 },
 "nbformat": 4,
 "nbformat_minor": 2
}
