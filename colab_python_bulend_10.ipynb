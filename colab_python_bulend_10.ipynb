{
  "cells": [
    {
      "cell_type": "markdown",
      "metadata": {
        "id": "BtmfpI6qRpqr"
      },
      "source": [
        "Python Basic, 8 Mart 2022.\n",
        "Conditional Statements: if, else: if, elif, ..."
      ]
    },
    {
      "cell_type": "code",
      "execution_count": 20,
      "metadata": {},
      "outputs": [
        {
          "name": "stdout",
          "output_type": "stream",
          "text": [
            "a.. 1\n"
          ]
        }
      ],
      "source": [
        "a = 1\n",
        "if a: \n",
        "    print(\"a..\", a)"
      ]
    },
    {
      "cell_type": "code",
      "execution_count": 21,
      "metadata": {
        "id": "LqK48dvTRjcz"
      },
      "outputs": [
        {
          "name": "stdout",
          "output_type": "stream",
          "text": [
            "a.. True\n"
          ]
        }
      ],
      "source": [
        "a = True\n",
        "if a: \n",
        "    print(\"a..\", a)\n"
      ]
    },
    {
      "cell_type": "code",
      "execution_count": 22,
      "metadata": {},
      "outputs": [
        {
          "name": "stdout",
          "output_type": "stream",
          "text": [
            "a.. -\n"
          ]
        }
      ],
      "source": [
        "a = \"-\"\n",
        "if a: \n",
        "    print(\"a..\", a)"
      ]
    },
    {
      "cell_type": "code",
      "execution_count": 23,
      "metadata": {},
      "outputs": [],
      "source": [
        "a = None  #0, 0.0, False, None, içi boş string\n",
        "if a: \n",
        "    print(\"a..\", a)"
      ]
    },
    {
      "cell_type": "code",
      "execution_count": 25,
      "metadata": {},
      "outputs": [
        {
          "ename": "IndentationError",
          "evalue": "unindent does not match any outer indentation level (<tokenize>, line 5)",
          "output_type": "error",
          "traceback": [
            "\u001b[0;36m  File \u001b[0;32m<tokenize>:5\u001b[0;36m\u001b[0m\n\u001b[0;31m    print(\"it is True\")\u001b[0m\n\u001b[0m    ^\u001b[0m\n\u001b[0;31mIndentationError\u001b[0m\u001b[0;31m:\u001b[0m unindent does not match any outer indentation level\n"
          ]
        }
      ],
      "source": [
        "#Girintilerin eşit seviye olması lazım!!!\n",
        "if True:  #True sonucunu üreten bir değerse\n",
        "    #blok çalışacak\n",
        "    print(\"it is True\")\n",
        "  print(\"it is True\")"
      ]
    },
    {
      "cell_type": "code",
      "execution_count": null,
      "metadata": {},
      "outputs": [
        {
          "name": "stdout",
          "output_type": "stream",
          "text": [
            "Afiyet Olsun!\n"
          ]
        }
      ],
      "source": [
        "#hamburger örneği\n",
        "minced = True\n",
        "bread = True\n",
        "lettuce = False\n",
        "pepper = True\n",
        "grocer = True\n",
        "hamburger = (minced and bread and grocer) and (lettuce or pepper)\n",
        "if hamburger==True:\n",
        "    print(\"Afiyet Olsun!\")"
      ]
    },
    {
      "cell_type": "code",
      "execution_count": null,
      "metadata": {},
      "outputs": [],
      "source": [
        "#hamburger örneği\n",
        "minced = True\n",
        "bread = False\n",
        "lettuce = False\n",
        "pepper = True\n",
        "grocer = True\n",
        "hamburger = (minced and bread and grocer) and (lettuce or pepper)\n",
        "if hamburger:   ## Ayrıca '==True' sorgusuna gerek yok\n",
        "    print(\"Afiyet Olsun!\")"
      ]
    },
    {
      "cell_type": "code",
      "execution_count": null,
      "metadata": {},
      "outputs": [],
      "source": [
        "#takdir ve onur belgesi-1\n",
        "ort = int(input(\"Ortalamayı giriniz..:\"))\n",
        "turkce = int(input(\"Türkçe Nou..:\"))\n",
        "if ort >= 85:\n",
        "    if turkce > 70:\n",
        "        print(\"takdir belgesi alabilir\")"
      ]
    },
    {
      "cell_type": "code",
      "execution_count": null,
      "metadata": {},
      "outputs": [],
      "source": [
        "#takdir ve onur belgesi-2\n",
        "ort = int(input(\"Ortalamayı giriniz..:\"))\n",
        "turkce = int(input(\"Türkçe Nou..:\"))\n",
        "if ort >= 85 and  turkce > 70:\n",
        "        print(\"takdir belgesi alabilir\")"
      ]
    },
    {
      "cell_type": "code",
      "execution_count": null,
      "metadata": {},
      "outputs": [
        {
          "name": "stdout",
          "output_type": "stream",
          "text": [
            "Takdir Belgesi alabilir!\n"
          ]
        }
      ],
      "source": [
        "#takdir ve onur belgesi-3\n",
        "takdir = False  #garantiye almamız lazım\n",
        "ort = int(input(\"Ortalamayı giriniz..:\"))\n",
        "turkce = int(input(\"Türkçe Nou..:\"))\n",
        "if ort>=85 and turkce>=70:\n",
        "    takdir = True  #flag (durum bayrağı)\n",
        "\n",
        "if takdir:\n",
        "    print(\"Takdir Belgesi alabilir!\")\n",
        "else:\n",
        "    print(\"Takdir belgesi alamaz!!!\")"
      ]
    },
    {
      "cell_type": "code",
      "execution_count": null,
      "metadata": {},
      "outputs": [
        {
          "name": "stdout",
          "output_type": "stream",
          "text": [
            "Takdir Belgesi alabilir!\n"
          ]
        }
      ],
      "source": [
        "#takdir ve onur belgesi-4\n",
        "ort = int(input(\"Ortalamayı giriniz..:\"))\n",
        "turkce = int(input(\"Türkçe Nou..:\"))\n",
        "if ort>=85 and turkce>=70:\n",
        "    print(\"Takdir Belgesi alabilir!\")\n",
        "else:\n",
        "    print(\"Takdir belgesi alamaz!!!\")"
      ]
    },
    {
      "cell_type": "code",
      "execution_count": null,
      "metadata": {},
      "outputs": [
        {
          "name": "stdout",
          "output_type": "stream",
          "text": [
            "there is still seat to sit\n"
          ]
        }
      ],
      "source": [
        "empty_seat = 14\n",
        "if empty_seat > 3:\n",
        "\tprint('there is still seat to sit')\n"
      ]
    },
    {
      "cell_type": "code",
      "execution_count": null,
      "metadata": {},
      "outputs": [
        {
          "name": "stdout",
          "output_type": "stream",
          "text": [
            "there is still seat to sit\n"
          ]
        }
      ],
      "source": [
        "# := operatörü ne işe yarar?\n",
        "# Koşul ifadelerinde değer atamak için\n",
        "# parantez içerisinde yazılır...\n",
        "if (empty_seat:=14 > 3):\n",
        "\tprint('there is still seat to sit')"
      ]
    },
    {
      "cell_type": "code",
      "execution_count": null,
      "metadata": {},
      "outputs": [
        {
          "name": "stdout",
          "output_type": "stream",
          "text": [
            "there is still seat to sit\n"
          ]
        }
      ],
      "source": [
        "(empty_seat := 14)\n",
        "if empty_seat > 3:\n",
        "\tprint('there is still seat to sit')"
      ]
    },
    {
      "cell_type": "code",
      "execution_count": null,
      "metadata": {},
      "outputs": [
        {
          "ename": "SyntaxError",
          "evalue": "invalid syntax (965768229.py, line 1)",
          "output_type": "error",
          "traceback": [
            "\u001b[0;36m  Input \u001b[0;32mIn [30]\u001b[0;36m\u001b[0m\n\u001b[0;31m    empty_seat := 14\u001b[0m\n\u001b[0m               ^\u001b[0m\n\u001b[0;31mSyntaxError\u001b[0m\u001b[0;31m:\u001b[0m invalid syntax\n"
          ]
        }
      ],
      "source": [
        "empty_seat := 14\n",
        "if empty_seat > 3:\n",
        "\tprint('there is still seat to sit')"
      ]
    },
    {
      "cell_type": "code",
      "execution_count": null,
      "metadata": {},
      "outputs": [
        {
          "name": "stdout",
          "output_type": "stream",
          "text": [
            "We are the same!\n"
          ]
        }
      ],
      "source": [
        "set1 = set('TWELVE PLUS ONE')\n",
        "set2 = set('ELEVEN PLUS TWO')\n",
        "if (set1==set2):\n",
        "    print(\"We are the same!\")"
      ]
    },
    {
      "cell_type": "code",
      "execution_count": null,
      "metadata": {},
      "outputs": [],
      "source": [
        "set1 = set('TWELVE PLUS ONE')\n",
        "set2 = set('ELEVEN PLUS ONE')\n",
        "if (set1==set2):\n",
        "    print(\"We are the same!\")"
      ]
    },
    {
      "cell_type": "code",
      "execution_count": null,
      "metadata": {},
      "outputs": [],
      "source": [
        "convert = input(\"Enter Yes or No :\") \n",
        "if (convert==\"Yes\"):\n",
        "    print(\"You entered\", bool(convert))"
      ]
    },
    {
      "cell_type": "code",
      "execution_count": null,
      "metadata": {},
      "outputs": [
        {
          "name": "stdout",
          "output_type": "stream",
          "text": [
            "You entered True\n"
          ]
        }
      ],
      "source": [
        "convert = input(\"Enter Yes or No :\").title() == \"Yes\" \n",
        "print(\"You entered\", convert)"
      ]
    },
    {
      "cell_type": "code",
      "execution_count": null,
      "metadata": {},
      "outputs": [
        {
          "name": "stdout",
          "output_type": "stream",
          "text": [
            "You entered True\n"
          ]
        }
      ],
      "source": [
        "convert = input(\"Enter Yes or No :\").title().strip() == \"Yes\" \n",
        "print(\"You entered\", convert)"
      ]
    },
    {
      "cell_type": "code",
      "execution_count": null,
      "metadata": {},
      "outputs": [
        {
          "name": "stdout",
          "output_type": "stream",
          "text": [
            "You entered True\n"
          ]
        }
      ],
      "source": [
        "convert = input(\"Enter Yes or No :\") \n",
        "if (convert.title().strip()==\"Yes\"):\n",
        "    print(\"You entered\", bool(convert))"
      ]
    },
    {
      "cell_type": "code",
      "execution_count": null,
      "metadata": {},
      "outputs": [
        {
          "name": "stdout",
          "output_type": "stream",
          "text": [
            "Number is bigger than 3\n"
          ]
        }
      ],
      "source": [
        "number = 5\n",
        "if number <=3:\n",
        "\tprint('Number is smaller than or equal to 3')\n",
        "else:\n",
        "\tprint('Number is bigger than 3')"
      ]
    },
    {
      "cell_type": "code",
      "execution_count": null,
      "metadata": {},
      "outputs": [
        {
          "name": "stdout",
          "output_type": "stream",
          "text": [
            "Number is bigger than 3\n"
          ]
        }
      ],
      "source": [
        "if (number:=5) <=3:\n",
        "\tprint('Number is smaller than or equal to 3')\n",
        "else:\n",
        "\tprint('Number is bigger than 3')"
      ]
    },
    {
      "cell_type": "code",
      "execution_count": null,
      "metadata": {},
      "outputs": [
        {
          "name": "stdout",
          "output_type": "stream",
          "text": [
            "90 is even.\n"
          ]
        }
      ],
      "source": [
        "num = int(input(\"You entered number..:\"))\n",
        "if num%2 == 0:\n",
        "    print(f\"{num} is even.\")\n",
        "else:\n",
        "    print(f\"{num} is odd.\")"
      ]
    },
    {
      "cell_type": "code",
      "execution_count": null,
      "metadata": {},
      "outputs": [
        {
          "name": "stdout",
          "output_type": "stream",
          "text": [
            "odd\n"
          ]
        }
      ],
      "source": [
        "num = int(input(\"You entered number..:\"))\n",
        "print(num%2==0 and \"even\" or \"odd\")"
      ]
    },
    {
      "cell_type": "code",
      "execution_count": null,
      "metadata": {},
      "outputs": [
        {
          "name": "stdout",
          "output_type": "stream",
          "text": [
            "negative\n"
          ]
        }
      ],
      "source": [
        "## 1. Positive-Negatif-Zero?\n",
        "num = float(input(\"You entered number..:\"))\n",
        "if num>0:\n",
        "    print(\"positive\")\n",
        "else:\n",
        "    if num<0:\n",
        "        print(\"negative\")\n",
        "    else:\n",
        "        print(\"zero\")"
      ]
    },
    {
      "cell_type": "code",
      "execution_count": null,
      "metadata": {},
      "outputs": [
        {
          "name": "stdout",
          "output_type": "stream",
          "text": [
            "zero\n"
          ]
        }
      ],
      "source": [
        "## 2. Positive-Negatif-Zero?\n",
        "num = float(input(\"You entered number..:\"))\n",
        "default = \"zero\"  ## durum değişkeni (o anki durumu gösteren bir bayrak)\n",
        "if num>0:\n",
        "    default=\"positive\"\n",
        "if num<0:\n",
        "    default=\"negative\"\n",
        "\n",
        "print(default)"
      ]
    },
    {
      "cell_type": "code",
      "execution_count": null,
      "metadata": {},
      "outputs": [
        {
          "name": "stdout",
          "output_type": "stream",
          "text": [
            "positive\n"
          ]
        }
      ],
      "source": [
        "## 3. Positive-Negatif-Zero?\n",
        "num = float(input(\"You entered number..:\"))\n",
        "if num>0:\n",
        "    print(\"positive\")\n",
        "elif num<0:\n",
        "    print(\"negative\")\n",
        "else:\n",
        "    print(\"zero\")"
      ]
    },
    {
      "cell_type": "code",
      "execution_count": null,
      "metadata": {},
      "outputs": [
        {
          "name": "stdout",
          "output_type": "stream",
          "text": [
            "9.0 is larger.\n"
          ]
        }
      ],
      "source": [
        "num1 = float(input(\"You entered number-1..:\"))\n",
        "num2 = float(input(\"You entered number-2..:\"))\n",
        "if num1>num2:\n",
        "    larg = num1\n",
        "else:\n",
        "    larg = num2\n",
        "\n",
        "print(f\"{larg} is larger.\")"
      ]
    },
    {
      "cell_type": "code",
      "execution_count": null,
      "metadata": {},
      "outputs": [
        {
          "name": "stdout",
          "output_type": "stream",
          "text": [
            "89.0 is larger.\n"
          ]
        }
      ],
      "source": [
        "num1 = float(input(\"You entered number-1..:\"))\n",
        "num2 = float(input(\"You entered number-2..:\"))\n",
        "larg = max(num1,num2)\n",
        "print(f\"{larg} is larger.\")"
      ]
    },
    {
      "cell_type": "code",
      "execution_count": null,
      "metadata": {},
      "outputs": [
        {
          "name": "stdout",
          "output_type": "stream",
          "text": [
            "No such audience, stay at your home!\n"
          ]
        }
      ],
      "source": [
        "audience = 'baby'\n",
        "\n",
        "if audience == 'kid':\n",
        "\tprint('it is free to go to cinema')\n",
        "elif audience == 'teen':\n",
        "\tprint('discounted price!')\n",
        "elif audience == 'adult':\n",
        "\tprint('normal price')\n",
        "else:\n",
        "\tprint('No such audience, stay at your home!')\n"
      ]
    },
    {
      "cell_type": "code",
      "execution_count": null,
      "metadata": {},
      "outputs": [
        {
          "name": "stdout",
          "output_type": "stream",
          "text": [
            "normal price\n"
          ]
        }
      ],
      "source": [
        "audience = 'adult'\n",
        "\n",
        "if audience == 'kid':\n",
        "\tprint('it is free to go to cinema')\n",
        "elif audience == 'teen':\n",
        "\tprint('discounted price!')\n",
        "elif audience == 'adult':\n",
        "\tprint('normal price')\n",
        "else:\n",
        "\tprint('No such audience, stay at your home!')"
      ]
    },
    {
      "cell_type": "code",
      "execution_count": null,
      "metadata": {},
      "outputs": [
        {
          "name": "stdout",
          "output_type": "stream",
          "text": [
            "45.0 is larger.\n"
          ]
        }
      ],
      "source": [
        "##a. 3 sayı içerisinden en büyüğü\n",
        "num1 = float(input(\"You entered number-1..:\"))\n",
        "num2 = float(input(\"You entered number-2..:\"))\n",
        "num3 = float(input(\"You entered number-3..:\"))\n",
        "if num1>=num2 and num1>=num3:\n",
        "    larg = num1\n",
        "elif num2>=num1 and num2>=num3:\n",
        "    larg = num2\n",
        "else:\n",
        "    larg = num3\n",
        "    \n",
        "print(f\"{larg} is larger.\")"
      ]
    },
    {
      "cell_type": "code",
      "execution_count": null,
      "metadata": {},
      "outputs": [
        {
          "name": "stdout",
          "output_type": "stream",
          "text": [
            "67.0 is larger.\n"
          ]
        }
      ],
      "source": [
        "##b. 3 sayı içerisinden en büyüğü\n",
        "num1 = float(input(\"You entered number-1..:\"))\n",
        "num2 = float(input(\"You entered number-2..:\"))\n",
        "num3 = float(input(\"You entered number-3..:\"))\n",
        "larg = max(num3, max(num1,num2))\n",
        "    \n",
        "print(f\"{larg} is larger.\")"
      ]
    },
    {
      "cell_type": "code",
      "execution_count": null,
      "metadata": {},
      "outputs": [
        {
          "name": "stdout",
          "output_type": "stream",
          "text": [
            "5.0 is larger.\n"
          ]
        }
      ],
      "source": [
        "##c. 3 sayı içerisinden en büyüğü\n",
        "num1 = float(input(\"You entered number-1..:\"))\n",
        "num2 = float(input(\"You entered number-2..:\"))\n",
        "num3 = float(input(\"You entered number-3..:\"))\n",
        "larg = num1 #ön kabul(birini en büyük kabul ediyoruz)\n",
        "\n",
        "if num2>=larg:\n",
        "    larg = num2\n",
        "if num3>=larg:\n",
        "    larg = num3\n",
        "    \n",
        "print(f\"{larg} is larger.\")"
      ]
    },
    {
      "cell_type": "code",
      "execution_count": null,
      "metadata": {},
      "outputs": [],
      "source": [
        "##a. Bilet indirimi\n",
        "seyirci_grup = 'kid', 'teen', 'adult'\n",
        "seyirci = 'teen'\n",
        "if seyirci in seyirci_grup:\n",
        "    if seyirci == 'kid':\n",
        "        print('it is free')\n",
        "    elif seyirci == 'teen':\n",
        "        print('%50 indirimli bilet')\n",
        "    else:\n",
        "        print('normal bilet')\n",
        "else:\n",
        "    print(\"evinde kal!\")  "
      ]
    },
    {
      "cell_type": "code",
      "execution_count": null,
      "metadata": {},
      "outputs": [
        {
          "name": "stdout",
          "output_type": "stream",
          "text": [
            "%50 indirimli bilet\n"
          ]
        }
      ],
      "source": [
        "##b. Bilet indirimi\n",
        "seyirci_grup = 'kid', 'teen', 'adult'\n",
        "seyirci = input('yaş durumunuz..:')\n",
        "if seyirci in seyirci_grup:\n",
        "    if seyirci == 'kid':\n",
        "        print('it is free')\n",
        "    elif seyirci == 'teen':\n",
        "        print('%50 indirimli bilet')\n",
        "    else:\n",
        "        print('normal bilet')\n",
        "else:\n",
        "    if seyirci == 'old':  #elif şeklinde birleştirilebilir...\n",
        "        print('it is free')\n",
        "    else:\n",
        "        print(\"evinde kal!\") "
      ]
    },
    {
      "cell_type": "code",
      "execution_count": null,
      "metadata": {},
      "outputs": [],
      "source": [
        "##c. Bilet indirimi\n",
        "seyirci_grup = 'kid', 'teen', 'adult'\n",
        "seyirci = input('yaş durumunuz..:')\n",
        "if seyirci in seyirci_grup:\n",
        "    if seyirci == 'kid':\n",
        "        print('it is free')\n",
        "    elif seyirci == 'teen':\n",
        "        print('%50 indirimli bilet')\n",
        "    else:\n",
        "        print('normal bilet')\n",
        "else:\n",
        "    seyirci = input('yaş durumunuz..:') ##elif olamaz!\n",
        "    if seyirci == 'old':\n",
        "        print('it is free')\n",
        "    else:\n",
        "        print(\"evinde kal!\") "
      ]
    },
    {
      "cell_type": "code",
      "execution_count": null,
      "metadata": {},
      "outputs": [
        {
          "name": "stdout",
          "output_type": "stream",
          "text": [
            "Harfli Notunuz..:  A+\n"
          ]
        }
      ],
      "source": [
        "##a. Harfli not sistemi\n",
        "ders_notu = int(input(\"başarı notununu gir..: \"))\n",
        "if ders_notu>=95 and ders_notu<=100:\n",
        "    skor = \"A+\"\n",
        "elif ders_notu>=90 and ders_notu<95:\n",
        "    skor = \"A\"\n",
        "elif ders_notu>=85 and ders_notu<90:\n",
        "    skor = \"B+\"\n",
        "elif ders_notu>=80 and ders_notu<85:\n",
        "    skor = \"B\"\n",
        "else:\n",
        "    skor = \"B-\"\n",
        "print(\"Harfli Notunuz..: \", skor)\n"
      ]
    },
    {
      "cell_type": "code",
      "execution_count": null,
      "metadata": {},
      "outputs": [
        {
          "name": "stdout",
          "output_type": "stream",
          "text": [
            "Harfli Notunuz..:  B+\n"
          ]
        }
      ],
      "source": [
        "##b. Harfli not sistemi\n",
        "ders_notu = int(input(\"başarı notununu gir..: \"))\n",
        "if ders_notu>=95:\n",
        "    skor = \"A+\"\n",
        "elif ders_notu>=90:\n",
        "    skor = \"A\"\n",
        "elif ders_notu>=85:\n",
        "    skor = \"B+\"\n",
        "elif ders_notu>=80:\n",
        "    skor = \"B\"\n",
        "else:\n",
        "    skor = \"B-\"\n",
        "print(\"Harfli Notunuz..: \", skor)"
      ]
    },
    {
      "cell_type": "code",
      "execution_count": null,
      "metadata": {},
      "outputs": [
        {
          "name": "stdout",
          "output_type": "stream",
          "text": [
            "Harfli Notunuz..:  B-\n"
          ]
        }
      ],
      "source": [
        "##c. Harfli not sistemi\n",
        "ders_notu = int(input(\"başarı notununu gir..: \"))\n",
        "if ders_notu>=90:\n",
        "    if ders_notu >=95:\n",
        "        skor = \"A+\"\n",
        "    else:\n",
        "        skor = \"A\"\n",
        "elif ders_notu>=80:\n",
        "    if ders_notu>=85:\n",
        "        skor = \"B+\"\n",
        "    else:\n",
        "        skor = \"B\"\n",
        "\n",
        "else:\n",
        "    skor = \"B-\"\n",
        "print(\"Harfli Notunuz..: \", skor)"
      ]
    },
    {
      "cell_type": "code",
      "execution_count": null,
      "metadata": {},
      "outputs": [
        {
          "ename": "",
          "evalue": "",
          "output_type": "error",
          "traceback": [
            "\u001b[1;31mRunning cells with 'Python 3.10.2 64-bit' requires ipykernel package.\n",
            "Run the following command to install 'ipykernel' into the Python environment. \n",
            "Command: '/bin/python3.10 -m pip install ipykernel -U --user --force-reinstall'"
          ]
        }
      ],
      "source": [
        "##Sadece 3.10 ve üzeri için geçerli\n",
        "##d. Harfli not sistemi\n",
        "ders_notu = int(input(\"başarı notununu gir..: \"))\n",
        "skor = \"B-\"\n",
        "match ders_notu:\n",
        "    case 95|96|97|98|99|100:\n",
        "        skor = \"A+\"\n",
        "    case 90|91|92|93|94:\n",
        "        skor = \"A\"\n",
        "    case 85|86|87|88|89:\n",
        "        skor = \"B+\"\n",
        "    case 80|81|82|83|84:\n",
        "        skor = \"B\"\n",
        "\n",
        "print(\"Harfli Notunuz..: \", skor)"
      ]
    },
    {
      "cell_type": "code",
      "execution_count": 10,
      "metadata": {},
      "outputs": [
        {
          "name": "stdout",
          "output_type": "stream",
          "text": [
            "Harfli Notunuz..:  B-\n"
          ]
        }
      ],
      "source": [
        "##d. harfli not sistemi\n",
        "ders_notu = int(input(\"başarı notununu gir..: \"))\n",
        "if 95<=ders_notu<=100:\n",
        "    skor = \"A+\"\n",
        "elif 90<=ders_notu<95:\n",
        "    skor = \"A\"\n",
        "elif 85<=ders_notu<90:\n",
        "    skor = \"B+\"\n",
        "elif 80<=ders_notu<85:\n",
        "    skor = \"B\"\n",
        "else:\n",
        "    skor = \"B-\"\n",
        "print(\"Harfli Notunuz..: \", skor)"
      ]
    },
    {
      "cell_type": "code",
      "execution_count": 7,
      "metadata": {},
      "outputs": [
        {
          "name": "stdout",
          "output_type": "stream",
          "text": [
            "3\n"
          ]
        }
      ],
      "source": [
        "x = 3\n",
        "if 2<=x<6:\n",
        "    print(x)\n",
        "else:\n",
        "    print(x**2)"
      ]
    },
    {
      "cell_type": "code",
      "execution_count": 3,
      "metadata": {},
      "outputs": [
        {
          "name": "stdout",
          "output_type": "stream",
          "text": [
            "*****My Calculator*****\n",
            "[+]-Toplama\n",
            "[-]Çıkarma\n",
            "[*]Çarpma\n",
            "***********************\n",
            "Sonuç=15\n"
          ]
        }
      ],
      "source": [
        "#basit hesap makinesi\n",
        "print(\"*****My Calculator*****\\n[+]-Toplama\\n[-]Çıkarma\\n[*]Çarpma\")\n",
        "print(\"***********************\")\n",
        "a = 5\n",
        "b = 3\n",
        "operator = input(\"Hangi işlemi yapmak istiyorsunuz?\")\n",
        "if operator =='+':\n",
        "    islem = a+b\n",
        "elif operator =='-':\n",
        "    islem = a-b\n",
        "elif operator == '*':\n",
        "    islem = a*b\n",
        "else:\n",
        "    print(\"hatalı operatör\")\n",
        "\n",
        "print(f\"Sonuç={islem}\")\n"
      ]
    }
  ],
  "metadata": {
    "colab": {
      "name": "colab_python_bulend_10.ipynb",
      "provenance": []
    },
    "kernelspec": {
      "display_name": "Python 3",
      "name": "python3"
    },
    "language_info": {
      "codemirror_mode": {
        "name": "ipython",
        "version": 3
      },
      "file_extension": ".py",
      "mimetype": "text/x-python",
      "name": "python",
      "nbconvert_exporter": "python",
      "pygments_lexer": "ipython3",
      "version": "3.10.2"
    }
  },
  "nbformat": 4,
  "nbformat_minor": 0
}
