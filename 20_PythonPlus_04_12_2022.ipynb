{
 "cells": [
  {
   "cell_type": "markdown",
   "metadata": {},
   "source": [
    "<p align=\"center\">\n",
    "<img src=\"https://docs.google.com/uc?id=14xeXxFrVRjvOoUYWn_GuyE-v84wVzrqr\" class=\"img-fluid\" alt=\"CLRWY\" width=\"600\" height=\"120\" >\n",
    "</p>"
   ]
  },
  {
   "cell_type": "markdown",
   "metadata": {},
   "source": [
    "<h1><p style=\"text-align: center; color:yellow\">Python In-Class Session 20, <br>12 April 2022</p><h1>"
   ]
  },
  {
   "cell_type": "markdown",
   "metadata": {},
   "source": [
    "## Exceptions, Exception Handling, Files "
   ]
  },
  {
   "cell_type": "code",
   "execution_count": 13,
   "metadata": {},
   "outputs": [
    {
     "ename": "ValueError",
     "evalue": "math domain error",
     "output_type": "error",
     "traceback": [
      "\u001b[0;31m---------------------------------------------------------------------------\u001b[0m",
      "\u001b[0;31mValueError\u001b[0m                                Traceback (most recent call last)",
      "\u001b[1;32m/home/bbc/Documents/20_PythonPlus_04_12_2022.ipynb Cell 4'\u001b[0m in \u001b[0;36m<cell line: 2>\u001b[0;34m()\u001b[0m\n\u001b[1;32m      <a href='vscode-notebook-cell:/home/bbc/Documents/20_PythonPlus_04_12_2022.ipynb#ch0000032?line=0'>1</a>\u001b[0m \u001b[39mimport\u001b[39;00m \u001b[39mmath\u001b[39;00m\n\u001b[0;32m----> <a href='vscode-notebook-cell:/home/bbc/Documents/20_PythonPlus_04_12_2022.ipynb#ch0000032?line=1'>2</a>\u001b[0m \u001b[39mprint\u001b[39m(math\u001b[39m.\u001b[39;49msqrt(\u001b[39m-\u001b[39;49m\u001b[39m9\u001b[39;49m))\n",
      "\u001b[0;31mValueError\u001b[0m: math domain error"
     ]
    }
   ],
   "source": [
    "import math\n",
    "print(math.sqrt(-9))"
   ]
  },
  {
   "cell_type": "code",
   "execution_count": 18,
   "metadata": {},
   "outputs": [
    {
     "ename": "ValueError",
     "evalue": "math domain error",
     "output_type": "error",
     "traceback": [
      "\u001b[0;31m---------------------------------------------------------------------------\u001b[0m",
      "\u001b[0;31mValueError\u001b[0m                                Traceback (most recent call last)",
      "\u001b[1;32m/home/bbc/Documents/20_PythonPlus_04_12_2022.ipynb Cell 5'\u001b[0m in \u001b[0;36m<cell line: 1>\u001b[0;34m()\u001b[0m\n\u001b[0;32m----> <a href='vscode-notebook-cell:/home/bbc/Documents/20_PythonPlus_04_12_2022.ipynb#ch0000035?line=0'>1</a>\u001b[0m \u001b[39mprint\u001b[39m(math\u001b[39m.\u001b[39;49mlog(\u001b[39m-\u001b[39;49m\u001b[39m5\u001b[39;49m))\n",
      "\u001b[0;31mValueError\u001b[0m: math domain error"
     ]
    }
   ],
   "source": [
    "print(math.log(-5))"
   ]
  },
  {
   "cell_type": "code",
   "execution_count": 14,
   "metadata": {},
   "outputs": [
    {
     "name": "stdout",
     "output_type": "stream",
     "text": [
      "3j\n"
     ]
    }
   ],
   "source": [
    "import cmath\n",
    "print(cmath.sqrt(-9))"
   ]
  },
  {
   "cell_type": "code",
   "execution_count": 19,
   "metadata": {},
   "outputs": [
    {
     "name": "stdout",
     "output_type": "stream",
     "text": [
      "(3+0j)\n"
     ]
    }
   ],
   "source": [
    "import cmath\n",
    "print(cmath.sqrt(9))"
   ]
  },
  {
   "cell_type": "code",
   "execution_count": 17,
   "metadata": {},
   "outputs": [
    {
     "name": "stdout",
     "output_type": "stream",
     "text": [
      "(1.6094379124341003+3.141592653589793j)\n"
     ]
    }
   ],
   "source": [
    "import cmath\n",
    "print(cmath.log(-5))"
   ]
  },
  {
   "cell_type": "code",
   "execution_count": 21,
   "metadata": {},
   "outputs": [
    {
     "ename": "SyntaxError",
     "evalue": "EOL while scanning string literal (2117564121.py, line 1)",
     "output_type": "error",
     "traceback": [
      "\u001b[0;36m  Input \u001b[0;32mIn [21]\u001b[0;36m\u001b[0m\n\u001b[0;31m    var = \"Don't ever give up!:'\u001b[0m\n\u001b[0m                                ^\u001b[0m\n\u001b[0;31mSyntaxError\u001b[0m\u001b[0;31m:\u001b[0m EOL while scanning string literal\n"
     ]
    }
   ],
   "source": [
    "var = \"Don't ever give up!:'\n",
    "print(var)"
   ]
  },
  {
   "cell_type": "code",
   "execution_count": 22,
   "metadata": {},
   "outputs": [
    {
     "ename": "NameError",
     "evalue": "name 'vaR' is not defined",
     "output_type": "error",
     "traceback": [
      "\u001b[0;31m---------------------------------------------------------------------------\u001b[0m",
      "\u001b[0;31mNameError\u001b[0m                                 Traceback (most recent call last)",
      "\u001b[1;32m/home/bbc/Documents/20_PythonPlus_04_12_2022.ipynb Cell 11'\u001b[0m in \u001b[0;36m<cell line: 2>\u001b[0;34m()\u001b[0m\n\u001b[1;32m      <a href='vscode-notebook-cell:/home/bbc/Documents/20_PythonPlus_04_12_2022.ipynb#ch0000012?line=0'>1</a>\u001b[0m var \u001b[39m=\u001b[39m \u001b[39m\"\u001b[39m\u001b[39mDon\u001b[39m\u001b[39m'\u001b[39m\u001b[39mt ever give up!\u001b[39m\u001b[39m\"\u001b[39m\n\u001b[0;32m----> <a href='vscode-notebook-cell:/home/bbc/Documents/20_PythonPlus_04_12_2022.ipynb#ch0000012?line=1'>2</a>\u001b[0m \u001b[39mprint\u001b[39m(vaR)\n",
      "\u001b[0;31mNameError\u001b[0m: name 'vaR' is not defined"
     ]
    }
   ],
   "source": [
    "var = \"Don't ever give up!\"\n",
    "print(vaR)"
   ]
  },
  {
   "cell_type": "code",
   "execution_count": 23,
   "metadata": {},
   "outputs": [
    {
     "ename": "TypeError",
     "evalue": "can only concatenate str (not \"int\") to str",
     "output_type": "error",
     "traceback": [
      "\u001b[0;31m---------------------------------------------------------------------------\u001b[0m",
      "\u001b[0;31mTypeError\u001b[0m                                 Traceback (most recent call last)",
      "\u001b[1;32m/home/bbc/Documents/20_PythonPlus_04_12_2022.ipynb Cell 12'\u001b[0m in \u001b[0;36m<cell line: 2>\u001b[0;34m()\u001b[0m\n\u001b[1;32m      <a href='vscode-notebook-cell:/home/bbc/Documents/20_PythonPlus_04_12_2022.ipynb#ch0000030?line=0'>1</a>\u001b[0m var \u001b[39m=\u001b[39m \u001b[39m\"\u001b[39m\u001b[39mDon\u001b[39m\u001b[39m'\u001b[39m\u001b[39mt ever give up!:\u001b[39m\u001b[39m\"\u001b[39m\n\u001b[0;32m----> <a href='vscode-notebook-cell:/home/bbc/Documents/20_PythonPlus_04_12_2022.ipynb#ch0000030?line=1'>2</a>\u001b[0m \u001b[39mprint\u001b[39m(var\u001b[39m+\u001b[39;49m\u001b[39m3\u001b[39;49m)\n",
      "\u001b[0;31mTypeError\u001b[0m: can only concatenate str (not \"int\") to str"
     ]
    }
   ],
   "source": [
    "var = \"Don't ever give up!:\"\n",
    "print(var+3)"
   ]
  },
  {
   "cell_type": "code",
   "execution_count": 24,
   "metadata": {},
   "outputs": [
    {
     "ename": "ValueError",
     "evalue": "invalid literal for int() with base 10: \"Don't ever give up!:\"",
     "output_type": "error",
     "traceback": [
      "\u001b[0;31m---------------------------------------------------------------------------\u001b[0m",
      "\u001b[0;31mValueError\u001b[0m                                Traceback (most recent call last)",
      "\u001b[1;32m/home/bbc/Documents/20_PythonPlus_04_12_2022.ipynb Cell 13'\u001b[0m in \u001b[0;36m<cell line: 1>\u001b[0;34m()\u001b[0m\n\u001b[0;32m----> <a href='vscode-notebook-cell:/home/bbc/Documents/20_PythonPlus_04_12_2022.ipynb#ch0000031?line=0'>1</a>\u001b[0m var \u001b[39m=\u001b[39m \u001b[39mint\u001b[39;49m(\u001b[39m\"\u001b[39;49m\u001b[39mDon\u001b[39;49m\u001b[39m'\u001b[39;49m\u001b[39mt ever give up!:\u001b[39;49m\u001b[39m\"\u001b[39;49m)\n\u001b[1;32m      <a href='vscode-notebook-cell:/home/bbc/Documents/20_PythonPlus_04_12_2022.ipynb#ch0000031?line=1'>2</a>\u001b[0m \u001b[39mprint\u001b[39m(var)\n",
      "\u001b[0;31mValueError\u001b[0m: invalid literal for int() with base 10: \"Don't ever give up!:\""
     ]
    }
   ],
   "source": [
    "var = int(\"Don't ever give up!:\")\n",
    "print(var)"
   ]
  },
  {
   "cell_type": "code",
   "execution_count": 25,
   "metadata": {},
   "outputs": [
    {
     "name": "stdout",
     "output_type": "stream",
     "text": [
      "Here we go!\n",
      "I will be the second text\n",
      "It is time for an error message :(\n"
     ]
    },
    {
     "ename": "TypeError",
     "evalue": "can only concatenate str (not \"int\") to str",
     "output_type": "error",
     "traceback": [
      "\u001b[0;31m---------------------------------------------------------------------------\u001b[0m",
      "\u001b[0;31mTypeError\u001b[0m                                 Traceback (most recent call last)",
      "\u001b[1;32m/home/bbc/Documents/20_PythonPlus_04_12_2022.ipynb Cell 14'\u001b[0m in \u001b[0;36m<cell line: 6>\u001b[0;34m()\u001b[0m\n\u001b[1;32m      <a href='vscode-notebook-cell:/home/bbc/Documents/20_PythonPlus_04_12_2022.ipynb#ch0000013?line=3'>4</a>\u001b[0m b \u001b[39m=\u001b[39m \u001b[39m5\u001b[39m\n\u001b[1;32m      <a href='vscode-notebook-cell:/home/bbc/Documents/20_PythonPlus_04_12_2022.ipynb#ch0000013?line=4'>5</a>\u001b[0m \u001b[39mprint\u001b[39m(\u001b[39m'\u001b[39m\u001b[39mIt is time for an error message :(\u001b[39m\u001b[39m'\u001b[39m)\n\u001b[0;32m----> <a href='vscode-notebook-cell:/home/bbc/Documents/20_PythonPlus_04_12_2022.ipynb#ch0000013?line=5'>6</a>\u001b[0m \u001b[39mprint\u001b[39m(a \u001b[39m+\u001b[39;49m b)  \u001b[39m# it won't be printed\u001b[39;00m\n\u001b[1;32m      <a href='vscode-notebook-cell:/home/bbc/Documents/20_PythonPlus_04_12_2022.ipynb#ch0000013?line=6'>7</a>\u001b[0m \u001b[39mprint\u001b[39m(\u001b[39m\"\u001b[39m\u001b[39mSorry, but I won\u001b[39m\u001b[39m'\u001b[39m\u001b[39mt be printed\u001b[39m\u001b[39m\"\u001b[39m)\n",
      "\u001b[0;31mTypeError\u001b[0m: can only concatenate str (not \"int\") to str"
     ]
    }
   ],
   "source": [
    "print('Here we go!')\n",
    "print('I will be the second text')\n",
    "a = '3'\n",
    "b = 5\n",
    "print('It is time for an error message :(')\n",
    "print(a + b)  # it won't be printed\n",
    "print(\"Sorry, but I won't be printed\")  # it won't be printed"
   ]
  },
  {
   "cell_type": "code",
   "execution_count": null,
   "metadata": {},
   "outputs": [],
   "source": [
    "#Exception handling: try mutlaka except ile brlikte kullanılır...\n",
    "try:\n",
    "    pass ##hata üretme ihtimali olan kod buraya yazılır\n",
    "\n",
    "except:\n",
    "    pass ##üretilen hatanın yaklandığı blok\n",
    "\n",
    "else:\n",
    "    pass ##hata oluşmadı ise çalışacak blok\n",
    "\n",
    "finally:\n",
    "    pass ##hata olsa da olmasa da çalışacak kod buraya yazılır...\n",
    "         ##dosya kapatma\n"
   ]
  },
  {
   "cell_type": "code",
   "execution_count": 29,
   "metadata": {},
   "outputs": [
    {
     "ename": "ValueError",
     "evalue": "invalid literal for int() with base 10: 'g'",
     "output_type": "error",
     "traceback": [
      "\u001b[0;31m---------------------------------------------------------------------------\u001b[0m",
      "\u001b[0;31mValueError\u001b[0m                                Traceback (most recent call last)",
      "\u001b[1;32m/home/bbc/Documents/20_PythonPlus_04_12_2022.ipynb Cell 16'\u001b[0m in \u001b[0;36m<cell line: 2>\u001b[0;34m()\u001b[0m\n\u001b[1;32m      <a href='vscode-notebook-cell:/home/bbc/Documents/20_PythonPlus_04_12_2022.ipynb#ch0000039?line=0'>1</a>\u001b[0m \u001b[39mwhile\u001b[39;00m \u001b[39mTrue\u001b[39;00m:\n\u001b[1;32m      <a href='vscode-notebook-cell:/home/bbc/Documents/20_PythonPlus_04_12_2022.ipynb#ch0000039?line=1'>2</a>\u001b[0m     no_one \u001b[39m=\u001b[39m \u001b[39mint\u001b[39m(\u001b[39minput\u001b[39m(\u001b[39m\"\u001b[39m\u001b[39mThe first number please : \u001b[39m\u001b[39m\"\u001b[39m))\n\u001b[0;32m----> <a href='vscode-notebook-cell:/home/bbc/Documents/20_PythonPlus_04_12_2022.ipynb#ch0000039?line=2'>3</a>\u001b[0m     no_two \u001b[39m=\u001b[39m \u001b[39mint\u001b[39;49m(\u001b[39minput\u001b[39;49m(\u001b[39m\"\u001b[39;49m\u001b[39mThe second number please : \u001b[39;49m\u001b[39m\"\u001b[39;49m))\n\u001b[1;32m      <a href='vscode-notebook-cell:/home/bbc/Documents/20_PythonPlus_04_12_2022.ipynb#ch0000039?line=3'>4</a>\u001b[0m     division \u001b[39m=\u001b[39m no_one \u001b[39m/\u001b[39m no_two  \u001b[39m# normal part of the program\u001b[39;00m\n\u001b[1;32m      <a href='vscode-notebook-cell:/home/bbc/Documents/20_PythonPlus_04_12_2022.ipynb#ch0000039?line=4'>5</a>\u001b[0m     \u001b[39mprint\u001b[39m(division)\n",
      "\u001b[0;31mValueError\u001b[0m: invalid literal for int() with base 10: 'g'"
     ]
    }
   ],
   "source": [
    "while True:\n",
    "    no_one = int(input(\"The first number please : \"))\n",
    "    no_two = int(input(\"The second number please : \"))\n",
    "    division = no_one / no_two  # normal part of the program\n",
    "    print(division)\n",
    "    break"
   ]
  },
  {
   "cell_type": "code",
   "execution_count": 31,
   "metadata": {},
   "outputs": [
    {
     "ename": "ValueError",
     "evalue": "invalid literal for int() with base 10: 'g'",
     "output_type": "error",
     "traceback": [
      "\u001b[0;31m---------------------------------------------------------------------------\u001b[0m",
      "\u001b[0;31mValueError\u001b[0m                                Traceback (most recent call last)",
      "\u001b[1;32m/home/bbc/Documents/20_PythonPlus_04_12_2022.ipynb Cell 17'\u001b[0m in \u001b[0;36m<cell line: 2>\u001b[0;34m()\u001b[0m\n\u001b[1;32m      <a href='vscode-notebook-cell:/home/bbc/Documents/20_PythonPlus_04_12_2022.ipynb#ch0000040?line=0'>1</a>\u001b[0m \u001b[39mwhile\u001b[39;00m \u001b[39mTrue\u001b[39;00m:\n\u001b[1;32m      <a href='vscode-notebook-cell:/home/bbc/Documents/20_PythonPlus_04_12_2022.ipynb#ch0000040?line=1'>2</a>\u001b[0m     no_one \u001b[39m=\u001b[39m \u001b[39mint\u001b[39m(\u001b[39minput\u001b[39m(\u001b[39m\"\u001b[39m\u001b[39mThe first number please : \u001b[39m\u001b[39m\"\u001b[39m))\n\u001b[0;32m----> <a href='vscode-notebook-cell:/home/bbc/Documents/20_PythonPlus_04_12_2022.ipynb#ch0000040?line=2'>3</a>\u001b[0m     no_two \u001b[39m=\u001b[39m \u001b[39mint\u001b[39;49m(\u001b[39minput\u001b[39;49m(\u001b[39m\"\u001b[39;49m\u001b[39mThe second number please : \u001b[39;49m\u001b[39m\"\u001b[39;49m))\n\u001b[1;32m      <a href='vscode-notebook-cell:/home/bbc/Documents/20_PythonPlus_04_12_2022.ipynb#ch0000040?line=3'>4</a>\u001b[0m     \u001b[39mtry\u001b[39;00m:\n\u001b[1;32m      <a href='vscode-notebook-cell:/home/bbc/Documents/20_PythonPlus_04_12_2022.ipynb#ch0000040?line=4'>5</a>\u001b[0m         division \u001b[39m=\u001b[39m no_one \u001b[39m/\u001b[39m no_two  \u001b[39m# normal part of the program\u001b[39;00m\n",
      "\u001b[0;31mValueError\u001b[0m: invalid literal for int() with base 10: 'g'"
     ]
    }
   ],
   "source": [
    "while True:\n",
    "    no_one = int(input(\"The first number please : \"))\n",
    "    no_two = int(input(\"The second number please : \"))\n",
    "    try:\n",
    "        division = no_one / no_two  # normal part of the program\n",
    "        print(division)\n",
    "        break\n",
    "    except:\n",
    "        print(\"Lütfen 0 haricinde sayı giriniz!\")"
   ]
  },
  {
   "cell_type": "code",
   "execution_count": 36,
   "metadata": {},
   "outputs": [
    {
     "name": "stdout",
     "output_type": "stream",
     "text": [
      "Lütfen 0 haricinde sayı giriniz!\n",
      "0.875\n"
     ]
    }
   ],
   "source": [
    "while True:\n",
    "    try:\n",
    "        no_one = int(input(\"The first number please : \"))\n",
    "        no_two = int(input(\"The second number please : \"))\n",
    "        division = no_one / no_two  # normal part of the program\n",
    "        print(division)\n",
    "        break\n",
    "    except:  ## tüm hataları yakalayan bir örnek!!!\n",
    "        print(\"Lütfen 0 haricinde sayı giriniz!\")"
   ]
  },
  {
   "cell_type": "code",
   "execution_count": 35,
   "metadata": {},
   "outputs": [
    {
     "name": "stdout",
     "output_type": "stream",
     "text": [
      "Lütfen paydaya 0 haricinde bir rakam giriniz!\n",
      "Lütfen sayı giriniz!\n",
      "1.0\n"
     ]
    }
   ],
   "source": [
    "while True:\n",
    "    try:\n",
    "        no_one = int(input(\"The first number please : \"))\n",
    "        no_two = int(input(\"The second number please : \"))\n",
    "        division = no_one / no_two  # normal part of the program\n",
    "        print(division)\n",
    "        break\n",
    "    except ZeroDivisionError:\n",
    "        print(\"Lütfen paydaya 0 haricinde bir rakam giriniz!\")\n",
    "    except TypeError:\n",
    "        print(\"Lütfen sayı giriniz!\")\n",
    "    except ValueError:\n",
    "        print(\"Lütfen sayı giriniz!\")"
   ]
  },
  {
   "cell_type": "code",
   "execution_count": 37,
   "metadata": {},
   "outputs": [
    {
     "name": "stdout",
     "output_type": "stream",
     "text": [
      "Lütfen sayı giriniz!\n",
      "Lütfen sayı giriniz!\n",
      "0.8571428571428571\n"
     ]
    }
   ],
   "source": [
    "while True:\n",
    "    try:\n",
    "        no_one = int(input(\"The first number please : \"))\n",
    "        no_two = int(input(\"The second number please : \"))\n",
    "        division = no_one / no_two  # normal part of the program\n",
    "        print(division)\n",
    "        break\n",
    "    except ZeroDivisionError:\n",
    "        print(\"Lütfen paydaya 0 haricinde bir rakam giriniz!\")\n",
    "    except (TypeError, ValueError):\n",
    "        print(\"Lütfen sayı giriniz!\")"
   ]
  },
  {
   "cell_type": "code",
   "execution_count": 38,
   "metadata": {},
   "outputs": [
    {
     "name": "stdout",
     "output_type": "stream",
     "text": [
      "No file!\n"
     ]
    }
   ],
   "source": [
    "try:\n",
    "    dosya = open(\"myy_file.txt\")\n",
    "    dosya.read()\n",
    "except FileNotFoundError:\n",
    "    print(\"No file!\")"
   ]
  },
  {
   "cell_type": "code",
   "execution_count": 39,
   "metadata": {},
   "outputs": [
    {
     "name": "stdout",
     "output_type": "stream",
     "text": [
      "No file!\n"
     ]
    }
   ],
   "source": [
    "try:\n",
    "    dosya = open(\"my_file.txt\")\n",
    "    dosya.read()\n",
    "except FileNotFoundError:\n",
    "    print(\"No file!\")"
   ]
  },
  {
   "cell_type": "code",
   "execution_count": 40,
   "metadata": {},
   "outputs": [
    {
     "ename": "FileNotFoundError",
     "evalue": "[Errno 2] No such file or directory: 'my_file.txt'",
     "output_type": "error",
     "traceback": [
      "\u001b[0;31m---------------------------------------------------------------------------\u001b[0m",
      "\u001b[0;31mFileNotFoundError\u001b[0m                         Traceback (most recent call last)",
      "\u001b[1;32m/home/bbc/Documents/20_PythonPlus_04_12_2022.ipynb Cell 23'\u001b[0m in \u001b[0;36m<cell line: 1>\u001b[0;34m()\u001b[0m\n\u001b[0;32m----> <a href='vscode-notebook-cell:/home/bbc/Documents/20_PythonPlus_04_12_2022.ipynb#ch0000046?line=0'>1</a>\u001b[0m dosya \u001b[39m=\u001b[39m \u001b[39mopen\u001b[39;49m(\u001b[39m\"\u001b[39;49m\u001b[39mmy_file.txt\u001b[39;49m\u001b[39m\"\u001b[39;49m)\n\u001b[1;32m      <a href='vscode-notebook-cell:/home/bbc/Documents/20_PythonPlus_04_12_2022.ipynb#ch0000046?line=1'>2</a>\u001b[0m dosya\u001b[39m.\u001b[39mread()\n",
      "\u001b[0;31mFileNotFoundError\u001b[0m: [Errno 2] No such file or directory: 'my_file.txt'"
     ]
    }
   ],
   "source": [
    "dosya = open(\"my_file.txt\")\n",
    "dosya.read()\n"
   ]
  },
  {
   "cell_type": "code",
   "execution_count": 42,
   "metadata": {},
   "outputs": [
    {
     "name": "stdout",
     "output_type": "stream",
     "text": [
      "No file!\n",
      "dosya kapatıldı\n"
     ]
    }
   ],
   "source": [
    "try:\n",
    "    dosya = open(\"my_file.txt\")\n",
    "    dosya.read()\n",
    "except FileNotFoundError:\n",
    "    print(\"No file!\")\n",
    "finally:\n",
    "    #dosya.close()\n",
    "    print(\"dosya kapatıldı\")"
   ]
  },
  {
   "cell_type": "code",
   "execution_count": 46,
   "metadata": {},
   "outputs": [
    {
     "ename": "ValueError",
     "evalue": "invalid literal for int() with base 10: 'k'",
     "output_type": "error",
     "traceback": [
      "\u001b[0;31m---------------------------------------------------------------------------\u001b[0m",
      "\u001b[0;31mValueError\u001b[0m                                Traceback (most recent call last)",
      "\u001b[1;32m/home/bbc/Documents/20_PythonPlus_04_12_2022.ipynb Cell 25'\u001b[0m in \u001b[0;36m<cell line: 2>\u001b[0;34m()\u001b[0m\n\u001b[1;32m      <a href='vscode-notebook-cell:/home/bbc/Documents/20_PythonPlus_04_12_2022.ipynb#ch0000048?line=0'>1</a>\u001b[0m \u001b[39mwhile\u001b[39;00m \u001b[39mTrue\u001b[39;00m:\n\u001b[1;32m      <a href='vscode-notebook-cell:/home/bbc/Documents/20_PythonPlus_04_12_2022.ipynb#ch0000048?line=1'>2</a>\u001b[0m     no_one \u001b[39m=\u001b[39m \u001b[39mint\u001b[39m(\u001b[39minput\u001b[39m(\u001b[39m\"\u001b[39m\u001b[39mThe first number please : \u001b[39m\u001b[39m\"\u001b[39m))\n\u001b[0;32m----> <a href='vscode-notebook-cell:/home/bbc/Documents/20_PythonPlus_04_12_2022.ipynb#ch0000048?line=2'>3</a>\u001b[0m     no_two \u001b[39m=\u001b[39m \u001b[39mint\u001b[39;49m(\u001b[39minput\u001b[39;49m(\u001b[39m\"\u001b[39;49m\u001b[39mThe second number please : \u001b[39;49m\u001b[39m\"\u001b[39;49m))\n\u001b[1;32m      <a href='vscode-notebook-cell:/home/bbc/Documents/20_PythonPlus_04_12_2022.ipynb#ch0000048?line=3'>4</a>\u001b[0m     \u001b[39mtry\u001b[39;00m:\n\u001b[1;32m      <a href='vscode-notebook-cell:/home/bbc/Documents/20_PythonPlus_04_12_2022.ipynb#ch0000048?line=4'>5</a>\u001b[0m         division \u001b[39m=\u001b[39m no_one \u001b[39m/\u001b[39m no_two  \u001b[39m# normal part of the program\u001b[39;00m\n",
      "\u001b[0;31mValueError\u001b[0m: invalid literal for int() with base 10: 'k'"
     ]
    }
   ],
   "source": [
    "while True:\n",
    "    no_one = int(input(\"The first number please : \"))\n",
    "    no_two = int(input(\"The second number please : \"))\n",
    "    try:\n",
    "        division = no_one / no_two  # normal part of the program\n",
    "    except ZeroDivisionError:\n",
    "        print(\"You can't divide by zero! Try again.\")  # executes when division by zero\n",
    "    else:\n",
    "        print(\"The result of the division is : \", division)  # executes if there is no exception\n",
    "    finally:\n",
    "        print(\"Thanks for using our mini divison calculator! Come again!\")\n",
    "        break  # exits the while loop"
   ]
  },
  {
   "cell_type": "code",
   "execution_count": 44,
   "metadata": {},
   "outputs": [
    {
     "ename": "ZeroDivisionError",
     "evalue": "division by zero",
     "output_type": "error",
     "traceback": [
      "\u001b[0;31m---------------------------------------------------------------------------\u001b[0m",
      "\u001b[0;31mZeroDivisionError\u001b[0m                         Traceback (most recent call last)",
      "\u001b[1;32m/home/bbc/Documents/20_PythonPlus_04_12_2022.ipynb Cell 26'\u001b[0m in \u001b[0;36m<cell line: 1>\u001b[0;34m()\u001b[0m\n\u001b[0;32m----> <a href='vscode-notebook-cell:/home/bbc/Documents/20_PythonPlus_04_12_2022.ipynb#ch0000049?line=0'>1</a>\u001b[0m \u001b[39m7\u001b[39;49m\u001b[39m/\u001b[39;49m\u001b[39m0\u001b[39;49m\n",
      "\u001b[0;31mZeroDivisionError\u001b[0m: division by zero"
     ]
    }
   ],
   "source": [
    "7/0"
   ]
  },
  {
   "cell_type": "code",
   "execution_count": 47,
   "metadata": {},
   "outputs": [
    {
     "name": "stdout",
     "output_type": "stream",
     "text": [
      "Something went wrong...Try again.\n",
      "Probably it is because of 'division by zero' error\n"
     ]
    }
   ],
   "source": [
    "while True:\n",
    "    no_one = int(input(\"The first number please : \"))\n",
    "    no_two = int(input(\"The second number please : \"))\n",
    "    try:\n",
    "        division = no_one / no_two\n",
    "        print(\"The result of the division is : \", division)\n",
    "        break\n",
    "    except Exception as e:\n",
    "        print(\"Something went wrong...Try again.\")\n",
    "        print(\"Probably it is because of '{}' error\".format(e))\n",
    "        break"
   ]
  },
  {
   "cell_type": "code",
   "execution_count": 50,
   "metadata": {},
   "outputs": [
    {
     "name": "stdout",
     "output_type": "stream",
     "text": [
      "Hatanın kaynağı ..: name 'c' is not defined\n"
     ]
    }
   ],
   "source": [
    "try:\n",
    "    a = 5\n",
    "    b = 4\n",
    "    print(\"iki sayının toplamı..:\",c)\n",
    "except Exception as e:\n",
    "    print(f\"Hatanın kaynağı ..: {e}\")"
   ]
  },
  {
   "cell_type": "code",
   "execution_count": 51,
   "metadata": {},
   "outputs": [
    {
     "name": "stdout",
     "output_type": "stream",
     "text": [
      "dosya kapatıldı\n"
     ]
    }
   ],
   "source": [
    "try:\n",
    "    dosya = open(\"myfile.txt\")\n",
    "    dosya.read()\n",
    "except FileNotFoundError:\n",
    "    print(\"No file!\")\n",
    "finally:\n",
    "    dosya.close()\n",
    "    print(\"dosya kapatıldı\")"
   ]
  },
  {
   "cell_type": "code",
   "execution_count": 52,
   "metadata": {},
   "outputs": [
    {
     "name": "stdout",
     "output_type": "stream",
     "text": [
      "1.Bu bir text dosyasıdır.\n",
      "2.Bu ikinci satırdır.\n",
      "3.Bu üçüncü satırdır.\n",
      "4.Bu dördüncü satırdır.\n",
      "5.Bu beşinci satırdır.\n",
      "6.Bu altıncı satırdır.\n",
      "7.Bu yedinci satırdır.\n",
      "dosya kapatıldı\n"
     ]
    }
   ],
   "source": [
    "try:\n",
    "    dosya = open(\"myfile.txt\")\n",
    "\n",
    "except FileNotFoundError:\n",
    "    print(\"No file!\")\n",
    "else:\n",
    "    print(dosya.read())\n",
    "finally:\n",
    "    dosya.close()\n",
    "    print(\"dosya kapatıldı\")"
   ]
  },
  {
   "cell_type": "code",
   "execution_count": 53,
   "metadata": {},
   "outputs": [
    {
     "name": "stdout",
     "output_type": "stream",
     "text": [
      "No file!\n",
      "dosya kapatıldı\n"
     ]
    }
   ],
   "source": [
    "try:\n",
    "    dosya = open(\"my_file.txt\") ##olmayan dosya\n",
    "\n",
    "except FileNotFoundError:\n",
    "    print(\"No file!\")\n",
    "else:\n",
    "    print(dosya.read())\n",
    "finally:\n",
    "    dosya.close()\n",
    "    print(\"dosya kapatıldı\")"
   ]
  },
  {
   "cell_type": "code",
   "execution_count": null,
   "metadata": {},
   "outputs": [],
   "source": [
    "fruits = [\"banana\",\"mango\",\"pear\",\"apple\",\"kiwi\",\"grape\"]\n",
    "\n",
    "index = int(input(\"Enter index number.:\"))\n",
    "print(f\"My favory fruit is {fruits[index]}\")"
   ]
  },
  {
   "cell_type": "code",
   "execution_count": 60,
   "metadata": {},
   "outputs": [
    {
     "name": "stdout",
     "output_type": "stream",
     "text": [
      "Lütfen 0-5 arası bir rakam giriniz!\n",
      "Lütfen rakam giriniz\n",
      "My favorite fruit is apple\n"
     ]
    }
   ],
   "source": [
    "fruits = [\"banana\",\"mango\",\"pear\",\"apple\",\"kiwi\",\"grape\"]\n",
    "while True:\n",
    "    try:\n",
    "        index = int(input(\"Enter index number.:\"))\n",
    "        print(f\"My favorite fruit is {fruits[index]}\")\n",
    "        break\n",
    "    except IndexError:\n",
    "        print(\"Lütfen 0-5 arası bir rakam giriniz!\")\n",
    "    except ValueError:\n",
    "        print(\"Lütfen rakam giriniz\")\n",
    "    "
   ]
  },
  {
   "cell_type": "code",
   "execution_count": 63,
   "metadata": {},
   "outputs": [
    {
     "name": "stdout",
     "output_type": "stream",
     "text": [
      "Lütfen 0-5 arası bir rakam giriniz!\n",
      "My favorite fruit is apple\n"
     ]
    }
   ],
   "source": [
    "fruits = [\"banana\",\"mango\",\"pear\",\"apple\",\"kiwi\",\"grape\"]\n",
    "while True:\n",
    "    try:\n",
    "        index = int(input(\"Enter index number.:\"))\n",
    "        f = fruits[index]\n",
    "    except IndexError:\n",
    "        print(\"Lütfen 0-5 arası bir rakam giriniz!\")\n",
    "    except ValueError:\n",
    "        print(\"Lütfen rakam giriniz\")\n",
    "    else:\n",
    "        print(f\"My favorite fruit is {f}\")\n",
    "        break\n"
   ]
  },
  {
   "cell_type": "code",
   "execution_count": 65,
   "metadata": {},
   "outputs": [
    {
     "name": "stdout",
     "output_type": "stream",
     "text": [
      "My favorite fruit is grape\n",
      "Tebrikler! Doğru değer girdiniz.\n",
      "Meyvelerimiz, daima tazedir...\n"
     ]
    }
   ],
   "source": [
    "fruits = [\"banana\",\"mango\",\"pear\",\"apple\",\"kiwi\",\"grape\"]\n",
    "n = 3\n",
    "while n>0:\n",
    "    try:\n",
    "        index = int(input(\"Enter index number.:\"))\n",
    "        print(f\"My favorite fruit is {fruits[index]}\")\n",
    "    except IndexError:\n",
    "        n-=1\n",
    "        print(\"Lütfen 0-5 arası bir rakam giriniz!\")\n",
    "    except ValueError:\n",
    "        n-=1\n",
    "        print(\"Lütfen rakam giriniz\")\n",
    "    else:\n",
    "        print(\"Tebrikler! Doğru değer girdiniz.\")\n",
    "        break\n",
    "    finally:\n",
    "        print(\"Meyvelerimiz, daima tazedir...\")"
   ]
  },
  {
   "cell_type": "code",
   "execution_count": 67,
   "metadata": {},
   "outputs": [
    {
     "name": "stdout",
     "output_type": "stream",
     "text": [
      "Lütfen 0-5 arası bir rakam giriniz!\n",
      "2 hakkınız kaldı\n",
      "Meyvelerimiz, daima tazedir...\n",
      "Lütfen 0-5 arası bir rakam giriniz!\n",
      "1 hakkınız kaldı\n",
      "Meyvelerimiz, daima tazedir...\n",
      "Lütfen 0-5 arası bir rakam giriniz!\n",
      "Hakkınız kalmadı...\n",
      "Meyvelerimiz, daima tazedir...\n"
     ]
    }
   ],
   "source": [
    "fruits = [\"banana\",\"mango\",\"pear\",\"apple\",\"kiwi\",\"grape\"]\n",
    "n = 3\n",
    "while n>0:\n",
    "    try:\n",
    "        index = int(input(\"Enter index number.:\"))\n",
    "        print(f\"My favorite fruit is {fruits[index]}\")\n",
    "    except IndexError:\n",
    "        n-=1\n",
    "        print(\"Lütfen 0-5 arası bir rakam giriniz!\")\n",
    "        if n == 0: \n",
    "            print(\"Hakkınız kalmadı...\")\n",
    "        else:\n",
    "            print(f\"{n} hakkınız kaldı\")\n",
    "    except ValueError:\n",
    "        n-=1\n",
    "        print(\"Lütfen rakam giriniz\")\n",
    "        if n == 0: \n",
    "            print(\"Hakkınız kalmadı...\")\n",
    "        else:\n",
    "            print(f\"{n} hakkınız kaldı\")\n",
    "    else:\n",
    "        print(\"Tebrikler! Doğru değer girdiniz.\")\n",
    "        break\n",
    "    finally:\n",
    "        print(\"Meyvelerimiz, daima tazedir...\")"
   ]
  },
  {
   "cell_type": "code",
   "execution_count": 69,
   "metadata": {},
   "outputs": [
    {
     "name": "stdout",
     "output_type": "stream",
     "text": [
      "Lütfen 0-5 arası bir rakam giriniz! 2 hakkınız kaldı.\n",
      "Meyvelerimiz, daima tazedir...\n",
      "Lütfen 0-5 arası bir rakam giriniz! 1 hakkınız kaldı.\n",
      "Meyvelerimiz, daima tazedir...\n",
      "Lütfen 0-5 arası bir rakam giriniz! 0 hakkınız kaldı.\n",
      "Meyvelerimiz, daima tazedir...\n"
     ]
    }
   ],
   "source": [
    "fruits = [\"banana\",\"mango\",\"pear\",\"apple\",\"kiwi\",\"grape\"]\n",
    "n = 3\n",
    "while n>0:\n",
    "    try:\n",
    "        index = int(input(\"Enter index number.:\"))\n",
    "        print(f\"My favorite fruit is {fruits[index]}\")\n",
    "    except IndexError:\n",
    "        n-=1\n",
    "        print(f\"Lütfen 0-5 arası bir rakam giriniz! {n} hakkınız kaldı.\")\n",
    "        \n",
    "    except ValueError:\n",
    "        n-=1\n",
    "        print(f\"Lütfen rakam giriniz! {n} hakkınız kaldı..\")\n",
    "    else:\n",
    "        print(\"Tebrikler! Doğru değer girdiniz.\")\n",
    "        break\n",
    "    finally:\n",
    "        print(\"Meyvelerimiz, daima tazedir...\")"
   ]
  },
  {
   "cell_type": "code",
   "execution_count": 70,
   "metadata": {},
   "outputs": [
    {
     "name": "stdout",
     "output_type": "stream",
     "text": [
      "Lütfen 0-5 arası bir rakam giriniz!\n",
      " 2 hakkınız kaldı\n",
      "Meyvelerimiz, daima tazedir...\n",
      "Lütfen 0-5 arası bir rakam giriniz!\n",
      " 1 hakkınız kaldı\n",
      "Meyvelerimiz, daima tazedir...\n",
      "Hakkınız kalmadı...\n",
      "Meyvelerimiz, daima tazedir...\n"
     ]
    }
   ],
   "source": [
    "fruits = [\"banana\",\"mango\",\"pear\",\"apple\",\"kiwi\",\"grape\"]\n",
    "n = 3\n",
    "while n>0:\n",
    "    try:\n",
    "        index = int(input(\"Enter index number.:\"))\n",
    "        print(f\"My favorite fruit is {fruits[index]}\")\n",
    "    except IndexError:\n",
    "        n-=1\n",
    "        if n == 0: \n",
    "            print(\"Hakkınız kalmadı...\")\n",
    "        else:\n",
    "            print(f\"Lütfen 0-5 arası bir rakam giriniz!\\n {n} hakkınız kaldı\")\n",
    "    except ValueError:\n",
    "        n-=1\n",
    "        if n == 0: \n",
    "            print(\"Hakkınız kalmadı...\")\n",
    "        else:\n",
    "            print(f\"Lütfen rakam giriniz\\n {n} hakkınız kaldı\")\n",
    "    else:\n",
    "        print(\"Tebrikler! Doğru değer girdiniz.\")\n",
    "        break\n",
    "    finally:\n",
    "        print(\"Meyvelerimiz, daima tazedir...\")"
   ]
  },
  {
   "cell_type": "code",
   "execution_count": 72,
   "metadata": {},
   "outputs": [
    {
     "ename": "NameError",
     "evalue": "Bu kata çıkılmaz",
     "output_type": "error",
     "traceback": [
      "\u001b[0;31m---------------------------------------------------------------------------\u001b[0m",
      "\u001b[0;31mNameError\u001b[0m                                 Traceback (most recent call last)",
      "\u001b[1;32m/home/bbc/Documents/20_PythonPlus_04_12_2022.ipynb Cell 39'\u001b[0m in \u001b[0;36m<cell line: 3>\u001b[0;34m()\u001b[0m\n\u001b[1;32m      <a href='vscode-notebook-cell:/home/bbc/Documents/20_PythonPlus_04_12_2022.ipynb#ch0000062?line=1'>2</a>\u001b[0m kat \u001b[39m=\u001b[39m \u001b[39mint\u001b[39m(\u001b[39minput\u001b[39m(\u001b[39m\"\u001b[39m\u001b[39mhangi kata çıkmak istiyorsunuz: \u001b[39m\u001b[39m\"\u001b[39m))\n\u001b[1;32m      <a href='vscode-notebook-cell:/home/bbc/Documents/20_PythonPlus_04_12_2022.ipynb#ch0000062?line=2'>3</a>\u001b[0m \u001b[39mif\u001b[39;00m kat\u001b[39m==\u001b[39m\u001b[39m13\u001b[39m:\n\u001b[0;32m----> <a href='vscode-notebook-cell:/home/bbc/Documents/20_PythonPlus_04_12_2022.ipynb#ch0000062?line=3'>4</a>\u001b[0m     \u001b[39mraise\u001b[39;00m \u001b[39mNameError\u001b[39;00m (\u001b[39m\"\u001b[39m\u001b[39mBu kata çıkılmaz\u001b[39m\u001b[39m\"\u001b[39m)\n\u001b[1;32m      <a href='vscode-notebook-cell:/home/bbc/Documents/20_PythonPlus_04_12_2022.ipynb#ch0000062?line=4'>5</a>\u001b[0m \u001b[39mprint\u001b[39m(\u001b[39mf\u001b[39m\u001b[39m\"\u001b[39m\u001b[39mAsansör \u001b[39m\u001b[39m{\u001b[39;00mkat\u001b[39m}\u001b[39;00m\u001b[39m. kata çıkıyor\u001b[39m\u001b[39m\"\u001b[39m)\n",
      "\u001b[0;31mNameError\u001b[0m: Bu kata çıkılmaz"
     ]
    }
   ],
   "source": [
    "#raise: belli durumlarda uyarı mesajı vermek için kullanılabilir\n",
    "kat = int(input(\"hangi kata çıkmak istiyorsunuz: \"))\n",
    "if kat==13:\n",
    "    raise NameError (\"Bu kata çıkılmaz\")\n",
    "print(f\"Asansör {kat}. kata çıkıyor\")\n"
   ]
  },
  {
   "cell_type": "code",
   "execution_count": null,
   "metadata": {},
   "outputs": [],
   "source": [
    "#Files\n",
    "#1. text dosyalar (metin editörü ile açılan dosyalar, notepad, notepad++, vim, vi,...)\n",
    "#2. binary dosyalar (metin haricinde \"resim, ses, video\" veriler içeren dosyalar) , özel programlar\n",
    "#satır sonu '\\n', ' ', None belirtilir.\n",
    "## Temel dosyalama işlemleri:\n",
    "#1. Dosya açılır, (open)\n",
    "#2. Dosya işlem yapılır (okuma, yazma, ....)\n",
    "#3. Dosya kapatılır (close)\n",
    "#\n",
    "dosya = open(\"myfile.txt\") ##1.default: okuma modunda açılır\n",
    "# mode değeri (açma amacımızı belirtiyoruz)\n",
    "print(dosya.read()) ##2.\n",
    "\n",
    "dosya.close() ## 3.\n",
    "#open(file_name_path, mode='r',  encoding=None)¶\n"
   ]
  },
  {
   "cell_type": "code",
   "execution_count": 73,
   "metadata": {},
   "outputs": [
    {
     "data": {
      "text/plain": [
       "'/home/bbc/Documents'"
      ]
     },
     "execution_count": 73,
     "metadata": {},
     "output_type": "execute_result"
    }
   ],
   "source": [
    "pwd\n",
    "##windows kullanıcıları: C:\\\\home\\\\Belgeler\\\\myfile.txt\n",
    "#                        C:/home/Belgeler/myfile.txt"
   ]
  },
  {
   "cell_type": "markdown",
   "metadata": {},
   "source": [
    "#dosya açma modları:\n",
    "'r' :open for reading (default)\n",
    "\n",
    "'w': open for writing, truncating the file first\n",
    "\n",
    "'x': open for exclusive creation, failing if the file already exists\n",
    "\n",
    "'a': open for writing, appending to the end of file if it exists\n",
    "\n",
    "'b' :binary mode\n",
    "\n",
    "'t' :text mode (default)\n",
    "\n",
    "'+': open for updating (reading and writing)"
   ]
  },
  {
   "cell_type": "code",
   "execution_count": 74,
   "metadata": {},
   "outputs": [
    {
     "name": "stdout",
     "output_type": "stream",
     "text": [
      "Dosya adı... /home/bbc/Documents/myfile.txt\n",
      "Dosya kapalı mı? False\n",
      "Dosya modu..: r\n"
     ]
    }
   ],
   "source": [
    "##dosya hakkında bilgi veren metotlar\n",
    "dosya = open(\"/home/bbc/Documents/myfile.txt\", \"r\") ##1.default: okuma modunda açılır\n",
    "print(\"Dosya adı...\", dosya.name)\n",
    "print(\"Dosya kapalı mı?\", dosya.closed)\n",
    "print(\"Dosya modu..:\", dosya.mode)\n",
    "dosya.close()"
   ]
  },
  {
   "cell_type": "code",
   "execution_count": 76,
   "metadata": {},
   "outputs": [
    {
     "name": "stdout",
     "output_type": "stream",
     "text": [
      "1.Bu bir text dosyasıdır.\n",
      "2.Bu ikinci satırdır.\n",
      "3.Bu üçüncü satırdır.\n",
      "4.Bu dördüncü satırdır.\n",
      "5.Bu beşinci satırdır.\n",
      "6.Bu altıncı satırdır.\n",
      "7.Bu yedinci satırdır.\n"
     ]
    }
   ],
   "source": [
    "##dosya kayıtları okuyalım\n",
    "dosya = open(\"/home/bbc/Documents/myfile.txt\", \"r\") ##1.default: okuma modunda açılır\n",
    "\n",
    "print(dosya.read())\n",
    "\n",
    "dosya.close()"
   ]
  },
  {
   "cell_type": "code",
   "execution_count": 77,
   "metadata": {},
   "outputs": [
    {
     "name": "stdout",
     "output_type": "stream",
     "text": [
      "1.Bu \n"
     ]
    }
   ],
   "source": [
    "##dosya kayıtları okuyalım\n",
    "dosya = open(\"/home/bbc/Documents/myfile.txt\", \"r\") ##1.default: okuma modunda açılır\n",
    "\n",
    "print(dosya.read(5)) ## ilk 5 byte'ı ver.\n",
    "\n",
    "dosya.close()"
   ]
  },
  {
   "cell_type": "code",
   "execution_count": 78,
   "metadata": {},
   "outputs": [
    {
     "name": "stdout",
     "output_type": "stream",
     "text": [
      "1.Bu bir text dosyasıdır.\n",
      "\n"
     ]
    }
   ],
   "source": [
    "##dosya kayıtları okuyalım\n",
    "dosya = open(\"/home/bbc/Documents/myfile.txt\", \"r\") ##1.default: okuma modunda açılır\n",
    "\n",
    "print(dosya.readline()) ## satır satır okuma yapar\n",
    "\n",
    "dosya.close()"
   ]
  },
  {
   "cell_type": "code",
   "execution_count": 82,
   "metadata": {},
   "outputs": [
    {
     "name": "stdout",
     "output_type": "stream",
     "text": [
      "1.Bu bir text dosyasıdır.\n",
      "\n",
      "2.Bu ikinci satırdır.\n",
      "\n",
      "3.Bu üçüncü satırdır.\n",
      "\n",
      "4.Bu dördüncü satırdır.\n",
      "\n",
      "5.Bu beşinci satırdır.\n",
      "\n",
      "6.Bu altıncı satırdır.\n",
      "\n",
      "7.Bu yedinci satırdır.\n"
     ]
    }
   ],
   "source": [
    "##dosya kayıtları okuyalım\n",
    "dosya = open(\"/home/bbc/Documents/myfile.txt\", \"r\") ##1.default: okuma modunda açılır\n",
    "for i in dosya:\n",
    "    print(i) ## satır satır okuma yapar\n",
    "\n",
    "dosya.close()"
   ]
  },
  {
   "cell_type": "code",
   "execution_count": 84,
   "metadata": {},
   "outputs": [
    {
     "name": "stdout",
     "output_type": "stream",
     "text": [
      "['1.Bu bir text dosyasıdır.\\n', '2.Bu ikinci satırdır.\\n', '3.Bu üçüncü satırdır.\\n', '4.Bu dördüncü satırdır.\\n', '5.Bu beşinci satırdır.\\n', '6.Bu altıncı satırdır.\\n', '7.Bu yedinci satırdır.']\n"
     ]
    }
   ],
   "source": [
    "##dosya kayıtları okuyalım\n",
    "dosya = open(\"/home/bbc/Documents/myfile.txt\", \"r\") ##1.default: okuma modunda açılır\n",
    "print(dosya.readlines()) ## tüm kayıtları okur, liste halinde döndürür\n",
    "\n",
    "dosya.close()"
   ]
  },
  {
   "cell_type": "code",
   "execution_count": 85,
   "metadata": {},
   "outputs": [
    {
     "name": "stdout",
     "output_type": "stream",
     "text": [
      "1.Bu bir text dosyasıdır.\n",
      "2.Bu ikinci satırdır.\n",
      "3.Bu üçüncü satırdır.\n",
      "4.Bu dördüncü satırdır.\n",
      "5.Bu beşinci satırdır.\n",
      "6.Bu altıncı satırdır.\n",
      "7.Bu yedinci satırdır.\n"
     ]
    }
   ],
   "source": [
    "with open(\"/home/bbc/Documents/myfile.txt\", 'r') as dosya:\n",
    "    kayit = dosya.read()\n",
    "    print(kayit)\n",
    "##otomatik dosyayı kapatıyor"
   ]
  },
  {
   "cell_type": "code",
   "execution_count": 86,
   "metadata": {},
   "outputs": [
    {
     "name": "stdout",
     "output_type": "stream",
     "text": [
      "1.Bu bir text dosyasıdır.\n",
      "\n"
     ]
    }
   ],
   "source": [
    "with open(\"/home/bbc/Documents/myfile.txt\", 'r') as dosya:\n",
    "    kayit = dosya.readline()\n",
    "    print(kayit)\n",
    "##otomatik dosyayı kapatıyor"
   ]
  },
  {
   "cell_type": "code",
   "execution_count": 87,
   "metadata": {},
   "outputs": [
    {
     "name": "stdout",
     "output_type": "stream",
     "text": [
      "1.Bu bir text dosyasıdır.\n",
      "\n",
      "2.Bu ikinci satırdır.\n",
      "\n"
     ]
    }
   ],
   "source": [
    "with open(\"/home/bbc/Documents/myfile.txt\", 'r') as dosya:\n",
    "    kayit = dosya.readline()\n",
    "    print(kayit)\n",
    "\n",
    "    kayit = dosya.readline()\n",
    "    print(kayit)\n",
    "##otomatik dosyayı kapatıyor"
   ]
  },
  {
   "cell_type": "code",
   "execution_count": 88,
   "metadata": {},
   "outputs": [
    {
     "name": "stdout",
     "output_type": "stream",
     "text": [
      "1.Bu bir text dosyasıdır.\n",
      "\n",
      "2.Bu ikinci satırdır.\n",
      "\n",
      "3.Bu üçüncü satırdır.\n",
      "\n",
      "4.Bu dördüncü satırdır.\n",
      "\n",
      "5.Bu beşinci satırdır.\n",
      "\n",
      "6.Bu altıncı satırdır.\n",
      "\n",
      "7.Bu yedinci satırdır.\n"
     ]
    }
   ],
   "source": [
    "with open(\"/home/bbc/Documents/myfile.txt\", 'r') as dosya:\n",
    "    for kayit in dosya:\n",
    "        print(kayit)"
   ]
  },
  {
   "cell_type": "code",
   "execution_count": 89,
   "metadata": {},
   "outputs": [
    {
     "name": "stdout",
     "output_type": "stream",
     "text": [
      "['1.Bu bir text dosyasıdır.\\n', '2.Bu ikinci satırdır.\\n', '3.Bu üçüncü satırdır.\\n', '4.Bu dördüncü satırdır.\\n', '5.Bu beşinci satırdır.\\n', '6.Bu altıncı satırdır.\\n', '7.Bu yedinci satırdır.']\n"
     ]
    }
   ],
   "source": [
    "with open(\"/home/bbc/Documents/myfile.txt\", 'r') as dosya:\n",
    "    print(dosya.readlines())"
   ]
  },
  {
   "cell_type": "code",
   "execution_count": 91,
   "metadata": {},
   "outputs": [
    {
     "name": "stdout",
     "output_type": "stream",
     "text": [
      "1.Bu bir text dosyasıdır.\n",
      "2.Bu ikinci satırdır.\n",
      "3.Bu üç\n"
     ]
    }
   ],
   "source": [
    "with open(\"/home/bbc/Documents/myfile.txt\", 'r') as dosya:\n",
    "    kayit = dosya.read(55)\n",
    "    print(kayit)"
   ]
  }
 ],
 "metadata": {
  "interpreter": {
   "hash": "35c4bcfff6bb594ff47b51ce5b21bcb1093d06fa0c5debe7002e3be5d50f4cc1"
  },
  "kernelspec": {
   "display_name": "Python 3.10.2 64-bit",
   "language": "python",
   "name": "python3"
  },
  "language_info": {
   "codemirror_mode": {
    "name": "ipython",
    "version": 3
   },
   "file_extension": ".py",
   "mimetype": "text/x-python",
   "name": "python",
   "nbconvert_exporter": "python",
   "pygments_lexer": "ipython3",
   "version": "3.8.10"
  },
  "orig_nbformat": 4
 },
 "nbformat": 4,
 "nbformat_minor": 2
}
