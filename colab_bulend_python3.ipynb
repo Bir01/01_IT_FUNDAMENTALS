{
  "cells": [
    {
      "cell_type": "markdown",
      "metadata": {
        "id": "BK3u4c4IYWXP"
      },
      "source": [
        "Negatif sayılarda mod alma(%) işlemine dikkat!"
      ]
    },
    {
      "cell_type": "code",
      "execution_count": null,
      "metadata": {},
      "outputs": [],
      "source": [
        "\n"
      ]
    },
    {
      "cell_type": "code",
      "execution_count": null,
      "metadata": {
        "colab": {
          "base_uri": "https://localhost:8080/"
        },
        "id": "f2r2C2A6YUbG",
        "outputId": "35b4a2ec-075b-4c1f-85e6-b5cb7a18c5f5"
      },
      "outputs": [
        {
          "name": "stdout",
          "output_type": "stream",
          "text": [
            "1\n",
            "3\n"
          ]
        }
      ],
      "source": [
        "print(9%4)\n",
        "print(-9%4)"
      ]
    },
    {
      "cell_type": "markdown",
      "metadata": {
        "id": "z27U99pneJvu"
      },
      "source": [
        "- Mode işlemindeki bu hatanın kaynağı ne olabilir?\n",
        "- mod(a%b) = a-b*floor(a/b) şeklinde işlem görür\n",
        "```\n",
        "# 9-4*floor(9/4) = 9-4*floor(2.25)=9-4*2=9-8=1\n",
        "# -9-4*floor(-9/4) = -9-4*floor(-2.25)=-9-4*(-3)=-9+12=3\n",
        "```\n",
        "\n"
      ]
    },
    {
      "cell_type": "markdown",
      "metadata": {
        "id": "PjlPPSQReQNK"
      },
      "source": []
    },
    {
      "cell_type": "code",
      "execution_count": null,
      "metadata": {
        "colab": {
          "base_uri": "https://localhost:8080/",
          "height": 252
        },
        "id": "ZPexzxPtrFYF",
        "outputId": "61c7d195-f348-4c9f-f580-656798968605"
      },
      "outputs": [
        {
          "name": "stdout",
          "output_type": "stream",
          "text": [
            "4\n",
            "15.0\n",
            "11-7\n"
          ]
        },
        {
          "ename": "TypeError",
          "evalue": "ignored",
          "output_type": "error",
          "traceback": [
            "\u001b[0;31m---------------------------------------------------------------------------\u001b[0m",
            "\u001b[0;31mTypeError\u001b[0m                                 Traceback (most recent call last)",
            "\u001b[0;32m<ipython-input-13-8bb87a719196>\u001b[0m in \u001b[0;36m<module>\u001b[0;34m()\u001b[0m\n\u001b[1;32m      2\u001b[0m \u001b[0mprint\u001b[0m\u001b[0;34m(\u001b[0m\u001b[0;36m4\u001b[0m\u001b[0;34m+\u001b[0m\u001b[0;36m11.0\u001b[0m\u001b[0;34m)\u001b[0m\u001b[0;34m\u001b[0m\u001b[0;34m\u001b[0m\u001b[0m\n\u001b[1;32m      3\u001b[0m \u001b[0mprint\u001b[0m\u001b[0;34m(\u001b[0m\u001b[0;34m'11-7'\u001b[0m\u001b[0;34m)\u001b[0m\u001b[0;34m\u001b[0m\u001b[0;34m\u001b[0m\u001b[0m\n\u001b[0;32m----> 4\u001b[0;31m \u001b[0mprint\u001b[0m\u001b[0;34m(\u001b[0m\u001b[0;34m'4'\u001b[0m\u001b[0;34m+\u001b[0m\u001b[0;36m4\u001b[0m\u001b[0;34m)\u001b[0m  \u001b[0;31m#str+int toplanamaz/birleştirilmez\u001b[0m\u001b[0;34m\u001b[0m\u001b[0;34m\u001b[0m\u001b[0m\n\u001b[0m",
            "\u001b[0;31mTypeError\u001b[0m: can only concatenate str (not \"int\") to str"
          ]
        }
      ],
      "source": [
        "print(11-7)\n",
        "print(4+11.0)\n",
        "print('11-7')\n",
        "print('4'+4)  #str+int toplanamaz/birleştirilmez\n"
      ]
    },
    {
      "cell_type": "code",
      "execution_count": null,
      "metadata": {
        "colab": {
          "base_uri": "https://localhost:8080/"
        },
        "id": "l4uwMPAksTAJ",
        "outputId": "2916b61f-2430-4349-ad37-354786e95602"
      },
      "outputs": [
        {
          "name": "stdout",
          "output_type": "stream",
          "text": [
            "area..: 78.5\n"
          ]
        }
      ],
      "source": [
        "# formula: area = π × r^2\n",
        "# variables names: area, r, ...\n",
        "# constants: π\n",
        "r = 5\n",
        "PI = 3.14  # π = 3.14 geçerli\n",
        "area = PI * r ** 2\n",
        "print('area..:', area)"
      ]
    },
    {
      "cell_type": "code",
      "execution_count": 28,
      "metadata": {
        "colab": {
          "base_uri": "https://localhost:8080/"
        },
        "id": "v3DuOqGLv9WC",
        "outputId": "79113824-1e8e-4548-be1e-b37c8ff670ef"
      },
      "outputs": [
        {
          "name": "stdout",
          "output_type": "stream",
          "text": [
            "area..: 78.5\n"
          ]
        }
      ],
      "source": [
        "r = 5\n",
        "PI = 3.14  # π = 3.14 geçerli\n",
        "area = PI * pow(r,2)  #r**2, eşdeğeri: pow(r,2)\n",
        "print('area..:', area)"
      ]
    },
    {
      "cell_type": "code",
      "execution_count": 27,
      "metadata": {
        "colab": {
          "base_uri": "https://localhost:8080/",
          "height": 428
        },
        "id": "hWKvTXGttwqV",
        "outputId": "8dfb8bab-26d9-470b-f9f0-8e43a33d2ee0"
      },
      "outputs": [
        {
          "name": "stdout",
          "output_type": "stream",
          "text": [
            "Requirement already satisfied: typing in /usr/local/lib/python3.7/dist-packages (3.7.4.3)\n"
          ]
        },
        {
          "ename": "ImportError",
          "evalue": "ignored",
          "output_type": "error",
          "traceback": [
            "\u001b[0;31m---------------------------------------------------------------------------\u001b[0m",
            "\u001b[0;31mImportError\u001b[0m                               Traceback (most recent call last)",
            "\u001b[0;32m<ipython-input-27-4cd2fb985687>\u001b[0m in \u001b[0;36m<module>\u001b[0;34m()\u001b[0m\n\u001b[1;32m      1\u001b[0m \u001b[0mget_ipython\u001b[0m\u001b[0;34m(\u001b[0m\u001b[0;34m)\u001b[0m\u001b[0;34m.\u001b[0m\u001b[0msystem\u001b[0m\u001b[0;34m(\u001b[0m\u001b[0;34m'pip install typing'\u001b[0m\u001b[0;34m)\u001b[0m\u001b[0;34m\u001b[0m\u001b[0;34m\u001b[0m\u001b[0m\n\u001b[0;32m----> 2\u001b[0;31m \u001b[0;32mfrom\u001b[0m \u001b[0mtyping\u001b[0m \u001b[0;32mimport\u001b[0m \u001b[0mFinal\u001b[0m\u001b[0;34m\u001b[0m\u001b[0;34m\u001b[0m\u001b[0m\n\u001b[0m\u001b[1;32m      3\u001b[0m \u001b[0mr\u001b[0m \u001b[0;34m=\u001b[0m \u001b[0;36m5\u001b[0m\u001b[0;34m\u001b[0m\u001b[0;34m\u001b[0m\u001b[0m\n\u001b[1;32m      4\u001b[0m \u001b[0mPI\u001b[0m\u001b[0;34m:\u001b[0m \u001b[0mFinal\u001b[0m \u001b[0;34m=\u001b[0m \u001b[0;36m3.14\u001b[0m  \u001b[0;31m# gerçekten sabit tanımlamak\u001b[0m\u001b[0;34m\u001b[0m\u001b[0;34m\u001b[0m\u001b[0m\n\u001b[1;32m      5\u001b[0m \u001b[0mPI\u001b[0m \u001b[0;34m=\u001b[0m \u001b[0;36m34\u001b[0m\u001b[0;34m\u001b[0m\u001b[0;34m\u001b[0m\u001b[0m\n",
            "\u001b[0;31mImportError\u001b[0m: cannot import name 'Final' from 'typing' (/usr/lib/python3.7/typing.py)",
            "",
            "\u001b[0;31m---------------------------------------------------------------------------\u001b[0;32m\nNOTE: If your import is failing due to a missing package, you can\nmanually install dependencies using either !pip or !apt.\n\nTo view examples of installing some common dependencies, click the\n\"Open Examples\" button below.\n\u001b[0;31m---------------------------------------------------------------------------\u001b[0m\n"
          ]
        }
      ],
      "source": [
        "!pip install typing\n",
        "from typing import Final\n",
        "r = 5\n",
        "PI: Final = 3.14  # gerçekten sabit tanımlamak\n",
        "PI = 34\n",
        "area = PI * r ** 2\n",
        "print('area..:', area)"
      ]
    },
    {
      "cell_type": "code",
      "execution_count": 29,
      "metadata": {
        "colab": {
          "base_uri": "https://localhost:8080/"
        },
        "id": "WN4Py7grxIaV",
        "outputId": "5dcd609e-4e80-49ca-8d95-ab96d7f5886c"
      },
      "outputs": [
        {
          "name": "stdout",
          "output_type": "stream",
          "text": [
            "4.0\n"
          ]
        }
      ],
      "source": [
        "a = 2\n",
        "b = 8\n",
        "print((a*b)**0.5)"
      ]
    },
    {
      "cell_type": "code",
      "execution_count": 30,
      "metadata": {
        "colab": {
          "base_uri": "https://localhost:8080/"
        },
        "id": "RPUdt649xQdP",
        "outputId": "15df241c-c985-4b54-9abf-3e04f95f7fed"
      },
      "outputs": [
        {
          "name": "stdout",
          "output_type": "stream",
          "text": [
            "4.0\n"
          ]
        }
      ],
      "source": [
        "a = 2\n",
        "b = 8\n",
        "print(pow((a*b),0.5))"
      ]
    },
    {
      "cell_type": "code",
      "execution_count": 33,
      "metadata": {
        "colab": {
          "base_uri": "https://localhost:8080/"
        },
        "id": "UCMhSYj31dJO",
        "outputId": "49d7ff70-cc81-4513-dd44-170405d2af27"
      },
      "outputs": [
        {
          "name": "stdout",
          "output_type": "stream",
          "text": [
            "5.0\n"
          ]
        }
      ],
      "source": [
        "a = 3\n",
        "b = 4\n",
        "c = (a**2 + b**2) ** 0.5\n",
        "print(c)"
      ]
    },
    {
      "cell_type": "code",
      "execution_count": 36,
      "metadata": {
        "colab": {
          "base_uri": "https://localhost:8080/"
        },
        "id": "kEk2_j3k133v",
        "outputId": "e676e588-57b1-4469-e2e6-c37879098a4d"
      },
      "outputs": [
        {
          "name": "stdout",
          "output_type": "stream",
          "text": [
            "5.0\n"
          ]
        }
      ],
      "source": [
        "import math\n",
        "#print(dir(math))\n",
        "a = 3\n",
        "b = 4\n",
        "c = math.sqrt(a**2 + b**2)\n",
        "print(c)"
      ]
    },
    {
      "cell_type": "code",
      "execution_count": 38,
      "metadata": {
        "colab": {
          "base_uri": "https://localhost:8080/"
        },
        "id": "SeTUKN7j5E9j",
        "outputId": "f314f8a2-1ddb-4d9f-99a6-e8d3bdb690bb"
      },
      "outputs": [
        {
          "name": "stdout",
          "output_type": "stream",
          "text": [
            "a= 3\n",
            "a= 3\n"
          ]
        }
      ],
      "source": [
        "a = 3\n",
        "print(\"a=\", a)  # normal format\n",
        "print(\"a=\" +\" \"+ str(a))  #java formatı\n"
      ]
    },
    {
      "cell_type": "code",
      "execution_count": 43,
      "metadata": {
        "colab": {
          "base_uri": "https://localhost:8080/"
        },
        "id": "bZ-tkUjH7teP",
        "outputId": "cedb6e2d-777a-4ace-d8a9-5a44a6f529b9"
      },
      "outputs": [
        {
          "name": "stdout",
          "output_type": "stream",
          "text": [
            "I bought>6>kg. saved\n",
            "I bought...6...kg. savedI bought 6 kg. saved?"
          ]
        }
      ],
      "source": [
        "text1 = \"I bought\"\n",
        "text2 = \"kg. saved\"\n",
        "amount = 6\n",
        "print(text1,amount,text2, sep='>')\n",
        "print(text1,amount,text2, sep=\"...\", end=\"\")\n",
        "print(text1,amount,text2, end=\"?\")"
      ]
    },
    {
      "cell_type": "code",
      "execution_count": 45,
      "metadata": {
        "colab": {
          "base_uri": "https://localhost:8080/"
        },
        "id": "ECyiqARb8fbn",
        "outputId": "c08c0432-9522-40f2-8a48-4fceeae5991b"
      },
      "outputs": [
        {
          "name": "stdout",
          "output_type": "stream",
          "text": [
            "p-y-t-h-o-n\n"
          ]
        }
      ],
      "source": [
        "print('p','y','t','h','o','n', sep='-')"
      ]
    },
    {
      "cell_type": "code",
      "execution_count": 48,
      "metadata": {
        "colab": {
          "base_uri": "https://localhost:8080/"
        },
        "id": "m8n58OTb-CK0",
        "outputId": "99dce59c-66f8-4905-ad5d-f71a4b777097"
      },
      "outputs": [
        {
          "name": "stdout",
          "output_type": "stream",
          "text": [
            "value of x    : 5\n",
            "value of x    : 7\n",
            "value of y    : 10 \n",
            "\n",
            "value of y    : 8\n"
          ]
        }
      ],
      "source": [
        "x = 5\n",
        "print(\"value of x    :\", x)\n",
        "x += 2  # x = x + 2\n",
        "print(\"value of x    :\", x)\n",
        "y = 10\n",
        "print(\"value of y    :\", y,\"\\n\")\n",
        "y -= 2\n",
        "print(\"value of y    :\", y)"
      ]
    },
    {
      "cell_type": "code",
      "execution_count": 50,
      "metadata": {
        "colab": {
          "base_uri": "https://localhost:8080/"
        },
        "id": "SOfxONwQAU6H",
        "outputId": "deab8947-e48b-4a6c-95f1-340d53a40393"
      },
      "outputs": [
        {
          "name": "stdout",
          "output_type": "stream",
          "text": [
            "C:\\north pole\n",
            "noise_penguins.txt\n",
            "---------\n",
            "first\tsecond\tthird\n"
          ]
        }
      ],
      "source": [
        "print('C:\\\\north pole\\nnoise_penguins.txt')\n",
        "print('---------')\n",
        "print('first', 'second', 'third',sep='\\t')"
      ]
    },
    {
      "cell_type": "code",
      "execution_count": 52,
      "metadata": {
        "colab": {
          "base_uri": "https://localhost:8080/"
        },
        "id": "AwU2-74XHQnN",
        "outputId": "a3cbb849-e506-42b7-c044-7025a772ea4d"
      },
      "outputs": [
        {
          "name": "stdout",
          "output_type": "stream",
          "text": [
            "Clarusway, Clarusway, Clarusway,\n",
            "\tClarusway, Clarusway, Clarusway,\n",
            "\t\tClarusway, Clarusway, Clarusway\n"
          ]
        }
      ],
      "source": [
        "text = \"Clarusway, Clarusway, Clarusway,\\n\\tClarusway, Clarusway, Clarusway,\\n\\t\\tClarusway, Clarusway, Clarusway\"\n",
        "print(text)"
      ]
    },
    {
      "cell_type": "code",
      "execution_count": 61,
      "metadata": {
        "colab": {
          "base_uri": "https://localhost:8080/"
        },
        "id": "d1sZuinAHXMr",
        "outputId": "379d2ac2-f0a1-42e1-8d8b-732ce8ba1919"
      },
      "outputs": [
        {
          "name": "stdout",
          "output_type": "stream",
          "text": [
            "Clarusway, Clarusway, Clarusway ,\n",
            "\t Clarusway, Clarusway, Clarusway ,\n",
            "\t\t Clarusway, Clarusway, Clarusway\n"
          ]
        }
      ],
      "source": [
        "text = \"Clarusway, Clarusway, Clarusway\"\n",
        "print(text,\",\\n\\t\",text,\",\\n\\t\\t\",text)"
      ]
    },
    {
      "cell_type": "code",
      "execution_count": 62,
      "metadata": {
        "colab": {
          "base_uri": "https://localhost:8080/"
        },
        "id": "LCP7tKhkK_TB",
        "outputId": "bd3ed836-57c4-4f42-e54d-eb34534ce3ac"
      },
      "outputs": [
        {
          "name": "stdout",
          "output_type": "stream",
          "text": [
            "0\n"
          ]
        }
      ],
      "source": [
        "print(0 and 3)  # False arıyor, ilk False değeri yazar"
      ]
    },
    {
      "cell_type": "code",
      "execution_count": 63,
      "metadata": {
        "colab": {
          "base_uri": "https://localhost:8080/"
        },
        "id": "xbAvM-0rLGHo",
        "outputId": "b3ee9414-ff9b-4aa2-d5cd-ae21a161b0cc"
      },
      "outputs": [
        {
          "name": "stdout",
          "output_type": "stream",
          "text": [
            "5\n"
          ]
        }
      ],
      "source": [
        "print(3 and \"ali\" and 5)  #en son True değeri yazar"
      ]
    },
    {
      "cell_type": "code",
      "execution_count": 64,
      "metadata": {
        "colab": {
          "base_uri": "https://localhost:8080/"
        },
        "id": "RdfuSPALLQ4S",
        "outputId": "4f9d57e3-8197-4d4e-daae-da43edfd57f1"
      },
      "outputs": [
        {
          "name": "stdout",
          "output_type": "stream",
          "text": [
            "3\n"
          ]
        }
      ],
      "source": [
        "print(3 or \"ali\" or '')  #True arıyor, ilk True değeri yazar"
      ]
    },
    {
      "cell_type": "code",
      "execution_count": 65,
      "metadata": {
        "colab": {
          "base_uri": "https://localhost:8080/"
        },
        "id": "BuqMP9AoLnW0",
        "outputId": "07771cd0-2372-4148-b4cb-92fe0da40a0f"
      },
      "outputs": [
        {
          "name": "stdout",
          "output_type": "stream",
          "text": [
            "None\n"
          ]
        }
      ],
      "source": [
        "print(0 or '' or None)"
      ]
    },
    {
      "cell_type": "code",
      "execution_count": 66,
      "metadata": {
        "colab": {
          "base_uri": "https://localhost:8080/"
        },
        "id": "Lv2SdEE0LuZS",
        "outputId": "9ba559af-6071-4d22-c893-03a87ac2b8fc"
      },
      "outputs": [
        {
          "name": "stdout",
          "output_type": "stream",
          "text": [
            "False\n"
          ]
        }
      ],
      "source": [
        "print(True and False or False or not True)\n",
        "# (True and False or False or False)\n",
        "# (False or False or False)\n",
        "# (False or False)"
      ]
    },
    {
      "cell_type": "code",
      "execution_count": 68,
      "metadata": {
        "colab": {
          "base_uri": "https://localhost:8080/"
        },
        "id": "AeXe-yluMjuI",
        "outputId": "8fc4b7fd-df8d-4f59-d9bf-fa5a292204d0"
      },
      "outputs": [
        {
          "name": "stdout",
          "output_type": "stream",
          "text": [
            "tek\n"
          ]
        }
      ],
      "source": [
        "# Bir sayının tek mi çift mi olduğunu bulan program.\n",
        "a = 5 # a = int(input())\n",
        "if a%2==0:\n",
        "  print(\"çift\")\n",
        "else:\n",
        "  print(\"tek\")\n"
      ]
    },
    {
      "cell_type": "code",
      "execution_count": 70,
      "metadata": {
        "colab": {
          "base_uri": "https://localhost:8080/"
        },
        "id": "_N1jjsRqNBqW",
        "outputId": "44e82ba5-54a3-4d36-ec6e-24b42d645f94"
      },
      "outputs": [
        {
          "name": "stdout",
          "output_type": "stream",
          "text": [
            "çift\n"
          ]
        }
      ],
      "source": [
        "a = 6\n",
        "print(a%2 and \"tek\" or \"çift\")\n",
        "#     0 and \"tek\" or \"çift\"\n",
        "#     0 or \"çift\" (False or True)\n",
        "#     \"çift\""
      ]
    },
    {
      "cell_type": "markdown",
      "metadata": {
        "id": "P06N16xxQ4LJ"
      },
      "source": [
        "Task: % (mod alma: bir bölme işlemi sonucunda kalanı verir)"
      ]
    },
    {
      "cell_type": "code",
      "execution_count": 71,
      "metadata": {
        "colab": {
          "base_uri": "https://localhost:8080/"
        },
        "id": "ZYmkeP_MRGSC",
        "outputId": "6cd10e41-f92b-4723-af8c-5f8b9d4747e3"
      },
      "outputs": [
        {
          "name": "stdout",
          "output_type": "stream",
          "text": [
            "1\n"
          ]
        }
      ],
      "source": [
        "print(9%4)"
      ]
    },
    {
      "cell_type": "code",
      "execution_count": 72,
      "metadata": {
        "colab": {
          "base_uri": "https://localhost:8080/"
        },
        "id": "5KlF0nXDQ3FN",
        "outputId": "9bbe04f3-a2a7-4a46-9699-82f9eb5f0642"
      },
      "outputs": [
        {
          "name": "stdout",
          "output_type": "stream",
          "text": [
            "3\n"
          ]
        }
      ],
      "source": [
        "print(-9%4) #negatif sayılar???"
      ]
    },
    {
      "cell_type": "code",
      "execution_count": 78,
      "metadata": {
        "colab": {
          "base_uri": "https://localhost:8080/"
        },
        "id": "F07nIl51SEnD",
        "outputId": "b940b864-b31d-49a2-b275-e1c8a10edb8f"
      },
      "outputs": [
        {
          "name": "stdout",
          "output_type": "stream",
          "text": [
            "True\n"
          ]
        }
      ],
      "source": [
        "a = 5\n",
        "b = \"5\"\n",
        "print(a is int(b))\n"
      ]
    },
    {
      "cell_type": "code",
      "execution_count": 84,
      "metadata": {
        "colab": {
          "base_uri": "https://localhost:8080/"
        },
        "id": "xwlORb9qSmWN",
        "outputId": "a114e415-6d47-46a1-d93e-d454f9082d3d"
      },
      "outputs": [
        {
          "name": "stdout",
          "output_type": "stream",
          "text": [
            "True\n",
            "False\n",
            "True\n",
            "140212191626672 140212191626672 140212191627952\n"
          ]
        }
      ],
      "source": [
        "a = 500\n",
        "b = a\n",
        "c = 500\n",
        "print(a is b)\n",
        "print(a is c)  # bellek adresleri eşit/aynı mı?\n",
        "print(a == c)  # değerleri eşit mi?\n",
        "print(id(a), id(b), id(c))"
      ]
    },
    {
      "cell_type": "code",
      "execution_count": 85,
      "metadata": {
        "colab": {
          "base_uri": "https://localhost:8080/"
        },
        "id": "oMwOuLtKT_dT",
        "outputId": "b7fc9640-613a-4923-d990-5f5797f9f653"
      },
      "outputs": [
        {
          "name": "stdout",
          "output_type": "stream",
          "text": [
            "True\n",
            "True\n",
            "True\n",
            "140212191628656 140212191628656 140212191628656\n"
          ]
        }
      ],
      "source": [
        "a = 500\n",
        "b = a\n",
        "c = b\n",
        "print(a is b)\n",
        "print(a is c)  # bellek adresleri eşit/aynı mı?\n",
        "print(a == c)  # değerleri eşit mi?\n",
        "print(id(a), id(b), id(c))"
      ]
    },
    {
      "cell_type": "code",
      "execution_count": 86,
      "metadata": {
        "colab": {
          "base_uri": "https://localhost:8080/"
        },
        "id": "JZkBhKOIUjeR",
        "outputId": "46c9ee91-5d0a-4a21-83f1-b0711e04a49a"
      },
      "outputs": [
        {
          "name": "stdout",
          "output_type": "stream",
          "text": [
            "True\n"
          ]
        }
      ],
      "source": [
        "a = 3\n",
        "b = 5\n",
        "print(a<b and b==5)\n",
        "#  (3<5) and (5==5)\n",
        "#  True and True\n",
        "#  True"
      ]
    },
    {
      "cell_type": "code",
      "execution_count": 87,
      "metadata": {
        "colab": {
          "base_uri": "https://localhost:8080/"
        },
        "id": "yfTGRj5_VEoP",
        "outputId": "40265c9b-2c7c-4a98-ce09-9c295a162097"
      },
      "outputs": [
        {
          "name": "stdout",
          "output_type": "stream",
          "text": [
            "True\n"
          ]
        }
      ],
      "source": [
        "a = 3\n",
        "b = 5\n",
        "print(a<b or b!=5 and not b)\n",
        "#    (3<5) or (5!=5) and not 5\n",
        "#    True  or False  and not 5\n",
        "#    True or False and False\n",
        "#    True or False\n",
        "#    True"
      ]
    },
    {
      "cell_type": "code",
      "execution_count": 88,
      "metadata": {
        "colab": {
          "base_uri": "https://localhost:8080/"
        },
        "id": "C0kCJT2nV0rR",
        "outputId": "fe4c040b-c60c-4cd1-ac8c-141b6fe5f1df"
      },
      "outputs": [
        {
          "name": "stdout",
          "output_type": "stream",
          "text": [
            "False\n"
          ]
        }
      ],
      "source": [
        "a = 3\n",
        "b = 5\n",
        "print(a>b or b!=5 and not b)"
      ]
    },
    {
      "cell_type": "code",
      "execution_count": 100,
      "metadata": {
        "colab": {
          "base_uri": "https://localhost:8080/"
        },
        "id": "VMEN2POeWDVr",
        "outputId": "026a107c-ae46-4491-bd38-c02d4fe55851"
      },
      "outputs": [
        {
          "name": "stdout",
          "output_type": "stream",
          "text": [
            "0\n"
          ]
        }
      ],
      "source": [
        "# 3<a<6            Python için geçerli bir ifade\n",
        "# (3<a) and (a<6)  Tüm diller için geçerli ifade\n",
        "# 3<a<6 aralığında ise \"1\" değilse '0' yazan program\n",
        "a = 7\n",
        "print(3<a<6 and \"1\" or \"0\")\n",
        "#     False and \"1\" or \"0\"\n",
        "#     False or \"0\"\n",
        "#     False or True"
      ]
    },
    {
      "cell_type": "code",
      "execution_count": 101,
      "metadata": {
        "colab": {
          "base_uri": "https://localhost:8080/"
        },
        "id": "PHJpggaKZCDl",
        "outputId": "2b6ffb68-ca6b-4d8d-8f16-e7883e1f60ca"
      },
      "outputs": [
        {
          "name": "stdout",
          "output_type": "stream",
          "text": [
            "f\n"
          ]
        }
      ],
      "source": [
        "# 3<a<6            Python için geçerli bir ifade\n",
        "# (3<a) and (a<6)  Tüm diller için geçerli ifade\n",
        "# 3<a<6 aralığında ise \"t\" değilse 'f' yazan program\n",
        "a = 7\n",
        "print(3<a<6 and \"t\" or \"f\")\n",
        "#     False and \"t\" or \"f\"\n",
        "#     False or \"f\"\n",
        "#     False or True"
      ]
    }
  ],
  "metadata": {
    "colab": {
      "name": "colab_bulend_python3.ipynb",
      "provenance": []
    },
    "kernelspec": {
      "display_name": "Python 3",
      "name": "python3"
    },
    "language_info": {
      "name": "python"
    }
  },
  "nbformat": 4,
  "nbformat_minor": 0
}
