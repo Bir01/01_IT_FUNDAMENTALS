{
 "cells": [
  {
   "cell_type": "markdown",
   "metadata": {},
   "source": [
    "<p align=\"center\">\n",
    "<img src=\"https://docs.google.com/uc?id=14xeXxFrVRjvOoUYWn_GuyE-v84wVzrqr\" class=\"img-fluid\" alt=\"CLRWY\" width=\"600\" height=\"120\" >\n",
    "</p>"
   ]
  },
  {
   "cell_type": "markdown",
   "metadata": {},
   "source": [
    "<h1><p style=\"text-align: center; color:yellow\">Python In-Class Session 23 , <br>21 April 2022 <br>- The End -</p>  <h1>"
   ]
  },
  {
   "cell_type": "markdown",
   "metadata": {},
   "source": [
    "## Reading Files & OOP"
   ]
  },
  {
   "cell_type": "markdown",
   "metadata": {},
   "source": [
    "Hatırlama..."
   ]
  },
  {
   "cell_type": "code",
   "execution_count": 7,
   "metadata": {},
   "outputs": [
    {
     "name": "stdout",
     "output_type": "stream",
     "text": [
      "banana\n",
      "orange\n",
      "apple\n",
      "strawbery\n",
      "cherry\n",
      "\n",
      "['banana\\n', 'orange\\n', 'apple\\n', 'strawbery\\n', 'cherry\\n']\n"
     ]
    }
   ],
   "source": [
    "fruits = [\"banana\\n\", \"orange\\n\", \"apple\\n\", \"strawbery\\n\", \"cherry\\n\"]\n",
    "\n",
    "with open(\"fruits2.txt\", \"w\",encoding=\"utf-8\") as file:\n",
    "    file.writelines(fruits)\n",
    "\n",
    "with open(\"fruits2.txt\", \"r\", encoding=\"utf-8\") as file:\n",
    "    print(file.read())\n",
    "\n",
    "with open(\"fruits2.txt\", \"r\", encoding=\"utf-8\") as file:\n",
    "    print(file.readlines())"
   ]
  },
  {
   "cell_type": "code",
   "execution_count": 9,
   "metadata": {},
   "outputs": [
    {
     "name": "stdout",
     "output_type": "stream",
     "text": [
      "no,fruit,amount\n",
      "1,Banana,4 lb\n",
      "2,Orange,5 lb\n",
      "3,Apple,2 lb\n",
      "4,Strawberry,6 lb\n",
      "5,Cherry,3 lb\n",
      "6,Melon,4 lb\n",
      "7,Lemon,7 lb\n",
      "8,Watermelon,9 lb\n"
     ]
    }
   ],
   "source": [
    "import csv\n",
    "with open(\"/home/bull/Downloads/fruits.csv\", \"r\", newline='') as f:\n",
    "    oku = csv.reader(f, delimiter=',')\n",
    "    for line in oku:\n",
    "        print(','.join(line))\n",
    "        #print(line)"
   ]
  },
  {
   "cell_type": "code",
   "execution_count": 11,
   "metadata": {},
   "outputs": [
    {
     "name": "stdout",
     "output_type": "stream",
     "text": [
      "   no       fruit amount\n",
      "0   1      Banana   4 lb\n",
      "1   2      Orange   5 lb\n",
      "2   3       Apple   2 lb\n",
      "3   4  Strawberry   6 lb\n",
      "4   5      Cherry   3 lb\n"
     ]
    }
   ],
   "source": [
    "import pandas as pd\n",
    "df = pd.read_csv(\"/home/bull/Downloads/fruits.csv\")\n",
    "print(df)"
   ]
  },
  {
   "cell_type": "code",
   "execution_count": 13,
   "metadata": {},
   "outputs": [
    {
     "name": "stdout",
     "output_type": "stream",
     "text": [
      "   no       fruit  amunt\n",
      "0   6       Melon   3 lb\n",
      "1   7       Lemon   5 lb\n",
      "2   8  Watermelon  10 lb\n"
     ]
    }
   ],
   "source": [
    "import pandas as pd\n",
    "veri = {'no': [6,7,8],\n",
    "        'fruit': [\"Melon\", \"Lemon\", \"Watermelon\"],\n",
    "        'amunt': ['3 lb', '5 lb', '10 lb']\n",
    "        }\n",
    "df = pd.DataFrame(veri)\n",
    "df.to_csv(\"/home/bull/Downloads/fruits.csv\", mode='a', header=False, index=False) ##r\"C\\home\\bull\\....\"\n",
    "print(df)"
   ]
  },
  {
   "cell_type": "code",
   "execution_count": 14,
   "metadata": {},
   "outputs": [
    {
     "name": "stdout",
     "output_type": "stream",
     "text": [
      "<class '__main__.Araba'>\n"
     ]
    }
   ],
   "source": [
    "class Araba:\n",
    "    pass\n",
    "\n",
    "taksi = Araba() ##nesne\n",
    "kamyon = Araba() ##nesne\n",
    "print(type(taksi))"
   ]
  },
  {
   "cell_type": "code",
   "execution_count": 18,
   "metadata": {},
   "outputs": [
    {
     "name": "stdout",
     "output_type": "stream",
     "text": [
      "Markası..: BMC\n",
      "Rengi..: Yeşil\n",
      "Kapı Sayısı..: 2\n",
      "None\n",
      "Markası..: Toyota\n",
      "Rengi..: Kırmızı\n",
      "Kapı Sayısı..: 5\n",
      "None\n"
     ]
    }
   ],
   "source": [
    "class Araba:\n",
    "    kapi = 5 ##değişkene/özelliğe default değer aktardık\n",
    "    ##başlatıcı/yapılandırıcı(constructor) metot\n",
    "    def __init__(self, renk, marka, kapi):\n",
    "        self.renk = renk\n",
    "        self.marka = marka\n",
    "        self.kapi=kapi\n",
    "        ##return kullanılmaz\n",
    "\n",
    "    def aracBilgisi(self):\n",
    "        print(\"Markası..:\", self.marka)\n",
    "        print(\"Rengi..:\", self.renk)\n",
    "        print(\"Kapı Sayısı..:\", self.kapi)\n",
    "\n",
    "    def calis(self, start):\n",
    "        start = True\n",
    "        return start\n",
    "\n",
    "taksi_Toyota = Araba(\"Kırmızı\", \"Toyota\", 5) ##nesne\n",
    "kamyon = Araba(\"Beyaz\", \"BMC\", 2) ##nesne\n",
    "kamyon.renk = \"Yeşil\"\n",
    "print(kamyon.aracBilgisi())\n",
    " \n",
    "print(taksi_Toyota.aracBilgisi())"
   ]
  },
  {
   "cell_type": "code",
   "execution_count": 29,
   "metadata": {},
   "outputs": [
    {
     "name": "stdout",
     "output_type": "stream",
     "text": [
      "5000\n",
      "6000\n",
      "{'ad': 'Bulend', 'soyad': 'Hoca', 'mail': 'Hoca.Bulend@clarusway.com', 'maas': 6000}\n"
     ]
    }
   ],
   "source": [
    "class Personel:\n",
    "       \n",
    "    def __init__(self, ad, soyad,maas):\n",
    "        self.ad = ad\n",
    "        self.soyad = soyad\n",
    "        self.mail = soyad + \".\" + ad + \"@clarusway.com\"\n",
    "        self.maas = maas\n",
    "    \n",
    "    def tamAd(self):\n",
    "        return f\"{self.ad} {self.soyad}\"\n",
    "    \n",
    "    def maas_zam(self):\n",
    "        zam = 1.2\n",
    "        self.maas = int(self.maas * zam)\n",
    "        return self.maas\n",
    "    \n",
    "##nesneler\n",
    "\n",
    "personel1 = Personel(\"Bulend\", \"Hoca\", 5000)\n",
    "personel2 = Personel(\"Volkan\", \"Bey\", 9000)\n",
    "\n",
    "print(personel1.maas)\n",
    "print(personel1.maas_zam())\n",
    "\n",
    "print(personel1.__dict__)  ##tüm bilgiler alınabilir..."
   ]
  },
  {
   "cell_type": "code",
   "execution_count": null,
   "metadata": {},
   "outputs": [],
   "source": [
    "class Fib:\n",
    "    ##başlatıcı metot\n",
    "    def __init__(self,max):\n",
    "        self.max=max\n",
    "    \n",
    "    #dolaşılabilir nene: iter, next\n",
    "    def __iter__(self):\n",
    "        self.a = 0\n",
    "        self.b = 1\n",
    "        return self\n",
    "\n",
    "    def __next__(self):\n",
    "        fib = self.a\n",
    "        if fib>self.max:\n",
    "            exit() #next'i sonlandır\n",
    "        self.a, self.b = self.b, self.a + self.b\n",
    "        return fib\n",
    "##main program\n",
    "for i in Fib(1000):\n",
    "    print(i, end='')"
   ]
  },
  {
   "cell_type": "code",
   "execution_count": null,
   "metadata": {},
   "outputs": [],
   "source": [
    "##Kalıtım (inheritance)\n",
    "class AnneBaba:\n",
    "    pass\n",
    "\n",
    "##AnneBaba sınıfından türetilen alt sınıf\n",
    "class Evlat(AnneBaba):\n",
    "    pass\n",
    "\n",
    "\n"
   ]
  },
  {
   "cell_type": "code",
   "execution_count": 22,
   "metadata": {},
   "outputs": [
    {
     "name": "stdout",
     "output_type": "stream",
     "text": [
      "Anne Babamdan Soyadım.:Ak\n",
      "AlınTerim..:Diploma\n",
      "<__main__.Evlat object at 0x7f5b31c31dc0>\n"
     ]
    }
   ],
   "source": [
    "##Kalıtım (inheritance)\n",
    "class AnneBaba:\n",
    "    def __init__(self,soyad):\n",
    "        self.soyad = soyad\n",
    "        #self.goz_rengi = goz_rengi\n",
    "        #print(\"Göz rengim.:\"+ self.goz_rengi)\n",
    "        print(\"Anne Babamdan Soyadım.:\"+ self.soyad)\n",
    "\n",
    "##AnneBaba sınıfından türetilen alt sınıf\n",
    "class Evlat(AnneBaba):\n",
    "    \n",
    "    def __init__(self, soyad, alinTerim):\n",
    "        AnneBaba.__init__(self,soyad)\n",
    "        #AnneBaba.__init__(self.goz_rengi)\n",
    "        self.alinTerim = alinTerim\n",
    "        print(\"AlınTerim..:\" + self.alinTerim)\n",
    "\n",
    "##Evlat sınıfından bir nesne üretilim\n",
    "oglum = Evlat(\"Ak\", \"Diploma\")\n",
    "print(oglum)"
   ]
  },
  {
   "cell_type": "code",
   "execution_count": 10,
   "metadata": {},
   "outputs": [
    {
     "name": "stdout",
     "output_type": "stream",
     "text": [
      "Soyadım.: Ak\n",
      "Göz rengim.: Ela\n",
      "AlınTerim..: Diploma\n",
      "<__main__.Evlat object at 0x7f5b31e02310>\n"
     ]
    }
   ],
   "source": [
    "##Çoklu Kalıtım (multi inheritance)\n",
    "class Anne:\n",
    "    def __init__(self,goz_rengi):\n",
    "        self.goz_rengi = goz_rengi\n",
    "        print(\"Göz rengim.:\", self.goz_rengi)\n",
    "    \n",
    "class Baba:\n",
    "    def __init__(self,soyad):\n",
    "        self.soyad = soyad\n",
    "        print(\"Soyadım.:\", self.soyad)\n",
    "\n",
    "##AnneBaba sınıfından türetilen alt sınıf\n",
    "class Evlat(Anne, Baba): ##çoklu kalıtım\n",
    "    \n",
    "    def __init__(self, soyad, goz_rengi, alinTerim):\n",
    "        Baba.__init__(self,soyad)\n",
    "        Anne.__init__(self,goz_rengi)\n",
    "        self.alinTerim = alinTerim\n",
    "        print(\"AlınTerim..:\", self.alinTerim)\n",
    "\n",
    "##Evlat sınıfından bir nesne üretilim\n",
    "oglum = Evlat(\"Ak\", \"Ela\", \"Diploma\")\n",
    "print(oglum)"
   ]
  },
  {
   "cell_type": "code",
   "execution_count": 17,
   "metadata": {},
   "outputs": [
    {
     "name": "stdout",
     "output_type": "stream",
     "text": [
      "Göz rengim Annede.:Ela\n",
      "Soyadım Babadan.:Ak\n",
      "Alın Terim..:Diploma\n"
     ]
    }
   ],
   "source": [
    "##Çoklu Kalıtım (multi inheritance)\n",
    "class Anne:\n",
    "    def __init__(self,goz_rengi):\n",
    "        self.goz_rengi = goz_rengi\n",
    "    \n",
    "    def __str__(self): ##repr metodu yazılabilir\n",
    "        return(\"Göz rengim Annede.:\" + self.goz_rengi)\n",
    "    \n",
    "class Baba:\n",
    "    def __init__(self,soyad):\n",
    "        self.soyad = soyad\n",
    "    \n",
    "    def __str__(self): ##repr metodu yazılabilir\n",
    "        return(\"Soyadım Babadan.:\" + self.soyad)\n",
    "    \n",
    "##AnneBaba sınıfından türetilen alt sınıf\n",
    "class Evlat(Anne, Baba): ##çoklu kalıtım\n",
    "    \n",
    "    def __init__(self, soyad, goz_rengi, alinTerim):\n",
    "        Baba.__init__(self,soyad)\n",
    "        Anne.__init__(self,goz_rengi)\n",
    "        self.alinTerim = alinTerim\n",
    "\n",
    "    def __str__(self): ##repr metodu yazılabilir\n",
    "        return Anne.__str__(self) + \"\\n\" + Baba.__str__(self) + \"\\n\" +\"Alın Terim..:\" + str(self.alinTerim)\n",
    "\n",
    "##Evlat sınıfından bir nesne üretilim\n",
    "oglum = Evlat(\"Ak\", \"Ela\", \"Diploma\")\n",
    "print(oglum)"
   ]
  },
  {
   "cell_type": "code",
   "execution_count": 23,
   "metadata": {},
   "outputs": [],
   "source": [
    "##PDF Dosyasını split etme...\n",
    "from PyPDF4 import PdfFileReader, PdfFileWriter\n",
    "\n",
    "pdf = PdfFileReader(\"/home/bull/Documents/python_Ders.pdf\")\n",
    "pdf_writer = PdfFileWriter()\n",
    "pdf.numPages\n",
    "\n",
    "pages = [3,4,7]\n",
    "for p in pages:\n",
    "    pdf_writer.addPage(pdf.getPage(p-1))\n",
    "\n",
    "with open(\"splitpython.pdf\", 'wb') as f:\n",
    "    pdf_writer.write(f)"
   ]
  },
  {
   "cell_type": "code",
   "execution_count": 24,
   "metadata": {},
   "outputs": [
    {
     "name": "stdout",
     "output_type": "stream",
     "text": [
      "python_Ders.pdf\n"
     ]
    }
   ],
   "source": [
    "import os\n",
    "print (os.path.basename(\"/home/bull/Documents/python_Ders.pdf\"))"
   ]
  },
  {
   "cell_type": "code",
   "execution_count": 26,
   "metadata": {},
   "outputs": [
    {
     "name": "stdout",
     "output_type": "stream",
     "text": [
      "('/home/bull/Documents', 'python_Ders.pdf')\n"
     ]
    }
   ],
   "source": [
    "import os\n",
    "text = os.path.split(\"/home/bull/Documents/python_Ders.pdf\")\n",
    "print(text)"
   ]
  },
  {
   "cell_type": "code",
   "execution_count": 29,
   "metadata": {},
   "outputs": [
    {
     "name": "stdout",
     "output_type": "stream",
     "text": [
      ".pdf\n"
     ]
    }
   ],
   "source": [
    "import os\n",
    "text = os.path.splitext(\"/home/bull/Documents/python_Ders.pdf\")\n",
    "print(text[-1])"
   ]
  }
 ],
 "metadata": {
  "interpreter": {
   "hash": "35c4bcfff6bb594ff47b51ce5b21bcb1093d06fa0c5debe7002e3be5d50f4cc1"
  },
  "kernelspec": {
   "display_name": "Python 3.10.2 64-bit",
   "language": "python",
   "name": "python3"
  },
  "language_info": {
   "codemirror_mode": {
    "name": "ipython",
    "version": 3
   },
   "file_extension": ".py",
   "mimetype": "text/x-python",
   "name": "python",
   "nbconvert_exporter": "python",
   "pygments_lexer": "ipython3",
   "version": "3.8.10"
  },
  "orig_nbformat": 4
 },
 "nbformat": 4,
 "nbformat_minor": 2
}
