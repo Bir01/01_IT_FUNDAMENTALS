{
 "cells": [
  {
   "cell_type": "markdown",
   "metadata": {},
   "source": [
    "<p align=\"center\">\n",
    "<img src=\"https://docs.google.com/uc?id=14xeXxFrVRjvOoUYWn_GuyE-v84wVzrqr\" class=\"img-fluid\" alt=\"CLRWY\" width=\"600\" height=\"120\" >\n",
    "</p>"
   ]
  },
  {
   "cell_type": "markdown",
   "metadata": {},
   "source": [
    "<h1><p style=\"text-align: center; color:yellow\">Python In-Class Session 21, <br>14 April 2022</p><h1>"
   ]
  },
  {
   "cell_type": "markdown",
   "metadata": {},
   "source": [
    "## Files (reading, writing) "
   ]
  },
  {
   "cell_type": "code",
   "execution_count": null,
   "metadata": {},
   "outputs": [],
   "source": [
    "try:\n",
    "    f = open('myfile.txt')\n",
    "    print(f.read())\n",
    "except:\n",
    "    print(\"Something went wrong\")\n",
    "finally:\n",
    "    f. close()"
   ]
  },
  {
   "cell_type": "code",
   "execution_count": 6,
   "metadata": {},
   "outputs": [
    {
     "data": {
      "text/plain": [
       "_io.TextIOWrapper"
      ]
     },
     "execution_count": 6,
     "metadata": {},
     "output_type": "execute_result"
    }
   ],
   "source": [
    "type(f)"
   ]
  },
  {
   "cell_type": "code",
   "execution_count": 8,
   "metadata": {},
   "outputs": [
    {
     "name": "stdout",
     "output_type": "stream",
     "text": [
      "Help on built-in function read:\n",
      "\n",
      "read(size=-1, /) method of _io.TextIOWrapper instance\n",
      "    Read at most n characters from stream.\n",
      "    \n",
      "    Read from underlying buffer until we have n characters or we hit EOF.\n",
      "    If n is negative or omitted, read until EOF.\n",
      "\n"
     ]
    }
   ],
   "source": [
    "help(f.read)"
   ]
  },
  {
   "cell_type": "code",
   "execution_count": null,
   "metadata": {},
   "outputs": [],
   "source": [
    "help(open)"
   ]
  },
  {
   "cell_type": "code",
   "execution_count": 1,
   "metadata": {},
   "outputs": [
    {
     "data": {
      "text/plain": [
       "'c:\\\\Users\\\\Birgül\\\\Desktop\\\\python'"
      ]
     },
     "execution_count": 1,
     "metadata": {},
     "output_type": "execute_result"
    }
   ],
   "source": [
    "pwd"
   ]
  },
  {
   "cell_type": "code",
   "execution_count": 11,
   "metadata": {},
   "outputs": [
    {
     "name": "stdout",
     "output_type": "stream",
     "text": [
      "1.Bu bir text dosyasıdır. \n",
      "2.Bu ikinci satırdır.\n",
      "3.Bu üçüncü satırdır.\n",
      "4.Bu dördüncü satırdır.\n",
      "5.Bu beşinci satırdır.\n",
      "6.Bu altıncı satırdır.\n",
      "7.Bu yedinci satırdır.\n"
     ]
    }
   ],
   "source": [
    "f = open(\"myfile.txt\", 'r')\n",
    "print(f.read())\n",
    "f.close()"
   ]
  },
  {
   "cell_type": "code",
   "execution_count": 12,
   "metadata": {},
   "outputs": [
    {
     "name": "stdout",
     "output_type": "stream",
     "text": [
      "1.Bu bir text dosyasıdır.\n"
     ]
    }
   ],
   "source": [
    "f = open(\"myfile.txt\", 'r')\n",
    "print(f.read(25)) #25 karakter oku\n",
    "f.close()"
   ]
  },
  {
   "cell_type": "code",
   "execution_count": 13,
   "metadata": {},
   "outputs": [
    {
     "name": "stdout",
     "output_type": "stream",
     "text": [
      "1.Bu bir text dosyasıdır. \n",
      "\n"
     ]
    }
   ],
   "source": [
    "f = open(\"myfile.txt\", 'r')\n",
    "print(f.readline()) #satır satır  oku\n",
    "f.close()"
   ]
  },
  {
   "cell_type": "code",
   "execution_count": 14,
   "metadata": {},
   "outputs": [
    {
     "name": "stdout",
     "output_type": "stream",
     "text": [
      "1.Bu bir text dosyasıdır. \n",
      "\n",
      "2.Bu ikinci satırdır.\n",
      "\n"
     ]
    }
   ],
   "source": [
    "f = open(\"myfile.txt\", 'r')\n",
    "print(f.readline()) #satır satır  oku\n",
    "print(f.readline()) #satır satır  oku\n",
    "f.close()"
   ]
  },
  {
   "cell_type": "code",
   "execution_count": 19,
   "metadata": {},
   "outputs": [
    {
     "name": "stdout",
     "output_type": "stream",
     "text": [
      "1.Bu bir t\n",
      "ext dosyas\n"
     ]
    }
   ],
   "source": [
    "f = open(\"myfile.txt\", 'r')\n",
    "print(f.readline(10)) #satır satır  oku\n",
    "print(f.readline(10)) #satır satır  oku\n",
    "f.close()"
   ]
  },
  {
   "cell_type": "code",
   "execution_count": 17,
   "metadata": {},
   "outputs": [
    {
     "name": "stdout",
     "output_type": "stream",
     "text": [
      "1.Bu bir text dosyasıdır. \n",
      "\n"
     ]
    }
   ],
   "source": [
    "f = open(\"myfile.txt\", 'r')\n",
    "print(f.readline(100)) #satır satır  oku\n",
    "f.close()"
   ]
  },
  {
   "cell_type": "code",
   "execution_count": 20,
   "metadata": {},
   "outputs": [
    {
     "name": "stdout",
     "output_type": "stream",
     "text": [
      "['1.Bu bir text dosyasıdır. \\n', '2.Bu ikinci satırdır.\\n', '3.Bu üçüncü satırdır.\\n', '4.Bu dördüncü satırdır.\\n', '5.Bu beşinci satırdır.\\n', '6.Bu altıncı satırdır.\\n', '7.Bu yedinci satırdır.']\n"
     ]
    }
   ],
   "source": [
    "f = open(\"myfile.txt\", 'r')\n",
    "print(f.readlines()) #tüm satırları okur\n",
    "f.close()"
   ]
  },
  {
   "cell_type": "code",
   "execution_count": 22,
   "metadata": {},
   "outputs": [
    {
     "name": "stdout",
     "output_type": "stream",
     "text": [
      "<class 'list'>\n",
      "['1.Bu bir text dosyasıdır. \\n', '2.Bu ikinci satırdır.\\n', '3.Bu üçüncü satırdır.\\n', '4.Bu dördüncü satırdır.\\n', '5.Bu beşinci satırdır.\\n', '6.Bu altıncı satırdır.\\n', '7.Bu yedinci satırdır.']\n"
     ]
    }
   ],
   "source": [
    "f = open(\"myfile.txt\", 'r')\n",
    "blok =[]\n",
    "blok=f.readlines() \n",
    "print(type(blok))\n",
    "print(blok)\n",
    "f.close()"
   ]
  },
  {
   "cell_type": "code",
   "execution_count": 24,
   "metadata": {},
   "outputs": [
    {
     "name": "stdout",
     "output_type": "stream",
     "text": [
      "1.Bu bir text dosyasıdır.\n",
      "1.Bu bir text dosyasıdır.\n"
     ]
    }
   ],
   "source": [
    "f = open(\"myfile.txt\", 'r')\n",
    "print(f.read(25)) #25 karakter oku\n",
    "f.seek(0)  ##tekrar başa konumlandı...\n",
    "print(f.read(25)) #25 karakter oku\n",
    "f.close()"
   ]
  },
  {
   "cell_type": "code",
   "execution_count": 25,
   "metadata": {},
   "outputs": [
    {
     "name": "stdout",
     "output_type": "stream",
     "text": [
      "1.Bu bir text dosyasıdır.\n",
      "ext dosyasıdır. \n",
      "2.Bu iki\n"
     ]
    }
   ],
   "source": [
    "f = open(\"myfile.txt\", 'r')\n",
    "print(f.read(25)) #25 karakter oku\n",
    "f.seek(10)  ##10.bayta(karaktere) konumlan\n",
    "print(f.read(25)) #25 karakter oku\n",
    "f.close()"
   ]
  },
  {
   "cell_type": "code",
   "execution_count": 28,
   "metadata": {},
   "outputs": [
    {
     "name": "stdout",
     "output_type": "stream",
     "text": [
      "1.Bu bir text dosyasıdır.\n",
      "\n",
      "5.Bu beşinci satırdır.\n",
      "6\n"
     ]
    }
   ],
   "source": [
    "f = open(\"myfile.txt\", 'r')\n",
    "print(f.read(25)) #25 karakter oku\n",
    "f.seek(109)  ##10.bayta(karaktere) konumlan\n",
    "print(f.read(25)) #25 karakter oku\n",
    "f.close()"
   ]
  },
  {
   "cell_type": "code",
   "execution_count": 29,
   "metadata": {},
   "outputs": [
    {
     "name": "stdout",
     "output_type": "stream",
     "text": [
      "27\n"
     ]
    }
   ],
   "source": [
    "f = open(\"myfile.txt\", 'r')\n",
    "print(len(f.readline())) #satır satır  oku\n",
    "f.close()"
   ]
  },
  {
   "cell_type": "code",
   "execution_count": 30,
   "metadata": {},
   "outputs": [
    {
     "name": "stdout",
     "output_type": "stream",
     "text": [
      "1.Bu bir text dosyasıdır. \n",
      "\n",
      "29\n"
     ]
    }
   ],
   "source": [
    "f = open(\"myfile.txt\", 'r')\n",
    "print(f.readline()) #satır satır  oku\n",
    "print(f.tell())\n",
    "f.close()"
   ]
  },
  {
   "cell_type": "code",
   "execution_count": 33,
   "metadata": {},
   "outputs": [
    {
     "name": "stdout",
     "output_type": "stream",
     "text": [
      "I want to sing\n",
      "Like the birds sing,\n",
      "Not worrying about\n",
      "Who hears or\n",
      "What they think.\n",
      "\n",
      "I want to sing\n",
      "Like the birds sing,\n"
     ]
    }
   ],
   "source": [
    "## f = open(\"myfile.txt\", 'r')\n",
    "with open(\"rumi.txt\", 'r') as f:\n",
    "    print(f.read())\n",
    "    print()\n",
    "    f.seek(0) ##başa konumlan\n",
    "    print(f.read(35))"
   ]
  },
  {
   "cell_type": "code",
   "execution_count": 37,
   "metadata": {},
   "outputs": [
    {
     "name": "stdout",
     "output_type": "stream",
     "text": [
      "I want to sing\n",
      "Like the birds sing,\n",
      "\n",
      "Not worrying\n",
      "48\n",
      "Like the birds sing,\n",
      "\n"
     ]
    }
   ],
   "source": [
    "## f = open(\"myfile.txt\", 'r')\n",
    "with open(\"rumi.txt\", 'r') as f:\n",
    "    print(f.read(35))\n",
    "    print(f.read(13))\n",
    "    print(f.tell())\n",
    "    f.seek(15)\n",
    "    print(f.read(21))"
   ]
  },
  {
   "cell_type": "code",
   "execution_count": 43,
   "metadata": {},
   "outputs": [
    {
     "name": "stdout",
     "output_type": "stream",
     "text": [
      "I want to sing\n",
      "\n",
      "Like the birds sing,\n",
      "\n",
      "Not worrying about\n"
     ]
    }
   ],
   "source": [
    "## f = open(\"myfile.txt\", 'r')\n",
    "with open(\"rumi.txt\", 'r') as f:\n",
    "    print(f.readline())\n",
    "    print(f.readline())\n",
    "    #print(len(f.readline()))\n",
    "    print(f.readline(18))"
   ]
  },
  {
   "cell_type": "code",
   "execution_count": 46,
   "metadata": {},
   "outputs": [
    {
     "name": "stdout",
     "output_type": "stream",
     "text": [
      "['I want to sing\\n', 'Like the birds sing,\\n', 'Not worrying about\\n', 'Who hears or\\n', 'What they think.']\n",
      "<class 'list'>\n",
      "\n"
     ]
    }
   ],
   "source": [
    "## f = open(\"myfile.txt\", 'r')\n",
    "with open(\"rumi.txt\", 'r') as f:\n",
    "    print(f.readlines())  ##liste formunda tutuyor\n",
    "    print(type(f.readlines()))\n",
    "  "
   ]
  },
  {
   "cell_type": "code",
   "execution_count": 47,
   "metadata": {},
   "outputs": [
    {
     "name": "stdout",
     "output_type": "stream",
     "text": [
      "I want to sing\n",
      "Like the birds sing,\n",
      "Not worrying about\n",
      "Who hears or\n",
      "What they think.\n",
      "<class 'str'>\n"
     ]
    }
   ],
   "source": [
    "with open(\"rumi.txt\", 'r') as f:\n",
    "    print(f.read())  ##string tipinde tutuyor...\n",
    "    print(type(f.read()))"
   ]
  },
  {
   "cell_type": "code",
   "execution_count": 48,
   "metadata": {},
   "outputs": [
    {
     "name": "stdout",
     "output_type": "stream",
     "text": [
      "I want to sing\n",
      "\n",
      "Like the birds sing,\n",
      "\n",
      "Not worrying about\n",
      "\n",
      "Who hears or\n",
      "\n",
      "What they think.\n"
     ]
    }
   ],
   "source": [
    "with open(\"rumi.txt\", 'r') as f:\n",
    "    for line in f:\n",
    "        print(line)"
   ]
  },
  {
   "cell_type": "code",
   "execution_count": 50,
   "metadata": {},
   "outputs": [
    {
     "name": "stdout",
     "output_type": "stream",
     "text": [
      "I want to *sing\n",
      "Like *the birds *sing,\n",
      "Not *worrying a*bout\n",
      "Who h*ears or\n",
      "Wh*at they th*ink.*"
     ]
    }
   ],
   "source": [
    "with open(\"rumi.txt\", 'r') as f:\n",
    "    line = f.read(10)\n",
    "    while len(line)>0:\n",
    "        print(line,end=\"*\")\n",
    "        line = f.read(10)\n"
   ]
  },
  {
   "cell_type": "code",
   "execution_count": 51,
   "metadata": {},
   "outputs": [
    {
     "name": "stdout",
     "output_type": "stream",
     "text": [
      "['I want to ', 'sing\\nLike ', 'the birds ', 'sing,\\nNot ', 'worrying a', 'bout\\nWho h', 'ears or\\nWh', 'at they th', 'ink.']\n"
     ]
    }
   ],
   "source": [
    "##1.parça parça okuduklarımızı bir listeye ekleyelim...\n",
    "with open(\"rumi.txt\", 'r') as f:\n",
    "    array= []\n",
    "    while True:\n",
    "        liste = f.read(10)\n",
    "        if liste=='': #okuyacak birşey kalmadı ise\n",
    "            break\n",
    "        array.append(liste)\n",
    "        \n",
    "print(array)"
   ]
  },
  {
   "cell_type": "code",
   "execution_count": 52,
   "metadata": {},
   "outputs": [
    {
     "name": "stdout",
     "output_type": "stream",
     "text": [
      "['I want to ', 'sing\\nLike ', 'the birds ', 'sing,\\nNot ', 'worrying a', 'bout\\nWho h', 'ears or\\nWh', 'at they th', 'ink.']\n"
     ]
    }
   ],
   "source": [
    "##2.parça parça okuduklarımızı bir listeye ekleyelim...\n",
    "## ':=' parantez içi atama operatörü....\n",
    "with open(\"rumi.txt\", 'r') as f:\n",
    "    array= []\n",
    "    while (liste := f.read(10)): ##3.8 üstü için geçerli\n",
    "        array.append(liste)\n",
    "        \n",
    "print(array)"
   ]
  },
  {
   "cell_type": "code",
   "execution_count": 56,
   "metadata": {},
   "outputs": [
    {
     "name": "stdout",
     "output_type": "stream",
     "text": [
      "5\n"
     ]
    }
   ],
   "source": [
    "a=5\n",
    "print(a)"
   ]
  },
  {
   "cell_type": "code",
   "execution_count": 57,
   "metadata": {},
   "outputs": [
    {
     "name": "stdout",
     "output_type": "stream",
     "text": [
      "5\n"
     ]
    }
   ],
   "source": [
    "print(a:=5)"
   ]
  },
  {
   "cell_type": "code",
   "execution_count": 55,
   "metadata": {},
   "outputs": [
    {
     "name": "stdout",
     "output_type": "stream",
     "text": [
      "['I want to ', 'sing\\nLike ', 'the birds ', 'sing,\\nNot ', 'worrying a', 'bout\\nWho h', 'ears or\\nWh', 'at they th', 'ink.']\n"
     ]
    }
   ],
   "source": [
    "##3.parça parça okuduklarımızı bir listeye ekleyelim...\n",
    "with open(\"rumi.txt\", 'r') as f:\n",
    "    array= [liste for liste in iter(lambda: f.read(10),'')]\n",
    "        \n",
    "print(array)"
   ]
  },
  {
   "cell_type": "code",
   "execution_count": 59,
   "metadata": {},
   "outputs": [
    {
     "name": "stdout",
     "output_type": "stream",
     "text": [
      "I want to sing\n",
      "Like the birds sing,\n",
      "Not worrying about\n",
      "Who hears or\n",
      "What they think."
     ]
    }
   ],
   "source": [
    "with open(\"rumi.txt\", 'r') as f:\n",
    "    for line in f.readlines():\n",
    "        print(line, end=\"\")"
   ]
  },
  {
   "cell_type": "code",
   "execution_count": 63,
   "metadata": {},
   "outputs": [
    {
     "name": "stdout",
     "output_type": "stream",
     "text": [
      "I want to sing\n",
      "Like the birds sing,\n",
      "Not worrying about\n",
      "Who hears or\n",
      "What they think."
     ]
    }
   ],
   "source": [
    "with open(\"rumi.txt\", \"r\") as f:  \n",
    "    while (liste := f.readline()):\n",
    "        print(liste, end=\"\")"
   ]
  },
  {
   "cell_type": "code",
   "execution_count": 64,
   "metadata": {},
   "outputs": [
    {
     "name": "stdout",
     "output_type": "stream",
     "text": [
      "I want to sing\n",
      "Like the birds sing,\n",
      "Not worrying about\n",
      "Who hears or\n",
      "What they think."
     ]
    }
   ],
   "source": [
    "with open(\"rumi.txt\", \"r\") as f: \n",
    "    for line in f:\n",
    "        print(line,end=\"\")"
   ]
  },
  {
   "cell_type": "code",
   "execution_count": 65,
   "metadata": {},
   "outputs": [
    {
     "name": "stdout",
     "output_type": "stream",
     "text": [
      "Help on built-in function write:\n",
      "\n",
      "write(text, /) method of _io.TextIOWrapper instance\n",
      "    Write string to stream.\n",
      "    Returns the number of characters written (which is always equal to\n",
      "    the length of the string).\n",
      "\n"
     ]
    }
   ],
   "source": [
    "help(f.write)"
   ]
  },
  {
   "cell_type": "code",
   "execution_count": 66,
   "metadata": {},
   "outputs": [],
   "source": [
    "with open(\"my_rumi.txt\", \"w\") as f:\n",
    "    text = \"Ne olursan ol, yine de gel!\"\n",
    "    f.write(text) "
   ]
  },
  {
   "cell_type": "code",
   "execution_count": 67,
   "metadata": {},
   "outputs": [
    {
     "name": "stdout",
     "output_type": "stream",
     "text": [
      "Ne olursan ol, yine de gel!\n"
     ]
    }
   ],
   "source": [
    "with open(\"my_rumi.txt\", \"w\") as f:\n",
    "    text = \"Ne olursan ol, yine de gel!\"\n",
    "    f.write(text) \n",
    "##okuma amaçlı açalım\n",
    "with open(\"my_rumi.txt\", \"r\") as f:\n",
    "    print(f.read())"
   ]
  },
  {
   "cell_type": "code",
   "execution_count": 79,
   "metadata": {},
   "outputs": [
    {
     "name": "stdout",
     "output_type": "stream",
     "text": [
      "Ne olursan ol, yine de gel!\n"
     ]
    }
   ],
   "source": [
    "wf = open(\"my_rumi.txt\", \"w\") \n",
    "text = \"Ne olursan ol, yine de gel!\"\n",
    "wf.write(text) \n",
    "wf.close()\n",
    "##okuma amaçlı açalım\n",
    "rf = open(\"my_rumi.txt\", \"r\") \n",
    "print(rf.read()) \n",
    "rf.close()\n"
   ]
  },
  {
   "cell_type": "code",
   "execution_count": 85,
   "metadata": {},
   "outputs": [
    {
     "name": "stdout",
     "output_type": "stream",
     "text": [
      "Banana\n",
      "Orange\n",
      "Apple\n",
      "Strawberry\n",
      "Cherry\n",
      "\n",
      "['Banana\\n', 'Orange\\n', 'Apple\\n', 'Strawberry\\n', 'Cherry\\n']\n"
     ]
    }
   ],
   "source": [
    "fruits = [\"Banana\", \"Orange\", \"Apple\", \"Strawberry\", \"Cherry\"]\n",
    "with open(\"fruits.txt\", \"w\") as wf:\n",
    "    for sepet in fruits:\n",
    "        wf.write(sepet + \"\\n\")\n",
    "\n",
    "##okuma amaçlı aç...\n",
    "with open(\"fruits.txt\", \"r\") as rf:\n",
    "    print(rf.read())\n",
    "\n",
    "##okuma amaçlı aç...\n",
    "with open(\"fruits.txt\", \"r\") as rf:\n",
    "    print(rf.readlines())"
   ]
  },
  {
   "cell_type": "code",
   "execution_count": null,
   "metadata": {},
   "outputs": [],
   "source": [
    "## bir dosya içeriğini okuyalım ve başka bir dosyaya kopyalayalım... \n",
    "## dosya yoksa oluşturalım..."
   ]
  },
  {
   "cell_type": "code",
   "execution_count": 88,
   "metadata": {},
   "outputs": [],
   "source": [
    "with open(\"fruits.txt\", \"r\") as rf:\n",
    "    with open(\"new_fruits.txt\", 'w') as wf:\n",
    "        for line in rf:\n",
    "            wf.write(line)\n"
   ]
  },
  {
   "cell_type": "code",
   "execution_count": 90,
   "metadata": {},
   "outputs": [],
   "source": [
    "#text dosyası kopyalama\n",
    "with open(\"fruits.txt\", \"r\") as rf:\n",
    "    with open(\"new_fruits2.txt\", 'w') as wf:\n",
    "        wf.write(rf.read())"
   ]
  },
  {
   "cell_type": "code",
   "execution_count": 100,
   "metadata": {},
   "outputs": [],
   "source": [
    "##binary dosya kopyalama\n",
    "with open(\"car.jpg\", \"rb\") as rf:\n",
    "    with open(\"copy_car.jpg\", 'wb') as wf:\n",
    "        wf.write(rf.read())"
   ]
  },
  {
   "cell_type": "markdown",
   "metadata": {},
   "source": [
    "resim (binary)dosyaları ile uğraşanlar için, pickle, opencv paketleri kullanılabilir..."
   ]
  },
  {
   "cell_type": "code",
   "execution_count": 159,
   "metadata": {},
   "outputs": [
    {
     "name": "stdout",
     "output_type": "stream",
     "text": [
      "4248\n"
     ]
    }
   ],
   "source": [
    "##resimin boyutunu alma... ##import sys--> getsizeof() metoduna bakılabilir\n",
    "with open(\"car.jpg\", \"rb\") as rf:\n",
    "    size = rf.__sizeof__()\n",
    "    print(size)"
   ]
  },
  {
   "cell_type": "code",
   "execution_count": 158,
   "metadata": {},
   "outputs": [
    {
     "name": "stdout",
     "output_type": "stream",
     "text": [
      "4264\n"
     ]
    }
   ],
   "source": [
    "import sys ##bu daha doğru veriyor gibi boyutu...\n",
    "with open(\"car.jpg\", \"rb\") as rf:\n",
    "    size = sys.getsizeof(rf)\n",
    "    print(size)"
   ]
  },
  {
   "cell_type": "code",
   "execution_count": 102,
   "metadata": {},
   "outputs": [
    {
     "name": "stdout",
     "output_type": "stream",
     "text": [
      "['Banana\\n', 'Orange\\n', 'Apple\\n', 'Strawberry\\n', 'Cherry\\n']\n",
      "Banana\n",
      "Orange\n",
      "Apple\n",
      "Strawberry\n",
      "Cherry\n",
      "\n"
     ]
    }
   ],
   "source": [
    "fruits = [\"Banana\\n\", \"Orange\\n\", \"Apple\\n\", \"Strawberry\\n\", \"Cherry\\n\"]\n",
    "with open(\"fruits.txt\", \"w\") as wf:\n",
    "    wf.writelines(fruits)\n",
    "\n",
    "with open(\"fruits.txt\", \"r\") as rf:\n",
    "    print(rf.readlines())\n",
    "\n",
    "with open(\"fruits.txt\", \"r\") as rf:\n",
    "    print(rf.read())\n",
    "\n"
   ]
  },
  {
   "cell_type": "code",
   "execution_count": null,
   "metadata": {},
   "outputs": [],
   "source": [
    "fruits = [\"Banana\\n\", \"Orange\\n\", \"Apple\\n\", \"Strawberry\\n\", \"Cherry\\n\"]\n",
    "with open(\"fruits.txt\", \"a\") as wf:\n",
    "    wf.writelines(fruits)\n",
    "\n",
    "with open(\"fruits.txt\", \"r\") as rf:\n",
    "    print(rf.readlines())\n",
    "    rf.seek(0)  ##imleci başa alıp okuyacağız....\n",
    "    print(rf.read())"
   ]
  },
  {
   "cell_type": "code",
   "execution_count": 107,
   "metadata": {},
   "outputs": [],
   "source": [
    "fruits = [\"Banana\\n\", \"Orange\\n\", \"Apple\\n\", \"Strawberry\\n\", \"Cherry\\n\"]\n",
    "with open(\"fruits.txt\", \"a\") as wf:\n",
    "    wf.writelines(\"Melon\\n\")\n",
    "\n"
   ]
  },
  {
   "cell_type": "code",
   "execution_count": 108,
   "metadata": {},
   "outputs": [
    {
     "name": "stdout",
     "output_type": "stream",
     "text": [
      "Banana\n",
      "Orange\n",
      "Apple\n",
      "Strawberry\n",
      "Cherry\n",
      "\n",
      "MelonMango\n"
     ]
    }
   ],
   "source": [
    "fruits = [\"Banana\\n\", \"Orange\\n\", \"Apple\\n\", \"Strawberry\\n\", \"Cherry\\n\"]\n",
    "with open(\"fruits.txt\", \"a\") as wf:\n",
    "    wf.writelines(\"Mango\\n\")\n",
    "\n",
    "with open(\"fruits.txt\", \"r\") as rf:\n",
    "    print(rf.read())"
   ]
  },
  {
   "cell_type": "code",
   "execution_count": 110,
   "metadata": {},
   "outputs": [
    {
     "name": "stdout",
     "output_type": "stream",
     "text": [
      "Bu birinci satırdır.\n",
      "Bu ikinci satırdır.\n",
      "Bu üçüncü satırdır.\n",
      "Bu dördüncü satırdır.\n",
      "Bu beşinci satırdır.\n",
      "Bu altıncı satırdır.\n",
      "\n"
     ]
    }
   ],
   "source": [
    "sozluk ={1:\"birinci\", 2:\"ikinci\", 3:\"üçüncü\", 4:\"dördüncü\",\n",
    "        5:\"beşinci\", 6:\"altıncı\", 7:\"yedinci\"}\n",
    "\n",
    "with open(\"my_text.txt\", 'w') as f:\n",
    "    for key in range(1,7):\n",
    "        f.write(\"Bu \" + sozluk[key] + \" satırdır.\\n\" )\n",
    "\n",
    "with open(\"my_text.txt\", 'r') as f:\n",
    "    print(f.read())\n"
   ]
  },
  {
   "cell_type": "code",
   "execution_count": 112,
   "metadata": {},
   "outputs": [
    {
     "name": "stdout",
     "output_type": "stream",
     "text": [
      "Bu birinci satırdır.\n",
      "Bu ikinci satırdır.\n",
      "Bu üçüncü satırdır.\n",
      "Bu dördüncü satırdır.\n",
      "Bu beşinci satırdır.\n",
      "Bu altıncı satırdır.\n",
      "Bu yedinci satırdır.\n",
      "\n"
     ]
    }
   ],
   "source": [
    "sozluk ={1:\"birinci\", 2:\"ikinci\", 3:\"üçüncü\", 4:\"dördüncü\",\n",
    "        5:\"beşinci\", 6:\"altıncı\", 7:\"yedinci\"}\n",
    "\n",
    "with open(\"my_text.txt\", 'w') as f:\n",
    "    for key in sozluk.keys():\n",
    "        f.write(\"Bu \" + sozluk[key] + \" satırdır.\\n\" )\n",
    "\n",
    "with open(\"my_text.txt\", 'r') as f:\n",
    "    print(f.read())"
   ]
  },
  {
   "cell_type": "code",
   "execution_count": null,
   "metadata": {},
   "outputs": [],
   "source": [
    "sozluk ={1:\"birinci\", 2:\"ikinci\", 3:\"üçüncü\", 4:\"dördüncü\",\n",
    "        5:\"beşinci\", 6:\"altıncı\", 7:\"yedinci\"}\n",
    "\n",
    "with open(\"my_text.txt\", 'w') as f:\n",
    "    for key in sozluk.keys():\n",
    "        f.write(\"Bu \" + sozluk[key] + \" satırdır.\\n\" )\n",
    "\n",
    "with open(\"my_text.txt\", 'r') as f:\n",
    "    print(f.read())"
   ]
  },
  {
   "cell_type": "code",
   "execution_count": 118,
   "metadata": {},
   "outputs": [
    {
     "name": "stdout",
     "output_type": "stream",
     "text": [
      "il adı..: Adana\n",
      "plakası.: 01\n",
      "il adı..: Artvin\n",
      "plakası.: 08\n",
      "il adı..: Bartın\n",
      "plakası.: 74\n"
     ]
    }
   ],
   "source": [
    "import json\n",
    "sozluk = \"\"\"[\n",
    "    {\"plaka\":\"01\", \n",
    "    \"il\":\"Adana\"},\n",
    "    {\"plaka\":\"08\", \n",
    "    \"il\":\"Artvin\"},\n",
    "    {\"plaka\":\"74\", \n",
    "    \"il\":\"Bartın\"}\n",
    "    ]\"\"\"\n",
    "\n",
    "veri = json.loads(sozluk) ##tum sözlüğü çek\n",
    "\n",
    "for i in veri:\n",
    "    print(\"il adı..:\", i['il'])\n",
    "    print(\"plakası.:\", i['plaka'])"
   ]
  }
 ],
 "metadata": {
  "interpreter": {
   "hash": "35c4bcfff6bb594ff47b51ce5b21bcb1093d06fa0c5debe7002e3be5d50f4cc1"
  },
  "kernelspec": {
   "display_name": "Python 3.10.2 64-bit",
   "language": "python",
   "name": "python3"
  },
  "language_info": {
   "codemirror_mode": {
    "name": "ipython",
    "version": 3
   },
   "file_extension": ".py",
   "mimetype": "text/x-python",
   "name": "python",
   "nbconvert_exporter": "python",
   "pygments_lexer": "ipython3",
   "version": "3.10.2"
  },
  "orig_nbformat": 4
 },
 "nbformat": 4,
 "nbformat_minor": 2
}
