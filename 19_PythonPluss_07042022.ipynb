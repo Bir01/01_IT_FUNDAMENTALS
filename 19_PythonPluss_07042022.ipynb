{
 "cells": [
  {
   "cell_type": "markdown",
   "metadata": {},
   "source": [
    "<p align=\"center\">\n",
    "<img src=\"https://docs.google.com/uc?id=14xeXxFrVRjvOoUYWn_GuyE-v84wVzrqr\" class=\"img-fluid\" alt=\"CLRWY\" width=\"600\" height=\"120\" >\n",
    "</p>"
   ]
  },
  {
   "cell_type": "markdown",
   "metadata": {},
   "source": [
    "<h1><p style=\"text-align: center; color:yellow\">Python In-Class Session 19, <br>07 April 2022</p><h1>"
   ]
  },
  {
   "cell_type": "markdown",
   "metadata": {},
   "source": [
    "# Packages, PIP"
   ]
  },
  {
   "cell_type": "markdown",
   "metadata": {},
   "source": [
    " ##Araştırılacak built-in moduller...\n",
    " json(Ahmet bey), \n",
    " sqlite3(Enes bey), \n",
    " itertools, \n",
    " urllib.request (Edip bey), \n",
    " os(Erkan bey), \n",
    " sys/shutil(Volkan bey), \n",
    " collections(Pakize Hanım), \n",
    " functools, \n",
    " "
   ]
  },
  {
   "cell_type": "code",
   "execution_count": 47,
   "metadata": {},
   "outputs": [
    {
     "name": "stdout",
     "output_type": "stream",
     "text": [
      "Here is new generated password:\n",
      "G+Or]\"yi7p\n"
     ]
    }
   ],
   "source": [
    "# password generator by @hmet\n",
    "import random\n",
    "import string as st\n",
    "random.seed(1)\n",
    "l_case = st.ascii_lowercase\n",
    "u_case = st.ascii_uppercase\n",
    "numbers = st.digits\n",
    "special_char = st.punctuation\n",
    "all_char= l_case+u_case+numbers+special_char\n",
    "password=''\n",
    "\n",
    "for i in range(6):\n",
    "    password += random.choice(all_char)\n",
    "\n",
    "password += random.choice(l_case)\n",
    "password += random.choice(u_case)\n",
    "password += random.choice(numbers)\n",
    "password += random.choice(special_char) \n",
    "password = ''.join(random.sample(password, 10)) \n",
    "print('Here is new generated password:')   \n",
    "print(password)"
   ]
  },
  {
   "cell_type": "code",
   "execution_count": 2,
   "metadata": {},
   "outputs": [
    {
     "name": "stdout",
     "output_type": "stream",
     "text": [
      "pip 22.0.4 from /home/bbc/.local/lib/python3.8/site-packages/pip (python 3.8)\n",
      "Note: you may need to restart the kernel to use updated packages.\n"
     ]
    }
   ],
   "source": [
    "pip --version"
   ]
  },
  {
   "cell_type": "code",
   "execution_count": null,
   "metadata": {},
   "outputs": [],
   "source": [
    "##colab için\n",
    "%pip install text-to-speech\n",
    "##python -m pip install ... (windows için)"
   ]
  },
  {
   "cell_type": "code",
   "execution_count": 12,
   "metadata": {},
   "outputs": [],
   "source": [
    "from text_to_speech import speak\n",
    "def text(st):\n",
    "    return \"Merhaba\" + st\n",
    "\n",
    "speak(text(\"Ahmet\"), \"tr\", save=True, file=\"HelloWorld.mp3\", speak=True)"
   ]
  },
  {
   "cell_type": "code",
   "execution_count": 14,
   "metadata": {},
   "outputs": [],
   "source": [
    "from text_to_speech import speak\n",
    "def text(st):\n",
    "    return \"Merhaba\" + st\n",
    "\n",
    "speak(text(\"Ahmet\"), \"tr\")"
   ]
  },
  {
   "cell_type": "code",
   "execution_count": null,
   "metadata": {},
   "outputs": [],
   "source": [
    "%pip install pandas"
   ]
  },
  {
   "cell_type": "code",
   "execution_count": 25,
   "metadata": {},
   "outputs": [
    {
     "name": "stdout",
     "output_type": "stream",
     "text": [
      "Package                Version\n",
      "---------------------- --------------------\n",
      "apturl                 0.5.2\n",
      "astroid                2.3.3\n",
      "asttokens              2.0.5\n",
      "backcall               0.2.0\n",
      "bcrypt                 3.1.7\n",
      "beautifulsoup4         4.8.2\n",
      "blinker                1.4\n",
      "Brlapi                 0.7.0\n",
      "certifi                2019.11.28\n",
      "chardet                3.0.4\n",
      "Click                  7.0\n",
      "colorama               0.4.3\n",
      "command-not-found      0.3\n",
      "cryptography           2.8\n",
      "cupshelpers            1.0\n",
      "dbus-python            1.2.16\n",
      "debugpy                1.6.0\n",
      "decorator              5.1.1\n",
      "defer                  1.0.6\n",
      "dell-recovery          0.0.0\n",
      "DellLinuxAssistant     0.0.0\n",
      "distro                 1.4.0\n",
      "distro-info            0.23ubuntu1\n",
      "docutils               0.16\n",
      "duplicity              0.8.12.0\n",
      "entrypoints            0.3\n",
      "executing              0.8.3\n",
      "fasteners              0.14.1\n",
      "future                 0.18.2\n",
      "gTTS                   2.2.4\n",
      "html5lib               1.0.1\n",
      "httplib2               0.14.0\n",
      "idna                   2.8\n",
      "ipykernel              6.9.2\n",
      "ipython                8.2.0\n",
      "isort                  4.3.4\n",
      "jedi                   0.18.1\n",
      "jupyter-client         7.1.2\n",
      "jupyter-core           4.9.2\n",
      "kazam                  1.4.5\n",
      "keyring                18.0.1\n",
      "language-selector      0.1\n",
      "launchpadlib           1.10.13\n",
      "lazr.restfulclient     0.14.2\n",
      "lazr.uri               1.0.3\n",
      "lazy-object-proxy      1.4.3\n",
      "lockfile               0.12.2\n",
      "logilab-common         1.4.3\n",
      "louis                  3.12.0\n",
      "lxml                   4.5.0\n",
      "macaroonbakery         1.3.1\n",
      "Mako                   1.1.0\n",
      "MarkupSafe             1.1.0\n",
      "matplotlib-inline      0.1.3\n",
      "mccabe                 0.6.1\n",
      "monotonic              1.5\n",
      "mypy                   0.761\n",
      "mypy-extensions        0.4.3\n",
      "nest-asyncio           1.5.4\n",
      "netifaces              0.10.4\n",
      "numpy                  1.22.3\n",
      "oauthlib               3.1.0\n",
      "olefile                0.46\n",
      "pandas                 1.4.2\n",
      "paramiko               2.6.0\n",
      "parso                  0.8.3\n",
      "pexpect                4.6.0\n",
      "pickleshare            0.7.5\n",
      "Pillow                 7.0.0\n",
      "pip                    22.0.4\n",
      "playsound              1.3.0\n",
      "ply                    3.11\n",
      "progressbar            2.5\n",
      "prompt-toolkit         3.0.28\n",
      "protobuf               3.6.1\n",
      "psutil                 5.9.0\n",
      "pure-eval              0.2.2\n",
      "pycairo                1.16.2\n",
      "pycups                 1.9.73\n",
      "Pygments               2.11.2\n",
      "PyGObject              3.36.0\n",
      "PyJWT                  1.7.1\n",
      "pylint                 2.4.4\n",
      "pymacaroons            0.13.0\n",
      "PyNaCl                 1.3.0\n",
      "pyOpenSSL              19.0.0\n",
      "PyQt5                  5.14.1\n",
      "PyQtWebEngine          5.14.0\n",
      "pyRFC3339              1.1\n",
      "pyserial               3.4\n",
      "python-apt             2.0.0+ubuntu0.20.4.7\n",
      "python-dateutil        2.8.2\n",
      "python-debian          0.1.36ubuntu1\n",
      "pyttsx3                2.90\n",
      "pytz                   2022.1\n",
      "pyxdg                  0.26\n",
      "PyYAML                 5.3.1\n",
      "pyzmq                  22.3.0\n",
      "reportlab              3.5.34\n",
      "requests               2.22.0\n",
      "requests-unixsocket    0.2.0\n",
      "roman                  2.0.0\n",
      "SecretStorage          2.3.1\n",
      "Send2Trash             1.5.0\n",
      "setuptools             61.2.0\n",
      "simplejson             3.16.0\n",
      "sip                    4.19.21\n",
      "six                    1.14.0\n",
      "sos                    4.3\n",
      "soupsieve              1.9.5\n",
      "stack-data             0.2.0\n",
      "systemd-python         234\n",
      "text-to-speech         1.5.3\n",
      "thonny                 3.2.7\n",
      "tornado                6.1\n",
      "traitlets              5.1.1\n",
      "typed-ast              1.4.1\n",
      "typing-extensions      3.7.4.1\n",
      "ubuntu-advantage-tools 27.6\n",
      "ubuntu-drivers-common  0.0.0\n",
      "ufw                    0.36\n",
      "unattended-upgrades    0.1\n",
      "urllib3                1.25.8\n",
      "usb-creator            0.3.7\n",
      "wadllib                1.3.3\n",
      "wcwidth                0.2.5\n",
      "webencodings           0.5.1\n",
      "wheel                  0.37.1\n",
      "wrapt                  1.11.2\n",
      "xkit                   0.0.0\n",
      "Note: you may need to restart the kernel to use updated packages.\n"
     ]
    }
   ],
   "source": [
    "pip list"
   ]
  },
  {
   "cell_type": "code",
   "execution_count": 21,
   "metadata": {},
   "outputs": [
    {
     "name": "stdout",
     "output_type": "stream",
     "text": [
      "Defaulting to user installation because normal site-packages is not writeable\n",
      "\u001b[31mERROR: Could not find a version that satisfies the requirement python==3.8 (from versions: none)\u001b[0m\u001b[31m\n",
      "\u001b[0m\u001b[31mERROR: No matching distribution found for python==3.8\u001b[0m\u001b[31m\n",
      "\u001b[0mNote: you may need to restart the kernel to use updated packages.\n"
     ]
    }
   ],
   "source": [
    "%pip install python==3.8"
   ]
  },
  {
   "cell_type": "code",
   "execution_count": 22,
   "metadata": {},
   "outputs": [
    {
     "name": "stdout",
     "output_type": "stream",
     "text": [
      "Name: text-to-speech\n",
      "Version: 1.5.3\n",
      "Summary: A simple text to speech engine\n",
      "Home-page: https://github.com/dewittethomas/text-to-speech\n",
      "Author: Thomas Dewitte\n",
      "Author-email: thomasdewittecontact@gmail.com\n",
      "License: MIT\n",
      "Location: /home/bbc/.local/lib/python3.8/site-packages\n",
      "Requires: gTTS, playsound\n",
      "Required-by: \n",
      "Note: you may need to restart the kernel to use updated packages.\n"
     ]
    }
   ],
   "source": [
    "pip show text_to_speech"
   ]
  },
  {
   "cell_type": "code",
   "execution_count": 26,
   "metadata": {},
   "outputs": [
    {
     "name": "stdout",
     "output_type": "stream",
     "text": [
      "Name: pandas\n",
      "Version: 1.4.2\n",
      "Summary: Powerful data structures for data analysis, time series, and statistics\n",
      "Home-page: https://pandas.pydata.org\n",
      "Author: The Pandas Development Team\n",
      "Author-email: pandas-dev@python.org\n",
      "License: BSD-3-Clause\n",
      "Location: /home/bbc/.local/lib/python3.8/site-packages\n",
      "Requires: numpy, python-dateutil, pytz\n",
      "Required-by: \n",
      "Note: you may need to restart the kernel to use updated packages.\n"
     ]
    }
   ],
   "source": [
    "%pip show pandas"
   ]
  },
  {
   "cell_type": "code",
   "execution_count": 29,
   "metadata": {},
   "outputs": [
    {
     "name": "stdout",
     "output_type": "stream",
     "text": [
      "Defaulting to user installation because normal site-packages is not writeable\n",
      "Collecting pandas\n",
      "  Using cached pandas-1.4.2-cp38-cp38-manylinux_2_17_x86_64.manylinux2014_x86_64.whl (11.7 MB)\n",
      "Requirement already satisfied: numpy>=1.18.5 in /home/bbc/.local/lib/python3.8/site-packages (from pandas) (1.22.3)\n",
      "Requirement already satisfied: python-dateutil>=2.8.1 in /home/bbc/.local/lib/python3.8/site-packages (from pandas) (2.8.2)\n",
      "Requirement already satisfied: pytz>=2020.1 in /home/bbc/.local/lib/python3.8/site-packages (from pandas) (2022.1)\n",
      "Requirement already satisfied: six>=1.5 in /usr/lib/python3/dist-packages (from python-dateutil>=2.8.1->pandas) (1.14.0)\n",
      "Installing collected packages: pandas\n",
      "Successfully installed pandas-1.4.2\n",
      "Note: you may need to restart the kernel to use updated packages.\n"
     ]
    }
   ],
   "source": [
    "pip install pandas"
   ]
  },
  {
   "cell_type": "code",
   "execution_count": 37,
   "metadata": {},
   "outputs": [
    {
     "name": "stdout",
     "output_type": "stream",
     "text": [
      "    id         country  confirmed active  deaths recovered   latitude  \\\n",
      "0  184              US   80249038   None  983817      None  40.000000   \n",
      "1   81           India   43031958   None  521530      None  20.593684   \n",
      "2   25          Brazil   30069094   None  660980      None -14.235000   \n",
      "3   64          France   26579448   None  143949      None  46.227600   \n",
      "4   68         Germany   22303440   None  131036      None  51.165691   \n",
      "5  188  United Kingdom   21625530   None  169698      None  55.000000   \n",
      "6  146          Russia   17693468   None  363455      None  61.524000   \n",
      "7   87           Italy   15035943   None  160253      None  41.871900   \n",
      "8  183          Turkey   14929905   None   98275      None  38.963700   \n",
      "9   94    Korea, South   14778405   None   18381      None  35.907757   \n",
      "\n",
      "    longitude    last_update  \n",
      "0 -100.000000  1649323232000  \n",
      "1   78.962880  1649323232000  \n",
      "2  -51.925300  1649323232000  \n",
      "3    2.213700  1649323232000  \n",
      "4   10.451526  1649323232000  \n",
      "5   -3.000000  1649323232000  \n",
      "6  105.318800  1649323232000  \n",
      "7   12.567400  1649323232000  \n",
      "8   35.243300  1649323232000  \n",
      "9  127.766922  1649323232000  \n"
     ]
    },
    {
     "name": "stderr",
     "output_type": "stream",
     "text": [
      "/home/bbc/.local/lib/python3.8/site-packages/seaborn/_decorators.py:36: FutureWarning: Pass the following variables as keyword args: x, y. From version 0.12, the only valid positional argument will be `data`, and passing other arguments without an explicit keyword will result in an error or misinterpretation.\n",
      "  warnings.warn(\n"
     ]
    },
    {
     "data": {
      "image/png": "[encoded data removed]",
      "text/plain": [
       "<Figure size 432x288 with 1 Axes>"
      ]
     },
     "metadata": {
      "needs_background": "light"
     },
     "output_type": "display_data"
    }
   ],
   "source": [
    "#pip install seaborn\n",
    "from covid import Covid\n",
    "import matplotlib.pyplot as plt\n",
    "import seaborn as sns\n",
    "import pandas as pd\n",
    "covid = Covid()\n",
    "df = pd.DataFrame(covid.get_data())\n",
    "top10 = df.head(10)\n",
    "print(top10)\n",
    "deaths = top10.deaths\n",
    "countries = top10.country\n",
    "sns.barplot(countries, deaths, data=top10 )\n",
    "plt.title(\"Vefat sayilari\")\n",
    "plt.show()\n"
   ]
  },
  {
   "cell_type": "code",
   "execution_count": 48,
   "metadata": {},
   "outputs": [
    {
     "ename": "SyntaxError",
     "evalue": "unexpected EOF while parsing (2793068910.py, line 3)",
     "output_type": "error",
     "traceback": [
      "\u001b[0;36m  Input \u001b[0;32mIn [48]\u001b[0;36m\u001b[0m\n\u001b[0;31m    print(\"ali\"\u001b[0m\n\u001b[0m               ^\u001b[0m\n\u001b[0;31mSyntaxError\u001b[0m\u001b[0;31m:\u001b[0m unexpected EOF while parsing\n"
     ]
    }
   ],
   "source": [
    "#Hatalar:\n",
    "#1. Syntax (Yazım kuralı) hatası: editörler yardımcı oluyor\n",
    "print(\"ali\""
   ]
  },
  {
   "cell_type": "code",
   "execution_count": 50,
   "metadata": {},
   "outputs": [
    {
     "ename": "SyntaxError",
     "evalue": "EOL while scanning string literal (4164224581.py, line 1)",
     "output_type": "error",
     "traceback": [
      "\u001b[0;36m  Input \u001b[0;32mIn [50]\u001b[0;36m\u001b[0m\n\u001b[0;31m    print(\"ali')\u001b[0m\n\u001b[0m                ^\u001b[0m\n\u001b[0;31mSyntaxError\u001b[0m\u001b[0;31m:\u001b[0m EOL while scanning string literal\n"
     ]
    }
   ],
   "source": [
    "print(\"ali')"
   ]
  },
  {
   "cell_type": "code",
   "execution_count": 51,
   "metadata": {},
   "outputs": [
    {
     "ename": "IndentationError",
     "evalue": "expected an indented block (2074192393.py, line 3)",
     "output_type": "error",
     "traceback": [
      "\u001b[0;36m  Input \u001b[0;32mIn [51]\u001b[0;36m\u001b[0m\n\u001b[0;31m    print(\"x\":x)\u001b[0m\n\u001b[0m    ^\u001b[0m\n\u001b[0;31mIndentationError\u001b[0m\u001b[0;31m:\u001b[0m expected an indented block\n"
     ]
    }
   ],
   "source": [
    "x = 0\n",
    "if x==5:\n",
    "print(\"x\":x)"
   ]
  },
  {
   "cell_type": "code",
   "execution_count": 49,
   "metadata": {},
   "outputs": [
    {
     "ename": "NameError",
     "evalue": "name 'prit' is not defined",
     "output_type": "error",
     "traceback": [
      "\u001b[0;31m---------------------------------------------------------------------------\u001b[0m",
      "\u001b[0;31mNameError\u001b[0m                                 Traceback (most recent call last)",
      "\u001b[1;32m/home/bbc/Downloads/19_PythonPluss_07042022.ipynb Cell 18'\u001b[0m in \u001b[0;36m<cell line: 1>\u001b[0;34m()\u001b[0m\n\u001b[0;32m----> <a href='vscode-notebook-cell:/home/bbc/Downloads/19_PythonPluss_07042022.ipynb#ch0000018?line=0'>1</a>\u001b[0m prit(\u001b[39m\"\u001b[39m\u001b[39mali\u001b[39m\u001b[39m\"\u001b[39m)\n",
      "\u001b[0;31mNameError\u001b[0m: name 'prit' is not defined"
     ]
    }
   ],
   "source": [
    "prit(\"ali\")"
   ]
  },
  {
   "cell_type": "code",
   "execution_count": null,
   "metadata": {},
   "outputs": [],
   "source": [
    "#Hatalar:\n",
    "#2. Mantık (logic) hatası: tespiti zor: hata yok ama istenen çıktıyı vermiyor\n",
    "#2-5 (toplama yerine çıkarma gibi)"
   ]
  },
  {
   "cell_type": "code",
   "execution_count": null,
   "metadata": {},
   "outputs": [],
   "source": [
    "#çalışma zamanı hatası (Exception-istisna)"
   ]
  }
 ],
 "metadata": {
  "interpreter": {
   "hash": "35c4bcfff6bb594ff47b51ce5b21bcb1093d06fa0c5debe7002e3be5d50f4cc1"
  },
  "kernelspec": {
   "display_name": "Python 3.10.2 64-bit",
   "language": "python",
   "name": "python3"
  },
  "language_info": {
   "codemirror_mode": {
    "name": "ipython",
    "version": 3
   },
   "file_extension": ".py",
   "mimetype": "text/x-python",
   "name": "python",
   "nbconvert_exporter": "python",
   "pygments_lexer": "ipython3",
   "version": "3.8.10"
  },
  "orig_nbformat": 4
 },
 "nbformat": 4,
 "nbformat_minor": 2
}
