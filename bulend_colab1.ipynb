{
  "cells": [
    {
      "cell_type": "code",
      "execution_count": 1,
      "metadata": {
        "colab": {
          "base_uri": "https://localhost:8080/"
        },
        "id": "vByW-t_NcjbS",
        "outputId": "819d3e04-791f-4993-fcbb-68f2b17bd1d0"
      },
      "outputs": [
        {
          "name": "stdout",
          "output_type": "stream",
          "text": [
            "hello world\n"
          ]
        }
      ],
      "source": [
        "print(\"hello world\")"
      ]
    },
    {
      "cell_type": "code",
      "execution_count": null,
      "metadata": {},
      "outputs": [],
      "source": []
    },
    {
      "cell_type": "markdown",
      "metadata": {},
      "source": [
        "print fonksiyonun parantezsiz kullanımında hata alırız (python 3.x ve üstü için )"
      ]
    },
    {
      "cell_type": "code",
      "execution_count": 4,
      "metadata": {},
      "outputs": [
        {
          "ename": "SyntaxError",
          "evalue": "Missing parentheses in call to 'print'. Did you mean print(\"hello world!\")? (1722370279.py, line 1)",
          "output_type": "error",
          "traceback": [
            "\u001b[0;36m  Input \u001b[0;32mIn [4]\u001b[0;36m\u001b[0m\n\u001b[0;31m    print \"hello world!\"\u001b[0m\n\u001b[0m          ^\u001b[0m\n\u001b[0;31mSyntaxError\u001b[0m\u001b[0;31m:\u001b[0m Missing parentheses in call to 'print'. Did you mean print(\"hello world!\")?\n"
          ]
        }
      ],
      "source": [
        "print \"hello world!\""
      ]
    },
    {
      "cell_type": "markdown",
      "metadata": {},
      "source": [
        "# Hangi tırnak ile başladı isek o tırnakla sonlandırmalıyız!"
      ]
    },
    {
      "cell_type": "code",
      "execution_count": null,
      "metadata": {
        "colab": {
          "base_uri": "https://localhost:8080/",
          "height": 129
        },
        "id": "xnYKwZLblLlr",
        "outputId": "e9eec297-ffdc-4929-e62f-d7e182ad1e06"
      },
      "outputs": [
        {
          "ename": "SyntaxError",
          "evalue": "EOL while scanning string literal (842549119.py, line 1)",
          "output_type": "error",
          "traceback": [
            "\u001b[0;36m  Input \u001b[0;32mIn [5]\u001b[0;36m\u001b[0m\n\u001b[0;31m    print(\"hello world')\u001b[0m\n\u001b[0m                        ^\u001b[0m\n\u001b[0;31mSyntaxError\u001b[0m\u001b[0;31m:\u001b[0m EOL while scanning string literal\n"
          ]
        }
      ],
      "source": [
        "print(\"hello world')"
      ]
    },
    {
      "cell_type": "code",
      "execution_count": null,
      "metadata": {
        "colab": {
          "base_uri": "https://localhost:8080/"
        },
        "id": "oOa-Q4MVnGuz",
        "outputId": "737edf00-d92e-4049-db5c-b3a7be0b4fc5"
      },
      "outputs": [
        {
          "name": "stdout",
          "output_type": "stream",
          "text": [
            "çiftle başladım çiftle bitirdim\n"
          ]
        }
      ],
      "source": [
        "print(\"çiftle başladım çiftle bitirdim\")"
      ]
    },
    {
      "cell_type": "markdown",
      "metadata": {},
      "source": [
        "print() içerisinde tek tırnak veya çift tırnak kullanımında alt satırlara geçmek için '\\' kullanılabilir. Örnek; "
      ]
    },
    {
      "cell_type": "code",
      "execution_count": 5,
      "metadata": {
        "colab": {
          "base_uri": "https://localhost:8080/"
        },
        "id": "PmnHyT1lnlek",
        "outputId": "88316252-aabb-48b6-b8b5-cffa668138d1"
      },
      "outputs": [
        {
          "name": "stdout",
          "output_type": "stream",
          "text": [
            "bulend     hoca         clarusway\n"
          ]
        }
      ],
      "source": [
        "print(\"bulend \\\n",
        "    hoca \\\n",
        "        clarusway\")"
      ]
    },
    {
      "cell_type": "markdown",
      "metadata": {},
      "source": [
        "Ya da '''...''', \"\"\"...\"\"\" üç tırnak kullanılır. Örnek;"
      ]
    },
    {
      "cell_type": "code",
      "execution_count": 6,
      "metadata": {},
      "outputs": [
        {
          "name": "stdout",
          "output_type": "stream",
          "text": [
            "bulend\n",
            "      hoca\n",
            "      clarusway\n",
            "      \n"
          ]
        }
      ],
      "source": [
        "print(\"\"\"bulend\n",
        "      hoca\n",
        "      clarusway\n",
        "      \"\"\")"
      ]
    },
    {
      "cell_type": "markdown",
      "metadata": {},
      "source": [
        "Escape characters: Mesaj içerisine ', \" tırnaklarını bırakmak için \\' veya \\\" escape(çıkış) karakterleri kullanılabilir."
      ]
    },
    {
      "cell_type": "code",
      "execution_count": null,
      "metadata": {
        "colab": {
          "base_uri": "https://localhost:8080/"
        },
        "id": "C4BlYajSoWbY",
        "outputId": "5bbc31f2-ae2e-49bb-e028-034e77ad5b09"
      },
      "outputs": [
        {
          "name": "stdout",
          "output_type": "stream",
          "text": [
            "He said, \"I'm so happy\"\n"
          ]
        }
      ],
      "source": [
        "print(\"He said, \\\"I'm so happy\\\"\")"
      ]
    },
    {
      "cell_type": "markdown",
      "metadata": {},
      "source": [
        "print() mesajı içerisinde farklı tırnaklar kullanılabilir."
      ]
    },
    {
      "cell_type": "code",
      "execution_count": null,
      "metadata": {
        "colab": {
          "base_uri": "https://localhost:8080/"
        },
        "id": "EBMXliu1piXI",
        "outputId": "1a5e48c0-324f-4cfe-b11a-6dd2eee58c22"
      },
      "outputs": [
        {
          "name": "stdout",
          "output_type": "stream",
          "text": [
            "\"tek satır\"\n"
          ]
        }
      ],
      "source": [
        "print('''\"tek satır\"''')"
      ]
    },
    {
      "cell_type": "code",
      "execution_count": 7,
      "metadata": {},
      "outputs": [
        {
          "name": "stdout",
          "output_type": "stream",
          "text": [
            "I'm a student\n"
          ]
        }
      ],
      "source": [
        "print(\"I'm a student\")"
      ]
    },
    {
      "cell_type": "markdown",
      "metadata": {},
      "source": [
        "Escape karakterlerinden '\\n' bir alt satıra geçmek, '\\t' bir tab boşluk bırakmak için kullanılır.Örnek;"
      ]
    },
    {
      "cell_type": "code",
      "execution_count": 8,
      "metadata": {},
      "outputs": [
        {
          "name": "stdout",
          "output_type": "stream",
          "text": [
            "bulend\n",
            "hoca\n"
          ]
        }
      ],
      "source": [
        "print(\"bulend\\nhoca\")"
      ]
    },
    {
      "cell_type": "code",
      "execution_count": 9,
      "metadata": {},
      "outputs": [
        {
          "name": "stdout",
          "output_type": "stream",
          "text": [
            "bulend\thoca\n"
          ]
        }
      ],
      "source": [
        "print(\"bulend\\thoca\")"
      ]
    },
    {
      "cell_type": "markdown",
      "metadata": {},
      "source": [
        "Boş satır bırakıp alta geçmek için print(), print(''), print(\"\"), print(\"\"\"\"\"\") veya print('''''') kullanılabilir."
      ]
    },
    {
      "cell_type": "code",
      "execution_count": null,
      "metadata": {
        "colab": {
          "base_uri": "https://localhost:8080/"
        },
        "id": "xJIMzNf4qStc",
        "outputId": "b24cd08a-ddba-4a02-d818-3fdbd06b42b3"
      },
      "outputs": [
        {
          "name": "stdout",
          "output_type": "stream",
          "text": [
            "ilk satır\n",
            "\n",
            "\n",
            "son satır\n"
          ]
        }
      ],
      "source": [
        "print(\"ilk satır\") \n",
        "print()\n",
        "print(\"\")\n",
        "#print('''''')\n",
        "print('son satır')"
      ]
    },
    {
      "cell_type": "code",
      "execution_count": 1,
      "metadata": {
        "colab": {
          "base_uri": "https://localhost:8080/"
        },
        "id": "oCCkhudIqbnw",
        "outputId": "ad4cca6f-d7f7-4810-da4b-2870006ac75a"
      },
      "outputs": [
        {
          "name": "stdout",
          "output_type": "stream",
          "text": [
            "3.14\n",
            "3.14\n"
          ]
        }
      ],
      "source": [
        "print(\"3.14\")\n",
        "print(3.14)"
      ]
    },
    {
      "cell_type": "markdown",
      "metadata": {},
      "source": [
        "'+' operatörü hem sayıları toplama da hem de stringleri birleştirme de kullanılabilir."
      ]
    },
    {
      "cell_type": "code",
      "execution_count": 2,
      "metadata": {
        "colab": {
          "base_uri": "https://localhost:8080/"
        },
        "id": "oyI4dUAJq8ts",
        "outputId": "73111d45-5202-4b42-c955-ab55941bf070"
      },
      "outputs": [
        {
          "name": "stdout",
          "output_type": "stream",
          "text": [
            "8\n",
            "35\n"
          ]
        }
      ],
      "source": [
        "print(3 + 5)\n",
        "print('3' + '5')"
      ]
    },
    {
      "cell_type": "code",
      "execution_count": null,
      "metadata": {
        "colab": {
          "base_uri": "https://localhost:8080/"
        },
        "id": "l4jEnOROrBCi",
        "outputId": "c7298785-2f38-4e64-c2c4-2b9b4577cc1b"
      },
      "outputs": [
        {
          "name": "stdout",
          "output_type": "stream",
          "text": [
            "'We should have enough time for our family\"\n"
          ]
        }
      ],
      "source": [
        "print(''''We should have enough time for our family\"''')"
      ]
    },
    {
      "cell_type": "code",
      "execution_count": null,
      "metadata": {
        "colab": {
          "base_uri": "https://localhost:8080/"
        },
        "id": "ModQlt72xune",
        "outputId": "1395751f-0742-482f-f685-0d138c4b322d"
      },
      "outputs": [
        {
          "name": "stdout",
          "output_type": "stream",
          "text": [
            "hello\n"
          ]
        }
      ],
      "source": [
        "print(\"hello\")  # bu inline commenttir"
      ]
    },
    {
      "cell_type": "code",
      "execution_count": null,
      "metadata": {
        "colab": {
          "base_uri": "https://localhost:8080/"
        },
        "id": "VQhQRFEHyFjh",
        "outputId": "45366b45-6365-47a6-c9d5-e23e8865c551"
      },
      "outputs": [
        {
          "name": "stdout",
          "output_type": "stream",
          "text": [
            "merhaba\n"
          ]
        }
      ],
      "source": [
        "# bu bir single-line commenttir\n",
        "print(\"merhaba\")"
      ]
    },
    {
      "cell_type": "code",
      "execution_count": 3,
      "metadata": {
        "id": "HAq5Dt3LySEx"
      },
      "outputs": [
        {
          "name": "stdout",
          "output_type": "stream",
          "text": [
            "hello\n"
          ]
        }
      ],
      "source": [
        "# bu açıklamanın birinci satırı\n",
        "# bu ikinci satır\n",
        "# bu üçüncü satır\n",
        "print(\"hello\")"
      ]
    },
    {
      "cell_type": "code",
      "execution_count": 1,
      "metadata": {},
      "outputs": [
        {
          "name": "stdout",
          "output_type": "stream",
          "text": [
            "hello\n"
          ]
        },
        {
          "data": {
            "text/plain": [
              "\"Bu bir açıklama satırıdır.\\n  hello' mesajını ekrana basar  \\n  bulend\\n\""
            ]
          },
          "execution_count": 1,
          "metadata": {},
          "output_type": "execute_result"
        }
      ],
      "source": [
        "print(\"hello\")\n",
        "\"\"\"Bu fonksiyon\n",
        "  hello' mesajını ekrana basar  \n",
        "  docstring'ler fonksiyon açıklamasında kullanılabilir.\n",
        "\"\"\""
      ]
    }
  ],
  "metadata": {
    "colab": {
      "collapsed_sections": [],
      "name": "01_PythonBasic_12.10.2021.ipynb",
      "provenance": []
    },
    "kernelspec": {
      "display_name": "Python 3",
      "name": "python3"
    },
    "language_info": {
      "codemirror_mode": {
        "name": "ipython",
        "version": 3
      },
      "file_extension": ".py",
      "mimetype": "text/x-python",
      "name": "python",
      "nbconvert_exporter": "python",
      "pygments_lexer": "ipython3",
      "version": "3.8.10"
    }
  },
  "nbformat": 4,
  "nbformat_minor": 0
}
