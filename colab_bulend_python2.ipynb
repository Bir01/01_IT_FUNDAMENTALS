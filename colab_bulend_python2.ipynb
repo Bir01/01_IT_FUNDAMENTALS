{
  "cells": [
    {
      "cell_type": "code",
      "execution_count": 1,
      "metadata": {
        "id": "mCC0MFW1Zr5n"
      },
      "outputs": [
        {
          "data": {
            "text/plain": [
              "\"print(value, ..., sep=' ', end='\\\\n', file=sys.stdout, flush=False)\\n\\nPrints the values to a stream, or to sys.stdout by default.\\nOptional keyword arguments:\\nfile:  a file-like object (stream); defaults to the current sys.stdout.\\nsep:   string inserted between values, default a space.\\nend:   string appended after the last value, default a newline.\\nflush: whether to forcibly flush the stream.\""
            ]
          },
          "execution_count": 1,
          "metadata": {},
          "output_type": "execute_result"
        }
      ],
      "source": [
        "print.__doc__"
      ]
    },
    {
      "cell_type": "code",
      "execution_count": 3,
      "metadata": {},
      "outputs": [
        {
          "name": "stdout",
          "output_type": "stream",
          "text": [
            "Hello\n"
          ]
        }
      ],
      "source": [
        "print(\"Hello\")\n"
      ]
    },
    {
      "cell_type": "code",
      "execution_count": 6,
      "metadata": {
        "colab": {
          "base_uri": "https://localhost:8080/"
        },
        "id": "GTsq3XoYaXYP",
        "outputId": "b764c697-6bd0-4f85-b843-239951d7c467"
      },
      "outputs": [
        {
          "name": "stdout",
          "output_type": "stream",
          "text": [
            "3.141592653589793\n"
          ]
        }
      ],
      "source": [
        "import math\n",
        "math.__doc__\n",
        "print(math.pi)"
      ]
    },
    {
      "cell_type": "code",
      "execution_count": 5,
      "metadata": {
        "id": "9F55qesmavEa"
      },
      "outputs": [
        {
          "data": {
            "text/plain": [
              "['__add__',\n",
              " '__class__',\n",
              " '__contains__',\n",
              " '__delattr__',\n",
              " '__dir__',\n",
              " '__doc__',\n",
              " '__eq__',\n",
              " '__format__',\n",
              " '__ge__',\n",
              " '__getattribute__',\n",
              " '__getitem__',\n",
              " '__getnewargs__',\n",
              " '__gt__',\n",
              " '__hash__',\n",
              " '__init__',\n",
              " '__init_subclass__',\n",
              " '__iter__',\n",
              " '__le__',\n",
              " '__len__',\n",
              " '__lt__',\n",
              " '__mod__',\n",
              " '__mul__',\n",
              " '__ne__',\n",
              " '__new__',\n",
              " '__reduce__',\n",
              " '__reduce_ex__',\n",
              " '__repr__',\n",
              " '__rmod__',\n",
              " '__rmul__',\n",
              " '__setattr__',\n",
              " '__sizeof__',\n",
              " '__str__',\n",
              " '__subclasshook__',\n",
              " 'capitalize',\n",
              " 'casefold',\n",
              " 'center',\n",
              " 'count',\n",
              " 'encode',\n",
              " 'endswith',\n",
              " 'expandtabs',\n",
              " 'find',\n",
              " 'format',\n",
              " 'format_map',\n",
              " 'index',\n",
              " 'isalnum',\n",
              " 'isalpha',\n",
              " 'isascii',\n",
              " 'isdecimal',\n",
              " 'isdigit',\n",
              " 'isidentifier',\n",
              " 'islower',\n",
              " 'isnumeric',\n",
              " 'isprintable',\n",
              " 'isspace',\n",
              " 'istitle',\n",
              " 'isupper',\n",
              " 'join',\n",
              " 'ljust',\n",
              " 'lower',\n",
              " 'lstrip',\n",
              " 'maketrans',\n",
              " 'partition',\n",
              " 'removeprefix',\n",
              " 'removesuffix',\n",
              " 'replace',\n",
              " 'rfind',\n",
              " 'rindex',\n",
              " 'rjust',\n",
              " 'rpartition',\n",
              " 'rsplit',\n",
              " 'rstrip',\n",
              " 'split',\n",
              " 'splitlines',\n",
              " 'startswith',\n",
              " 'strip',\n",
              " 'swapcase',\n",
              " 'title',\n",
              " 'translate',\n",
              " 'upper',\n",
              " 'zfill']"
            ]
          },
          "execution_count": 5,
          "metadata": {},
          "output_type": "execute_result"
        }
      ],
      "source": [
        "# dir() : fonksiyonların/metotların isimlerini verir\n",
        "dir(\"math\")"
      ]
    },
    {
      "cell_type": "code",
      "execution_count": 8,
      "metadata": {
        "colab": {
          "base_uri": "https://localhost:8080/"
        },
        "id": "pLra6aS1eVZk",
        "outputId": "bef7b08c-71ff-4da2-e1b9-3654916b9e60"
      },
      "outputs": [
        {
          "name": "stdout",
          "output_type": "stream",
          "text": [
            "5-ali-Salı\n"
          ]
        }
      ],
      "source": [
        "uzun_kenar = 5\n",
        "text1 = \"ali\"\n",
        "gun_adi = \"Salı\"\n",
        "print(uzun_kenar, text1, gun_adi, sep=\"-\")  # sep özelliği default olarak boşluk bırakır"
      ]
    },
    {
      "cell_type": "markdown",
      "metadata": {
        "id": "NbF3ZzzXiWuS"
      },
      "source": [
        "Naming Yaklaşımları:\n",
        "**snake_case, CamelCase**, Pascal Case (pascalDili)"
      ]
    },
    {
      "cell_type": "code",
      "execution_count": 9,
      "metadata": {
        "colab": {
          "base_uri": "https://localhost:8080/"
        },
        "id": "xA4aeW-bipvg",
        "outputId": "551de620-8a34-4ab8-951d-950740661af8"
      },
      "outputs": [
        {
          "name": "stdout",
          "output_type": "stream",
          "text": [
            "<class 'str'>\n"
          ]
        }
      ],
      "source": [
        "# Snake Case örnekleri: uzun_kenar, ad_soyad\n",
        "# Camel Case örnekleri: Class(Sınıf ismi) verirken StrDokuman\n",
        "ad_soyad = \"bulend\"\n",
        "print(type(ad_soyad))"
      ]
    },
    {
      "cell_type": "code",
      "execution_count": 11,
      "metadata": {
        "colab": {
          "base_uri": "https://localhost:8080/"
        },
        "id": "-q55PPRujX0l",
        "outputId": "1f25b560-90f8-4830-81e4-a718f4d6b288"
      },
      "outputs": [
        {
          "name": "stdout",
          "output_type": "stream",
          "text": [
            "['False', 'None', 'True', 'and', 'as', 'assert', 'async', 'await', 'break', 'class', 'continue', 'def', 'del', 'elif', 'else', 'except', 'finally', 'for', 'from', 'global', 'if', 'import', 'in', 'is', 'lambda', 'nonlocal', 'not', 'or', 'pass', 'raise', 'return', 'try', 'while', 'with', 'yield']\n"
          ]
        }
      ],
      "source": [
        "ad_soyad = \"\"\n",
        "#rakamla başlamayacak\n",
        "# _ (underscore) karakteri haricinde özel karakter içermeyecek (^+&/-?*)\n",
        "# O dile komutlar değişken ismi olarak kullanılamaz\n",
        "import keyword\n",
        "print(keyword.kwlist)"
      ]
    },
    {
      "cell_type": "code",
      "execution_count": 12,
      "metadata": {
        "colab": {
          "base_uri": "https://localhost:8080/"
        },
        "id": "lD_rYpsimUyn",
        "outputId": "8ee23ddb-5999-476c-cdb5-c39052619e8a"
      },
      "outputs": [
        {
          "name": "stdout",
          "output_type": "stream",
          "text": [
            "same\n",
            "same\n",
            "same\n"
          ]
        }
      ],
      "source": [
        "x = y = z = \"same\"\n",
        "print(x)\n",
        "print(y)\n",
        "print(z)"
      ]
    },
    {
      "cell_type": "code",
      "execution_count": 13,
      "metadata": {
        "colab": {
          "base_uri": "https://localhost:8080/"
        },
        "id": "sbL0q6c0mdXc",
        "outputId": "ad1fc299-f5e0-4d11-f9a9-490d1af79f72"
      },
      "outputs": [
        {
          "name": "stdout",
          "output_type": "stream",
          "text": [
            "same same same\n"
          ]
        }
      ],
      "source": [
        "x = y = z = \"same\"\n",
        "print(x, y, z)"
      ]
    },
    {
      "cell_type": "code",
      "execution_count": 18,
      "metadata": {
        "colab": {
          "base_uri": "https://localhost:8080/"
        },
        "id": "4pmyfsFpmk7f",
        "outputId": "33fc4b96-38d9-40b6-f433-9ef82c17f75f"
      },
      "outputs": [
        {
          "name": "stdout",
          "output_type": "stream",
          "text": [
            "same same same \n"
          ]
        }
      ],
      "source": [
        "x = y = z = \"same \"\n",
        "print(x*3)"
      ]
    },
    {
      "cell_type": "code",
      "execution_count": 23,
      "metadata": {
        "colab": {
          "base_uri": "https://localhost:8080/"
        },
        "id": "Zg7C4O3sm7cY",
        "outputId": "eb0c9dfb-724d-43f2-dcd5-ab074a5db446"
      },
      "outputs": [
        {
          "name": "stdout",
          "output_type": "stream",
          "text": [
            "müdür müdür müdür ?"
          ]
        }
      ],
      "source": [
        "#müdür müdür müdür?\n",
        "print(\"müdür \"*3, end=\"?\")"
      ]
    },
    {
      "cell_type": "code",
      "execution_count": null,
      "metadata": {
        "id": "cvwzJ-k_olHw"
      },
      "outputs": [],
      "source": [
        "#Değişkenimin alacağı değere ve tipine henüz karar vermedi isem 'None'\n",
        "volter = None\n",
        "stringA = \"\"\n",
        "intA = 0"
      ]
    },
    {
      "cell_type": "code",
      "execution_count": 24,
      "metadata": {
        "colab": {
          "base_uri": "https://localhost:8080/"
        },
        "id": "XtDooq0OpdXR",
        "outputId": "816a8ab7-773e-453a-8042-420ca76b258e"
      },
      "outputs": [
        {
          "name": "stdout",
          "output_type": "stream",
          "text": [
            "100\n"
          ]
        }
      ],
      "source": [
        "first_number = 100\n",
        "second_number = first_number\n",
        "print(second_number)"
      ]
    },
    {
      "cell_type": "code",
      "execution_count": 26,
      "metadata": {
        "colab": {
          "base_uri": "https://localhost:8080/"
        },
        "id": "YGbsfAk9pyqt",
        "outputId": "4973ead4-37ed-4406-dbd3-1e1f0e0faefa"
      },
      "outputs": [
        {
          "name": "stdout",
          "output_type": "stream",
          "text": [
            "5\n"
          ]
        }
      ],
      "source": [
        "sayi1 = 5\n",
        "sayi2 = 6\n",
        "sayi2 = sayi1  # Eşitliğin sağ tarafı sol tarafa aktarılır.\n",
        "# 5 = sayi1 hatalı durum\n",
        "print(sayi2)"
      ]
    },
    {
      "cell_type": "code",
      "execution_count": 27,
      "metadata": {
        "colab": {
          "base_uri": "https://localhost:8080/"
        },
        "id": "YJ2q1IyfrFLI",
        "outputId": "44cfef6f-b899-4b63-b23c-5ec7a26f8261"
      },
      "outputs": [
        {
          "name": "stdout",
          "output_type": "stream",
          "text": [
            "3\n",
            "5.2\n",
            "hello\n"
          ]
        }
      ],
      "source": [
        "a, b, c = 3, 5.2, \"hello\"\n",
        "print(a)\n",
        "print(b)\n",
        "print(c)"
      ]
    },
    {
      "cell_type": "code",
      "execution_count": 30,
      "metadata": {
        "colab": {
          "base_uri": "https://localhost:8080/"
        },
        "id": "hOjAR3Bjtp_q",
        "outputId": "47e0cfdf-0e8c-45fd-e366-5187a2e72576"
      },
      "outputs": [
        {
          "name": "stdout",
          "output_type": "stream",
          "text": [
            "31 28 31 30 31 30 31 31 30 31 30 31\n"
          ]
        }
      ],
      "source": [
        "january = march = may = july = august = october = december = 31  \n",
        "# multi assignments in a single line\n",
        "\n",
        "april = june = september = november = 30\n",
        "\n",
        "february = 28\n",
        "\n",
        "print(january, february, march, april, may, june, july, august, september, october, november, december)"
      ]
    },
    {
      "cell_type": "code",
      "execution_count": 29,
      "metadata": {
        "colab": {
          "base_uri": "https://localhost:8080/"
        },
        "id": "Koy-Ma7ZrPUD",
        "outputId": "589287df-3ad5-41b4-a890-75610905ba23"
      },
      "outputs": [
        {
          "name": "stdout",
          "output_type": "stream",
          "text": [
            "5\n",
            "3\n"
          ]
        }
      ],
      "source": [
        "# Bu iki değişkenin içeriğini nasıl yer değiştiririz.\n",
        "a, b = 3, 5\n",
        "a, b = b, a # iki değişkenin içeriğini bilmiyoruz\n",
        "print(a)\n",
        "print(b)"
      ]
    },
    {
      "cell_type": "code",
      "execution_count": 33,
      "metadata": {
        "colab": {
          "base_uri": "https://localhost:8080/"
        },
        "id": "mbdzGjm5xE9G",
        "outputId": "cf45f0a1-7ea2-4077-b207-24b90edd8176"
      },
      "outputs": [
        {
          "name": "stdout",
          "output_type": "stream",
          "text": [
            "Area..:  225.0\n"
          ]
        }
      ],
      "source": [
        "# Dairenin alanını hesaplayın\n",
        "# Formül area = 2*pi*r^2\n",
        "# pi: sabit (constant)\n",
        "# r: değişken\n",
        "# area: değişken\n",
        "\n",
        "PI = 3.14 # float (kesirli sayı)\n",
        "r = 5     # int (tamsayı)\n",
        "# PI = 4.5 Sabitlerin değeri değişmemesi Python 3.8 sonra gelen komut?\n",
        "area = 2*PI*r**2\n",
        "print(\"Area..: \", area)\n"
      ]
    },
    {
      "cell_type": "code",
      "execution_count": 41,
      "metadata": {
        "colab": {
          "base_uri": "https://localhost:8080/"
        },
        "id": "CFInoLqdz9nt",
        "outputId": "f605dc95-f872-43b2-bde6-935629dba300"
      },
      "outputs": [
        {
          "name": "stdout",
          "output_type": "stream",
          "text": [
            "<class 'str'>\n",
            "<class 'str'>\n"
          ]
        }
      ],
      "source": [
        "my_text = \"\"\"being a good person\"\"\"\n",
        "print(type(my_text))\n",
        "no = \"54\"\n",
        "print(type(no))"
      ]
    },
    {
      "cell_type": "code",
      "execution_count": 44,
      "metadata": {
        "colab": {
          "base_uri": "https://localhost:8080/"
        },
        "id": "pwnk6bGJ02LV",
        "outputId": "7cd50386-76ad-41a2-92f1-c35bb0956f3e"
      },
      "outputs": [
        {
          "name": "stdout",
          "output_type": "stream",
          "text": [
            "<class 'str'>\n",
            "\n",
            "  _\n",
            " /_|\n",
            "('_)<|\n",
            " \\_|\n",
            "\n"
          ]
        }
      ],
      "source": [
        "fish = \"\"\"\n",
        "  _\n",
        " /_|\n",
        "('_)<|\n",
        " \\_|\n",
        "\"\"\"\n",
        "print(type(fish))\n",
        "print(fish)"
      ]
    },
    {
      "cell_type": "code",
      "execution_count": 50,
      "metadata": {
        "colab": {
          "base_uri": "https://localhost:8080/"
        },
        "id": "FOneVVpO1ZQ7",
        "outputId": "639b538f-3e95-45f1-d7d2-4dc395be53b5"
      },
      "outputs": [
        {
          "name": "stdout",
          "output_type": "stream",
          "text": [
            " _\n",
            "/_|\n",
            "(')<|\n",
            " \\_|\n"
          ]
        }
      ],
      "source": [
        "print(\" _\\n/_|\\n(')<|\\n \\_|\")"
      ]
    },
    {
      "cell_type": "code",
      "execution_count": 55,
      "metadata": {
        "colab": {
          "base_uri": "https://localhost:8080/"
        },
        "id": "gXVsidp92Iuu",
        "outputId": "8b882563-c2fc-413e-8b58-1c96e1808dc6"
      },
      "outputs": [
        {
          "name": "stdout",
          "output_type": "stream",
          "text": [
            "<class 'str'> <class 'str'> <class 'str'>\n"
          ]
        }
      ],
      "source": [
        "email = \"alfread@clarusway.com\"\n",
        "no = 632\n",
        "text1 = \"It's early\"\n",
        "print(type(email), type(str(no)), type(text1))"
      ]
    },
    {
      "cell_type": "code",
      "execution_count": 62,
      "metadata": {
        "colab": {
          "base_uri": "https://localhost:8080/"
        },
        "id": "HWn_QsuQ4oli",
        "outputId": "f83cc7af-ab9b-4733-c553-06c322e466ba"
      },
      "outputs": [
        {
          "name": "stdout",
          "output_type": "stream",
          "text": [
            "<class 'float'>\n",
            "<class 'int'>\n"
          ]
        }
      ],
      "source": [
        "sayi = 3.4\n",
        "sayi2 = -1*int(sayi)*2**1000000\n",
        "print(type(sayi))\n",
        "print(type(sayi2))"
      ]
    },
    {
      "cell_type": "code",
      "execution_count": 69,
      "metadata": {
        "colab": {
          "base_uri": "https://localhost:8080/"
        },
        "id": "iIR_0vwo5w2v",
        "outputId": "5c5aabbd-9c3e-4b53-ece3-db126610d5df"
      },
      "outputs": [
        {
          "name": "stdout",
          "output_type": "stream",
          "text": [
            "<class 'int'>\n",
            "<class 'float'>\n"
          ]
        }
      ],
      "source": [
        "text_1 = \"123\"  # str verisi\n",
        "text_2 = \"2.4\"  # str verisi\n",
        "sayi1 = int(text_1)  # Tamsayı\n",
        "sayi2= float(text_2)  # Float\n",
        "print(type(sayi1))\n",
        "print(type(sayi2))"
      ]
    },
    {
      "cell_type": "code",
      "execution_count": 73,
      "metadata": {
        "colab": {
          "base_uri": "https://localhost:8080/"
        },
        "id": "HKWYRPLv9rKm",
        "outputId": "1bf48d5d-03b5-4972-f52f-a4c1dac90029"
      },
      "outputs": [
        {
          "name": "stdout",
          "output_type": "stream",
          "text": [
            "False\n",
            "True\n",
            "False\n",
            "2\n"
          ]
        }
      ],
      "source": [
        "print(bool(0))\n",
        "print(bool(5))\n",
        "print(bool(None))\n",
        "print(bool(3) + bool(5))"
      ]
    },
    {
      "cell_type": "code",
      "execution_count": 80,
      "metadata": {
        "colab": {
          "base_uri": "https://localhost:8080/"
        },
        "id": "Fos_InnSAJm1",
        "outputId": "3be9925d-6d90-4538-fd2f-0037bf2e99d1"
      },
      "outputs": [
        {
          "name": "stdout",
          "output_type": "stream",
          "text": [
            "456123\n"
          ]
        }
      ],
      "source": [
        "number_int = \"123\"\n",
        "number_str = \"456\"\n",
        "print(number_str + str(number_int))"
      ]
    },
    {
      "cell_type": "code",
      "execution_count": 98,
      "metadata": {
        "colab": {
          "base_uri": "https://localhost:8080/"
        },
        "id": "wGl0OS7RCHXc",
        "outputId": "22ba188c-f524-4038-a298-24701f95151d"
      },
      "outputs": [
        {
          "name": "stdout",
          "output_type": "stream",
          "text": [
            "True\n",
            "True\n",
            "False\n",
            "False\n"
          ]
        }
      ],
      "source": [
        "\"\"\"\n",
        "print(int(\"5\" + \"1\")) # int(\"51\") : 51\n",
        "print(\"3\" + str(\"5\" + \"1\"))  # 351\n",
        "print(3 + int(\"5\" + \"1\"))  # 3 + 51\n",
        "print(str(3) + (\"5\" + \"1\"))  # 351\n",
        "print(type(float(3) + int(\"5\" + \"1\"))) # ?\n",
        "\n",
        "print(int(False) + bool(\"volkan\"))  # ?\n",
        "print(bool(int(False) + bool(\"volkan\")))  # ?\n",
        "\"\"\"\n",
        "print(bool(1))\n",
        "print(bool(''))  # None\n",
        "print(bool(\"\"))  # None algılar\n",
        "print(bool(0))"
      ]
    }
  ],
  "metadata": {
    "colab": {
      "name": "colab_bulend_python2.ipynb",
      "provenance": []
    },
    "kernelspec": {
      "display_name": "Python 3",
      "name": "python3"
    },
    "language_info": {
      "codemirror_mode": {
        "name": "ipython",
        "version": 3
      },
      "file_extension": ".py",
      "mimetype": "text/x-python",
      "name": "python",
      "nbconvert_exporter": "python",
      "pygments_lexer": "ipython3",
      "version": "3.10.2"
    }
  },
  "nbformat": 4,
  "nbformat_minor": 0
}
